{
 "cells": [
  {
   "cell_type": "code",
   "execution_count": 18,
   "id": "3cd60a10-aba2-4f3e-b251-77d4f100179f",
   "metadata": {},
   "outputs": [],
   "source": [
    "# !pip install -U yt-dlp==2023.1.6 matplotlib==3.6.0 datasets[audio] rich\n",
    "\n",
    "# install newest transformers build to be able to pass `inputs_embeds` through generate()\n",
    "# !pip install --upgrade git+https://github.com/huggingface/transformers.git"
   ]
  },
  {
   "cell_type": "markdown",
   "id": "a426135f-00ed-4215-9b20-ee38b2c0448a",
   "metadata": {},
   "source": [
    "**Relevant huggingface gpt2 code**\n",
    "\n",
    "- https://github.com/huggingface/transformers/blob/main/src/transformers/models/gpt2/modeling_gpt2.py\n",
    "- https://github.com/huggingface/transformers/blob/main/src/transformers/generation/utils.py\n",
    "- https://github.com/huggingface/transformers/issues/6535"
   ]
  },
  {
   "cell_type": "markdown",
   "id": "a9485da5-3e40-42f1-873e-ccb244a74bc3",
   "metadata": {},
   "source": [
    "# Load musiccaps"
   ]
  },
  {
   "cell_type": "code",
   "execution_count": 1,
   "id": "07bb0885-c2da-43e2-8df4-468ee5f97594",
   "metadata": {},
   "outputs": [],
   "source": [
    "from musiccaps import load_musiccaps\n",
    "import numpy as np\n",
    "from rich import print as printr\n",
    "from torch.utils.data import DataLoader, Dataset, random_split\n",
    "import torch\n",
    "from tqdm.auto import tqdm, trange\n",
    "import matplotlib.pyplot as plt\n",
    "import itertools\n",
    "import math\n",
    "from rich import print as printr\n",
    "import torch.nn as nn\n",
    "from transformers import AutoModelForCausalLM, AutoTokenizer\n",
    "\n",
    "device = torch.device(\"cuda\" if torch.cuda.is_available() else \"cpu\")"
   ]
  },
  {
   "cell_type": "code",
   "execution_count": 2,
   "id": "f6684ae9-0e53-415d-8be8-a67f90f7030e",
   "metadata": {},
   "outputs": [],
   "source": [
    "def filter_muscaps_with_embeddings(ds, embeddings):\n",
    "    '''Some clips weren't downloaded so we couldn't embed them, get rid of that'''\n",
    "    exclude_ids = set()\n",
    "    for i in range(len(ds)):\n",
    "        if ds[i]['ytid'] not in embeddings.keys():\n",
    "            exclude_ids.add(i)\n",
    "    ds = ds.select(\n",
    "        (\n",
    "            i for i in range(len(ds)) \n",
    "            if i not in set(exclude_ids)\n",
    "        )\n",
    "    )\n",
    "    assert len(ds) == len(embeddings)\n",
    "    return ds"
   ]
  },
  {
   "cell_type": "code",
   "execution_count": 3,
   "id": "c8926e06-ef8c-40a7-8675-f4d1285d0afe",
   "metadata": {
    "tags": []
   },
   "outputs": [
    {
     "name": "stderr",
     "output_type": "stream",
     "text": [
      "Using custom data configuration google--MusicCaps-7925612b943f961b\n",
      "Found cached dataset csv (/home/dominik/.cache/huggingface/datasets/google___csv/google--MusicCaps-7925612b943f961b/0.0.0/6b34fb8fcf56f7c8ba51dc895bfa2bfbe43546f190a60fcf74bb5e8afdcc2317)\n"
     ]
    }
   ],
   "source": [
    "ds = load_musiccaps(\n",
    "    './music_data',\n",
    "    sampling_rate=16000,\n",
    "    limit=None,\n",
    "    num_proc=8,\n",
    "    writer_batch_size=1000,\n",
    "    return_without_audio=True\n",
    ")\n",
    "embeddings = np.load('embeddings.npy', allow_pickle=True).item()"
   ]
  },
  {
   "cell_type": "code",
   "execution_count": 4,
   "id": "15420704-a6bd-4315-b6b9-ba41fee54a67",
   "metadata": {},
   "outputs": [],
   "source": [
    "class CaptionEmbedding(Dataset):\n",
    "    '''Returns a torch Dataset of paired captions and embeddings'''\n",
    "    def __init__(self, muscaps_ds, embeddings):\n",
    "        ds = filter_muscaps_with_embeddings(muscaps_ds, embeddings)\n",
    "        self.captions = ds.sort(column='ytid')['caption']\n",
    "        sorted_embs = [value for _, value in sorted(embeddings.items())]\n",
    "        self.embeddings = torch.from_numpy(np.stack(sorted_embs)).to(device)\n",
    "\n",
    "    def __len__(self):\n",
    "        return len(self.captions)\n",
    "\n",
    "    def __getitem__(self, idx):\n",
    "        return self.captions[idx], self.embeddings[idx]"
   ]
  },
  {
   "cell_type": "code",
   "execution_count": 5,
   "id": "51464487-9c40-4dc5-8436-372b612e4d8a",
   "metadata": {},
   "outputs": [
    {
     "name": "stderr",
     "output_type": "stream",
     "text": [
      "Parameter 'indices'=<generator object filter_muscaps_with_embeddings.<locals>.<genexpr> at 0x7fe2485bd9e0> of the transform datasets.arrow_dataset.Dataset.select couldn't be hashed properly, a random hash was used instead. Make sure your transforms and parameters are serializable with pickle or dill for the dataset fingerprinting and caching to work. If you reuse this transform, the caching mechanism will consider it to be different from the previous calls and recompute everything. This warning is only showed once. Subsequent hashing failures won't be showed.\n"
     ]
    }
   ],
   "source": [
    "dataset = CaptionEmbedding(muscaps_ds=ds, embeddings=embeddings)\n",
    "train_frac = 0.8\n",
    "training_data, test_data = random_split(dataset, [train_frac, 1-train_frac])\n",
    "\n",
    "# quick check did not mess up ordering of caption-embedding pairs\n",
    "# for cap, emb in tqdm(dataset):\n",
    "#     for i in range(len(ds)):\n",
    "#         if cap == ds[i]['caption']:\n",
    "#             assert torch.allclose(emb,torch.from_numpy(embeddings[ds[i]['ytid']]).to(device))"
   ]
  },
  {
   "cell_type": "code",
   "execution_count": 6,
   "id": "8ce82080-8e03-45ae-8266-6e0f2af6843c",
   "metadata": {},
   "outputs": [
    {
     "data": {
      "text/plain": [
       "378"
      ]
     },
     "execution_count": 6,
     "metadata": {},
     "output_type": "execute_result"
    }
   ],
   "source": [
    "# get a list of music-related words to use for evaluation\n",
    "aspects = []\n",
    "for x in ds:\n",
    "    aspect_str = x['aspect_list']\n",
    "    for t in ('[]\"\\''):\n",
    "        aspect_str = aspect_str.replace(t, '')\n",
    "    aspects.extend(aspect_str.split(', '))\n",
    "    \n",
    "from collections import Counter\n",
    "# only pick aspects that show up somewhat frequently\n",
    "aspects = {s for s, count in Counter(aspects).most_common() if count >= 25}\n",
    "len(aspects)"
   ]
  },
  {
   "cell_type": "markdown",
   "id": "34fa3d9b-6745-43f7-91b4-1860ca8ae81b",
   "metadata": {},
   "source": [
    "# Training"
   ]
  },
  {
   "cell_type": "markdown",
   "id": "c55718f8-fe01-463a-99ef-ab3dc223ed3f",
   "metadata": {},
   "source": [
    "### Tokenization\n",
    "\n",
    "target should be:\n",
    "\n",
    "`\"<bos> <mask> caption <eos> <mask...>\"` (first element is dropped in transformer.forward)\n",
    "\n",
    "input should be:\n",
    "\n",
    "`\"<bos> <music-emb> caption <eos> <pad...>\"`\n",
    "\n",
    "where\n",
    "\n",
    "- `<bos>` = `<eos>` (for gpt2, see https://github.com/huggingface/transformers/issues/2026)\n",
    "- `<mask>` is -100 (masked in cross-entropy, see https://pytorch.org/docs/stable/generated/torch.nn.CrossEntropyLoss.html)\n",
    "- `<pad>` is arbitrary\n",
    "- `<music-emb>` is the encoded music"
   ]
  },
  {
   "cell_type": "code",
   "execution_count": 7,
   "id": "82925589-cbb3-4f35-9099-3eb29831a29e",
   "metadata": {},
   "outputs": [],
   "source": [
    "class B2T(nn.Module):\n",
    "    \n",
    "    def __init__(self):\n",
    "        super().__init__()\n",
    "        \n",
    "        self.main = nn.Sequential(\n",
    "            nn.Linear(512, 1024),\n",
    "            nn.ReLU(),\n",
    "            nn.Linear(1024, 768),\n",
    "            nn.ReLU(),\n",
    "            nn.Linear(768, 768),\n",
    "        )\n",
    "        \n",
    "    def forward(self, x):\n",
    "        return self.main(x)"
   ]
  },
  {
   "cell_type": "code",
   "execution_count": 8,
   "id": "f961a86b-0b65-48f1-827e-9eb053712537",
   "metadata": {},
   "outputs": [],
   "source": [
    "model_name = 'gpt2' # gpt2, gpt2-medium, gpt2-large, gpt2-xl\n",
    "model = AutoModelForCausalLM.from_pretrained(model_name).to(device)\n",
    "tokenizer = AutoTokenizer.from_pretrained(model_name)\n",
    "b2t = B2T().cuda()\n",
    "\n",
    "opt = torch.optim.AdamW([\n",
    "    {'params': b2t.parameters(), 'lr': 0.0002},\n",
    "    # disable AdamW weight decay for gpt2 layer finetuning!\n",
    "    {'params': model.transformer.h[0].parameters(), 'lr': 0, 'weight_decay': 0},\n",
    "    {'params': model.transformer.h[1].attn.parameters(), 'lr': 0, 'weight_decay': 0},\n",
    "])\n",
    "\n",
    "batch_size = 32\n",
    "num_epochs = 5000\n",
    "\n",
    "losses = []\n",
    "train_dataloader = DataLoader(training_data, batch_size, shuffle=True)\n",
    "eval_train_dataloader = DataLoader(training_data, 1, shuffle=True)\n",
    "eval_test_dataloader = DataLoader(test_data, 1, shuffle=True)"
   ]
  },
  {
   "cell_type": "code",
   "execution_count": 9,
   "id": "33e0d47c-b1e4-4837-bc6b-5f9b20d84ccc",
   "metadata": {},
   "outputs": [],
   "source": [
    "mask_id = -100 # don't change, this is fixed in torch cross-entropy loss!\n",
    "eos_id = tokenizer.eos_token_id\n",
    "placeholder_id = -200\n",
    "\n",
    "def tokenize(captions_batch):\n",
    "    input_ids = tokenizer(captions_batch)['input_ids']\n",
    "    \n",
    "     # wrap in eos and add placeholder for music embedding/mask\n",
    "    input_ids = [torch.tensor([eos_id, placeholder_id] + x + [eos_id]) for x in input_ids]\n",
    "    # pad with -100, this index is masked in the cross-entropy loss\n",
    "    input_ids_target = torch.nn.utils.rnn.pad_sequence(\n",
    "        input_ids,\n",
    "        batch_first=True,\n",
    "        padding_value=mask_id\n",
    "    ).to(device)\n",
    "    \n",
    "    # index -100 isn't valid as model input however, since the token embedding lookup fails\n",
    "    # so we need a second version as model input, with -100 replaced with another token (shouldn't matter which)\n",
    "    input_ids = input_ids_target.clone()\n",
    "    input_ids[input_ids==mask_id] = eos_id\n",
    "    \n",
    "    return input_ids, input_ids_target"
   ]
  },
  {
   "cell_type": "code",
   "execution_count": 10,
   "id": "442e9e4a-b92d-47e3-a535-f47a25c8313b",
   "metadata": {},
   "outputs": [],
   "source": [
    "def transform_input_ids(music_embedding, input_ids, input_ids_target):\n",
    "    assert (input_ids[:, 1]==placeholder_id).all()\n",
    "    assert (input_ids_target[:, 1]==placeholder_id).all()\n",
    "\n",
    "    input_ids_target[:, 1] = mask_id\n",
    "    input_ids[:, 1] = eos_id # temp placeholder to make the embedding lookup work\n",
    "    inputs_embeds = model.transformer.wte(input_ids)\n",
    "    \n",
    "    music_embedding = b2t(music_embedding)\n",
    "    inputs_embeds[:, 1] = music_embedding\n",
    "    \n",
    "    return inputs_embeds, input_ids_target"
   ]
  },
  {
   "cell_type": "code",
   "execution_count": 11,
   "id": "f686686e-36ef-4c57-b9cd-0f26704c746a",
   "metadata": {},
   "outputs": [],
   "source": [
    "@torch.no_grad()\n",
    "def manual_generate_single(inputs_embeds, max_length, do_sample):\n",
    "    \"\"\" Autoregressively generate max_len tokens based on the embedded prompt. \"\"\"\n",
    "    result = []\n",
    "    log_probs = []\n",
    "\n",
    "    for i in range(max_length):\n",
    "        logits = model.forward(inputs_embeds=inputs_embeds).logits[:, -1]\n",
    "\n",
    "        distr = torch.distributions.Categorical(logits=logits)\n",
    "        token_inds = distr.sample() if do_sample else logits.argmax(-1)\n",
    "        log_probs.append(distr.log_prob(token_inds))\n",
    "        \n",
    "        result.append(token_inds)\n",
    "\n",
    "        inputs_embeds = torch.cat([\n",
    "            inputs_embeds,\n",
    "            model.transformer.wte(token_inds).unsqueeze(1)\n",
    "        ], dim=1)\n",
    "        \n",
    "    log_probs = torch.stack(log_probs, dim=1)\n",
    "    ppl = 2**(-(1/len(log_probs))*log_probs.sum(-1))\n",
    "        \n",
    "    return torch.stack(result, dim=1), ppl\n",
    "\n",
    "@torch.no_grad()\n",
    "def manual_generate(inputs_embeds, iters, max_length, do_sample):\n",
    "    \"\"\" Repeatedly generate samples using manual_generate_single and return the ones with the lowest perplexity. \"\"\"\n",
    "    preds = []\n",
    "    ppls = []\n",
    "    \n",
    "    for i in range(iters):\n",
    "        pred, ppl = manual_generate_single(inputs_embeds, max_length, do_sample)\n",
    "        preds.append(pred)\n",
    "        ppls.append(ppl)\n",
    "    \n",
    "    preds = torch.stack(preds)\n",
    "    ppls = torch.stack(ppls)\n",
    "    \n",
    "    max_ppl_inds = ppls.argmin(0)\n",
    "    best_preds = preds[max_ppl_inds, np.arange(preds.shape[1])]\n",
    "    \n",
    "    return best_preds, ppls.min(0)[0]"
   ]
  },
  {
   "cell_type": "code",
   "execution_count": 12,
   "id": "b0ee227b-a433-4158-a86e-30b39001594d",
   "metadata": {},
   "outputs": [],
   "source": [
    "def eval(caption_batch, embedding_batch, use_manual_generation=False, **kwargs):\n",
    "    model.eval()\n",
    "    input_ids, input_ids_target = tokenize(caption_batch)\n",
    "    inputs_embeds, input_ids_target = transform_input_ids(\n",
    "        embedding_batch,\n",
    "        input_ids,\n",
    "        input_ids_target\n",
    "    )\n",
    "    \n",
    "    if use_manual_generation:\n",
    "        output_ids, ppl = manual_generate(inputs_embeds, **kwargs)\n",
    "    else:\n",
    "        output_ids = model.generate(inputs_embeds=inputs_embeds, **kwargs)\n",
    "    pred = tokenizer.batch_decode(output_ids, skip_special_tokens=False)\n",
    "    \n",
    "    pred = [p.replace('\\n', '').strip() for p in pred]\n",
    "    return pred"
   ]
  },
  {
   "cell_type": "code",
   "execution_count": 13,
   "id": "893cec0b-8b31-4ae2-af1d-4615d7e1b194",
   "metadata": {},
   "outputs": [],
   "source": [
    "generation_params_hf = dict(\n",
    "    max_length=48,\n",
    "    num_beams=4,\n",
    "    do_sample=True,\n",
    "    temperature=0.95,\n",
    "    pad_token_id=tokenizer.eos_token_id,\n",
    "    use_manual_generation=False\n",
    ")\n",
    "\n",
    "generation_params_ours = dict(\n",
    "    max_length=48,\n",
    "    iters=4,\n",
    "    do_sample=True,\n",
    "    use_manual_generation=True\n",
    ")"
   ]
  },
  {
   "cell_type": "code",
   "execution_count": null,
   "id": "12bb04ec-e6a7-4afd-afaa-c1e15df0ed5a",
   "metadata": {
    "tags": []
   },
   "outputs": [
    {
     "data": {
      "application/vnd.jupyter.widget-view+json": {
       "model_id": "f32e61d4eeb545529dfea7d7469bda20",
       "version_major": 2,
       "version_minor": 0
      },
      "text/plain": [
       "  0%|          | 0/5000 [00:00<?, ?it/s]"
      ]
     },
     "metadata": {},
     "output_type": "display_data"
    },
    {
     "data": {
      "application/vnd.jupyter.widget-view+json": {
       "model_id": "999efe222d6c48a1a217c9ee58ada60d",
       "version_major": 2,
       "version_minor": 0
      },
      "text/plain": [
       "  0%|          | 0/138 [00:00<?, ?it/s]"
      ]
     },
     "metadata": {},
     "output_type": "display_data"
    },
    {
     "data": {
      "text/html": [
       "<pre style=\"white-space:pre;overflow-x:auto;line-height:normal;font-family:Menlo,'DejaVu Sans Mono',consolas,'Courier New',monospace\"><span style=\"color: #008000; text-decoration-color: #008000; font-weight: bold\">TRAIN TRUE: This audio contains a very high pitched sound played with a synthesizer. Then another synthesizer sound</span>\n",
       "<span style=\"color: #008000; text-decoration-color: #008000; font-weight: bold\">that sounds a little bit like cleaning a window. This song may be playing at home experimenting sounds with a </span>\n",
       "<span style=\"color: #008000; text-decoration-color: #008000; font-weight: bold\">synthesizer.</span>\n",
       "</pre>\n"
      ],
      "text/plain": [
       "\u001b[1;32mTRAIN TRUE: This audio contains a very high pitched sound played with a synthesizer. Then another synthesizer sound\u001b[0m\n",
       "\u001b[1;32mthat sounds a little bit like cleaning a window. This song may be playing at home experimenting sounds with a \u001b[0m\n",
       "\u001b[1;32msynthesizer.\u001b[0m\n"
      ]
     },
     "metadata": {},
     "output_type": "display_data"
    },
    {
     "data": {
      "text/html": [
       "<pre style=\"white-space:pre;overflow-x:auto;line-height:normal;font-family:Menlo,'DejaVu Sans Mono',consolas,'Courier New',monospace\"><span style=\"color: #000080; text-decoration-color: #000080\">TRAIN PRED-A: </span><span style=\"color: #000080; text-decoration-color: #000080; font-weight: bold\">&lt;|endoftext|&gt;</span><span style=\"color: #000080; text-decoration-color: #000080\">The following is a list of all the items that were removed from the game.The following </span>\n",
       "<span style=\"color: #000080; text-decoration-color: #000080\">is a list of all the items that were removed from the game.</span><span style=\"color: #000080; text-decoration-color: #000080; font-weight: bold\">&lt;|endoftext|&gt;</span>\n",
       "</pre>\n"
      ],
      "text/plain": [
       "\u001b[34mTRAIN PRED-A: \u001b[0m\u001b[1;34m<\u001b[0m\u001b[1;34m|endoftext|\u001b[0m\u001b[1;34m>\u001b[0m\u001b[34mThe following is a list of all the items that were removed from the game.The following \u001b[0m\n",
       "\u001b[34mis a list of all the items that were removed from the game.\u001b[0m\u001b[1;34m<\u001b[0m\u001b[1;34m|endoftext|\u001b[0m\u001b[1;34m>\u001b[0m\n"
      ]
     },
     "metadata": {},
     "output_type": "display_data"
    },
    {
     "data": {
      "text/html": [
       "<pre style=\"white-space:pre;overflow-x:auto;line-height:normal;font-family:Menlo,'DejaVu Sans Mono',consolas,'Courier New',monospace\"><span style=\"color: #000080; text-decoration-color: #000080\">TRAIN PRED-B: Nintendo has confirmed its Wii U eShop console will ship with the Wii U.The Nintendo of America </span>\n",
       "<span style=\"color: #000080; text-decoration-color: #000080\">listing said it supports the Wii U's </span><span style=\"color: #000080; text-decoration-color: #000080; font-weight: bold\">16:9</span><span style=\"color: #000080; text-decoration-color: #000080\"> aspect ratio while the Xbox One was limited to </span><span style=\"color: #000080; text-decoration-color: #000080; font-weight: bold\">4:3</span><span style=\"color: #000080; text-decoration-color: #000080\">.</span>\n",
       "</pre>\n"
      ],
      "text/plain": [
       "\u001b[34mTRAIN PRED-B: Nintendo has confirmed its Wii U eShop console will ship with the Wii U.The Nintendo of America \u001b[0m\n",
       "\u001b[34mlisting said it supports the Wii U's \u001b[0m\u001b[1;34m16:9\u001b[0m\u001b[34m aspect ratio while the Xbox One was limited to \u001b[0m\u001b[1;34m4:3\u001b[0m\u001b[34m.\u001b[0m\n"
      ]
     },
     "metadata": {},
     "output_type": "display_data"
    },
    {
     "data": {
      "text/html": [
       "<pre style=\"white-space:pre;overflow-x:auto;line-height:normal;font-family:Menlo,'DejaVu Sans Mono',consolas,'Courier New',monospace\"><span style=\"color: #008000; text-decoration-color: #008000; font-weight: bold\">TEST TRUE: The low quality recording features a country song that contains harmonizing vocals singing over electric</span>\n",
       "<span style=\"color: #008000; text-decoration-color: #008000; font-weight: bold\">guitar solo melody, smooth bass guitar, acoustic rhythm guitar, snappy rimshots, shimmering hi hats and soft kick </span>\n",
       "<span style=\"color: #008000; text-decoration-color: #008000; font-weight: bold\">hits. It sounds soulful, emotional and passionate.</span>\n",
       "</pre>\n"
      ],
      "text/plain": [
       "\u001b[1;32mTEST TRUE: The low quality recording features a country song that contains harmonizing vocals singing over electric\u001b[0m\n",
       "\u001b[1;32mguitar solo melody, smooth bass guitar, acoustic rhythm guitar, snappy rimshots, shimmering hi hats and soft kick \u001b[0m\n",
       "\u001b[1;32mhits. It sounds soulful, emotional and passionate.\u001b[0m\n"
      ]
     },
     "metadata": {},
     "output_type": "display_data"
    },
    {
     "data": {
      "text/html": [
       "<pre style=\"white-space:pre;overflow-x:auto;line-height:normal;font-family:Menlo,'DejaVu Sans Mono',consolas,'Courier New',monospace\"><span style=\"color: #000080; text-decoration-color: #000080\">TEST PRED-A: </span><span style=\"color: #000080; text-decoration-color: #000080; font-weight: bold\">&lt;|endoftext|&gt;</span><span style=\"color: #000080; text-decoration-color: #000080\">I've been doing this for a while now, and it's been great. It's been a great experience, </span>\n",
       "<span style=\"color: #000080; text-decoration-color: #000080\">and I can't wait to try it out for myself.I've been doing this for a while now,</span>\n",
       "</pre>\n"
      ],
      "text/plain": [
       "\u001b[34mTEST PRED-A: \u001b[0m\u001b[1;34m<\u001b[0m\u001b[1;34m|endoftext|\u001b[0m\u001b[1;34m>\u001b[0m\u001b[34mI've been doing this for a while now, and it's been great. It's been a great experience, \u001b[0m\n",
       "\u001b[34mand I can't wait to try it out for myself.I've been doing this for a while now,\u001b[0m\n"
      ]
     },
     "metadata": {},
     "output_type": "display_data"
    },
    {
     "data": {
      "text/html": [
       "<pre style=\"white-space:pre;overflow-x:auto;line-height:normal;font-family:Menlo,'DejaVu Sans Mono',consolas,'Courier New',monospace\"><span style=\"color: #000080; text-decoration-color: #000080\">TEST PRED-B: The pressure to uncover folds from past games began well before Elite: Dangerous: The Traveller's </span>\n",
       "<span style=\"color: #000080; text-decoration-color: #000080\">Guide three decades ago, when researchers could spin into our skies by pressing a scroll should the old, malevolent</span>\n",
       "<span style=\"color: #000080; text-decoration-color: #000080\">winds push air up the rock she</span>\n",
       "</pre>\n"
      ],
      "text/plain": [
       "\u001b[34mTEST PRED-B: The pressure to uncover folds from past games began well before Elite: Dangerous: The Traveller's \u001b[0m\n",
       "\u001b[34mGuide three decades ago, when researchers could spin into our skies by pressing a scroll should the old, malevolent\u001b[0m\n",
       "\u001b[34mwinds push air up the rock she\u001b[0m\n"
      ]
     },
     "metadata": {},
     "output_type": "display_data"
    },
    {
     "name": "stdout",
     "output_type": "stream",
     "text": [
      "\n",
      "\n"
     ]
    },
    {
     "data": {
      "text/html": [
       "<pre style=\"white-space:pre;overflow-x:auto;line-height:normal;font-family:Menlo,'DejaVu Sans Mono',consolas,'Courier New',monospace\"><span style=\"color: #008000; text-decoration-color: #008000; font-weight: bold\">TRAIN TRUE: This slow pop song features a male voice singing the main melody. Another male voice sings backing </span>\n",
       "<span style=\"color: #008000; text-decoration-color: #008000; font-weight: bold\">voices in harmony with the main melody. A synth plays the same melody as the main voice using staccato notes. This </span>\n",
       "<span style=\"color: #008000; text-decoration-color: #008000; font-weight: bold\">is accompanied by percussion playing a trap beat. The bass plays the root notes of the chords and flourishes during</span>\n",
       "<span style=\"color: #008000; text-decoration-color: #008000; font-weight: bold\">chord changes. The bass notes are played without pausing in between notes. Instead, the notes are slid into each </span>\n",
       "<span style=\"color: #008000; text-decoration-color: #008000; font-weight: bold\">other. The mood of this song is romantic. This song can be played in a heartbreak scene in a romantic movie.</span>\n",
       "</pre>\n"
      ],
      "text/plain": [
       "\u001b[1;32mTRAIN TRUE: This slow pop song features a male voice singing the main melody. Another male voice sings backing \u001b[0m\n",
       "\u001b[1;32mvoices in harmony with the main melody. A synth plays the same melody as the main voice using staccato notes. This \u001b[0m\n",
       "\u001b[1;32mis accompanied by percussion playing a trap beat. The bass plays the root notes of the chords and flourishes during\u001b[0m\n",
       "\u001b[1;32mchord changes. The bass notes are played without pausing in between notes. Instead, the notes are slid into each \u001b[0m\n",
       "\u001b[1;32mother. The mood of this song is romantic. This song can be played in a heartbreak scene in a romantic movie.\u001b[0m\n"
      ]
     },
     "metadata": {},
     "output_type": "display_data"
    },
    {
     "data": {
      "text/html": [
       "<pre style=\"white-space:pre;overflow-x:auto;line-height:normal;font-family:Menlo,'DejaVu Sans Mono',consolas,'Courier New',monospace\"><span style=\"color: #000080; text-decoration-color: #000080\">TRAIN PRED-A: </span><span style=\"color: #000080; text-decoration-color: #000080; font-weight: bold\">&lt;|endoftext|&gt;</span><span style=\"color: #000080; text-decoration-color: #000080\">In the wake of the election of Donald Trump to the presidency of the United States of </span>\n",
       "<span style=\"color: #000080; text-decoration-color: #000080\">America, many people across the globe have been wondering what the future holds for the United States of </span>\n",
       "<span style=\"color: #000080; text-decoration-color: #000080\">America.The answer to that question is simple</span>\n",
       "</pre>\n"
      ],
      "text/plain": [
       "\u001b[34mTRAIN PRED-A: \u001b[0m\u001b[1;34m<\u001b[0m\u001b[1;34m|endoftext|\u001b[0m\u001b[1;34m>\u001b[0m\u001b[34mIn the wake of the election of Donald Trump to the presidency of the United States of \u001b[0m\n",
       "\u001b[34mAmerica, many people across the globe have been wondering what the future holds for the United States of \u001b[0m\n",
       "\u001b[34mAmerica.The answer to that question is simple\u001b[0m\n"
      ]
     },
     "metadata": {},
     "output_type": "display_data"
    },
    {
     "data": {
      "text/html": [
       "<pre style=\"white-space:pre;overflow-x:auto;line-height:normal;font-family:Menlo,'DejaVu Sans Mono',consolas,'Courier New',monospace\"><span style=\"color: #000080; text-decoration-color: #000080\">TRAIN PRED-B: Help.Because Recovery Tool Management came out a few ayears ago. Some of us you've probably still </span>\n",
       "<span style=\"color: #000080; text-decoration-color: #000080\">found out about at least one that you don't know about. Nevertheless, there are a whole genre of Contractors and </span>\n",
       "<span style=\"color: #000080; text-decoration-color: #000080\">Whatever</span>\n",
       "</pre>\n"
      ],
      "text/plain": [
       "\u001b[34mTRAIN PRED-B: Help.Because Recovery Tool Management came out a few ayears ago. Some of us you've probably still \u001b[0m\n",
       "\u001b[34mfound out about at least one that you don't know about. Nevertheless, there are a whole genre of Contractors and \u001b[0m\n",
       "\u001b[34mWhatever\u001b[0m\n"
      ]
     },
     "metadata": {},
     "output_type": "display_data"
    },
    {
     "data": {
      "text/html": [
       "<pre style=\"white-space:pre;overflow-x:auto;line-height:normal;font-family:Menlo,'DejaVu Sans Mono',consolas,'Courier New',monospace\"><span style=\"color: #008000; text-decoration-color: #008000; font-weight: bold\">TEST TRUE: The low quality recording features a live performance of a rock song that consists of an energetic </span>\n",
       "<span style=\"color: #008000; text-decoration-color: #008000; font-weight: bold\">female vocal singing over electric guitar chords, punchy snare and kick hits and distorted bass guitar. The </span>\n",
       "<span style=\"color: #008000; text-decoration-color: #008000; font-weight: bold\">recording is very noisy and buzzy, in mono, muffled and messy, as it was probably recorded with a phone. It still </span>\n",
       "<span style=\"color: #008000; text-decoration-color: #008000; font-weight: bold\">sounds energetic.</span>\n",
       "</pre>\n"
      ],
      "text/plain": [
       "\u001b[1;32mTEST TRUE: The low quality recording features a live performance of a rock song that consists of an energetic \u001b[0m\n",
       "\u001b[1;32mfemale vocal singing over electric guitar chords, punchy snare and kick hits and distorted bass guitar. The \u001b[0m\n",
       "\u001b[1;32mrecording is very noisy and buzzy, in mono, muffled and messy, as it was probably recorded with a phone. It still \u001b[0m\n",
       "\u001b[1;32msounds energetic.\u001b[0m\n"
      ]
     },
     "metadata": {},
     "output_type": "display_data"
    },
    {
     "data": {
      "text/html": [
       "<pre style=\"white-space:pre;overflow-x:auto;line-height:normal;font-family:Menlo,'DejaVu Sans Mono',consolas,'Courier New',monospace\"><span style=\"color: #000080; text-decoration-color: #000080\">TEST PRED-A: </span><span style=\"color: #000080; text-decoration-color: #000080; font-weight: bold\">&lt;|endoftext|&gt;</span><span style=\"color: #000080; text-decoration-color: #000080\">The UESPWiki – Your source for The Elder Scrolls since 1995This page is currently being </span>\n",
       "<span style=\"color: #000080; text-decoration-color: #000080\">rewritten as part of the Morrowind Overhaul Project.The page is being rewritten and checked in several stages. All </span>\n",
       "<span style=\"color: #000080; text-decoration-color: #000080\">users</span>\n",
       "</pre>\n"
      ],
      "text/plain": [
       "\u001b[34mTEST PRED-A: \u001b[0m\u001b[1;34m<\u001b[0m\u001b[1;34m|endoftext|\u001b[0m\u001b[1;34m>\u001b[0m\u001b[34mThe UESPWiki – Your source for The Elder Scrolls since 1995This page is currently being \u001b[0m\n",
       "\u001b[34mrewritten as part of the Morrowind Overhaul Project.The page is being rewritten and checked in several stages. All \u001b[0m\n",
       "\u001b[34musers\u001b[0m\n"
      ]
     },
     "metadata": {},
     "output_type": "display_data"
    },
    {
     "data": {
      "text/html": [
       "<pre style=\"white-space:pre;overflow-x:auto;line-height:normal;font-family:Menlo,'DejaVu Sans Mono',consolas,'Courier New',monospace\"><span style=\"color: #000080; text-decoration-color: #000080\">TEST PRED-B: So while I struggle to think of words for Syria's newly-appointed Chief of Operations, the battle to </span>\n",
       "<span style=\"color: #000080; text-decoration-color: #000080\">eradicate the Islamic State in Deir al-Zour looks like a long shot, and while I may not have the battles to win</span>\n",
       "</pre>\n"
      ],
      "text/plain": [
       "\u001b[34mTEST PRED-B: So while I struggle to think of words for Syria's newly-appointed Chief of Operations, the battle to \u001b[0m\n",
       "\u001b[34meradicate the Islamic State in Deir al-Zour looks like a long shot, and while I may not have the battles to win\u001b[0m\n"
      ]
     },
     "metadata": {},
     "output_type": "display_data"
    },
    {
     "name": "stdout",
     "output_type": "stream",
     "text": [
      "\n",
      "\n"
     ]
    },
    {
     "data": {
      "application/vnd.jupyter.widget-view+json": {
       "model_id": "f70b1644f5594dd89e4d77a891089207",
       "version_major": 2,
       "version_minor": 0
      },
      "text/plain": [
       "  0%|          | 0/138 [00:00<?, ?it/s]"
      ]
     },
     "metadata": {},
     "output_type": "display_data"
    },
    {
     "data": {
      "text/html": [
       "<pre style=\"white-space:pre;overflow-x:auto;line-height:normal;font-family:Menlo,'DejaVu Sans Mono',consolas,'Courier New',monospace\"><span style=\"color: #008000; text-decoration-color: #008000; font-weight: bold\">TRAIN TRUE: The low quality recording features a disco song that consists a fruity male vocal singing over groovy </span>\n",
       "<span style=\"color: #008000; text-decoration-color: #008000; font-weight: bold\">bass, punchy </span><span style=\"color: #008000; text-decoration-color: #008000; font-weight: bold\">\"4 on the floor\"</span><span style=\"color: #008000; text-decoration-color: #008000; font-weight: bold\"> kick pattern, wide funky electric guitar chords, shimmering open hats, muffled punchy</span>\n",
       "<span style=\"color: #008000; text-decoration-color: #008000; font-weight: bold\">snare, shimmering bells melody, groovy bass, high pitched sustained strings melody and low toms. There is a short </span>\n",
       "<span style=\"color: #008000; text-decoration-color: #008000; font-weight: bold\">snippet of harmonizing vocals at the end of the loop. It sounds energetic and addictive.</span>\n",
       "</pre>\n"
      ],
      "text/plain": [
       "\u001b[1;32mTRAIN TRUE: The low quality recording features a disco song that consists a fruity male vocal singing over groovy \u001b[0m\n",
       "\u001b[1;32mbass, punchy \u001b[0m\u001b[1;32m\"4 on the floor\"\u001b[0m\u001b[1;32m kick pattern, wide funky electric guitar chords, shimmering open hats, muffled punchy\u001b[0m\n",
       "\u001b[1;32msnare, shimmering bells melody, groovy bass, high pitched sustained strings melody and low toms. There is a short \u001b[0m\n",
       "\u001b[1;32msnippet of harmonizing vocals at the end of the loop. It sounds energetic and addictive.\u001b[0m\n"
      ]
     },
     "metadata": {},
     "output_type": "display_data"
    },
    {
     "data": {
      "text/html": [
       "<pre style=\"white-space:pre;overflow-x:auto;line-height:normal;font-family:Menlo,'DejaVu Sans Mono',consolas,'Courier New',monospace\"><span style=\"color: #000080; text-decoration-color: #000080\">TRAIN PRED-A: </span><span style=\"color: #000080; text-decoration-color: #000080; font-weight: bold\">&lt;|endoftext|&gt;</span><span style=\"color: #000080; text-decoration-color: #000080\">This is a rush transcript. Copy may not be in its final form.AMY GOODMAN: This is </span>\n",
       "<span style=\"color: #000080; text-decoration-color: #000080\">Democracy Now!, democracynow.org, The War and Peace Report. I'm Amy Goodman. I'm Amy Goodman, with</span>\n",
       "</pre>\n"
      ],
      "text/plain": [
       "\u001b[34mTRAIN PRED-A: \u001b[0m\u001b[1;34m<\u001b[0m\u001b[1;34m|endoftext|\u001b[0m\u001b[1;34m>\u001b[0m\u001b[34mThis is a rush transcript. Copy may not be in its final form.AMY GOODMAN: This is \u001b[0m\n",
       "\u001b[34mDemocracy Now!, democracynow.org, The War and Peace Report. I'm Amy Goodman. I'm Amy Goodman, with\u001b[0m\n"
      ]
     },
     "metadata": {},
     "output_type": "display_data"
    },
    {
     "data": {
      "text/html": [
       "<pre style=\"white-space:pre;overflow-x:auto;line-height:normal;font-family:Menlo,'DejaVu Sans Mono',consolas,'Courier New',monospace\"><span style=\"color: #000080; text-decoration-color: #000080\">TRAIN PRED-B: If you are new in the screenchat industry, or have an opinion on this topic, then check out our TV </span>\n",
       "<span style=\"color: #000080; text-decoration-color: #000080\">Drink Guidelines. For complete list, contact us international.LIVE are special access to just your favorite full </span>\n",
       "<span style=\"color: #000080; text-decoration-color: #000080\">sized sports</span>\n",
       "</pre>\n"
      ],
      "text/plain": [
       "\u001b[34mTRAIN PRED-B: If you are new in the screenchat industry, or have an opinion on this topic, then check out our TV \u001b[0m\n",
       "\u001b[34mDrink Guidelines. For complete list, contact us international.LIVE are special access to just your favorite full \u001b[0m\n",
       "\u001b[34msized sports\u001b[0m\n"
      ]
     },
     "metadata": {},
     "output_type": "display_data"
    },
    {
     "data": {
      "text/html": [
       "<pre style=\"white-space:pre;overflow-x:auto;line-height:normal;font-family:Menlo,'DejaVu Sans Mono',consolas,'Courier New',monospace\"><span style=\"color: #008000; text-decoration-color: #008000; font-weight: bold\">TEST TRUE: This audio is an animated movie clip. There are ambient street sounds like footsteps, car brakes being </span>\n",
       "<span style=\"color: #008000; text-decoration-color: #008000; font-weight: bold\">slammed, car crashing, police van or ambulance siren and a song at the end.</span>\n",
       "</pre>\n"
      ],
      "text/plain": [
       "\u001b[1;32mTEST TRUE: This audio is an animated movie clip. There are ambient street sounds like footsteps, car brakes being \u001b[0m\n",
       "\u001b[1;32mslammed, car crashing, police van or ambulance siren and a song at the end.\u001b[0m\n"
      ]
     },
     "metadata": {},
     "output_type": "display_data"
    },
    {
     "data": {
      "text/html": [
       "<pre style=\"white-space:pre;overflow-x:auto;line-height:normal;font-family:Menlo,'DejaVu Sans Mono',consolas,'Courier New',monospace\"><span style=\"color: #000080; text-decoration-color: #000080\">TEST PRED-A: </span><span style=\"color: #000080; text-decoration-color: #000080; font-weight: bold\">&lt;|endoftext|&gt;</span><span style=\"color: #000080; text-decoration-color: #000080\">A new study from the University of California at San Diego </span><span style=\"color: #000080; text-decoration-color: #000080; font-weight: bold\">(</span><span style=\"color: #000080; text-decoration-color: #000080\">UCSD</span><span style=\"color: #000080; text-decoration-color: #000080; font-weight: bold\">)</span><span style=\"color: #000080; text-decoration-color: #000080\"> and the University of </span>\n",
       "<span style=\"color: #000080; text-decoration-color: #000080\">California at San Francisco </span><span style=\"color: #000080; text-decoration-color: #000080; font-weight: bold\">(</span><span style=\"color: #000080; text-decoration-color: #000080\">UCSF</span><span style=\"color: #000080; text-decoration-color: #000080; font-weight: bold\">)</span><span style=\"color: #000080; text-decoration-color: #000080\"> has found that people who are obese are more likely to be obese than those who </span>\n",
       "<span style=\"color: #000080; text-decoration-color: #000080\">are not</span>\n",
       "</pre>\n"
      ],
      "text/plain": [
       "\u001b[34mTEST PRED-A: \u001b[0m\u001b[1;34m<\u001b[0m\u001b[1;34m|endoftext|\u001b[0m\u001b[1;34m>\u001b[0m\u001b[34mA new study from the University of California at San Diego \u001b[0m\u001b[1;34m(\u001b[0m\u001b[34mUCSD\u001b[0m\u001b[1;34m)\u001b[0m\u001b[34m and the University of \u001b[0m\n",
       "\u001b[34mCalifornia at San Francisco \u001b[0m\u001b[1;34m(\u001b[0m\u001b[34mUCSF\u001b[0m\u001b[1;34m)\u001b[0m\u001b[34m has found that people who are obese are more likely to be obese than those who \u001b[0m\n",
       "\u001b[34mare not\u001b[0m\n"
      ]
     },
     "metadata": {},
     "output_type": "display_data"
    },
    {
     "data": {
      "text/html": [
       "<pre style=\"white-space:pre;overflow-x:auto;line-height:normal;font-family:Menlo,'DejaVu Sans Mono',consolas,'Courier New',monospace\"><span style=\"color: #000080; text-decoration-color: #000080\">TEST PRED-B: Listening, texts and browsingText to text and text to webFollow me brain sitesContactsUser </span>\n",
       "<span style=\"color: #000080; text-decoration-color: #000080\">NameTelephoneEmailAdvertisementPhoneOverlooked</span>\n",
       "</pre>\n"
      ],
      "text/plain": [
       "\u001b[34mTEST PRED-B: Listening, texts and browsingText to text and text to webFollow me brain sitesContactsUser \u001b[0m\n",
       "\u001b[34mNameTelephoneEmailAdvertisementPhoneOverlooked\u001b[0m\n"
      ]
     },
     "metadata": {},
     "output_type": "display_data"
    },
    {
     "name": "stdout",
     "output_type": "stream",
     "text": [
      "\n",
      "\n"
     ]
    },
    {
     "data": {
      "text/html": [
       "<pre style=\"white-space:pre;overflow-x:auto;line-height:normal;font-family:Menlo,'DejaVu Sans Mono',consolas,'Courier New',monospace\"><span style=\"color: #008000; text-decoration-color: #008000; font-weight: bold\">TRAIN TRUE: The song is an instrumental jazz tune. The tempo is medium with steady drumming with drum brushes and </span>\n",
       "<span style=\"color: #008000; text-decoration-color: #008000; font-weight: bold\">other percussive hits, piano accompaniment, guitar accompaniment, groovy bass line and a muted trumpet playing a </span>\n",
       "<span style=\"color: #008000; text-decoration-color: #008000; font-weight: bold\">cool solo. The song is a jazz improvisation of a romantic melody.</span>\n",
       "</pre>\n"
      ],
      "text/plain": [
       "\u001b[1;32mTRAIN TRUE: The song is an instrumental jazz tune. The tempo is medium with steady drumming with drum brushes and \u001b[0m\n",
       "\u001b[1;32mother percussive hits, piano accompaniment, guitar accompaniment, groovy bass line and a muted trumpet playing a \u001b[0m\n",
       "\u001b[1;32mcool solo. The song is a jazz improvisation of a romantic melody.\u001b[0m\n"
      ]
     },
     "metadata": {},
     "output_type": "display_data"
    },
    {
     "data": {
      "text/html": [
       "<pre style=\"white-space:pre;overflow-x:auto;line-height:normal;font-family:Menlo,'DejaVu Sans Mono',consolas,'Courier New',monospace\"><span style=\"color: #000080; text-decoration-color: #000080\">TRAIN PRED-A: </span><span style=\"color: #000080; text-decoration-color: #000080; font-weight: bold\">&lt;|endoftext|&gt;</span><span style=\"color: #000080; text-decoration-color: #000080\">This is the second part of a three-part series on the history of the Soviet Union.The </span>\n",
       "<span style=\"color: #000080; text-decoration-color: #000080\">first part of the series examines the history of the Soviet Union.The second part of the series examines the </span>\n",
       "<span style=\"color: #000080; text-decoration-color: #000080\">history of</span>\n",
       "</pre>\n"
      ],
      "text/plain": [
       "\u001b[34mTRAIN PRED-A: \u001b[0m\u001b[1;34m<\u001b[0m\u001b[1;34m|endoftext|\u001b[0m\u001b[1;34m>\u001b[0m\u001b[34mThis is the second part of a three-part series on the history of the Soviet Union.The \u001b[0m\n",
       "\u001b[34mfirst part of the series examines the history of the Soviet Union.The second part of the series examines the \u001b[0m\n",
       "\u001b[34mhistory of\u001b[0m\n"
      ]
     },
     "metadata": {},
     "output_type": "display_data"
    },
    {
     "data": {
      "text/html": [
       "<pre style=\"white-space:pre;overflow-x:auto;line-height:normal;font-family:Menlo,'DejaVu Sans Mono',consolas,'Courier New',monospace\"><span style=\"color: #000080; text-decoration-color: #000080\">TRAIN PRED-B: Then there's Walter Lee. He didn't get dragged along by his own legacy, that's for </span>\n",
       "<span style=\"color: #000080; text-decoration-color: #000080\">sure.…</span><span style=\"color: #000080; text-decoration-color: #000080; font-weight: bold\">&lt;|endoftext|&gt;</span><span style=\"color: #000080; text-decoration-color: #000080\">A new study from the United States Department of Justice found that </span><span style=\"color: #000080; text-decoration-color: #000080; font-weight: bold\">15</span><span style=\"color: #000080; text-decoration-color: #000080\"> percent of women who used</span>\n",
       "<span style=\"color: #000080; text-decoration-color: #000080\">birth control won a</span>\n",
       "</pre>\n"
      ],
      "text/plain": [
       "\u001b[34mTRAIN PRED-B: Then there's Walter Lee. He didn't get dragged along by his own legacy, that's for \u001b[0m\n",
       "\u001b[34msure.…\u001b[0m\u001b[1;34m<\u001b[0m\u001b[1;34m|endoftext|\u001b[0m\u001b[1;34m>\u001b[0m\u001b[34mA new study from the United States Department of Justice found that \u001b[0m\u001b[1;34m15\u001b[0m\u001b[34m percent of women who used\u001b[0m\n",
       "\u001b[34mbirth control won a\u001b[0m\n"
      ]
     },
     "metadata": {},
     "output_type": "display_data"
    },
    {
     "data": {
      "text/html": [
       "<pre style=\"white-space:pre;overflow-x:auto;line-height:normal;font-family:Menlo,'DejaVu Sans Mono',consolas,'Courier New',monospace\"><span style=\"color: #008000; text-decoration-color: #008000; font-weight: bold\">TEST TRUE: The low quality recording features a cover of a song sung by passionate girl vocalists over acoustic </span>\n",
       "<span style=\"color: #008000; text-decoration-color: #008000; font-weight: bold\">guitar melody and smooth bass. The recording is very noisy and crackly. Judging by the quality of it, the vocalist </span>\n",
       "<span style=\"color: #008000; text-decoration-color: #008000; font-weight: bold\">is singing on a very cheap sounding microphone - which makes the sound quality even worse.</span>\n",
       "</pre>\n"
      ],
      "text/plain": [
       "\u001b[1;32mTEST TRUE: The low quality recording features a cover of a song sung by passionate girl vocalists over acoustic \u001b[0m\n",
       "\u001b[1;32mguitar melody and smooth bass. The recording is very noisy and crackly. Judging by the quality of it, the vocalist \u001b[0m\n",
       "\u001b[1;32mis singing on a very cheap sounding microphone - which makes the sound quality even worse.\u001b[0m\n"
      ]
     },
     "metadata": {},
     "output_type": "display_data"
    },
    {
     "data": {
      "text/html": [
       "<pre style=\"white-space:pre;overflow-x:auto;line-height:normal;font-family:Menlo,'DejaVu Sans Mono',consolas,'Courier New',monospace\"><span style=\"color: #000080; text-decoration-color: #000080\">TEST PRED-A: </span><span style=\"color: #000080; text-decoration-color: #000080; font-weight: bold\">&lt;|endoftext|&gt;</span><span style=\"color: #000080; text-decoration-color: #000080\">This is one of my favorite songs of all time. It is a very simple song with a very simple</span>\n",
       "<span style=\"color: #000080; text-decoration-color: #000080\">melody. It has a lot of melody but it is also very catchy. I love it.</span><span style=\"color: #000080; text-decoration-color: #000080; font-weight: bold\">&lt;|endoftext|&gt;</span>\n",
       "</pre>\n"
      ],
      "text/plain": [
       "\u001b[34mTEST PRED-A: \u001b[0m\u001b[1;34m<\u001b[0m\u001b[1;34m|endoftext|\u001b[0m\u001b[1;34m>\u001b[0m\u001b[34mThis is one of my favorite songs of all time. It is a very simple song with a very simple\u001b[0m\n",
       "\u001b[34mmelody. It has a lot of melody but it is also very catchy. I love it.\u001b[0m\u001b[1;34m<\u001b[0m\u001b[1;34m|endoftext|\u001b[0m\u001b[1;34m>\u001b[0m\n"
      ]
     },
     "metadata": {},
     "output_type": "display_data"
    },
    {
     "data": {
      "text/html": [
       "<pre style=\"white-space:pre;overflow-x:auto;line-height:normal;font-family:Menlo,'DejaVu Sans Mono',consolas,'Courier New',monospace\"><span style=\"color: #000080; text-decoration-color: #000080\">TEST PRED-B: More than </span><span style=\"color: #000080; text-decoration-color: #000080; font-weight: bold\">50</span><span style=\"color: #000080; text-decoration-color: #000080\"> people purged Catalonia of its Spanish-speaking residents during the period in which they</span>\n",
       "<span style=\"color: #000080; text-decoration-color: #000080\">were temporarily barred from legally applying for asylum, appealing for their release from the country's </span>\n",
       "<span style=\"color: #000080; text-decoration-color: #000080\">notoriously Catalan-linguistic population.The visit</span>\n",
       "</pre>\n"
      ],
      "text/plain": [
       "\u001b[34mTEST PRED-B: More than \u001b[0m\u001b[1;34m50\u001b[0m\u001b[34m people purged Catalonia of its Spanish-speaking residents during the period in which they\u001b[0m\n",
       "\u001b[34mwere temporarily barred from legally applying for asylum, appealing for their release from the country's \u001b[0m\n",
       "\u001b[34mnotoriously Catalan-linguistic population.The visit\u001b[0m\n"
      ]
     },
     "metadata": {},
     "output_type": "display_data"
    },
    {
     "name": "stdout",
     "output_type": "stream",
     "text": [
      "\n",
      "\n"
     ]
    },
    {
     "data": {
      "application/vnd.jupyter.widget-view+json": {
       "model_id": "b74d0e4c78ac45c9b3de78154f17d230",
       "version_major": 2,
       "version_minor": 0
      },
      "text/plain": [
       "  0%|          | 0/138 [00:00<?, ?it/s]"
      ]
     },
     "metadata": {},
     "output_type": "display_data"
    },
    {
     "data": {
      "text/html": [
       "<pre style=\"white-space:pre;overflow-x:auto;line-height:normal;font-family:Menlo,'DejaVu Sans Mono',consolas,'Courier New',monospace\"><span style=\"color: #008000; text-decoration-color: #008000; font-weight: bold\">TRAIN TRUE: The low quality recording features a live performance of a traditional song that consists of a strings </span>\n",
       "<span style=\"color: #008000; text-decoration-color: #008000; font-weight: bold\">melody played over wooden percussion. The recording is in mono, a bit noisy and it sounds passionate, emotional and</span>\n",
       "<span style=\"color: #008000; text-decoration-color: #008000; font-weight: bold\">soulful.</span>\n",
       "</pre>\n"
      ],
      "text/plain": [
       "\u001b[1;32mTRAIN TRUE: The low quality recording features a live performance of a traditional song that consists of a strings \u001b[0m\n",
       "\u001b[1;32mmelody played over wooden percussion. The recording is in mono, a bit noisy and it sounds passionate, emotional and\u001b[0m\n",
       "\u001b[1;32msoulful.\u001b[0m\n"
      ]
     },
     "metadata": {},
     "output_type": "display_data"
    },
    {
     "data": {
      "text/html": [
       "<pre style=\"white-space:pre;overflow-x:auto;line-height:normal;font-family:Menlo,'DejaVu Sans Mono',consolas,'Courier New',monospace\"><span style=\"color: #000080; text-decoration-color: #000080\">TRAIN PRED-A: </span><span style=\"color: #000080; text-decoration-color: #000080; font-weight: bold\">&lt;|endoftext|&gt;</span><span style=\"color: #000080; text-decoration-color: #000080\">There is a lot going on in the world right now.There is a lot going on in the world </span>\n",
       "<span style=\"color: #000080; text-decoration-color: #000080\">right now.I'm not going to talk about it.I'm not going to talk about it</span>\n",
       "</pre>\n"
      ],
      "text/plain": [
       "\u001b[34mTRAIN PRED-A: \u001b[0m\u001b[1;34m<\u001b[0m\u001b[1;34m|endoftext|\u001b[0m\u001b[1;34m>\u001b[0m\u001b[34mThere is a lot going on in the world right now.There is a lot going on in the world \u001b[0m\n",
       "\u001b[34mright now.I'm not going to talk about it.I'm not going to talk about it\u001b[0m\n"
      ]
     },
     "metadata": {},
     "output_type": "display_data"
    },
    {
     "data": {
      "text/html": [
       "<pre style=\"white-space:pre;overflow-x:auto;line-height:normal;font-family:Menlo,'DejaVu Sans Mono',consolas,'Courier New',monospace\"><span style=\"color: #000080; text-decoration-color: #000080\">TRAIN PRED-B: Called </span><span style=\"color: #000080; text-decoration-color: #000080\">\"Huge Storm\"</span><span style=\"color: #000080; text-decoration-color: #000080\"> the river Clyde is located just </span><span style=\"color: #000080; text-decoration-color: #000080; font-weight: bold\">100</span><span style=\"color: #000080; text-decoration-color: #000080\"> yards inland from Savoy and is effectively </span>\n",
       "<span style=\"color: #000080; text-decoration-color: #000080\">unsupported by eddies. Fishing off Graveshaven Gorge lies Robert Pear and the Boerslau dam in west Wales. On a</span>\n",
       "</pre>\n"
      ],
      "text/plain": [
       "\u001b[34mTRAIN PRED-B: Called \u001b[0m\u001b[34m\"Huge Storm\"\u001b[0m\u001b[34m the river Clyde is located just \u001b[0m\u001b[1;34m100\u001b[0m\u001b[34m yards inland from Savoy and is effectively \u001b[0m\n",
       "\u001b[34munsupported by eddies. Fishing off Graveshaven Gorge lies Robert Pear and the Boerslau dam in west Wales. On a\u001b[0m\n"
      ]
     },
     "metadata": {},
     "output_type": "display_data"
    },
    {
     "data": {
      "text/html": [
       "<pre style=\"white-space:pre;overflow-x:auto;line-height:normal;font-family:Menlo,'DejaVu Sans Mono',consolas,'Courier New',monospace\"><span style=\"color: #008000; text-decoration-color: #008000; font-weight: bold\">TEST TRUE: A male singer sings this rap vocals with backup singers in harmony. The song is medium tempo with typing</span>\n",
       "<span style=\"color: #008000; text-decoration-color: #008000; font-weight: bold\">and beeping tones, followed by steady drumming rhythm, groovy bass and keyboard harmony. The song is energetic and </span>\n",
       "<span style=\"color: #008000; text-decoration-color: #008000; font-weight: bold\">exciting. The song has a home video intro followed by a rap song.</span>\n",
       "</pre>\n"
      ],
      "text/plain": [
       "\u001b[1;32mTEST TRUE: A male singer sings this rap vocals with backup singers in harmony. The song is medium tempo with typing\u001b[0m\n",
       "\u001b[1;32mand beeping tones, followed by steady drumming rhythm, groovy bass and keyboard harmony. The song is energetic and \u001b[0m\n",
       "\u001b[1;32mexciting. The song has a home video intro followed by a rap song.\u001b[0m\n"
      ]
     },
     "metadata": {},
     "output_type": "display_data"
    },
    {
     "data": {
      "text/html": [
       "<pre style=\"white-space:pre;overflow-x:auto;line-height:normal;font-family:Menlo,'DejaVu Sans Mono',consolas,'Courier New',monospace\"><span style=\"color: #000080; text-decoration-color: #000080\">TEST PRED-A: </span><span style=\"color: #000080; text-decoration-color: #000080; font-weight: bold\">&lt;|endoftext|&gt;</span><span style=\"color: #000080; text-decoration-color: #000080\">This is an open-access article distributed under the terms of the Creative Commons </span>\n",
       "<span style=\"color: #000080; text-decoration-color: #000080\">Attribution License, which permits unrestricted use, distribution, and reproduction in any medium, provided the </span>\n",
       "<span style=\"color: #000080; text-decoration-color: #000080\">original author and source are credited. Data Availability: All relevant data are</span>\n",
       "</pre>\n"
      ],
      "text/plain": [
       "\u001b[34mTEST PRED-A: \u001b[0m\u001b[1;34m<\u001b[0m\u001b[1;34m|endoftext|\u001b[0m\u001b[1;34m>\u001b[0m\u001b[34mThis is an open-access article distributed under the terms of the Creative Commons \u001b[0m\n",
       "\u001b[34mAttribution License, which permits unrestricted use, distribution, and reproduction in any medium, provided the \u001b[0m\n",
       "\u001b[34moriginal author and source are credited. Data Availability: All relevant data are\u001b[0m\n"
      ]
     },
     "metadata": {},
     "output_type": "display_data"
    },
    {
     "data": {
      "text/html": [
       "<pre style=\"white-space:pre;overflow-x:auto;line-height:normal;font-family:Menlo,'DejaVu Sans Mono',consolas,'Courier New',monospace\"><span style=\"color: #000080; text-decoration-color: #000080\">TEST PRED-B: There have been a few quick fixes for lesbianism from the pop-punk scene. Just this weekend even the </span>\n",
       "<span style=\"color: #000080; text-decoration-color: #000080\">star of the TV show for Duck Dynasty, </span><span style=\"color: #000080; text-decoration-color: #000080\">\"The Jinx,\"</span><span style=\"color: #000080; text-decoration-color: #000080\"> mocked homosexuals by saying that they had become \"deceivers</span>\n",
       "</pre>\n"
      ],
      "text/plain": [
       "\u001b[34mTEST PRED-B: There have been a few quick fixes for lesbianism from the pop-punk scene. Just this weekend even the \u001b[0m\n",
       "\u001b[34mstar of the TV show for Duck Dynasty, \u001b[0m\u001b[34m\"The Jinx,\"\u001b[0m\u001b[34m mocked homosexuals by saying that they had become \"deceivers\u001b[0m\n"
      ]
     },
     "metadata": {},
     "output_type": "display_data"
    },
    {
     "name": "stdout",
     "output_type": "stream",
     "text": [
      "\n",
      "\n"
     ]
    },
    {
     "data": {
      "text/html": [
       "<pre style=\"white-space:pre;overflow-x:auto;line-height:normal;font-family:Menlo,'DejaVu Sans Mono',consolas,'Courier New',monospace\"><span style=\"color: #008000; text-decoration-color: #008000; font-weight: bold\">TRAIN TRUE: The low quality recording features a groovy bass guitar, punchy </span><span style=\"color: #008000; text-decoration-color: #008000; font-weight: bold\">\"4 on the floor\"</span><span style=\"color: #008000; text-decoration-color: #008000; font-weight: bold\"> kick pattern and tinny</span>\n",
       "<span style=\"color: #008000; text-decoration-color: #008000; font-weight: bold\">percussion. In the second half of the loop the music cuts out and there is a short silence, after which comes the </span>\n",
       "<span style=\"color: #008000; text-decoration-color: #008000; font-weight: bold\">wide, muffled sound effects. At the very end, there is a slow riser, bringing the energy up.</span>\n",
       "</pre>\n"
      ],
      "text/plain": [
       "\u001b[1;32mTRAIN TRUE: The low quality recording features a groovy bass guitar, punchy \u001b[0m\u001b[1;32m\"4 on the floor\"\u001b[0m\u001b[1;32m kick pattern and tinny\u001b[0m\n",
       "\u001b[1;32mpercussion. In the second half of the loop the music cuts out and there is a short silence, after which comes the \u001b[0m\n",
       "\u001b[1;32mwide, muffled sound effects. At the very end, there is a slow riser, bringing the energy up.\u001b[0m\n"
      ]
     },
     "metadata": {},
     "output_type": "display_data"
    },
    {
     "data": {
      "text/html": [
       "<pre style=\"white-space:pre;overflow-x:auto;line-height:normal;font-family:Menlo,'DejaVu Sans Mono',consolas,'Courier New',monospace\"><span style=\"color: #000080; text-decoration-color: #000080\">TRAIN PRED-A: </span><span style=\"color: #000080; text-decoration-color: #000080; font-weight: bold\">&lt;|endoftext|&gt;</span><span style=\"color: #000080; text-decoration-color: #000080\">In an attempt to combat the spread of HIV/AIDS in the United States, the Centers for </span>\n",
       "<span style=\"color: #000080; text-decoration-color: #000080\">Disease Control and Prevention </span><span style=\"color: #000080; text-decoration-color: #000080; font-weight: bold\">(</span><span style=\"color: #000080; text-decoration-color: #000080\">CDC</span><span style=\"color: #000080; text-decoration-color: #000080; font-weight: bold\">)</span><span style=\"color: #000080; text-decoration-color: #000080\"> has released a new report on the prevalence of HIV/AIDS in the United States. </span>\n",
       "<span style=\"color: #000080; text-decoration-color: #000080\">The report shows that</span>\n",
       "</pre>\n"
      ],
      "text/plain": [
       "\u001b[34mTRAIN PRED-A: \u001b[0m\u001b[1;34m<\u001b[0m\u001b[1;34m|endoftext|\u001b[0m\u001b[1;34m>\u001b[0m\u001b[34mIn an attempt to combat the spread of HIV/AIDS in the United States, the Centers for \u001b[0m\n",
       "\u001b[34mDisease Control and Prevention \u001b[0m\u001b[1;34m(\u001b[0m\u001b[34mCDC\u001b[0m\u001b[1;34m)\u001b[0m\u001b[34m has released a new report on the prevalence of HIV/AIDS in the United States. \u001b[0m\n",
       "\u001b[34mThe report shows that\u001b[0m\n"
      ]
     },
     "metadata": {},
     "output_type": "display_data"
    },
    {
     "data": {
      "text/html": [
       "<pre style=\"white-space:pre;overflow-x:auto;line-height:normal;font-family:Menlo,'DejaVu Sans Mono',consolas,'Courier New',monospace\"><span style=\"color: #000080; text-decoration-color: #000080\">TRAIN PRED-B: Looking for the hour in </span><span style=\"color: #000080; text-decoration-color: #000080; font-weight: bold\">100</span><span style=\"color: #000080; text-decoration-color: #000080\"> prints? </span><span style=\"color: #000080; text-decoration-color: #000080; font-weight: bold\">968</span><span style=\"color: #000080; text-decoration-color: #000080\">% cotton and </span><span style=\"color: #000080; text-decoration-color: #000080; font-weight: bold\">2</span><span style=\"color: #000080; text-decoration-color: #000080\">% polyamide.Take a peek at Milkel's lovely Vera </span>\n",
       "<span style=\"color: #000080; text-decoration-color: #000080\">40s poster in action here.</span><span style=\"color: #000080; text-decoration-color: #000080; font-weight: bold\">&lt;|endoftext|&gt;</span><span style=\"color: #000080; text-decoration-color: #000080\">Latest Market All Weekend Mon Estimate for Friday, November</span>\n",
       "</pre>\n"
      ],
      "text/plain": [
       "\u001b[34mTRAIN PRED-B: Looking for the hour in \u001b[0m\u001b[1;34m100\u001b[0m\u001b[34m prints? \u001b[0m\u001b[1;34m968\u001b[0m\u001b[34m% cotton and \u001b[0m\u001b[1;34m2\u001b[0m\u001b[34m% polyamide.Take a peek at Milkel's lovely Vera \u001b[0m\n",
       "\u001b[34m40s poster in action here.\u001b[0m\u001b[1;34m<\u001b[0m\u001b[1;34m|endoftext|\u001b[0m\u001b[1;34m>\u001b[0m\u001b[34mLatest Market All Weekend Mon Estimate for Friday, November\u001b[0m\n"
      ]
     },
     "metadata": {},
     "output_type": "display_data"
    },
    {
     "data": {
      "text/html": [
       "<pre style=\"white-space:pre;overflow-x:auto;line-height:normal;font-family:Menlo,'DejaVu Sans Mono',consolas,'Courier New',monospace\"><span style=\"color: #008000; text-decoration-color: #008000; font-weight: bold\">TEST TRUE: The low quality recording features a mellow piano melody, slowly arpeggiated acoustic guitar melody and </span>\n",
       "<span style=\"color: #008000; text-decoration-color: #008000; font-weight: bold\">sustained soft strings melody. It sounds sad and emotional.</span>\n",
       "</pre>\n"
      ],
      "text/plain": [
       "\u001b[1;32mTEST TRUE: The low quality recording features a mellow piano melody, slowly arpeggiated acoustic guitar melody and \u001b[0m\n",
       "\u001b[1;32msustained soft strings melody. It sounds sad and emotional.\u001b[0m\n"
      ]
     },
     "metadata": {},
     "output_type": "display_data"
    },
    {
     "data": {
      "text/html": [
       "<pre style=\"white-space:pre;overflow-x:auto;line-height:normal;font-family:Menlo,'DejaVu Sans Mono',consolas,'Courier New',monospace\"><span style=\"color: #000080; text-decoration-color: #000080\">TEST PRED-A: </span><span style=\"color: #000080; text-decoration-color: #000080; font-weight: bold\">&lt;|endoftext|&gt;</span><span style=\"color: #000080; text-decoration-color: #000080\">Image copyright Getty Images Image caption The BBC has been forced to cancel a programme </span>\n",
       "<span style=\"color: #000080; text-decoration-color: #000080\">due to security concernsThe BBC has been forced to cancel a programme due to security concerns.The BBC has been </span>\n",
       "<span style=\"color: #000080; text-decoration-color: #000080\">forced to cancel a programme due</span>\n",
       "</pre>\n"
      ],
      "text/plain": [
       "\u001b[34mTEST PRED-A: \u001b[0m\u001b[1;34m<\u001b[0m\u001b[1;34m|endoftext|\u001b[0m\u001b[1;34m>\u001b[0m\u001b[34mImage copyright Getty Images Image caption The BBC has been forced to cancel a programme \u001b[0m\n",
       "\u001b[34mdue to security concernsThe BBC has been forced to cancel a programme due to security concerns.The BBC has been \u001b[0m\n",
       "\u001b[34mforced to cancel a programme due\u001b[0m\n"
      ]
     },
     "metadata": {},
     "output_type": "display_data"
    },
    {
     "data": {
      "text/html": [
       "<pre style=\"white-space:pre;overflow-x:auto;line-height:normal;font-family:Menlo,'DejaVu Sans Mono',consolas,'Courier New',monospace\"><span style=\"color: #000080; text-decoration-color: #000080\">TEST PRED-B: Get celebs updates directly to your inbox Subscribe Thank you for subscribing We have more newsletters</span>\n",
       "<span style=\"color: #000080; text-decoration-color: #000080\">Show me See our privacy notice Could not subscribe, try again later Invalid EmailA mother-slayer who now faces </span>\n",
       "<span style=\"color: #000080; text-decoration-color: #000080\">Banned from Channel </span><span style=\"color: #000080; text-decoration-color: #000080; font-weight: bold\">4</span><span style=\"color: #000080; text-decoration-color: #000080\"> after</span>\n",
       "</pre>\n"
      ],
      "text/plain": [
       "\u001b[34mTEST PRED-B: Get celebs updates directly to your inbox Subscribe Thank you for subscribing We have more newsletters\u001b[0m\n",
       "\u001b[34mShow me See our privacy notice Could not subscribe, try again later Invalid EmailA mother-slayer who now faces \u001b[0m\n",
       "\u001b[34mBanned from Channel \u001b[0m\u001b[1;34m4\u001b[0m\u001b[34m after\u001b[0m\n"
      ]
     },
     "metadata": {},
     "output_type": "display_data"
    },
    {
     "name": "stdout",
     "output_type": "stream",
     "text": [
      "\n",
      "\n"
     ]
    },
    {
     "data": {
      "application/vnd.jupyter.widget-view+json": {
       "model_id": "3852a334ee6a42ffa09a6fa2f8d269e8",
       "version_major": 2,
       "version_minor": 0
      },
      "text/plain": [
       "  0%|          | 0/138 [00:00<?, ?it/s]"
      ]
     },
     "metadata": {},
     "output_type": "display_data"
    },
    {
     "data": {
      "text/html": [
       "<pre style=\"white-space:pre;overflow-x:auto;line-height:normal;font-family:Menlo,'DejaVu Sans Mono',consolas,'Courier New',monospace\"><span style=\"color: #008000; text-decoration-color: #008000; font-weight: bold\">TRAIN TRUE: This audio contains someone playing a classical piece on a harpsichord. This song may be playing live </span>\n",
       "<span style=\"color: #008000; text-decoration-color: #008000; font-weight: bold\">at a concert.</span>\n",
       "</pre>\n"
      ],
      "text/plain": [
       "\u001b[1;32mTRAIN TRUE: This audio contains someone playing a classical piece on a harpsichord. This song may be playing live \u001b[0m\n",
       "\u001b[1;32mat a concert.\u001b[0m\n"
      ]
     },
     "metadata": {},
     "output_type": "display_data"
    },
    {
     "data": {
      "text/html": [
       "<pre style=\"white-space:pre;overflow-x:auto;line-height:normal;font-family:Menlo,'DejaVu Sans Mono',consolas,'Courier New',monospace\"><span style=\"color: #000080; text-decoration-color: #000080\">TRAIN PRED-A: </span><span style=\"color: #000080; text-decoration-color: #000080; font-weight: bold\">&lt;|endoftext|&gt;</span><span style=\"color: #000080; text-decoration-color: #000080\">This is a song that was written by a friend of mine. It was written by a friend of mine </span>\n",
       "<span style=\"color: #000080; text-decoration-color: #000080\">who is a musician. The lyrics are:\"I'm a musician. I'm a musician. I'm a musician</span>\n",
       "</pre>\n"
      ],
      "text/plain": [
       "\u001b[34mTRAIN PRED-A: \u001b[0m\u001b[1;34m<\u001b[0m\u001b[1;34m|endoftext|\u001b[0m\u001b[1;34m>\u001b[0m\u001b[34mThis is a song that was written by a friend of mine. It was written by a friend of mine \u001b[0m\n",
       "\u001b[34mwho is a musician. The lyrics are:\"I'm a musician. I'm a musician. I'm a musician\u001b[0m\n"
      ]
     },
     "metadata": {},
     "output_type": "display_data"
    },
    {
     "data": {
      "text/html": [
       "<pre style=\"white-space:pre;overflow-x:auto;line-height:normal;font-family:Menlo,'DejaVu Sans Mono',consolas,'Courier New',monospace\"><span style=\"color: #000080; text-decoration-color: #000080\">TRAIN PRED-B: Reference: </span><span style=\"color: #000080; text-decoration-color: #000080; text-decoration: underline\">http://singingmountainroad.net/test_background_voc.xml</span><span style=\"color: #000080; text-decoration-color: #000080\"> Moody song written on the 10th and </span>\n",
       "<span style=\"color: #000080; text-decoration-color: #000080\">11th April </span><span style=\"color: #000080; text-decoration-color: #000080; font-weight: bold\">1975</span><span style=\"color: #000080; text-decoration-color: #000080\">. Full arrangement with full backing vocals by Eben Mooneyl. </span><span style=\"color: #000080; text-decoration-color: #000080; font-weight: bold\">01:57</span>\n",
       "</pre>\n"
      ],
      "text/plain": [
       "\u001b[34mTRAIN PRED-B: Reference: \u001b[0m\u001b[4;34mhttp://singingmountainroad.net/test_background_voc.xml\u001b[0m\u001b[34m Moody song written on the 10th and \u001b[0m\n",
       "\u001b[34m11th April \u001b[0m\u001b[1;34m1975\u001b[0m\u001b[34m. Full arrangement with full backing vocals by Eben Mooneyl. \u001b[0m\u001b[1;34m01:57\u001b[0m\n"
      ]
     },
     "metadata": {},
     "output_type": "display_data"
    },
    {
     "data": {
      "text/html": [
       "<pre style=\"white-space:pre;overflow-x:auto;line-height:normal;font-family:Menlo,'DejaVu Sans Mono',consolas,'Courier New',monospace\"><span style=\"color: #008000; text-decoration-color: #008000; font-weight: bold\">TEST TRUE: The song is an instrumental. The tempo is slow and unsure, with a guitarist attempting to play a minor </span>\n",
       "<span style=\"color: #008000; text-decoration-color: #008000; font-weight: bold\">scale and gets the scale wrong. The song has poor audio quality with ambient traffic noise in the background.</span>\n",
       "</pre>\n"
      ],
      "text/plain": [
       "\u001b[1;32mTEST TRUE: The song is an instrumental. The tempo is slow and unsure, with a guitarist attempting to play a minor \u001b[0m\n",
       "\u001b[1;32mscale and gets the scale wrong. The song has poor audio quality with ambient traffic noise in the background.\u001b[0m\n"
      ]
     },
     "metadata": {},
     "output_type": "display_data"
    },
    {
     "data": {
      "text/html": [
       "<pre style=\"white-space:pre;overflow-x:auto;line-height:normal;font-family:Menlo,'DejaVu Sans Mono',consolas,'Courier New',monospace\"><span style=\"color: #000080; text-decoration-color: #000080\">TEST PRED-A: </span><span style=\"color: #000080; text-decoration-color: #000080; font-weight: bold\">&lt;|endoftext|&gt;</span><span style=\"color: #000080; text-decoration-color: #000080\">The following is an excerpt from the book, </span><span style=\"color: #000080; text-decoration-color: #000080\">\"The Man Who Wasn't Born This Way\"</span><span style=\"color: #000080; text-decoration-color: #000080\">:\"I was born</span>\n",
       "<span style=\"color: #000080; text-decoration-color: #000080\">this way. I was raised this way. I was raised this way. I was raised this way.</span>\n",
       "</pre>\n"
      ],
      "text/plain": [
       "\u001b[34mTEST PRED-A: \u001b[0m\u001b[1;34m<\u001b[0m\u001b[1;34m|endoftext|\u001b[0m\u001b[1;34m>\u001b[0m\u001b[34mThe following is an excerpt from the book, \u001b[0m\u001b[34m\"The Man Who Wasn't Born This Way\"\u001b[0m\u001b[34m:\"I was born\u001b[0m\n",
       "\u001b[34mthis way. I was raised this way. I was raised this way. I was raised this way.\u001b[0m\n"
      ]
     },
     "metadata": {},
     "output_type": "display_data"
    },
    {
     "data": {
      "text/html": [
       "<pre style=\"white-space:pre;overflow-x:auto;line-height:normal;font-family:Menlo,'DejaVu Sans Mono',consolas,'Courier New',monospace\"><span style=\"color: #000080; text-decoration-color: #000080\">TEST PRED-B: As the work moves toward releasing the latest cinematic setting to Portuguese dubstep, Aki </span>\n",
       "<span style=\"color: #000080; text-decoration-color: #000080\">Ross/Alexhese London has been boosted from critical acclaim to brand recognition. It hits the shelves of many </span>\n",
       "<span style=\"color: #000080; text-decoration-color: #000080\">retailers yesterday for a bargain price on Posit,</span>\n",
       "</pre>\n"
      ],
      "text/plain": [
       "\u001b[34mTEST PRED-B: As the work moves toward releasing the latest cinematic setting to Portuguese dubstep, Aki \u001b[0m\n",
       "\u001b[34mRoss/Alexhese London has been boosted from critical acclaim to brand recognition. It hits the shelves of many \u001b[0m\n",
       "\u001b[34mretailers yesterday for a bargain price on Posit,\u001b[0m\n"
      ]
     },
     "metadata": {},
     "output_type": "display_data"
    },
    {
     "name": "stdout",
     "output_type": "stream",
     "text": [
      "\n",
      "\n"
     ]
    },
    {
     "data": {
      "text/html": [
       "<pre style=\"white-space:pre;overflow-x:auto;line-height:normal;font-family:Menlo,'DejaVu Sans Mono',consolas,'Courier New',monospace\"><span style=\"color: #008000; text-decoration-color: #008000; font-weight: bold\">TRAIN TRUE: This low quality recording begins with an organ chord and an animal grunting sound at a mid range </span>\n",
       "<span style=\"color: #008000; text-decoration-color: #008000; font-weight: bold\">pitch. This is followed by the sound of a machine gun and the sound of an animal grunting again. There are no other</span>\n",
       "<span style=\"color: #008000; text-decoration-color: #008000; font-weight: bold\">musical instruments in this clip.</span>\n",
       "</pre>\n"
      ],
      "text/plain": [
       "\u001b[1;32mTRAIN TRUE: This low quality recording begins with an organ chord and an animal grunting sound at a mid range \u001b[0m\n",
       "\u001b[1;32mpitch. This is followed by the sound of a machine gun and the sound of an animal grunting again. There are no other\u001b[0m\n",
       "\u001b[1;32mmusical instruments in this clip.\u001b[0m\n"
      ]
     },
     "metadata": {},
     "output_type": "display_data"
    },
    {
     "data": {
      "text/html": [
       "<pre style=\"white-space:pre;overflow-x:auto;line-height:normal;font-family:Menlo,'DejaVu Sans Mono',consolas,'Courier New',monospace\"><span style=\"color: #000080; text-decoration-color: #000080\">TRAIN PRED-A: </span><span style=\"color: #000080; text-decoration-color: #000080; font-weight: bold\">&lt;|endoftext|&gt;</span><span style=\"color: #000080; text-decoration-color: #000080\">This is the first of a two-part series on how to build an Android app on top of Google's</span>\n",
       "<span style=\"color: #000080; text-decoration-color: #000080\">Android app store.In this first installment, we will look at how to build an Android app on top of Google</span>\n",
       "</pre>\n"
      ],
      "text/plain": [
       "\u001b[34mTRAIN PRED-A: \u001b[0m\u001b[1;34m<\u001b[0m\u001b[1;34m|endoftext|\u001b[0m\u001b[1;34m>\u001b[0m\u001b[34mThis is the first of a two-part series on how to build an Android app on top of Google's\u001b[0m\n",
       "\u001b[34mAndroid app store.In this first installment, we will look at how to build an Android app on top of Google\u001b[0m\n"
      ]
     },
     "metadata": {},
     "output_type": "display_data"
    },
    {
     "data": {
      "text/html": [
       "<pre style=\"white-space:pre;overflow-x:auto;line-height:normal;font-family:Menlo,'DejaVu Sans Mono',consolas,'Courier New',monospace\"><span style=\"color: #000080; text-decoration-color: #000080\">TRAIN PRED-B: San Bernardino silver plated silver Günterblade blasters. Last edited by Shankdy Gervais; Mar </span><span style=\"color: #000080; text-decoration-color: #000080; font-weight: bold\">18</span><span style=\"color: #000080; text-decoration-color: #000080\">, </span>\n",
       "<span style=\"color: #000080; text-decoration-color: #000080; font-weight: bold\">2018</span><span style=\"color: #000080; text-decoration-color: #000080\">, </span><span style=\"color: #000080; text-decoration-color: #000080; font-weight: bold\">9:27:13</span><span style=\"color: #000080; text-decoration-color: #000080\"> AM...San Bernardino to go vault Santa Cruz is a extension of</span>\n",
       "</pre>\n"
      ],
      "text/plain": [
       "\u001b[34mTRAIN PRED-B: San Bernardino silver plated silver Günterblade blasters. Last edited by Shankdy Gervais; Mar \u001b[0m\u001b[1;34m18\u001b[0m\u001b[34m, \u001b[0m\n",
       "\u001b[1;34m2018\u001b[0m\u001b[34m, \u001b[0m\u001b[1;34m9:27:13\u001b[0m\u001b[34m AM\u001b[0m\u001b[34m...\u001b[0m\u001b[34mSan Bernardino to go vault Santa Cruz is a extension of\u001b[0m\n"
      ]
     },
     "metadata": {},
     "output_type": "display_data"
    },
    {
     "data": {
      "text/html": [
       "<pre style=\"white-space:pre;overflow-x:auto;line-height:normal;font-family:Menlo,'DejaVu Sans Mono',consolas,'Courier New',monospace\"><span style=\"color: #008000; text-decoration-color: #008000; font-weight: bold\">TEST TRUE: This is a dance song which would fit in the afrobeats genre. There's a rhythmic vibrant synth with a </span>\n",
       "<span style=\"color: #008000; text-decoration-color: #008000; font-weight: bold\">fuzzy tone playing the main instrumental melody. There's also a groovy bassline. The percussion includes </span>\n",
       "<span style=\"color: #008000; text-decoration-color: #008000; font-weight: bold\">intermittent hits on a bongo drum, clapping hands, and a kick drum. This would be a good afrobeats club song.</span>\n",
       "</pre>\n"
      ],
      "text/plain": [
       "\u001b[1;32mTEST TRUE: This is a dance song which would fit in the afrobeats genre. There's a rhythmic vibrant synth with a \u001b[0m\n",
       "\u001b[1;32mfuzzy tone playing the main instrumental melody. There's also a groovy bassline. The percussion includes \u001b[0m\n",
       "\u001b[1;32mintermittent hits on a bongo drum, clapping hands, and a kick drum. This would be a good afrobeats club song.\u001b[0m\n"
      ]
     },
     "metadata": {},
     "output_type": "display_data"
    },
    {
     "data": {
      "text/html": [
       "<pre style=\"white-space:pre;overflow-x:auto;line-height:normal;font-family:Menlo,'DejaVu Sans Mono',consolas,'Courier New',monospace\"><span style=\"color: #000080; text-decoration-color: #000080\">TEST PRED-A: </span><span style=\"color: #000080; text-decoration-color: #000080; font-weight: bold\">&lt;|endoftext|&gt;</span><span style=\"color: #000080; text-decoration-color: #000080\">In the last few years, I've seen a lot of people talk about the need to be more selective</span>\n",
       "<span style=\"color: #000080; text-decoration-color: #000080\">about what they read and listen to. I think that's one of the main reasons why so many people don't want to read</span>\n",
       "</pre>\n"
      ],
      "text/plain": [
       "\u001b[34mTEST PRED-A: \u001b[0m\u001b[1;34m<\u001b[0m\u001b[1;34m|endoftext|\u001b[0m\u001b[1;34m>\u001b[0m\u001b[34mIn the last few years, I've seen a lot of people talk about the need to be more selective\u001b[0m\n",
       "\u001b[34mabout what they read and listen to. I think that's one of the main reasons why so many people don't want to read\u001b[0m\n"
      ]
     },
     "metadata": {},
     "output_type": "display_data"
    },
    {
     "data": {
      "text/html": [
       "<pre style=\"white-space:pre;overflow-x:auto;line-height:normal;font-family:Menlo,'DejaVu Sans Mono',consolas,'Courier New',monospace\"><span style=\"color: #000080; text-decoration-color: #000080\">TEST PRED-B: Awesome single from all ages </span><span style=\"color: #000080; text-decoration-color: #000080; font-weight: bold\">(</span><span style=\"color: #000080; text-decoration-color: #000080\">One does not necessarily have to be a team enforcer like Manny Diaz or </span>\n",
       "<span style=\"color: #000080; text-decoration-color: #000080\">Wil Myers. It would really have to do with commentator Phil Allen based on his references to the way the star </span>\n",
       "<span style=\"color: #000080; text-decoration-color: #000080\">slugger smokes, compens</span>\n",
       "</pre>\n"
      ],
      "text/plain": [
       "\u001b[34mTEST PRED-B: Awesome single from all ages \u001b[0m\u001b[1;34m(\u001b[0m\u001b[34mOne does not necessarily have to be a team enforcer like Manny Diaz or \u001b[0m\n",
       "\u001b[34mWil Myers. It would really have to do with commentator Phil Allen based on his references to the way the star \u001b[0m\n",
       "\u001b[34mslugger smokes, compens\u001b[0m\n"
      ]
     },
     "metadata": {},
     "output_type": "display_data"
    },
    {
     "name": "stdout",
     "output_type": "stream",
     "text": [
      "\n",
      "\n"
     ]
    },
    {
     "data": {
      "application/vnd.jupyter.widget-view+json": {
       "model_id": "a8ba0bca5a364a7f848e03eb3f2de806",
       "version_major": 2,
       "version_minor": 0
      },
      "text/plain": [
       "  0%|          | 0/138 [00:00<?, ?it/s]"
      ]
     },
     "metadata": {},
     "output_type": "display_data"
    },
    {
     "data": {
      "text/html": [
       "<pre style=\"white-space:pre;overflow-x:auto;line-height:normal;font-family:Menlo,'DejaVu Sans Mono',consolas,'Courier New',monospace\"><span style=\"color: #008000; text-decoration-color: #008000; font-weight: bold\">TRAIN TRUE: This song is full of electronic, percussive noises and effects. A kick is playing on every beat with </span>\n",
       "<span style=\"color: #008000; text-decoration-color: #008000; font-weight: bold\">some sharp hits. A bass is playing along with the kick. Male voice samples with delay can be heart to spice up the </span>\n",
       "<span style=\"color: #008000; text-decoration-color: #008000; font-weight: bold\">mix. This song may be playing at a rave in the woods.</span>\n",
       "</pre>\n"
      ],
      "text/plain": [
       "\u001b[1;32mTRAIN TRUE: This song is full of electronic, percussive noises and effects. A kick is playing on every beat with \u001b[0m\n",
       "\u001b[1;32msome sharp hits. A bass is playing along with the kick. Male voice samples with delay can be heart to spice up the \u001b[0m\n",
       "\u001b[1;32mmix. This song may be playing at a rave in the woods.\u001b[0m\n"
      ]
     },
     "metadata": {},
     "output_type": "display_data"
    },
    {
     "data": {
      "text/html": [
       "<pre style=\"white-space:pre;overflow-x:auto;line-height:normal;font-family:Menlo,'DejaVu Sans Mono',consolas,'Courier New',monospace\"><span style=\"color: #000080; text-decoration-color: #000080\">TRAIN PRED-A: </span><span style=\"color: #000080; text-decoration-color: #000080; font-weight: bold\">&lt;|endoftext|&gt;</span><span style=\"color: #000080; text-decoration-color: #000080\">There is a lot to like about this album. It's a beautiful piece of music that has been </span>\n",
       "<span style=\"color: #000080; text-decoration-color: #000080\">around for a long time. It's not perfect, but it's a beautiful piece of music that is well worth listening to.</span>\n",
       "</pre>\n"
      ],
      "text/plain": [
       "\u001b[34mTRAIN PRED-A: \u001b[0m\u001b[1;34m<\u001b[0m\u001b[1;34m|endoftext|\u001b[0m\u001b[1;34m>\u001b[0m\u001b[34mThere is a lot to like about this album. It's a beautiful piece of music that has been \u001b[0m\n",
       "\u001b[34maround for a long time. It's not perfect, but it's a beautiful piece of music that is well worth listening to.\u001b[0m\n"
      ]
     },
     "metadata": {},
     "output_type": "display_data"
    },
    {
     "data": {
      "text/html": [
       "<pre style=\"white-space:pre;overflow-x:auto;line-height:normal;font-family:Menlo,'DejaVu Sans Mono',consolas,'Courier New',monospace\"><span style=\"color: #000080; text-decoration-color: #000080\">TRAIN PRED-B: Bench gives you access to our internal benchmark data so that you can compare the products without </span>\n",
       "<span style=\"color: #000080; text-decoration-color: #000080\">searching for an older review. Make reliable comparisons between products by clicking on product categories </span>\n",
       "<span style=\"color: #000080; text-decoration-color: #000080\">below!Product Ratings &amp; ComparisonsCrysis: War</span>\n",
       "</pre>\n"
      ],
      "text/plain": [
       "\u001b[34mTRAIN PRED-B: Bench gives you access to our internal benchmark data so that you can compare the products without \u001b[0m\n",
       "\u001b[34msearching for an older review. Make reliable comparisons between products by clicking on product categories \u001b[0m\n",
       "\u001b[34mbelow!Product Ratings & ComparisonsCrysis: War\u001b[0m\n"
      ]
     },
     "metadata": {},
     "output_type": "display_data"
    },
    {
     "data": {
      "text/html": [
       "<pre style=\"white-space:pre;overflow-x:auto;line-height:normal;font-family:Menlo,'DejaVu Sans Mono',consolas,'Courier New',monospace\"><span style=\"color: #008000; text-decoration-color: #008000; font-weight: bold\">TEST TRUE: The low quality recording features an organ keys melody played over playback instrumental that consists </span>\n",
       "<span style=\"color: #008000; text-decoration-color: #008000; font-weight: bold\">of groovy bass, plucked melody and some wooden percussion. It sounds weird, bouncy, happy and the recording is very</span>\n",
       "<span style=\"color: #008000; text-decoration-color: #008000; font-weight: bold\">noisy.</span>\n",
       "</pre>\n"
      ],
      "text/plain": [
       "\u001b[1;32mTEST TRUE: The low quality recording features an organ keys melody played over playback instrumental that consists \u001b[0m\n",
       "\u001b[1;32mof groovy bass, plucked melody and some wooden percussion. It sounds weird, bouncy, happy and the recording is very\u001b[0m\n",
       "\u001b[1;32mnoisy.\u001b[0m\n"
      ]
     },
     "metadata": {},
     "output_type": "display_data"
    },
    {
     "data": {
      "text/html": [
       "<pre style=\"white-space:pre;overflow-x:auto;line-height:normal;font-family:Menlo,'DejaVu Sans Mono',consolas,'Courier New',monospace\"><span style=\"color: #000080; text-decoration-color: #000080\">TEST PRED-A: </span><span style=\"color: #000080; text-decoration-color: #000080; font-weight: bold\">&lt;|endoftext|&gt;</span><span style=\"color: #000080; text-decoration-color: #000080\">This is a collection of songs written by a young girl who has no idea what she is talking</span>\n",
       "<span style=\"color: #000080; text-decoration-color: #000080\">about. The lyrics are a mix of old and new, and the music is written by a young girl who has no idea what she is</span>\n",
       "</pre>\n"
      ],
      "text/plain": [
       "\u001b[34mTEST PRED-A: \u001b[0m\u001b[1;34m<\u001b[0m\u001b[1;34m|endoftext|\u001b[0m\u001b[1;34m>\u001b[0m\u001b[34mThis is a collection of songs written by a young girl who has no idea what she is talking\u001b[0m\n",
       "\u001b[34mabout. The lyrics are a mix of old and new, and the music is written by a young girl who has no idea what she is\u001b[0m\n"
      ]
     },
     "metadata": {},
     "output_type": "display_data"
    },
    {
     "data": {
      "text/html": [
       "<pre style=\"white-space:pre;overflow-x:auto;line-height:normal;font-family:Menlo,'DejaVu Sans Mono',consolas,'Courier New',monospace\"><span style=\"color: #000080; text-decoration-color: #000080\">TEST PRED-B: Fight Guys is a fun science fiction novel set in the Milky Way.The political intrigue over the </span>\n",
       "<span style=\"color: #000080; text-decoration-color: #000080\">decision to exterminate the species Maximum Time is unrelenting and relentless. Better yet, the book keeps pace </span>\n",
       "<span style=\"color: #000080; text-decoration-color: #000080\">with your suspicions and twist them</span>\n",
       "</pre>\n"
      ],
      "text/plain": [
       "\u001b[34mTEST PRED-B: Fight Guys is a fun science fiction novel set in the Milky Way.The political intrigue over the \u001b[0m\n",
       "\u001b[34mdecision to exterminate the species Maximum Time is unrelenting and relentless. Better yet, the book keeps pace \u001b[0m\n",
       "\u001b[34mwith your suspicions and twist them\u001b[0m\n"
      ]
     },
     "metadata": {},
     "output_type": "display_data"
    },
    {
     "name": "stdout",
     "output_type": "stream",
     "text": [
      "\n",
      "\n"
     ]
    }
   ],
   "source": [
    "for epoch in tqdm(range(num_epochs)):\n",
    "    \n",
    "    if epoch > 5:\n",
    "        for pg in opt.param_groups[1:]:\n",
    "            pg['lr'] = 5e-5\n",
    "    \n",
    "    for step, (caption_batch, embedding_batch) in enumerate(tqdm(train_dataloader)):\n",
    "        # tokenize and prepare inputs for forward\n",
    "        input_ids, input_ids_target = tokenize(caption_batch)\n",
    "        inputs_embeds, input_ids_target = transform_input_ids(\n",
    "            embedding_batch,\n",
    "            input_ids,\n",
    "            input_ids_target\n",
    "        )\n",
    "        \n",
    "        model.train()\n",
    "        loss = model.forward(inputs_embeds=inputs_embeds, labels=input_ids_target).loss\n",
    "        loss.backward()\n",
    "        opt.step()\n",
    "        losses.append(loss.item())\n",
    "        \n",
    "        if step % 100 == 0:\n",
    "            \n",
    "            caption_batch, embedding_batch = next(iter(eval_train_dataloader))\n",
    "            pred = eval(caption_batch, embedding_batch, **generation_params_hf)\n",
    "            printr('[green bold]TRAIN TRUE: ' + caption_batch[0])\n",
    "            printr('[blue]TRAIN PRED-A: ' + pred[0])\n",
    "            pred = eval(caption_batch, embedding_batch, **generation_params_ours)\n",
    "            printr('[blue]TRAIN PRED-B: ' + pred[0])\n",
    "            \n",
    "            caption_batch, embedding_batch = next(iter(eval_test_dataloader))\n",
    "            pred = eval(caption_batch, embedding_batch, **generation_params_hf)\n",
    "            printr('[green bold]TEST TRUE: ' + caption_batch[0])\n",
    "            printr('[blue]TEST PRED-A: ' + pred[0])\n",
    "            pred = eval(caption_batch, embedding_batch, **generation_params_ours)\n",
    "            printr('[blue]TEST PRED-B: ' + pred[0])\n",
    "            \n",
    "            print('\\n')\n",
    "\n",
    "        if step % 200 == 199:\n",
    "            plt.plot(losses)\n",
    "            plt.show()"
   ]
  },
  {
   "cell_type": "code",
   "execution_count": null,
   "id": "9cea1218-716b-4422-8f01-eacce5b18d4e",
   "metadata": {},
   "outputs": [],
   "source": [
    "caption_batch, embedding_batch = next(iter(eval_test_dataloader))\n",
    "pred = eval(caption_batch, embedding_batch, use_manual_generation=True)\n",
    "printr('[green bold]TEST TRUE: ' + caption_batch[0])\n",
    "printr('[blue]TEST PRED-A: ' + pred[0])"
   ]
  },
  {
   "cell_type": "code",
   "execution_count": null,
   "id": "b3eea662-6dd1-4e3f-ab68-5adef14597d2",
   "metadata": {},
   "outputs": [],
   "source": []
  }
 ],
 "metadata": {
  "kernelspec": {
   "display_name": "tp2",
   "language": "python",
   "name": "tp2"
  },
  "language_info": {
   "codemirror_mode": {
    "name": "ipython",
    "version": 3
   },
   "file_extension": ".py",
   "mimetype": "text/x-python",
   "name": "python",
   "nbconvert_exporter": "python",
   "pygments_lexer": "ipython3",
   "version": "3.9.15"
  }
 },
 "nbformat": 4,
 "nbformat_minor": 5
}
