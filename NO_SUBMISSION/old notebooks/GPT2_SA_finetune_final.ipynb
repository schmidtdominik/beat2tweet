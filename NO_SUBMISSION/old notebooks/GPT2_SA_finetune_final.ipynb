{
 "cells": [
  {
   "cell_type": "code",
   "execution_count": 18,
   "id": "3cd60a10-aba2-4f3e-b251-77d4f100179f",
   "metadata": {},
   "outputs": [],
   "source": [
    "# !pip install -U yt-dlp==2023.1.6 matplotlib==3.6.0 datasets[audio] rich\n",
    "\n",
    "# install newest transformers build to be able to pass `inputs_embeds` through generate()\n",
    "# !pip install --upgrade git+https://github.com/huggingface/transformers.git"
   ]
  },
  {
   "cell_type": "markdown",
   "id": "a426135f-00ed-4215-9b20-ee38b2c0448a",
   "metadata": {},
   "source": [
    "**Relevant huggingface gpt2 code**\n",
    "\n",
    "- https://github.com/huggingface/transformers/blob/main/src/transformers/models/gpt2/modeling_gpt2.py\n",
    "- https://github.com/huggingface/transformers/blob/main/src/transformers/generation/utils.py\n",
    "- https://github.com/huggingface/transformers/issues/6535"
   ]
  },
  {
   "cell_type": "markdown",
   "id": "a9485da5-3e40-42f1-873e-ccb244a74bc3",
   "metadata": {},
   "source": [
    "# Load musiccaps"
   ]
  },
  {
   "cell_type": "code",
   "execution_count": 1,
   "id": "07bb0885-c2da-43e2-8df4-468ee5f97594",
   "metadata": {},
   "outputs": [],
   "source": [
    "from musiccaps import load_musiccaps\n",
    "import numpy as np\n",
    "from rich import print as printr\n",
    "from torch.utils.data import DataLoader, Dataset, random_split\n",
    "import torch\n",
    "from tqdm.auto import tqdm, trange\n",
    "import matplotlib.pyplot as plt\n",
    "import itertools\n",
    "import math\n",
    "from rich import print as printr\n",
    "import torch.nn as nn\n",
    "from transformers import AutoModelForCausalLM, AutoTokenizer\n",
    "\n",
    "device = torch.device(\"cuda\" if torch.cuda.is_available() else \"cpu\")"
   ]
  },
  {
   "cell_type": "code",
   "execution_count": 2,
   "id": "f6684ae9-0e53-415d-8be8-a67f90f7030e",
   "metadata": {},
   "outputs": [],
   "source": [
    "def filter_muscaps_with_embeddings(ds, embeddings):\n",
    "    '''Some clips weren't downloaded so we couldn't embed them, get rid of that'''\n",
    "    exclude_ids = set()\n",
    "    for i in range(len(ds)):\n",
    "        if ds[i]['ytid'] not in embeddings.keys():\n",
    "            exclude_ids.add(i)\n",
    "    ds = ds.select(\n",
    "        (\n",
    "            i for i in range(len(ds)) \n",
    "            if i not in set(exclude_ids)\n",
    "        )\n",
    "    )\n",
    "    assert len(ds) == len(embeddings)\n",
    "    return ds"
   ]
  },
  {
   "cell_type": "code",
   "execution_count": 3,
   "id": "c8926e06-ef8c-40a7-8675-f4d1285d0afe",
   "metadata": {
    "tags": []
   },
   "outputs": [
    {
     "name": "stderr",
     "output_type": "stream",
     "text": [
      "Using custom data configuration google--MusicCaps-7925612b943f961b\n",
      "Found cached dataset csv (/home/dominik/.cache/huggingface/datasets/google___csv/google--MusicCaps-7925612b943f961b/0.0.0/6b34fb8fcf56f7c8ba51dc895bfa2bfbe43546f190a60fcf74bb5e8afdcc2317)\n"
     ]
    }
   ],
   "source": [
    "ds = load_musiccaps(\n",
    "    './music_data',\n",
    "    sampling_rate=16000,\n",
    "    limit=None,\n",
    "    num_proc=8,\n",
    "    writer_batch_size=1000,\n",
    "    return_without_audio=True\n",
    ")\n",
    "embeddings = np.load('embeddings.npy', allow_pickle=True).item()"
   ]
  },
  {
   "cell_type": "code",
   "execution_count": 4,
   "id": "15420704-a6bd-4315-b6b9-ba41fee54a67",
   "metadata": {},
   "outputs": [],
   "source": [
    "class CaptionEmbedding(Dataset):\n",
    "    '''Returns a torch Dataset of paired captions and embeddings'''\n",
    "    def __init__(self, muscaps_ds, embeddings):\n",
    "        ds = filter_muscaps_with_embeddings(muscaps_ds, embeddings)\n",
    "        self.captions = ds.sort(column='ytid')['caption']\n",
    "        sorted_embs = [value for _, value in sorted(embeddings.items())]\n",
    "        self.embeddings = torch.from_numpy(np.stack(sorted_embs)).to(device)\n",
    "\n",
    "    def __len__(self):\n",
    "        return len(self.captions)\n",
    "\n",
    "    def __getitem__(self, idx):\n",
    "        return self.captions[idx], self.embeddings[idx]"
   ]
  },
  {
   "cell_type": "code",
   "execution_count": 5,
   "id": "51464487-9c40-4dc5-8436-372b612e4d8a",
   "metadata": {},
   "outputs": [
    {
     "name": "stderr",
     "output_type": "stream",
     "text": [
      "Parameter 'indices'=<generator object filter_muscaps_with_embeddings.<locals>.<genexpr> at 0x7f6fbe8bd9e0> of the transform datasets.arrow_dataset.Dataset.select couldn't be hashed properly, a random hash was used instead. Make sure your transforms and parameters are serializable with pickle or dill for the dataset fingerprinting and caching to work. If you reuse this transform, the caching mechanism will consider it to be different from the previous calls and recompute everything. This warning is only showed once. Subsequent hashing failures won't be showed.\n"
     ]
    }
   ],
   "source": [
    "dataset = CaptionEmbedding(muscaps_ds=ds, embeddings=embeddings)\n",
    "train_frac = 0.8\n",
    "training_data, test_data = random_split(dataset, [train_frac, 1-train_frac])\n",
    "\n",
    "# quick check did not mess up ordering of caption-embedding pairs\n",
    "# for cap, emb in tqdm(dataset):\n",
    "#     for i in range(len(ds)):\n",
    "#         if cap == ds[i]['caption']:\n",
    "#             assert torch.allclose(emb,torch.from_numpy(embeddings[ds[i]['ytid']]).to(device))"
   ]
  },
  {
   "cell_type": "code",
   "execution_count": 6,
   "id": "8ce82080-8e03-45ae-8266-6e0f2af6843c",
   "metadata": {},
   "outputs": [
    {
     "data": {
      "text/plain": [
       "378"
      ]
     },
     "execution_count": 6,
     "metadata": {},
     "output_type": "execute_result"
    }
   ],
   "source": [
    "# get a list of music-related words to use for evaluation\n",
    "aspects = []\n",
    "for x in ds:\n",
    "    aspect_str = x['aspect_list']\n",
    "    for t in ('[]\"\\''):\n",
    "        aspect_str = aspect_str.replace(t, '')\n",
    "    aspects.extend(aspect_str.split(', '))\n",
    "    \n",
    "from collections import Counter\n",
    "# only pick aspects that show up somewhat frequently\n",
    "aspects = {s for s, count in Counter(aspects).most_common() if count >= 25}\n",
    "len(aspects)"
   ]
  },
  {
   "cell_type": "markdown",
   "id": "34fa3d9b-6745-43f7-91b4-1860ca8ae81b",
   "metadata": {},
   "source": [
    "# Training"
   ]
  },
  {
   "cell_type": "markdown",
   "id": "c55718f8-fe01-463a-99ef-ab3dc223ed3f",
   "metadata": {},
   "source": [
    "### Tokenization\n",
    "\n",
    "target should be:\n",
    "\n",
    "`\"<bos> <mask> caption <eos> <mask...>\"` (first element is dropped in transformer.forward)\n",
    "\n",
    "input should be:\n",
    "\n",
    "`\"<bos> <music-emb> caption <eos> <pad...>\"`\n",
    "\n",
    "where\n",
    "\n",
    "- `<bos>` = `<eos>` (for gpt2, see https://github.com/huggingface/transformers/issues/2026)\n",
    "- `<mask>` is -100 (masked in cross-entropy, see https://pytorch.org/docs/stable/generated/torch.nn.CrossEntropyLoss.html)\n",
    "- `<pad>` is arbitrary\n",
    "- `<music-emb>` is the encoded music"
   ]
  },
  {
   "cell_type": "code",
   "execution_count": 7,
   "id": "82925589-cbb3-4f35-9099-3eb29831a29e",
   "metadata": {},
   "outputs": [],
   "source": [
    "class B2T(nn.Module):\n",
    "    \n",
    "    def __init__(self):\n",
    "        super().__init__()\n",
    "        \n",
    "        self.main = nn.Sequential(\n",
    "            nn.Linear(512, 1024),\n",
    "            nn.ReLU(),\n",
    "            nn.Linear(1024, 768),\n",
    "            nn.ReLU(),\n",
    "            nn.Linear(768, 768),\n",
    "        )\n",
    "        \n",
    "    def forward(self, x):\n",
    "        return self.main(x)"
   ]
  },
  {
   "cell_type": "code",
   "execution_count": 8,
   "id": "f961a86b-0b65-48f1-827e-9eb053712537",
   "metadata": {},
   "outputs": [],
   "source": [
    "model_name = 'gpt2' # gpt2, gpt2-medium, gpt2-large, gpt2-xl\n",
    "model = AutoModelForCausalLM.from_pretrained(model_name).to(device)\n",
    "tokenizer = AutoTokenizer.from_pretrained(model_name)\n",
    "b2t = B2T().cuda()\n",
    "\n",
    "opt = torch.optim.AdamW([\n",
    "    {'params': b2t.parameters(), 'lr': 0.0002},\n",
    "    # disable AdamW weight decay for gpt2 layer finetuning!\n",
    "    {'params': model.parameters(), 'lr': 0, 'weight_decay': 0},\n",
    "    #{'params': model.transformer.h[1].attn.parameters(), 'lr': 0, 'weight_decay': 0},\n",
    "])\n",
    "\n",
    "batch_size = 32\n",
    "num_epochs = 5000\n",
    "\n",
    "losses = []\n",
    "train_dataloader = DataLoader(training_data, batch_size, shuffle=True)\n",
    "eval_train_dataloader = DataLoader(training_data, 1, shuffle=True)\n",
    "eval_test_dataloader = DataLoader(test_data, 1, shuffle=True)"
   ]
  },
  {
   "cell_type": "code",
   "execution_count": 9,
   "id": "33e0d47c-b1e4-4837-bc6b-5f9b20d84ccc",
   "metadata": {},
   "outputs": [],
   "source": [
    "mask_id = -100 # don't change, this is fixed in torch cross-entropy loss!\n",
    "eos_id = tokenizer.eos_token_id\n",
    "placeholder_id = -200\n",
    "\n",
    "def tokenize(captions_batch):\n",
    "    input_ids = tokenizer(captions_batch)['input_ids']\n",
    "    \n",
    "     # wrap in eos and add placeholder for music embedding/mask\n",
    "    input_ids = [torch.tensor([eos_id, placeholder_id] + x + [eos_id]) for x in input_ids]\n",
    "    # pad with -100, this index is masked in the cross-entropy loss\n",
    "    input_ids_target = torch.nn.utils.rnn.pad_sequence(\n",
    "        input_ids,\n",
    "        batch_first=True,\n",
    "        padding_value=mask_id\n",
    "    ).to(device)\n",
    "    \n",
    "    # index -100 isn't valid as model input however, since the token embedding lookup fails\n",
    "    # so we need a second version as model input, with -100 replaced with another token (shouldn't matter which)\n",
    "    input_ids = input_ids_target.clone()\n",
    "    input_ids[input_ids==mask_id] = eos_id\n",
    "    \n",
    "    return input_ids, input_ids_target"
   ]
  },
  {
   "cell_type": "code",
   "execution_count": 10,
   "id": "442e9e4a-b92d-47e3-a535-f47a25c8313b",
   "metadata": {},
   "outputs": [],
   "source": [
    "def transform_input_ids(music_embedding, input_ids, input_ids_target):\n",
    "    assert (input_ids[:, 1]==placeholder_id).all()\n",
    "    assert (input_ids_target[:, 1]==placeholder_id).all()\n",
    "\n",
    "    input_ids_target[:, 1] = mask_id\n",
    "    input_ids[:, 1] = eos_id # temp placeholder to make the embedding lookup work\n",
    "    inputs_embeds = model.transformer.wte(input_ids)\n",
    "    \n",
    "    music_embedding = b2t(music_embedding)\n",
    "    inputs_embeds[:, 1] = music_embedding\n",
    "    \n",
    "    return inputs_embeds, input_ids_target"
   ]
  },
  {
   "cell_type": "code",
   "execution_count": 11,
   "id": "f686686e-36ef-4c57-b9cd-0f26704c746a",
   "metadata": {},
   "outputs": [],
   "source": [
    "@torch.no_grad()\n",
    "def manual_generate_single(inputs_embeds, max_length, do_sample):\n",
    "    \"\"\" Autoregressively generate max_len tokens based on the embedded prompt. \"\"\"\n",
    "    result = []\n",
    "    log_probs = []\n",
    "\n",
    "    for i in range(max_length):\n",
    "        logits = model.forward(inputs_embeds=inputs_embeds).logits[:, -1]\n",
    "\n",
    "        distr = torch.distributions.Categorical(logits=logits)\n",
    "        token_inds = distr.sample() if do_sample else logits.argmax(-1)\n",
    "        log_probs.append(distr.log_prob(token_inds))\n",
    "        \n",
    "        result.append(token_inds)\n",
    "\n",
    "        inputs_embeds = torch.cat([\n",
    "            inputs_embeds,\n",
    "            model.transformer.wte(token_inds).unsqueeze(1)\n",
    "        ], dim=1)\n",
    "        \n",
    "    log_probs = torch.stack(log_probs, dim=1)\n",
    "    ppl = 2**(-(1/len(log_probs))*log_probs.sum(-1))\n",
    "        \n",
    "    return torch.stack(result, dim=1), ppl\n",
    "\n",
    "@torch.no_grad()\n",
    "def manual_generate(inputs_embeds, iters, max_length, do_sample):\n",
    "    \"\"\" Repeatedly generate samples using manual_generate_single and return the ones with the lowest perplexity. \"\"\"\n",
    "    preds = []\n",
    "    ppls = []\n",
    "    \n",
    "    for i in range(iters):\n",
    "        pred, ppl = manual_generate_single(inputs_embeds, max_length, do_sample)\n",
    "        preds.append(pred)\n",
    "        ppls.append(ppl)\n",
    "    \n",
    "    preds = torch.stack(preds)\n",
    "    ppls = torch.stack(ppls)\n",
    "    \n",
    "    max_ppl_inds = ppls.argmin(0)\n",
    "    best_preds = preds[max_ppl_inds, np.arange(preds.shape[1])]\n",
    "    \n",
    "    return best_preds, ppls.min(0)[0]"
   ]
  },
  {
   "cell_type": "code",
   "execution_count": 12,
   "id": "b0ee227b-a433-4158-a86e-30b39001594d",
   "metadata": {},
   "outputs": [],
   "source": [
    "def eval(caption_batch, embedding_batch, use_manual_generation=False, **kwargs):\n",
    "    model.eval()\n",
    "    input_ids, input_ids_target = tokenize(caption_batch)\n",
    "    inputs_embeds, input_ids_target = transform_input_ids(\n",
    "        embedding_batch,\n",
    "        input_ids,\n",
    "        input_ids_target\n",
    "    )\n",
    "    \n",
    "    if use_manual_generation:\n",
    "        output_ids, ppl = manual_generate(inputs_embeds, **kwargs)\n",
    "    else:\n",
    "        output_ids = model.generate(inputs_embeds=inputs_embeds, **kwargs)\n",
    "    pred = tokenizer.batch_decode(output_ids, skip_special_tokens=False)\n",
    "    \n",
    "    pred = [p.replace('\\n', '').strip() for p in pred]\n",
    "    return pred"
   ]
  },
  {
   "cell_type": "code",
   "execution_count": 13,
   "id": "893cec0b-8b31-4ae2-af1d-4615d7e1b194",
   "metadata": {},
   "outputs": [],
   "source": [
    "generation_params_hf = dict(\n",
    "    max_length=48,\n",
    "    num_beams=4,\n",
    "    do_sample=True,\n",
    "    temperature=0.95,\n",
    "    pad_token_id=tokenizer.eos_token_id,\n",
    "    use_manual_generation=False\n",
    ")\n",
    "\n",
    "generation_params_ours = dict(\n",
    "    max_length=48,\n",
    "    iters=4,\n",
    "    do_sample=True,\n",
    "    use_manual_generation=True\n",
    ")"
   ]
  },
  {
   "cell_type": "code",
   "execution_count": 15,
   "id": "12bb04ec-e6a7-4afd-afaa-c1e15df0ed5a",
   "metadata": {
    "tags": []
   },
   "outputs": [
    {
     "data": {
      "application/vnd.jupyter.widget-view+json": {
       "model_id": "6369030910fe43c284d02c6d31e9c7f1",
       "version_major": 2,
       "version_minor": 0
      },
      "text/plain": [
       "  0%|          | 0/5000 [00:00<?, ?it/s]"
      ]
     },
     "metadata": {},
     "output_type": "display_data"
    },
    {
     "data": {
      "application/vnd.jupyter.widget-view+json": {
       "model_id": "88f84905cabf47ad83932b441ffe1d53",
       "version_major": 2,
       "version_minor": 0
      },
      "text/plain": [
       "  0%|          | 0/138 [00:00<?, ?it/s]"
      ]
     },
     "metadata": {},
     "output_type": "display_data"
    },
    {
     "data": {
      "text/html": [
       "<pre style=\"white-space:pre;overflow-x:auto;line-height:normal;font-family:Menlo,'DejaVu Sans Mono',consolas,'Courier New',monospace\"><span style=\"color: #008000; text-decoration-color: #008000; font-weight: bold\">TRAIN TRUE: A flute is playing a loud melody in the higher register while someone is playing a rhythm on a tabla. </span>\n",
       "<span style=\"color: #008000; text-decoration-color: #008000; font-weight: bold\">Percussive tambourinelike instruments serve as percussive addition along with some single bell or chime hits. This </span>\n",
       "<span style=\"color: #008000; text-decoration-color: #008000; font-weight: bold\">is an amateur recording and it sounds like it was recorded in a big room due to a lot of reverb. This song may be </span>\n",
       "<span style=\"color: #008000; text-decoration-color: #008000; font-weight: bold\">played at a live concert with people sitting in chairs being comfortable.</span>\n",
       "</pre>\n"
      ],
      "text/plain": [
       "\u001b[1;32mTRAIN TRUE: A flute is playing a loud melody in the higher register while someone is playing a rhythm on a tabla. \u001b[0m\n",
       "\u001b[1;32mPercussive tambourinelike instruments serve as percussive addition along with some single bell or chime hits. This \u001b[0m\n",
       "\u001b[1;32mis an amateur recording and it sounds like it was recorded in a big room due to a lot of reverb. This song may be \u001b[0m\n",
       "\u001b[1;32mplayed at a live concert with people sitting in chairs being comfortable.\u001b[0m\n"
      ]
     },
     "metadata": {},
     "output_type": "display_data"
    },
    {
     "data": {
      "text/html": [
       "<pre style=\"white-space:pre;overflow-x:auto;line-height:normal;font-family:Menlo,'DejaVu Sans Mono',consolas,'Courier New',monospace\"><span style=\"color: #000080; text-decoration-color: #000080\">TRAIN PRED-A: </span><span style=\"color: #000080; text-decoration-color: #000080; font-weight: bold\">&lt;|endoftext|&gt;</span><span style=\"color: #000080; text-decoration-color: #000080\"> piece could be used in an outer concert.</span><span style=\"color: #000080; text-decoration-color: #000080; font-weight: bold\">&lt;|endoftext|&gt;</span>\n",
       "</pre>\n"
      ],
      "text/plain": [
       "\u001b[34mTRAIN PRED-A: \u001b[0m\u001b[1;34m<\u001b[0m\u001b[1;34m|endoftext|\u001b[0m\u001b[1;34m>\u001b[0m\u001b[34m piece could be used in an outer concert.\u001b[0m\u001b[1;34m<\u001b[0m\u001b[1;34m|endoftext|\u001b[0m\u001b[1;34m>\u001b[0m\n"
      ]
     },
     "metadata": {},
     "output_type": "display_data"
    },
    {
     "data": {
      "text/html": [
       "<pre style=\"white-space:pre;overflow-x:auto;line-height:normal;font-family:Menlo,'DejaVu Sans Mono',consolas,'Courier New',monospace\"><span style=\"color: #000080; text-decoration-color: #000080\">TRAIN PRED-B: piece could be used in this piece could be used in an outer concert.</span><span style=\"color: #000080; text-decoration-color: #000080; font-weight: bold\">&lt;|endoftext|&gt;</span><span style=\"color: #000080; text-decoration-color: #000080\"> piece could be used</span>\n",
       "<span style=\"color: #000080; text-decoration-color: #000080\">in this.</span><span style=\"color: #000080; text-decoration-color: #000080; font-weight: bold\">&lt;|endoftext|&gt;</span><span style=\"color: #000080; text-decoration-color: #000080\"> is live.</span><span style=\"color: #000080; text-decoration-color: #000080; font-weight: bold\">&lt;|endoftext|&gt;</span><span style=\"color: #000080; text-decoration-color: #000080\"> spinal movie. There could be played in the children </span>\n",
       "<span style=\"color: #000080; text-decoration-color: #000080\">performance.</span><span style=\"color: #000080; text-decoration-color: #000080; font-weight: bold\">&lt;|endoftext|&gt;</span><span style=\"color: #000080; text-decoration-color: #000080\">.</span><span style=\"color: #000080; text-decoration-color: #000080; font-weight: bold\">&lt;|endoftext|&gt;</span><span style=\"color: #000080; text-decoration-color: #000080\"> recording secrets would be used</span>\n",
       "</pre>\n"
      ],
      "text/plain": [
       "\u001b[34mTRAIN PRED-B: piece could be used in this piece could be used in an outer concert.\u001b[0m\u001b[1;34m<\u001b[0m\u001b[1;34m|endoftext|\u001b[0m\u001b[1;34m>\u001b[0m\u001b[34m piece could be used\u001b[0m\n",
       "\u001b[34min this.\u001b[0m\u001b[1;34m<\u001b[0m\u001b[1;34m|endoftext|\u001b[0m\u001b[1;34m>\u001b[0m\u001b[34m is live.\u001b[0m\u001b[1;34m<\u001b[0m\u001b[1;34m|endoftext|\u001b[0m\u001b[1;34m>\u001b[0m\u001b[34m spinal movie. There could be played in the children \u001b[0m\n",
       "\u001b[34mperformance.\u001b[0m\u001b[1;34m<\u001b[0m\u001b[1;34m|endoftext|\u001b[0m\u001b[1;34m>\u001b[0m\u001b[34m.\u001b[0m\u001b[1;34m<\u001b[0m\u001b[1;34m|endoftext|\u001b[0m\u001b[1;34m>\u001b[0m\u001b[34m recording secrets would be used\u001b[0m\n"
      ]
     },
     "metadata": {},
     "output_type": "display_data"
    },
    {
     "data": {
      "text/html": [
       "<pre style=\"white-space:pre;overflow-x:auto;line-height:normal;font-family:Menlo,'DejaVu Sans Mono',consolas,'Courier New',monospace\"><span style=\"color: #008000; text-decoration-color: #008000; font-weight: bold\">TEST TRUE: The low quality recording features a R&amp;B song playing on a speaker, judging by the reverberant and boomy</span>\n",
       "<span style=\"color: #008000; text-decoration-color: #008000; font-weight: bold\">sound of it. The song consists of passionate male vocal singing over shimmering hi hats, claps, groovy bass and </span><span style=\"color: #008000; text-decoration-color: #008000; font-weight: bold\">\"4 </span>\n",
       "<span style=\"color: #008000; text-decoration-color: #008000; font-weight: bold\">on the floor\"</span><span style=\"color: #008000; text-decoration-color: #008000; font-weight: bold\"> kick pattern, It sounds passionate, like something you would dance to with your partner.</span>\n",
       "</pre>\n"
      ],
      "text/plain": [
       "\u001b[1;32mTEST TRUE: The low quality recording features a R&B song playing on a speaker, judging by the reverberant and boomy\u001b[0m\n",
       "\u001b[1;32msound of it. The song consists of passionate male vocal singing over shimmering hi hats, claps, groovy bass and \u001b[0m\u001b[1;32m\"4 \u001b[0m\n",
       "\u001b[1;32mon the floor\"\u001b[0m\u001b[1;32m kick pattern, It sounds passionate, like something you would dance to with your partner.\u001b[0m\n"
      ]
     },
     "metadata": {},
     "output_type": "display_data"
    },
    {
     "data": {
      "text/html": [
       "<pre style=\"white-space:pre;overflow-x:auto;line-height:normal;font-family:Menlo,'DejaVu Sans Mono',consolas,'Courier New',monospace\"><span style=\"color: #000080; text-decoration-color: #000080\">TEST PRED-A: </span><span style=\"color: #000080; text-decoration-color: #000080; font-weight: bold\">&lt;|endoftext|&gt;</span><span style=\"color: #000080; text-decoration-color: #000080\"> piece could hear an advertisement performance.</span><span style=\"color: #000080; text-decoration-color: #000080; font-weight: bold\">&lt;|endoftext|&gt;</span>\n",
       "</pre>\n"
      ],
      "text/plain": [
       "\u001b[34mTEST PRED-A: \u001b[0m\u001b[1;34m<\u001b[0m\u001b[1;34m|endoftext|\u001b[0m\u001b[1;34m>\u001b[0m\u001b[34m piece could hear an advertisement performance.\u001b[0m\u001b[1;34m<\u001b[0m\u001b[1;34m|endoftext|\u001b[0m\u001b[1;34m>\u001b[0m\n"
      ]
     },
     "metadata": {},
     "output_type": "display_data"
    },
    {
     "data": {
      "text/html": [
       "<pre style=\"white-space:pre;overflow-x:auto;line-height:normal;font-family:Menlo,'DejaVu Sans Mono',consolas,'Courier New',monospace\"><span style=\"color: #000080; text-decoration-color: #000080\">TEST PRED-B: song.</span><span style=\"color: #000080; text-decoration-color: #000080; font-weight: bold\">&lt;|endoftext|&gt;</span><span style=\"color: #000080; text-decoration-color: #000080\"> song would be used in the recording is addictive song is passionate.</span><span style=\"color: #000080; text-decoration-color: #000080; font-weight: bold\">&lt;|endoftext|&gt;</span><span style=\"color: #000080; text-decoration-color: #000080\"> </span>\n",
       "<span style=\"color: #000080; text-decoration-color: #000080\">recording is kids feeling of the recording.</span><span style=\"color: #000080; text-decoration-color: #000080; font-weight: bold\">&lt;|endoftext|&gt;</span><span style=\"color: #000080; text-decoration-color: #000080\"> piece could be used in this piece could be probably </span>\n",
       "<span style=\"color: #000080; text-decoration-color: #000080\">recorded in people TV.</span><span style=\"color: #000080; text-decoration-color: #000080; font-weight: bold\">&lt;|endoftext|&gt;</span><span style=\"color: #000080; text-decoration-color: #000080\"> feeling.</span><span style=\"color: #000080; text-decoration-color: #000080; font-weight: bold\">&lt;|endoftext|&gt;</span><span style=\"color: #000080; text-decoration-color: #000080\"> recording.</span><span style=\"color: #000080; text-decoration-color: #000080; font-weight: bold\">&lt;|endoftext|&gt;</span>\n",
       "</pre>\n"
      ],
      "text/plain": [
       "\u001b[34mTEST PRED-B: song.\u001b[0m\u001b[1;34m<\u001b[0m\u001b[1;34m|endoftext|\u001b[0m\u001b[1;34m>\u001b[0m\u001b[34m song would be used in the recording is addictive song is passionate.\u001b[0m\u001b[1;34m<\u001b[0m\u001b[1;34m|endoftext|\u001b[0m\u001b[1;34m>\u001b[0m\u001b[34m \u001b[0m\n",
       "\u001b[34mrecording is kids feeling of the recording.\u001b[0m\u001b[1;34m<\u001b[0m\u001b[1;34m|endoftext|\u001b[0m\u001b[1;34m>\u001b[0m\u001b[34m piece could be used in this piece could be probably \u001b[0m\n",
       "\u001b[34mrecorded in people TV.\u001b[0m\u001b[1;34m<\u001b[0m\u001b[1;34m|endoftext|\u001b[0m\u001b[1;34m>\u001b[0m\u001b[34m feeling.\u001b[0m\u001b[1;34m<\u001b[0m\u001b[1;34m|endoftext|\u001b[0m\u001b[1;34m>\u001b[0m\u001b[34m recording.\u001b[0m\u001b[1;34m<\u001b[0m\u001b[1;34m|endoftext|\u001b[0m\u001b[1;34m>\u001b[0m\n"
      ]
     },
     "metadata": {},
     "output_type": "display_data"
    },
    {
     "name": "stdout",
     "output_type": "stream",
     "text": [
      "\n",
      "\n"
     ]
    },
    {
     "data": {
      "text/html": [
       "<pre style=\"white-space:pre;overflow-x:auto;line-height:normal;font-family:Menlo,'DejaVu Sans Mono',consolas,'Courier New',monospace\"><span style=\"color: #008000; text-decoration-color: #008000; font-weight: bold\">TRAIN TRUE: The low quality recording features a rock song that consists of wide electric guitar chords, punchy </span>\n",
       "<span style=\"color: #008000; text-decoration-color: #008000; font-weight: bold\">kick and snare, electric guitar slide, distorted bass guitar, aggressive drums cymbals and flat male vocals singing</span>\n",
       "<span style=\"color: #008000; text-decoration-color: #008000; font-weight: bold\">over it. It sounds energetic, but also harsh and messy thanks to those cymbals.</span>\n",
       "</pre>\n"
      ],
      "text/plain": [
       "\u001b[1;32mTRAIN TRUE: The low quality recording features a rock song that consists of wide electric guitar chords, punchy \u001b[0m\n",
       "\u001b[1;32mkick and snare, electric guitar slide, distorted bass guitar, aggressive drums cymbals and flat male vocals singing\u001b[0m\n",
       "\u001b[1;32mover it. It sounds energetic, but also harsh and messy thanks to those cymbals.\u001b[0m\n"
      ]
     },
     "metadata": {},
     "output_type": "display_data"
    },
    {
     "data": {
      "text/html": [
       "<pre style=\"white-space:pre;overflow-x:auto;line-height:normal;font-family:Menlo,'DejaVu Sans Mono',consolas,'Courier New',monospace\"><span style=\"color: #000080; text-decoration-color: #000080\">TRAIN PRED-A: </span><span style=\"color: #000080; text-decoration-color: #000080; font-weight: bold\">&lt;|endoftext|&gt;</span><span style=\"color: #000080; text-decoration-color: #000080\"> song is relaxing.</span><span style=\"color: #000080; text-decoration-color: #000080; font-weight: bold\">&lt;|endoftext|&gt;</span>\n",
       "</pre>\n"
      ],
      "text/plain": [
       "\u001b[34mTRAIN PRED-A: \u001b[0m\u001b[1;34m<\u001b[0m\u001b[1;34m|endoftext|\u001b[0m\u001b[1;34m>\u001b[0m\u001b[34m song is relaxing.\u001b[0m\u001b[1;34m<\u001b[0m\u001b[1;34m|endoftext|\u001b[0m\u001b[1;34m>\u001b[0m\n"
      ]
     },
     "metadata": {},
     "output_type": "display_data"
    },
    {
     "data": {
      "text/html": [
       "<pre style=\"white-space:pre;overflow-x:auto;line-height:normal;font-family:Menlo,'DejaVu Sans Mono',consolas,'Courier New',monospace\"><span style=\"color: #000080; text-decoration-color: #000080\">TRAIN PRED-B: song is followed from a phr unle or legs because as if more because because as a middle only have </span>\n",
       "<span style=\"color: #000080; text-decoration-color: #000080\">learning veryomatic or from it was recognizable as people talking as because as as'sjoined have through's'sway from</span>\n",
       "<span style=\"color: #000080; text-decoration-color: #000080\">hear from flow or have</span>\n",
       "</pre>\n"
      ],
      "text/plain": [
       "\u001b[34mTRAIN PRED-B: song is followed from a phr unle or legs because as if more because because as a middle only have \u001b[0m\n",
       "\u001b[34mlearning veryomatic or from it was recognizable as people talking as because as as'sjoined have through's'sway from\u001b[0m\n",
       "\u001b[34mhear from flow or have\u001b[0m\n"
      ]
     },
     "metadata": {},
     "output_type": "display_data"
    },
    {
     "data": {
      "text/html": [
       "<pre style=\"white-space:pre;overflow-x:auto;line-height:normal;font-family:Menlo,'DejaVu Sans Mono',consolas,'Courier New',monospace\"><span style=\"color: #008000; text-decoration-color: #008000; font-weight: bold\">TEST TRUE: Two e-guitars playing a melody. An electric bass is playing the rootnotes. They run through a </span>\n",
       "<span style=\"color: #008000; text-decoration-color: #008000; font-weight: bold\">chorus/vibrato effect.  This song may be playing at home building a song with a loopstation.</span>\n",
       "</pre>\n"
      ],
      "text/plain": [
       "\u001b[1;32mTEST TRUE: Two e-guitars playing a melody. An electric bass is playing the rootnotes. They run through a \u001b[0m\n",
       "\u001b[1;32mchorus/vibrato effect.  This song may be playing at home building a song with a loopstation.\u001b[0m\n"
      ]
     },
     "metadata": {},
     "output_type": "display_data"
    },
    {
     "data": {
      "text/html": [
       "<pre style=\"white-space:pre;overflow-x:auto;line-height:normal;font-family:Menlo,'DejaVu Sans Mono',consolas,'Courier New',monospace\"><span style=\"color: #000080; text-decoration-color: #000080\">TEST PRED-A: </span><span style=\"color: #000080; text-decoration-color: #000080; font-weight: bold\">&lt;|endoftext|&gt;</span><span style=\"color: #000080; text-decoration-color: #000080\"> song.</span><span style=\"color: #000080; text-decoration-color: #000080; font-weight: bold\">&lt;|endoftext|&gt;</span>\n",
       "</pre>\n"
      ],
      "text/plain": [
       "\u001b[34mTEST PRED-A: \u001b[0m\u001b[1;34m<\u001b[0m\u001b[1;34m|endoftext|\u001b[0m\u001b[1;34m>\u001b[0m\u001b[34m song.\u001b[0m\u001b[1;34m<\u001b[0m\u001b[1;34m|endoftext|\u001b[0m\u001b[1;34m>\u001b[0m\n"
      ]
     },
     "metadata": {},
     "output_type": "display_data"
    },
    {
     "data": {
      "text/html": [
       "<pre style=\"white-space:pre;overflow-x:auto;line-height:normal;font-family:Menlo,'DejaVu Sans Mono',consolas,'Courier New',monospace\"><span style=\"color: #000080; text-decoration-color: #000080\">TEST PRED-B: song. There track made through from576 far throat or more patterns, an electronic drums good genres or</span>\n",
       "<span style=\"color: #000080; text-decoration-color: #000080\">from a uplifting composition having goofy movie.</span><span style=\"color: #000080; text-decoration-color: #000080; font-weight: bold\">&lt;|endoftext|&gt;</span><span style=\"color: #000080; text-decoration-color: #000080\"> music especially.</span><span style=\"color: #000080; text-decoration-color: #000080; font-weight: bold\">&lt;|endoftext|&gt;</span><span style=\"color: #000080; text-decoration-color: #000080\"> general piece has </span>\n",
       "<span style=\"color: #000080; text-decoration-color: #000080\">similar original as use in this music during the background.</span>\n",
       "</pre>\n"
      ],
      "text/plain": [
       "\u001b[34mTEST PRED-B: song. There track made through from576 far throat or more patterns, an electronic drums good genres or\u001b[0m\n",
       "\u001b[34mfrom a uplifting composition having goofy movie.\u001b[0m\u001b[1;34m<\u001b[0m\u001b[1;34m|endoftext|\u001b[0m\u001b[1;34m>\u001b[0m\u001b[34m music especially.\u001b[0m\u001b[1;34m<\u001b[0m\u001b[1;34m|endoftext|\u001b[0m\u001b[1;34m>\u001b[0m\u001b[34m general piece has \u001b[0m\n",
       "\u001b[34msimilar original as use in this music during the background.\u001b[0m\n"
      ]
     },
     "metadata": {},
     "output_type": "display_data"
    },
    {
     "name": "stdout",
     "output_type": "stream",
     "text": [
      "\n",
      "\n"
     ]
    },
    {
     "data": {
      "application/vnd.jupyter.widget-view+json": {
       "model_id": "b928e6aba5ba40c1aebbb4f47155a91e",
       "version_major": 2,
       "version_minor": 0
      },
      "text/plain": [
       "  0%|          | 0/138 [00:00<?, ?it/s]"
      ]
     },
     "metadata": {},
     "output_type": "display_data"
    },
    {
     "data": {
      "text/html": [
       "<pre style=\"white-space:pre;overflow-x:auto;line-height:normal;font-family:Menlo,'DejaVu Sans Mono',consolas,'Courier New',monospace\"><span style=\"color: #008000; text-decoration-color: #008000; font-weight: bold\">TRAIN TRUE: This audio contains a lot of people playing a complex snare roll groove in synchronicity along with </span>\n",
       "<span style=\"color: #008000; text-decoration-color: #008000; font-weight: bold\">people playing bass drums. The bass drums are overloading the speakers of the recording. This composition may be </span>\n",
       "<span style=\"color: #008000; text-decoration-color: #008000; font-weight: bold\">playing for an army celebration.</span>\n",
       "</pre>\n"
      ],
      "text/plain": [
       "\u001b[1;32mTRAIN TRUE: This audio contains a lot of people playing a complex snare roll groove in synchronicity along with \u001b[0m\n",
       "\u001b[1;32mpeople playing bass drums. The bass drums are overloading the speakers of the recording. This composition may be \u001b[0m\n",
       "\u001b[1;32mplaying for an army celebration.\u001b[0m\n"
      ]
     },
     "metadata": {},
     "output_type": "display_data"
    },
    {
     "data": {
      "text/html": [
       "<pre style=\"white-space:pre;overflow-x:auto;line-height:normal;font-family:Menlo,'DejaVu Sans Mono',consolas,'Courier New',monospace\"><span style=\"color: #000080; text-decoration-color: #000080\">TRAIN PRED-A: </span><span style=\"color: #000080; text-decoration-color: #000080; font-weight: bold\">&lt;|endoftext|&gt;</span><span style=\"color: #000080; text-decoration-color: #000080\"> has a set from an important or from a or a character or from a character has a </span>\n",
       "<span style=\"color: #000080; text-decoration-color: #000080\">concert.</span><span style=\"color: #000080; text-decoration-color: #000080; font-weight: bold\">&lt;|endoftext|&gt;</span>\n",
       "</pre>\n"
      ],
      "text/plain": [
       "\u001b[34mTRAIN PRED-A: \u001b[0m\u001b[1;34m<\u001b[0m\u001b[1;34m|endoftext|\u001b[0m\u001b[1;34m>\u001b[0m\u001b[34m has a set from an important or from a or a character or from a character has a \u001b[0m\n",
       "\u001b[34mconcert.\u001b[0m\u001b[1;34m<\u001b[0m\u001b[1;34m|endoftext|\u001b[0m\u001b[1;34m>\u001b[0m\n"
      ]
     },
     "metadata": {},
     "output_type": "display_data"
    },
    {
     "data": {
      "text/html": [
       "<pre style=\"white-space:pre;overflow-x:auto;line-height:normal;font-family:Menlo,'DejaVu Sans Mono',consolas,'Courier New',monospace\"><span style=\"color: #000080; text-decoration-color: #000080\">TRAIN PRED-B: and if\". Some found surrounded or as having character or treated with three as similar heavy or has </span>\n",
       "<span style=\"color: #000080; text-decoration-color: #000080\">slow-hop rhythms or set althoughcr from a covered slower socore because instead position from a set or actually </span>\n",
       "<span style=\"color: #000080; text-decoration-color: #000080\">they he difficult from out fromheight</span>\n",
       "</pre>\n"
      ],
      "text/plain": [
       "\u001b[34mTRAIN PRED-B: and if\". Some found surrounded or as having character or treated with three as similar heavy or has \u001b[0m\n",
       "\u001b[34mslow-hop rhythms or set althoughcr from a covered slower socore because instead position from a set or actually \u001b[0m\n",
       "\u001b[34mthey he difficult from out fromheight\u001b[0m\n"
      ]
     },
     "metadata": {},
     "output_type": "display_data"
    },
    {
     "data": {
      "text/html": [
       "<pre style=\"white-space:pre;overflow-x:auto;line-height:normal;font-family:Menlo,'DejaVu Sans Mono',consolas,'Courier New',monospace\"><span style=\"color: #008000; text-decoration-color: #008000; font-weight: bold\">TEST TRUE: This clip is a meditative and calming track. The leading instrument is a flute, which is played </span>\n",
       "<span style=\"color: #008000; text-decoration-color: #008000; font-weight: bold\">intricately and dynamically. In support, is a piano, on which arpeggios are played. The track would be suitable as </span>\n",
       "<span style=\"color: #008000; text-decoration-color: #008000; font-weight: bold\">music for relaxation at a spa.</span>\n",
       "</pre>\n"
      ],
      "text/plain": [
       "\u001b[1;32mTEST TRUE: This clip is a meditative and calming track. The leading instrument is a flute, which is played \u001b[0m\n",
       "\u001b[1;32mintricately and dynamically. In support, is a piano, on which arpeggios are played. The track would be suitable as \u001b[0m\n",
       "\u001b[1;32mmusic for relaxation at a spa.\u001b[0m\n"
      ]
     },
     "metadata": {},
     "output_type": "display_data"
    },
    {
     "data": {
      "text/html": [
       "<pre style=\"white-space:pre;overflow-x:auto;line-height:normal;font-family:Menlo,'DejaVu Sans Mono',consolas,'Courier New',monospace\"><span style=\"color: #000080; text-decoration-color: #000080\">TEST PRED-A: </span><span style=\"color: #000080; text-decoration-color: #000080; font-weight: bold\">&lt;|endoftext|&gt;</span><span style=\"color: #000080; text-decoration-color: #000080\">.</span><span style=\"color: #000080; text-decoration-color: #000080; font-weight: bold\">&lt;|endoftext|&gt;</span>\n",
       "</pre>\n"
      ],
      "text/plain": [
       "\u001b[34mTEST PRED-A: \u001b[0m\u001b[1;34m<\u001b[0m\u001b[1;34m|endoftext|\u001b[0m\u001b[1;34m>\u001b[0m\u001b[34m.\u001b[0m\u001b[1;34m<\u001b[0m\u001b[1;34m|endoftext|\u001b[0m\u001b[1;34m>\u001b[0m\n"
      ]
     },
     "metadata": {},
     "output_type": "display_data"
    },
    {
     "data": {
      "text/html": [
       "<pre style=\"white-space:pre;overflow-x:auto;line-height:normal;font-family:Menlo,'DejaVu Sans Mono',consolas,'Courier New',monospace\"><span style=\"color: #000080; text-decoration-color: #000080\">TEST PRED-B: . rings's adult from an electronic like a crime or bridge from confused around more from's approx </span>\n",
       "<span style=\"color: #000080; text-decoration-color: #000080\">speed inter works or movements from editing or longer orney music or vibration as genres F influenced or sol angle </span>\n",
       "<span style=\"color: #000080; text-decoration-color: #000080\">or match from as again she advertised or</span>\n",
       "</pre>\n"
      ],
      "text/plain": [
       "\u001b[34mTEST PRED-B: . rings's adult from an electronic like a crime or bridge from confused around more from's approx \u001b[0m\n",
       "\u001b[34mspeed inter works or movements from editing or longer orney music or vibration as genres F influenced or sol angle \u001b[0m\n",
       "\u001b[34mor match from as again she advertised or\u001b[0m\n"
      ]
     },
     "metadata": {},
     "output_type": "display_data"
    },
    {
     "name": "stdout",
     "output_type": "stream",
     "text": [
      "\n",
      "\n"
     ]
    },
    {
     "data": {
      "text/html": [
       "<pre style=\"white-space:pre;overflow-x:auto;line-height:normal;font-family:Menlo,'DejaVu Sans Mono',consolas,'Courier New',monospace\"><span style=\"color: #008000; text-decoration-color: #008000; font-weight: bold\">TRAIN TRUE: The low quality recording features a saxophone solo melody being played. It sounds passionate, soulful </span>\n",
       "<span style=\"color: #008000; text-decoration-color: #008000; font-weight: bold\">and the recording is noisy and in mono.</span>\n",
       "</pre>\n"
      ],
      "text/plain": [
       "\u001b[1;32mTRAIN TRUE: The low quality recording features a saxophone solo melody being played. It sounds passionate, soulful \u001b[0m\n",
       "\u001b[1;32mand the recording is noisy and in mono.\u001b[0m\n"
      ]
     },
     "metadata": {},
     "output_type": "display_data"
    },
    {
     "data": {
      "text/html": [
       "<pre style=\"white-space:pre;overflow-x:auto;line-height:normal;font-family:Menlo,'DejaVu Sans Mono',consolas,'Courier New',monospace\"><span style=\"color: #000080; text-decoration-color: #000080\">TRAIN PRED-A: </span><span style=\"color: #000080; text-decoration-color: #000080; font-weight: bold\">&lt;|endoftext|&gt;</span><span style=\"color: #000080; text-decoration-color: #000080\"> song is played in the background.</span><span style=\"color: #000080; text-decoration-color: #000080; font-weight: bold\">&lt;|endoftext|&gt;</span>\n",
       "</pre>\n"
      ],
      "text/plain": [
       "\u001b[34mTRAIN PRED-A: \u001b[0m\u001b[1;34m<\u001b[0m\u001b[1;34m|endoftext|\u001b[0m\u001b[1;34m>\u001b[0m\u001b[34m song is played in the background.\u001b[0m\u001b[1;34m<\u001b[0m\u001b[1;34m|endoftext|\u001b[0m\u001b[1;34m>\u001b[0m\n"
      ]
     },
     "metadata": {},
     "output_type": "display_data"
    },
    {
     "data": {
      "text/html": [
       "<pre style=\"white-space:pre;overflow-x:auto;line-height:normal;font-family:Menlo,'DejaVu Sans Mono',consolas,'Courier New',monospace\"><span style=\"color: #000080; text-decoration-color: #000080\">TRAIN PRED-B: song would be used in in the background. This music is epic, nostalgic.</span><span style=\"color: #000080; text-decoration-color: #000080; font-weight: bold\">&lt;|endoftext|&gt;</span><span style=\"color: #000080; text-decoration-color: #000080\"> song could be </span>\n",
       "<span style=\"color: #000080; text-decoration-color: #000080\">used in the background in the speaker.</span><span style=\"color: #000080; text-decoration-color: #000080; font-weight: bold\">&lt;|endoftext|&gt;</span><span style=\"color: #000080; text-decoration-color: #000080\"> basic place in in the background, relaxing, slow rock dance </span>\n",
       "<span style=\"color: #000080; text-decoration-color: #000080\">using the solo.</span><span style=\"color: #000080; text-decoration-color: #000080; font-weight: bold\">&lt;|endoftext|&gt;</span><span style=\"color: #000080; text-decoration-color: #000080\"> song can</span>\n",
       "</pre>\n"
      ],
      "text/plain": [
       "\u001b[34mTRAIN PRED-B: song would be used in in the background. This music is epic, nostalgic.\u001b[0m\u001b[1;34m<\u001b[0m\u001b[1;34m|endoftext|\u001b[0m\u001b[1;34m>\u001b[0m\u001b[34m song could be \u001b[0m\n",
       "\u001b[34mused in the background in the speaker.\u001b[0m\u001b[1;34m<\u001b[0m\u001b[1;34m|endoftext|\u001b[0m\u001b[1;34m>\u001b[0m\u001b[34m basic place in in the background, relaxing, slow rock dance \u001b[0m\n",
       "\u001b[34musing the solo.\u001b[0m\u001b[1;34m<\u001b[0m\u001b[1;34m|endoftext|\u001b[0m\u001b[1;34m>\u001b[0m\u001b[34m song can\u001b[0m\n"
      ]
     },
     "metadata": {},
     "output_type": "display_data"
    },
    {
     "data": {
      "text/html": [
       "<pre style=\"white-space:pre;overflow-x:auto;line-height:normal;font-family:Menlo,'DejaVu Sans Mono',consolas,'Courier New',monospace\"><span style=\"color: #008000; text-decoration-color: #008000; font-weight: bold\">TEST TRUE: Someone is playing a shofar in a high frequency blowing overtones in the higher register before dropping</span>\n",
       "<span style=\"color: #008000; text-decoration-color: #008000; font-weight: bold\">into the high-mid range. At the end you can hear a backing track playing. This song may be playing at home while </span>\n",
       "<span style=\"color: #008000; text-decoration-color: #008000; font-weight: bold\">enjoying your instrument.</span>\n",
       "</pre>\n"
      ],
      "text/plain": [
       "\u001b[1;32mTEST TRUE: Someone is playing a shofar in a high frequency blowing overtones in the higher register before dropping\u001b[0m\n",
       "\u001b[1;32minto the high-mid range. At the end you can hear a backing track playing. This song may be playing at home while \u001b[0m\n",
       "\u001b[1;32menjoying your instrument.\u001b[0m\n"
      ]
     },
     "metadata": {},
     "output_type": "display_data"
    },
    {
     "data": {
      "text/html": [
       "<pre style=\"white-space:pre;overflow-x:auto;line-height:normal;font-family:Menlo,'DejaVu Sans Mono',consolas,'Courier New',monospace\"><span style=\"color: #000080; text-decoration-color: #000080\">TEST PRED-A: </span><span style=\"color: #000080; text-decoration-color: #000080; font-weight: bold\">&lt;|endoftext|&gt;</span><span style=\"color: #000080; text-decoration-color: #000080\"> music is played in the background. The music is be used in the background.</span><span style=\"color: #000080; text-decoration-color: #000080; font-weight: bold\">&lt;|endoftext|&gt;</span>\n",
       "</pre>\n"
      ],
      "text/plain": [
       "\u001b[34mTEST PRED-A: \u001b[0m\u001b[1;34m<\u001b[0m\u001b[1;34m|endoftext|\u001b[0m\u001b[1;34m>\u001b[0m\u001b[34m music is played in the background. The music is be used in the background.\u001b[0m\u001b[1;34m<\u001b[0m\u001b[1;34m|endoftext|\u001b[0m\u001b[1;34m>\u001b[0m\n"
      ]
     },
     "metadata": {},
     "output_type": "display_data"
    },
    {
     "data": {
      "text/html": [
       "<pre style=\"white-space:pre;overflow-x:auto;line-height:normal;font-family:Menlo,'DejaVu Sans Mono',consolas,'Courier New',monospace\"><span style=\"color: #000080; text-decoration-color: #000080\">TEST PRED-B: music piece could be used in a meditation video of devotional themed themed themed movie. There are </span>\n",
       "<span style=\"color: #000080; text-decoration-color: #000080\">doubre. The atmosphere.</span><span style=\"color: #000080; text-decoration-color: #000080; font-weight: bold\">&lt;|endoftext|&gt;</span><span style=\"color: #000080; text-decoration-color: #000080\"> song is experiencing like place. The music. It is energetic in the </span>\n",
       "<span style=\"color: #000080; text-decoration-color: #000080\">backgroundising during a movie.</span><span style=\"color: #000080; text-decoration-color: #000080; font-weight: bold\">&lt;|endoftext|&gt;</span><span style=\"color: #000080; text-decoration-color: #000080\"> music</span>\n",
       "</pre>\n"
      ],
      "text/plain": [
       "\u001b[34mTEST PRED-B: music piece could be used in a meditation video of devotional themed themed themed movie. There are \u001b[0m\n",
       "\u001b[34mdoubre. The atmosphere.\u001b[0m\u001b[1;34m<\u001b[0m\u001b[1;34m|endoftext|\u001b[0m\u001b[1;34m>\u001b[0m\u001b[34m song is experiencing like place. The music. It is energetic in the \u001b[0m\n",
       "\u001b[34mbackgroundising during a movie.\u001b[0m\u001b[1;34m<\u001b[0m\u001b[1;34m|endoftext|\u001b[0m\u001b[1;34m>\u001b[0m\u001b[34m music\u001b[0m\n"
      ]
     },
     "metadata": {},
     "output_type": "display_data"
    },
    {
     "name": "stdout",
     "output_type": "stream",
     "text": [
      "\n",
      "\n"
     ]
    },
    {
     "data": {
      "application/vnd.jupyter.widget-view+json": {
       "model_id": "25178b097b96416ab7a106a56df1de04",
       "version_major": 2,
       "version_minor": 0
      },
      "text/plain": [
       "  0%|          | 0/138 [00:00<?, ?it/s]"
      ]
     },
     "metadata": {},
     "output_type": "display_data"
    },
    {
     "data": {
      "text/html": [
       "<pre style=\"white-space:pre;overflow-x:auto;line-height:normal;font-family:Menlo,'DejaVu Sans Mono',consolas,'Courier New',monospace\"><span style=\"color: #008000; text-decoration-color: #008000; font-weight: bold\">TRAIN TRUE: This song contains electronic drums that sound overdriven with an aggressive kick and clap sounds as </span>\n",
       "<span style=\"color: #008000; text-decoration-color: #008000; font-weight: bold\">snare. A male choir sample is singing a chord melody with breaks in-between. The whole thing sounds urban and epic </span>\n",
       "<span style=\"color: #008000; text-decoration-color: #008000; font-weight: bold\">as if something heroic is happening.</span>\n",
       "</pre>\n"
      ],
      "text/plain": [
       "\u001b[1;32mTRAIN TRUE: This song contains electronic drums that sound overdriven with an aggressive kick and clap sounds as \u001b[0m\n",
       "\u001b[1;32msnare. A male choir sample is singing a chord melody with breaks in-between. The whole thing sounds urban and epic \u001b[0m\n",
       "\u001b[1;32mas if something heroic is happening.\u001b[0m\n"
      ]
     },
     "metadata": {},
     "output_type": "display_data"
    },
    {
     "data": {
      "text/html": [
       "<pre style=\"white-space:pre;overflow-x:auto;line-height:normal;font-family:Menlo,'DejaVu Sans Mono',consolas,'Courier New',monospace\"><span style=\"color: #000080; text-decoration-color: #000080\">TRAIN PRED-A: </span><span style=\"color: #000080; text-decoration-color: #000080; font-weight: bold\">&lt;|endoftext|&gt;</span><span style=\"color: #000080; text-decoration-color: #000080\"> song would be used in the background.</span><span style=\"color: #000080; text-decoration-color: #000080; font-weight: bold\">&lt;|endoftext|&gt;</span>\n",
       "</pre>\n"
      ],
      "text/plain": [
       "\u001b[34mTRAIN PRED-A: \u001b[0m\u001b[1;34m<\u001b[0m\u001b[1;34m|endoftext|\u001b[0m\u001b[1;34m>\u001b[0m\u001b[34m song would be used in the background.\u001b[0m\u001b[1;34m<\u001b[0m\u001b[1;34m|endoftext|\u001b[0m\u001b[1;34m>\u001b[0m\n"
      ]
     },
     "metadata": {},
     "output_type": "display_data"
    },
    {
     "data": {
      "text/html": [
       "<pre style=\"white-space:pre;overflow-x:auto;line-height:normal;font-family:Menlo,'DejaVu Sans Mono',consolas,'Courier New',monospace\"><span style=\"color: #000080; text-decoration-color: #000080\">TRAIN PRED-B: song would be used in The song would be used in happy song would be played in the DJ with religious </span>\n",
       "<span style=\"color: #000080; text-decoration-color: #000080\">especially with rebellious. It could be used in</span><span style=\"color: #000080; text-decoration-color: #000080; font-weight: bold\">&lt;|endoftext|&gt;</span><span style=\"color: #000080; text-decoration-color: #000080\"> song could be played in rock dance dance dance </span>\n",
       "<span style=\"color: #000080; text-decoration-color: #000080\">course.</span><span style=\"color: #000080; text-decoration-color: #000080; font-weight: bold\">&lt;|endoftext|&gt;</span><span style=\"color: #000080; text-decoration-color: #000080\"> would be played in dance</span>\n",
       "</pre>\n"
      ],
      "text/plain": [
       "\u001b[34mTRAIN PRED-B: song would be used in The song would be used in happy song would be played in the DJ with religious \u001b[0m\n",
       "\u001b[34mespecially with rebellious. It could be used in\u001b[0m\u001b[1;34m<\u001b[0m\u001b[1;34m|endoftext|\u001b[0m\u001b[1;34m>\u001b[0m\u001b[34m song could be played in rock dance dance dance \u001b[0m\n",
       "\u001b[34mcourse.\u001b[0m\u001b[1;34m<\u001b[0m\u001b[1;34m|endoftext|\u001b[0m\u001b[1;34m>\u001b[0m\u001b[34m would be played in dance\u001b[0m\n"
      ]
     },
     "metadata": {},
     "output_type": "display_data"
    },
    {
     "data": {
      "text/html": [
       "<pre style=\"white-space:pre;overflow-x:auto;line-height:normal;font-family:Menlo,'DejaVu Sans Mono',consolas,'Courier New',monospace\"><span style=\"color: #008000; text-decoration-color: #008000; font-weight: bold\">TEST TRUE: This is a pop music piece with 80s characteristics. There is a female vocalist in the lead singing </span>\n",
       "<span style=\"color: #008000; text-decoration-color: #008000; font-weight: bold\">melodically. The main theme is played by a keyboard and an electric guitar at the same time in the major scale. </span>\n",
       "<span style=\"color: #008000; text-decoration-color: #008000; font-weight: bold\">There is a bass guitar and a medium-to-high range pad in the background. The rhythmic background is provided by a </span>\n",
       "<span style=\"color: #008000; text-decoration-color: #008000; font-weight: bold\">loud but simple acoustic drum beat. There is a maximalist, vibrant and energetic atmosphere. This piece could be </span>\n",
       "<span style=\"color: #008000; text-decoration-color: #008000; font-weight: bold\">used in the soundtrack of a romance movie. It could also fit very nicely as the soundtrack of an anime.</span>\n",
       "</pre>\n"
      ],
      "text/plain": [
       "\u001b[1;32mTEST TRUE: This is a pop music piece with 80s characteristics. There is a female vocalist in the lead singing \u001b[0m\n",
       "\u001b[1;32mmelodically. The main theme is played by a keyboard and an electric guitar at the same time in the major scale. \u001b[0m\n",
       "\u001b[1;32mThere is a bass guitar and a medium-to-high range pad in the background. The rhythmic background is provided by a \u001b[0m\n",
       "\u001b[1;32mloud but simple acoustic drum beat. There is a maximalist, vibrant and energetic atmosphere. This piece could be \u001b[0m\n",
       "\u001b[1;32mused in the soundtrack of a romance movie. It could also fit very nicely as the soundtrack of an anime.\u001b[0m\n"
      ]
     },
     "metadata": {},
     "output_type": "display_data"
    },
    {
     "data": {
      "text/html": [
       "<pre style=\"white-space:pre;overflow-x:auto;line-height:normal;font-family:Menlo,'DejaVu Sans Mono',consolas,'Courier New',monospace\"><span style=\"color: #000080; text-decoration-color: #000080\">TEST PRED-A: </span><span style=\"color: #000080; text-decoration-color: #000080; font-weight: bold\">&lt;|endoftext|&gt;</span><span style=\"color: #000080; text-decoration-color: #000080\"> music.</span><span style=\"color: #000080; text-decoration-color: #000080; font-weight: bold\">&lt;|endoftext|&gt;</span>\n",
       "</pre>\n"
      ],
      "text/plain": [
       "\u001b[34mTEST PRED-A: \u001b[0m\u001b[1;34m<\u001b[0m\u001b[1;34m|endoftext|\u001b[0m\u001b[1;34m>\u001b[0m\u001b[34m music.\u001b[0m\u001b[1;34m<\u001b[0m\u001b[1;34m|endoftext|\u001b[0m\u001b[1;34m>\u001b[0m\n"
      ]
     },
     "metadata": {},
     "output_type": "display_data"
    },
    {
     "data": {
      "text/html": [
       "<pre style=\"white-space:pre;overflow-x:auto;line-height:normal;font-family:Menlo,'DejaVu Sans Mono',consolas,'Courier New',monospace\"><span style=\"color: #000080; text-decoration-color: #000080\">TEST PRED-B: music music.</span><span style=\"color: #000080; text-decoration-color: #000080; font-weight: bold\">&lt;|endoftext|&gt;</span><span style=\"color: #000080; text-decoration-color: #000080\"> piece could of the religious events.</span><span style=\"color: #000080; text-decoration-color: #000080; font-weight: bold\">&lt;|endoftext|&gt;</span><span style=\"color: #000080; text-decoration-color: #000080\"> of a strong </span>\n",
       "<span style=\"color: #000080; text-decoration-color: #000080\">movie.</span><span style=\"color: #000080; text-decoration-color: #000080; font-weight: bold\">&lt;|endoftext|&gt;</span><span style=\"color: #000080; text-decoration-color: #000080\"> song This is relaxing. There would be played place played in Country is music of The music in a</span>\n",
       "<span style=\"color: #000080; text-decoration-color: #000080\">movie.</span><span style=\"color: #000080; text-decoration-color: #000080; font-weight: bold\">&lt;|endoftext|&gt;</span><span style=\"color: #000080; text-decoration-color: #000080\"> song could be played in a dance</span>\n",
       "</pre>\n"
      ],
      "text/plain": [
       "\u001b[34mTEST PRED-B: music music.\u001b[0m\u001b[1;34m<\u001b[0m\u001b[1;34m|endoftext|\u001b[0m\u001b[1;34m>\u001b[0m\u001b[34m piece could of the religious events.\u001b[0m\u001b[1;34m<\u001b[0m\u001b[1;34m|endoftext|\u001b[0m\u001b[1;34m>\u001b[0m\u001b[34m of a strong \u001b[0m\n",
       "\u001b[34mmovie.\u001b[0m\u001b[1;34m<\u001b[0m\u001b[1;34m|endoftext|\u001b[0m\u001b[1;34m>\u001b[0m\u001b[34m song This is relaxing. There would be played place played in Country is music of The music in a\u001b[0m\n",
       "\u001b[34mmovie.\u001b[0m\u001b[1;34m<\u001b[0m\u001b[1;34m|endoftext|\u001b[0m\u001b[1;34m>\u001b[0m\u001b[34m song could be played in a dance\u001b[0m\n"
      ]
     },
     "metadata": {},
     "output_type": "display_data"
    },
    {
     "name": "stdout",
     "output_type": "stream",
     "text": [
      "\n",
      "\n"
     ]
    },
    {
     "data": {
      "text/html": [
       "<pre style=\"white-space:pre;overflow-x:auto;line-height:normal;font-family:Menlo,'DejaVu Sans Mono',consolas,'Courier New',monospace\"><span style=\"color: #008000; text-decoration-color: #008000; font-weight: bold\">TRAIN TRUE: The Electro Pop song features a flat female vocal, occasionally supported by wide background female </span>\n",
       "<span style=\"color: #008000; text-decoration-color: #008000; font-weight: bold\">doubling vocals, singing over quiet drums, groovy and boomy bass, arpeggiated synth melody and some sound effects </span>\n",
       "<span style=\"color: #008000; text-decoration-color: #008000; font-weight: bold\">of the airplane and the explosion. In the second part, the drums cut through the mix more, therefore they are more </span>\n",
       "<span style=\"color: #008000; text-decoration-color: #008000; font-weight: bold\">audible, while the new elements appear, including shimmering bells and simple hi hats. Sounds like a low quality </span>\n",
       "<span style=\"color: #008000; text-decoration-color: #008000; font-weight: bold\">recording, especially because of that first part of the loop.</span>\n",
       "</pre>\n"
      ],
      "text/plain": [
       "\u001b[1;32mTRAIN TRUE: The Electro Pop song features a flat female vocal, occasionally supported by wide background female \u001b[0m\n",
       "\u001b[1;32mdoubling vocals, singing over quiet drums, groovy and boomy bass, arpeggiated synth melody and some sound effects \u001b[0m\n",
       "\u001b[1;32mof the airplane and the explosion. In the second part, the drums cut through the mix more, therefore they are more \u001b[0m\n",
       "\u001b[1;32maudible, while the new elements appear, including shimmering bells and simple hi hats. Sounds like a low quality \u001b[0m\n",
       "\u001b[1;32mrecording, especially because of that first part of the loop.\u001b[0m\n"
      ]
     },
     "metadata": {},
     "output_type": "display_data"
    },
    {
     "data": {
      "text/html": [
       "<pre style=\"white-space:pre;overflow-x:auto;line-height:normal;font-family:Menlo,'DejaVu Sans Mono',consolas,'Courier New',monospace\"><span style=\"color: #000080; text-decoration-color: #000080\">TRAIN PRED-A: </span><span style=\"color: #000080; text-decoration-color: #000080; font-weight: bold\">&lt;|endoftext|&gt;</span><span style=\"color: #000080; text-decoration-color: #000080\"> would hear in the song would be played in the melody.</span><span style=\"color: #000080; text-decoration-color: #000080; font-weight: bold\">&lt;|endoftext|&gt;</span>\n",
       "</pre>\n"
      ],
      "text/plain": [
       "\u001b[34mTRAIN PRED-A: \u001b[0m\u001b[1;34m<\u001b[0m\u001b[1;34m|endoftext|\u001b[0m\u001b[1;34m>\u001b[0m\u001b[34m would hear in the song would be played in the melody.\u001b[0m\u001b[1;34m<\u001b[0m\u001b[1;34m|endoftext|\u001b[0m\u001b[1;34m>\u001b[0m\n"
      ]
     },
     "metadata": {},
     "output_type": "display_data"
    },
    {
     "data": {
      "text/html": [
       "<pre style=\"white-space:pre;overflow-x:auto;line-height:normal;font-family:Menlo,'DejaVu Sans Mono',consolas,'Courier New',monospace\"><span style=\"color: #000080; text-decoration-color: #000080\">TRAIN PRED-B: would be used in the chords. This song could be used in a place in a battle.</span><span style=\"color: #000080; text-decoration-color: #000080; font-weight: bold\">&lt;|endoftext|&gt;</span><span style=\"color: #000080; text-decoration-color: #000080\"> song would </span>\n",
       "<span style=\"color: #000080; text-decoration-color: #000080\">be played.</span><span style=\"color: #000080; text-decoration-color: #000080; font-weight: bold\">&lt;|endoftext|&gt;</span><span style=\"color: #000080; text-decoration-color: #000080\"> nostalgic movie.</span><span style=\"color: #000080; text-decoration-color: #000080; font-weight: bold\">&lt;|endoftext|&gt;</span><span style=\"color: #000080; text-decoration-color: #000080\"> atmosphere would be used inovy song would be playing the </span>\n",
       "<span style=\"color: #000080; text-decoration-color: #000080\">melody.</span><span style=\"color: #000080; text-decoration-color: #000080; font-weight: bold\">&lt;|endoftext|&gt;</span><span style=\"color: #000080; text-decoration-color: #000080\"> would energetic atmosphere.</span>\n",
       "</pre>\n"
      ],
      "text/plain": [
       "\u001b[34mTRAIN PRED-B: would be used in the chords. This song could be used in a place in a battle.\u001b[0m\u001b[1;34m<\u001b[0m\u001b[1;34m|endoftext|\u001b[0m\u001b[1;34m>\u001b[0m\u001b[34m song would \u001b[0m\n",
       "\u001b[34mbe played.\u001b[0m\u001b[1;34m<\u001b[0m\u001b[1;34m|endoftext|\u001b[0m\u001b[1;34m>\u001b[0m\u001b[34m nostalgic movie.\u001b[0m\u001b[1;34m<\u001b[0m\u001b[1;34m|endoftext|\u001b[0m\u001b[1;34m>\u001b[0m\u001b[34m atmosphere would be used inovy song would be playing the \u001b[0m\n",
       "\u001b[34mmelody.\u001b[0m\u001b[1;34m<\u001b[0m\u001b[1;34m|endoftext|\u001b[0m\u001b[1;34m>\u001b[0m\u001b[34m would energetic atmosphere.\u001b[0m\n"
      ]
     },
     "metadata": {},
     "output_type": "display_data"
    },
    {
     "data": {
      "text/html": [
       "<pre style=\"white-space:pre;overflow-x:auto;line-height:normal;font-family:Menlo,'DejaVu Sans Mono',consolas,'Courier New',monospace\"><span style=\"color: #008000; text-decoration-color: #008000; font-weight: bold\">TEST TRUE: This song is an animated Children’s Song. The tempo is fast with many singing different parts. The song </span>\n",
       "<span style=\"color: #008000; text-decoration-color: #008000; font-weight: bold\">is simple and happy with spirited backup vocals, female, male and child vocals with an animated keyboard harmony, </span>\n",
       "<span style=\"color: #008000; text-decoration-color: #008000; font-weight: bold\">rhythmic drumming , acoustic guitar and choral harmony. The song is light, peppy, engaging and is designed for </span>\n",
       "<span style=\"color: #008000; text-decoration-color: #008000; font-weight: bold\">toddlers and children. The audio is a home recording and the song is muffled.</span>\n",
       "</pre>\n"
      ],
      "text/plain": [
       "\u001b[1;32mTEST TRUE: This song is an animated Children’s Song. The tempo is fast with many singing different parts. The song \u001b[0m\n",
       "\u001b[1;32mis simple and happy with spirited backup vocals, female, male and child vocals with an animated keyboard harmony, \u001b[0m\n",
       "\u001b[1;32mrhythmic drumming , acoustic guitar and choral harmony. The song is light, peppy, engaging and is designed for \u001b[0m\n",
       "\u001b[1;32mtoddlers and children. The audio is a home recording and the song is muffled.\u001b[0m\n"
      ]
     },
     "metadata": {},
     "output_type": "display_data"
    },
    {
     "data": {
      "text/html": [
       "<pre style=\"white-space:pre;overflow-x:auto;line-height:normal;font-family:Menlo,'DejaVu Sans Mono',consolas,'Courier New',monospace\"><span style=\"color: #000080; text-decoration-color: #000080\">TEST PRED-A: </span><span style=\"color: #000080; text-decoration-color: #000080; font-weight: bold\">&lt;|endoftext|&gt;</span><span style=\"color: #000080; text-decoration-color: #000080\"> song would be playing in religious movie.</span><span style=\"color: #000080; text-decoration-color: #000080; font-weight: bold\">&lt;|endoftext|&gt;</span>\n",
       "</pre>\n"
      ],
      "text/plain": [
       "\u001b[34mTEST PRED-A: \u001b[0m\u001b[1;34m<\u001b[0m\u001b[1;34m|endoftext|\u001b[0m\u001b[1;34m>\u001b[0m\u001b[34m song would be playing in religious movie.\u001b[0m\u001b[1;34m<\u001b[0m\u001b[1;34m|endoftext|\u001b[0m\u001b[1;34m>\u001b[0m\n"
      ]
     },
     "metadata": {},
     "output_type": "display_data"
    },
    {
     "data": {
      "text/html": [
       "<pre style=\"white-space:pre;overflow-x:auto;line-height:normal;font-family:Menlo,'DejaVu Sans Mono',consolas,'Courier New',monospace\"><span style=\"color: #000080; text-decoration-color: #000080\">TEST PRED-B: song could would hear in religious movie. This song would be used in religious themed themed themed </span>\n",
       "<span style=\"color: #000080; text-decoration-color: #000080\">movie themed animation animation movie. This song could be used in religious themed Pop themed themed folk movie </span>\n",
       "<span style=\"color: #000080; text-decoration-color: #000080\">influences.</span><span style=\"color: #000080; text-decoration-color: #000080; font-weight: bold\">&lt;|endoftext|&gt;</span><span style=\"color: #000080; text-decoration-color: #000080\"> amateur roadside Pop movie where folk dance in</span>\n",
       "</pre>\n"
      ],
      "text/plain": [
       "\u001b[34mTEST PRED-B: song could would hear in religious movie. This song would be used in religious themed themed themed \u001b[0m\n",
       "\u001b[34mmovie themed animation animation movie. This song could be used in religious themed Pop themed themed folk movie \u001b[0m\n",
       "\u001b[34minfluences.\u001b[0m\u001b[1;34m<\u001b[0m\u001b[1;34m|endoftext|\u001b[0m\u001b[1;34m>\u001b[0m\u001b[34m amateur roadside Pop movie where folk dance in\u001b[0m\n"
      ]
     },
     "metadata": {},
     "output_type": "display_data"
    },
    {
     "name": "stdout",
     "output_type": "stream",
     "text": [
      "\n",
      "\n"
     ]
    },
    {
     "data": {
      "application/vnd.jupyter.widget-view+json": {
       "model_id": "bb603e2124ec41d3957d3e77997b780f",
       "version_major": 2,
       "version_minor": 0
      },
      "text/plain": [
       "  0%|          | 0/138 [00:00<?, ?it/s]"
      ]
     },
     "metadata": {},
     "output_type": "display_data"
    },
    {
     "data": {
      "text/html": [
       "<pre style=\"white-space:pre;overflow-x:auto;line-height:normal;font-family:Menlo,'DejaVu Sans Mono',consolas,'Courier New',monospace\"><span style=\"color: #008000; text-decoration-color: #008000; font-weight: bold\">TRAIN TRUE: A male vocalist sings this Christmas song. The tempo is medium with minimal instruments like keyboard </span>\n",
       "<span style=\"color: #008000; text-decoration-color: #008000; font-weight: bold\">harmony and steady drumming. The audio quality is inferior so the music is incoherent. This is a live performance </span>\n",
       "<span style=\"color: #008000; text-decoration-color: #008000; font-weight: bold\">with ambient sounds of people clapping and cheering. This is a contemporary Christmas Song.</span>\n",
       "</pre>\n"
      ],
      "text/plain": [
       "\u001b[1;32mTRAIN TRUE: A male vocalist sings this Christmas song. The tempo is medium with minimal instruments like keyboard \u001b[0m\n",
       "\u001b[1;32mharmony and steady drumming. The audio quality is inferior so the music is incoherent. This is a live performance \u001b[0m\n",
       "\u001b[1;32mwith ambient sounds of people clapping and cheering. This is a contemporary Christmas Song.\u001b[0m\n"
      ]
     },
     "metadata": {},
     "output_type": "display_data"
    },
    {
     "data": {
      "text/html": [
       "<pre style=\"white-space:pre;overflow-x:auto;line-height:normal;font-family:Menlo,'DejaVu Sans Mono',consolas,'Courier New',monospace\"><span style=\"color: #000080; text-decoration-color: #000080\">TRAIN PRED-A: </span><span style=\"color: #000080; text-decoration-color: #000080; font-weight: bold\">&lt;|endoftext|&gt;</span><span style=\"color: #000080; text-decoration-color: #000080\"> song would be used in</span><span style=\"color: #000080; text-decoration-color: #000080; font-weight: bold\">&lt;|endoftext|&gt;</span>\n",
       "</pre>\n"
      ],
      "text/plain": [
       "\u001b[34mTRAIN PRED-A: \u001b[0m\u001b[1;34m<\u001b[0m\u001b[1;34m|endoftext|\u001b[0m\u001b[1;34m>\u001b[0m\u001b[34m song would be used in\u001b[0m\u001b[1;34m<\u001b[0m\u001b[1;34m|endoftext|\u001b[0m\u001b[1;34m>\u001b[0m\n"
      ]
     },
     "metadata": {},
     "output_type": "display_data"
    },
    {
     "data": {
      "text/html": [
       "<pre style=\"white-space:pre;overflow-x:auto;line-height:normal;font-family:Menlo,'DejaVu Sans Mono',consolas,'Courier New',monospace\"><span style=\"color: #000080; text-decoration-color: #000080\">TRAIN PRED-B: song would be used in Irish Pop song could be sampled.</span><span style=\"color: #000080; text-decoration-color: #000080; font-weight: bold\">&lt;|endoftext|&gt;</span><span style=\"color: #000080; text-decoration-color: #000080\"> song could be used in the </span>\n",
       "<span style=\"color: #000080; text-decoration-color: #000080\">soundtrack animation movie.</span><span style=\"color: #000080; text-decoration-color: #000080; font-weight: bold\">&lt;|endoftext|&gt;</span><span style=\"color: #000080; text-decoration-color: #000080\"> atmosphere. This song could be used in religious religious mood of a dance</span>\n",
       "<span style=\"color: #000080; text-decoration-color: #000080\">dance dance courses.</span><span style=\"color: #000080; text-decoration-color: #000080; font-weight: bold\">&lt;|endoftext|&gt;</span><span style=\"color: #000080; text-decoration-color: #000080\"> movie.</span><span style=\"color: #000080; text-decoration-color: #000080; font-weight: bold\">&lt;|endoftext|&gt;</span><span style=\"color: #000080; text-decoration-color: #000080\"> mood of</span>\n",
       "</pre>\n"
      ],
      "text/plain": [
       "\u001b[34mTRAIN PRED-B: song would be used in Irish Pop song could be sampled.\u001b[0m\u001b[1;34m<\u001b[0m\u001b[1;34m|endoftext|\u001b[0m\u001b[1;34m>\u001b[0m\u001b[34m song could be used in the \u001b[0m\n",
       "\u001b[34msoundtrack animation movie.\u001b[0m\u001b[1;34m<\u001b[0m\u001b[1;34m|endoftext|\u001b[0m\u001b[1;34m>\u001b[0m\u001b[34m atmosphere. This song could be used in religious religious mood of a dance\u001b[0m\n",
       "\u001b[34mdance dance courses.\u001b[0m\u001b[1;34m<\u001b[0m\u001b[1;34m|endoftext|\u001b[0m\u001b[1;34m>\u001b[0m\u001b[34m movie.\u001b[0m\u001b[1;34m<\u001b[0m\u001b[1;34m|endoftext|\u001b[0m\u001b[1;34m>\u001b[0m\u001b[34m mood of\u001b[0m\n"
      ]
     },
     "metadata": {},
     "output_type": "display_data"
    },
    {
     "data": {
      "text/html": [
       "<pre style=\"white-space:pre;overflow-x:auto;line-height:normal;font-family:Menlo,'DejaVu Sans Mono',consolas,'Courier New',monospace\"><span style=\"color: #008000; text-decoration-color: #008000; font-weight: bold\">TEST TRUE: A female voice is singing loud and in a high key. Her voice is full of reverb and a little delay. It is </span>\n",
       "<span style=\"color: #008000; text-decoration-color: #008000; font-weight: bold\">so loud that the speakers are speaking a lot. There are percussive instruments like chimes and tabla like sounds </span>\n",
       "<span style=\"color: #008000; text-decoration-color: #008000; font-weight: bold\">playing a rhythm while a flute is playing a melody in the background. This is an amateur recording with poor </span>\n",
       "<span style=\"color: #008000; text-decoration-color: #008000; font-weight: bold\">recording quality. This song may be playing at a local dance event.</span>\n",
       "</pre>\n"
      ],
      "text/plain": [
       "\u001b[1;32mTEST TRUE: A female voice is singing loud and in a high key. Her voice is full of reverb and a little delay. It is \u001b[0m\n",
       "\u001b[1;32mso loud that the speakers are speaking a lot. There are percussive instruments like chimes and tabla like sounds \u001b[0m\n",
       "\u001b[1;32mplaying a rhythm while a flute is playing a melody in the background. This is an amateur recording with poor \u001b[0m\n",
       "\u001b[1;32mrecording quality. This song may be playing at a local dance event.\u001b[0m\n"
      ]
     },
     "metadata": {},
     "output_type": "display_data"
    },
    {
     "data": {
      "text/html": [
       "<pre style=\"white-space:pre;overflow-x:auto;line-height:normal;font-family:Menlo,'DejaVu Sans Mono',consolas,'Courier New',monospace\"><span style=\"color: #000080; text-decoration-color: #000080\">TEST PRED-A: </span><span style=\"color: #000080; text-decoration-color: #000080; font-weight: bold\">&lt;|endoftext|&gt;</span><span style=\"color: #000080; text-decoration-color: #000080\"> song could be playing in the background.</span><span style=\"color: #000080; text-decoration-color: #000080; font-weight: bold\">&lt;|endoftext|&gt;</span>\n",
       "</pre>\n"
      ],
      "text/plain": [
       "\u001b[34mTEST PRED-A: \u001b[0m\u001b[1;34m<\u001b[0m\u001b[1;34m|endoftext|\u001b[0m\u001b[1;34m>\u001b[0m\u001b[34m song could be playing in the background.\u001b[0m\u001b[1;34m<\u001b[0m\u001b[1;34m|endoftext|\u001b[0m\u001b[1;34m>\u001b[0m\n"
      ]
     },
     "metadata": {},
     "output_type": "display_data"
    },
    {
     "data": {
      "text/html": [
       "<pre style=\"white-space:pre;overflow-x:auto;line-height:normal;font-family:Menlo,'DejaVu Sans Mono',consolas,'Courier New',monospace\"><span style=\"color: #000080; text-decoration-color: #000080\">TEST PRED-B: song could be playing a dance themed cuisine restaurant.</span><span style=\"color: #000080; text-decoration-color: #000080; font-weight: bold\">&lt;|endoftext|&gt;</span><span style=\"color: #000080; text-decoration-color: #000080\"> song could be </span>\n",
       "<span style=\"color: #000080; text-decoration-color: #000080\">played.</span><span style=\"color: #000080; text-decoration-color: #000080; font-weight: bold\">&lt;|endoftext|&gt;</span><span style=\"color: #000080; text-decoration-color: #000080\"> song.</span><span style=\"color: #000080; text-decoration-color: #000080; font-weight: bold\">&lt;|endoftext|&gt;</span><span style=\"color: #000080; text-decoration-color: #000080\"> song song could be used at dance. There song. This song could be played in </span>\n",
       "<span style=\"color: #000080; text-decoration-color: #000080\">a strong bass, An acoustic instrumental. The atmosphere The</span>\n",
       "</pre>\n"
      ],
      "text/plain": [
       "\u001b[34mTEST PRED-B: song could be playing a dance themed cuisine restaurant.\u001b[0m\u001b[1;34m<\u001b[0m\u001b[1;34m|endoftext|\u001b[0m\u001b[1;34m>\u001b[0m\u001b[34m song could be \u001b[0m\n",
       "\u001b[34mplayed.\u001b[0m\u001b[1;34m<\u001b[0m\u001b[1;34m|endoftext|\u001b[0m\u001b[1;34m>\u001b[0m\u001b[34m song.\u001b[0m\u001b[1;34m<\u001b[0m\u001b[1;34m|endoftext|\u001b[0m\u001b[1;34m>\u001b[0m\u001b[34m song song could be used at dance. There song. This song could be played in \u001b[0m\n",
       "\u001b[34ma strong bass, An acoustic instrumental. The atmosphere The\u001b[0m\n"
      ]
     },
     "metadata": {},
     "output_type": "display_data"
    },
    {
     "name": "stdout",
     "output_type": "stream",
     "text": [
      "\n",
      "\n"
     ]
    },
    {
     "data": {
      "text/html": [
       "<pre style=\"white-space:pre;overflow-x:auto;line-height:normal;font-family:Menlo,'DejaVu Sans Mono',consolas,'Courier New',monospace\"><span style=\"color: #008000; text-decoration-color: #008000; font-weight: bold\">TRAIN TRUE: The low quality recording features a flat male vocal singing over muffled acoustic rhythm guitar. The </span>\n",
       "<span style=\"color: #008000; text-decoration-color: #008000; font-weight: bold\">recording is very noisy, it sounds uptempo and like it is recorded via phone.</span>\n",
       "</pre>\n"
      ],
      "text/plain": [
       "\u001b[1;32mTRAIN TRUE: The low quality recording features a flat male vocal singing over muffled acoustic rhythm guitar. The \u001b[0m\n",
       "\u001b[1;32mrecording is very noisy, it sounds uptempo and like it is recorded via phone.\u001b[0m\n"
      ]
     },
     "metadata": {},
     "output_type": "display_data"
    },
    {
     "data": {
      "text/html": [
       "<pre style=\"white-space:pre;overflow-x:auto;line-height:normal;font-family:Menlo,'DejaVu Sans Mono',consolas,'Courier New',monospace\"><span style=\"color: #000080; text-decoration-color: #000080\">TRAIN PRED-A: </span><span style=\"color: #000080; text-decoration-color: #000080; font-weight: bold\">&lt;|endoftext|&gt;</span><span style=\"color: #000080; text-decoration-color: #000080\"> sounds energetic and emotional,</span><span style=\"color: #000080; text-decoration-color: #000080; font-weight: bold\">&lt;|endoftext|&gt;</span>\n",
       "</pre>\n"
      ],
      "text/plain": [
       "\u001b[34mTRAIN PRED-A: \u001b[0m\u001b[1;34m<\u001b[0m\u001b[1;34m|endoftext|\u001b[0m\u001b[1;34m>\u001b[0m\u001b[34m sounds energetic and emotional,\u001b[0m\u001b[1;34m<\u001b[0m\u001b[1;34m|endoftext|\u001b[0m\u001b[1;34m>\u001b[0m\n"
      ]
     },
     "metadata": {},
     "output_type": "display_data"
    },
    {
     "data": {
      "text/html": [
       "<pre style=\"white-space:pre;overflow-x:auto;line-height:normal;font-family:Menlo,'DejaVu Sans Mono',consolas,'Courier New',monospace\"><span style=\"color: #000080; text-decoration-color: #000080\">TRAIN PRED-B: sounds playful,This song would be played in enthusiastic melody.</span><span style=\"color: #000080; text-decoration-color: #000080; font-weight: bold\">&lt;|endoftext|&gt;</span><span style=\"color: #000080; text-decoration-color: #000080\"> sounds </span>\n",
       "<span style=\"color: #000080; text-decoration-color: #000080\">relaxing.</span><span style=\"color: #000080; text-decoration-color: #000080; font-weight: bold\">&lt;|endoftext|&gt;</span><span style=\"color: #000080; text-decoration-color: #000080\"> song.</span><span style=\"color: #000080; text-decoration-color: #000080; font-weight: bold\">&lt;|endoftext|&gt;</span><span style=\"color: #000080; text-decoration-color: #000080\"> funny reverb.</span><span style=\"color: #000080; text-decoration-color: #000080; font-weight: bold\">&lt;|endoftext|&gt;</span><span style=\"color: #000080; text-decoration-color: #000080\"> song would be sampled and soundtrack </span>\n",
       "<span style=\"color: #000080; text-decoration-color: #000080\">of</span><span style=\"color: #000080; text-decoration-color: #000080; font-weight: bold\">&lt;|endoftext|&gt;</span><span style=\"color: #000080; text-decoration-color: #000080\"> song could be used in a Bh</span><span style=\"color: #000080; text-decoration-color: #000080; font-weight: bold\">&lt;|endoftext|&gt;</span><span style=\"color: #000080; text-decoration-color: #000080\"> song could be used in the car</span>\n",
       "</pre>\n"
      ],
      "text/plain": [
       "\u001b[34mTRAIN PRED-B: sounds playful,This song would be played in enthusiastic melody.\u001b[0m\u001b[1;34m<\u001b[0m\u001b[1;34m|endoftext|\u001b[0m\u001b[1;34m>\u001b[0m\u001b[34m sounds \u001b[0m\n",
       "\u001b[34mrelaxing.\u001b[0m\u001b[1;34m<\u001b[0m\u001b[1;34m|endoftext|\u001b[0m\u001b[1;34m>\u001b[0m\u001b[34m song.\u001b[0m\u001b[1;34m<\u001b[0m\u001b[1;34m|endoftext|\u001b[0m\u001b[1;34m>\u001b[0m\u001b[34m funny reverb.\u001b[0m\u001b[1;34m<\u001b[0m\u001b[1;34m|endoftext|\u001b[0m\u001b[1;34m>\u001b[0m\u001b[34m song would be sampled and soundtrack \u001b[0m\n",
       "\u001b[34mof\u001b[0m\u001b[1;34m<\u001b[0m\u001b[1;34m|endoftext|\u001b[0m\u001b[1;34m>\u001b[0m\u001b[34m song could be used in a Bh\u001b[0m\u001b[1;34m<\u001b[0m\u001b[1;34m|endoftext|\u001b[0m\u001b[1;34m>\u001b[0m\u001b[34m song could be used in the car\u001b[0m\n"
      ]
     },
     "metadata": {},
     "output_type": "display_data"
    },
    {
     "data": {
      "text/html": [
       "<pre style=\"white-space:pre;overflow-x:auto;line-height:normal;font-family:Menlo,'DejaVu Sans Mono',consolas,'Courier New',monospace\"><span style=\"color: #008000; text-decoration-color: #008000; font-weight: bold\">TEST TRUE: The low quality recording features a pop folk song that consists of passionate female vocal singing over</span>\n",
       "<span style=\"color: #008000; text-decoration-color: #008000; font-weight: bold\">repetitive flute licks, stuttering hi hats, groovy piano chords, claps and a riser sweep. It sounds energetic and </span>\n",
       "<span style=\"color: #008000; text-decoration-color: #008000; font-weight: bold\">kind of addictive, thanks to those interesting melodies and a fairly repetitive female vocal.</span>\n",
       "</pre>\n"
      ],
      "text/plain": [
       "\u001b[1;32mTEST TRUE: The low quality recording features a pop folk song that consists of passionate female vocal singing over\u001b[0m\n",
       "\u001b[1;32mrepetitive flute licks, stuttering hi hats, groovy piano chords, claps and a riser sweep. It sounds energetic and \u001b[0m\n",
       "\u001b[1;32mkind of addictive, thanks to those interesting melodies and a fairly repetitive female vocal.\u001b[0m\n"
      ]
     },
     "metadata": {},
     "output_type": "display_data"
    },
    {
     "data": {
      "text/html": [
       "<pre style=\"white-space:pre;overflow-x:auto;line-height:normal;font-family:Menlo,'DejaVu Sans Mono',consolas,'Courier New',monospace\"><span style=\"color: #000080; text-decoration-color: #000080\">TEST PRED-A: </span><span style=\"color: #000080; text-decoration-color: #000080; font-weight: bold\">&lt;|endoftext|&gt;</span><span style=\"color: #000080; text-decoration-color: #000080\"> song.</span><span style=\"color: #000080; text-decoration-color: #000080; font-weight: bold\">&lt;|endoftext|&gt;</span>\n",
       "</pre>\n"
      ],
      "text/plain": [
       "\u001b[34mTEST PRED-A: \u001b[0m\u001b[1;34m<\u001b[0m\u001b[1;34m|endoftext|\u001b[0m\u001b[1;34m>\u001b[0m\u001b[34m song.\u001b[0m\u001b[1;34m<\u001b[0m\u001b[1;34m|endoftext|\u001b[0m\u001b[1;34m>\u001b[0m\n"
      ]
     },
     "metadata": {},
     "output_type": "display_data"
    },
    {
     "data": {
      "text/html": [
       "<pre style=\"white-space:pre;overflow-x:auto;line-height:normal;font-family:Menlo,'DejaVu Sans Mono',consolas,'Courier New',monospace\"><span style=\"color: #000080; text-decoration-color: #000080\">TEST PRED-B: song may be playing a club.</span><span style=\"color: #000080; text-decoration-color: #000080; font-weight: bold\">&lt;|endoftext|&gt;</span><span style=\"color: #000080; text-decoration-color: #000080\"> song could be playing a rock song.</span><span style=\"color: #000080; text-decoration-color: #000080; font-weight: bold\">&lt;|endoftext|&gt;</span><span style=\"color: #000080; text-decoration-color: #000080\"> song may be </span>\n",
       "<span style=\"color: #000080; text-decoration-color: #000080\">used in religious cartoon.</span><span style=\"color: #000080; text-decoration-color: #000080; font-weight: bold\">&lt;|endoftext|&gt;</span><span style=\"color: #000080; text-decoration-color: #000080\"> song.</span><span style=\"color: #000080; text-decoration-color: #000080; font-weight: bold\">&lt;|endoftext|&gt;</span><span style=\"color: #000080; text-decoration-color: #000080\"> scene in</span><span style=\"color: #000080; text-decoration-color: #000080; font-weight: bold\">&lt;|endoftext|&gt;</span><span style=\"color: #000080; text-decoration-color: #000080\">.</span><span style=\"color: #000080; text-decoration-color: #000080; font-weight: bold\">&lt;|endoftext|&gt;</span><span style=\"color: #000080; text-decoration-color: #000080\"> mood of a </span>\n",
       "<span style=\"color: #000080; text-decoration-color: #000080\">dance.</span><span style=\"color: #000080; text-decoration-color: #000080; font-weight: bold\">&lt;|endoftext|&gt;</span><span style=\"color: #000080; text-decoration-color: #000080\">/</span><span style=\"color: #000080; text-decoration-color: #000080; font-weight: bold\">&lt;|endoftext|&gt;</span><span style=\"color: #000080; text-decoration-color: #000080\"> song.</span><span style=\"color: #000080; text-decoration-color: #000080; font-weight: bold\">&lt;|endoftext|&gt;</span><span style=\"color: #000080; text-decoration-color: #000080\"> feel would be</span>\n",
       "</pre>\n"
      ],
      "text/plain": [
       "\u001b[34mTEST PRED-B: song may be playing a club.\u001b[0m\u001b[1;34m<\u001b[0m\u001b[1;34m|endoftext|\u001b[0m\u001b[1;34m>\u001b[0m\u001b[34m song could be playing a rock song.\u001b[0m\u001b[1;34m<\u001b[0m\u001b[1;34m|endoftext|\u001b[0m\u001b[1;34m>\u001b[0m\u001b[34m song may be \u001b[0m\n",
       "\u001b[34mused in religious cartoon.\u001b[0m\u001b[1;34m<\u001b[0m\u001b[1;34m|endoftext|\u001b[0m\u001b[1;34m>\u001b[0m\u001b[34m song.\u001b[0m\u001b[1;34m<\u001b[0m\u001b[1;34m|endoftext|\u001b[0m\u001b[1;34m>\u001b[0m\u001b[34m scene in\u001b[0m\u001b[1;34m<\u001b[0m\u001b[1;34m|endoftext|\u001b[0m\u001b[1;34m>\u001b[0m\u001b[34m.\u001b[0m\u001b[1;34m<\u001b[0m\u001b[1;34m|endoftext|\u001b[0m\u001b[1;34m>\u001b[0m\u001b[34m mood of a \u001b[0m\n",
       "\u001b[34mdance.\u001b[0m\u001b[1;34m<\u001b[0m\u001b[1;34m|endoftext|\u001b[0m\u001b[1;34m>\u001b[0m\u001b[34m/\u001b[0m\u001b[1;34m<\u001b[0m\u001b[1;34m|endoftext|\u001b[0m\u001b[1;34m>\u001b[0m\u001b[34m song.\u001b[0m\u001b[1;34m<\u001b[0m\u001b[1;34m|endoftext|\u001b[0m\u001b[1;34m>\u001b[0m\u001b[34m feel would be\u001b[0m\n"
      ]
     },
     "metadata": {},
     "output_type": "display_data"
    },
    {
     "name": "stdout",
     "output_type": "stream",
     "text": [
      "\n",
      "\n"
     ]
    },
    {
     "data": {
      "application/vnd.jupyter.widget-view+json": {
       "model_id": "6e387a55680f4bb490f7fe2156143ab9",
       "version_major": 2,
       "version_minor": 0
      },
      "text/plain": [
       "  0%|          | 0/138 [00:00<?, ?it/s]"
      ]
     },
     "metadata": {},
     "output_type": "display_data"
    },
    {
     "data": {
      "text/html": [
       "<pre style=\"white-space:pre;overflow-x:auto;line-height:normal;font-family:Menlo,'DejaVu Sans Mono',consolas,'Courier New',monospace\"><span style=\"color: #008000; text-decoration-color: #008000; font-weight: bold\">TRAIN TRUE: This audio contains a drum playing with a lot of toms. A distorted e-guitar is playing a solo melody. </span>\n",
       "<span style=\"color: #008000; text-decoration-color: #008000; font-weight: bold\">In the background panned to the right side of the speakers you can hear a keyboard playing minor chords in the </span>\n",
       "<span style=\"color: #008000; text-decoration-color: #008000; font-weight: bold\">higher mid-range. This song may be playing while sitting in your room dancing for yourself.</span>\n",
       "</pre>\n"
      ],
      "text/plain": [
       "\u001b[1;32mTRAIN TRUE: This audio contains a drum playing with a lot of toms. A distorted e-guitar is playing a solo melody. \u001b[0m\n",
       "\u001b[1;32mIn the background panned to the right side of the speakers you can hear a keyboard playing minor chords in the \u001b[0m\n",
       "\u001b[1;32mhigher mid-range. This song may be playing while sitting in your room dancing for yourself.\u001b[0m\n"
      ]
     },
     "metadata": {},
     "output_type": "display_data"
    },
    {
     "data": {
      "text/html": [
       "<pre style=\"white-space:pre;overflow-x:auto;line-height:normal;font-family:Menlo,'DejaVu Sans Mono',consolas,'Courier New',monospace\"><span style=\"color: #000080; text-decoration-color: #000080\">TRAIN PRED-A: </span><span style=\"color: #000080; text-decoration-color: #000080; font-weight: bold\">&lt;|endoftext|&gt;</span><span style=\"color: #000080; text-decoration-color: #000080\"> could be used in</span><span style=\"color: #000080; text-decoration-color: #000080; font-weight: bold\">&lt;|endoftext|&gt;</span>\n",
       "</pre>\n"
      ],
      "text/plain": [
       "\u001b[34mTRAIN PRED-A: \u001b[0m\u001b[1;34m<\u001b[0m\u001b[1;34m|endoftext|\u001b[0m\u001b[1;34m>\u001b[0m\u001b[34m could be used in\u001b[0m\u001b[1;34m<\u001b[0m\u001b[1;34m|endoftext|\u001b[0m\u001b[1;34m>\u001b[0m\n"
      ]
     },
     "metadata": {},
     "output_type": "display_data"
    },
    {
     "data": {
      "text/html": [
       "<pre style=\"white-space:pre;overflow-x:auto;line-height:normal;font-family:Menlo,'DejaVu Sans Mono',consolas,'Courier New',monospace\"><span style=\"color: #000080; text-decoration-color: #000080\">TRAIN PRED-B: could be used in</span><span style=\"color: #000080; text-decoration-color: #000080; font-weight: bold\">&lt;|endoftext|&gt;</span><span style=\"color: #000080; text-decoration-color: #000080\"> song could be used.</span><span style=\"color: #000080; text-decoration-color: #000080; font-weight: bold\">&lt;|endoftext|&gt;</span><span style=\"color: #000080; text-decoration-color: #000080\"> car.</span><span style=\"color: #000080; text-decoration-color: #000080; font-weight: bold\">&lt;|endoftext|&gt;</span><span style=\"color: #000080; text-decoration-color: #000080\"> song could be used </span>\n",
       "<span style=\"color: #000080; text-decoration-color: #000080\">in a religious This piece could be used in the background.</span><span style=\"color: #000080; text-decoration-color: #000080; font-weight: bold\">&lt;|endoftext|&gt;</span><span style=\"color: #000080; text-decoration-color: #000080\"> song could be played in a animation </span>\n",
       "<span style=\"color: #000080; text-decoration-color: #000080\">movie.</span><span style=\"color: #000080; text-decoration-color: #000080; font-weight: bold\">&lt;|endoftext|&gt;</span><span style=\"color: #000080; text-decoration-color: #000080\"> song.</span><span style=\"color: #000080; text-decoration-color: #000080; font-weight: bold\">&lt;|endoftext|&gt;</span><span style=\"color: #000080; text-decoration-color: #000080\"> could be used in</span>\n",
       "</pre>\n"
      ],
      "text/plain": [
       "\u001b[34mTRAIN PRED-B: could be used in\u001b[0m\u001b[1;34m<\u001b[0m\u001b[1;34m|endoftext|\u001b[0m\u001b[1;34m>\u001b[0m\u001b[34m song could be used.\u001b[0m\u001b[1;34m<\u001b[0m\u001b[1;34m|endoftext|\u001b[0m\u001b[1;34m>\u001b[0m\u001b[34m car.\u001b[0m\u001b[1;34m<\u001b[0m\u001b[1;34m|endoftext|\u001b[0m\u001b[1;34m>\u001b[0m\u001b[34m song could be used \u001b[0m\n",
       "\u001b[34min a religious This piece could be used in the background.\u001b[0m\u001b[1;34m<\u001b[0m\u001b[1;34m|endoftext|\u001b[0m\u001b[1;34m>\u001b[0m\u001b[34m song could be played in a animation \u001b[0m\n",
       "\u001b[34mmovie.\u001b[0m\u001b[1;34m<\u001b[0m\u001b[1;34m|endoftext|\u001b[0m\u001b[1;34m>\u001b[0m\u001b[34m song.\u001b[0m\u001b[1;34m<\u001b[0m\u001b[1;34m|endoftext|\u001b[0m\u001b[1;34m>\u001b[0m\u001b[34m could be used in\u001b[0m\n"
      ]
     },
     "metadata": {},
     "output_type": "display_data"
    },
    {
     "data": {
      "text/html": [
       "<pre style=\"white-space:pre;overflow-x:auto;line-height:normal;font-family:Menlo,'DejaVu Sans Mono',consolas,'Courier New',monospace\"><span style=\"color: #008000; text-decoration-color: #008000; font-weight: bold\">TEST TRUE: Latin electronic music with a Cumbia feel featuring an autotuned male vocal, female vocal response and </span>\n",
       "<span style=\"color: #008000; text-decoration-color: #008000; font-weight: bold\">syncopated drum pattern with a large room ambience which is muffling the music.</span>\n",
       "</pre>\n"
      ],
      "text/plain": [
       "\u001b[1;32mTEST TRUE: Latin electronic music with a Cumbia feel featuring an autotuned male vocal, female vocal response and \u001b[0m\n",
       "\u001b[1;32msyncopated drum pattern with a large room ambience which is muffling the music.\u001b[0m\n"
      ]
     },
     "metadata": {},
     "output_type": "display_data"
    },
    {
     "data": {
      "text/html": [
       "<pre style=\"white-space:pre;overflow-x:auto;line-height:normal;font-family:Menlo,'DejaVu Sans Mono',consolas,'Courier New',monospace\"><span style=\"color: #000080; text-decoration-color: #000080\">TEST PRED-A: </span><span style=\"color: #000080; text-decoration-color: #000080; font-weight: bold\">&lt;|endoftext|&gt;</span><span style=\"color: #000080; text-decoration-color: #000080\"> song could be used in the song.</span><span style=\"color: #000080; text-decoration-color: #000080; font-weight: bold\">&lt;|endoftext|&gt;</span>\n",
       "</pre>\n"
      ],
      "text/plain": [
       "\u001b[34mTEST PRED-A: \u001b[0m\u001b[1;34m<\u001b[0m\u001b[1;34m|endoftext|\u001b[0m\u001b[1;34m>\u001b[0m\u001b[34m song could be used in the song.\u001b[0m\u001b[1;34m<\u001b[0m\u001b[1;34m|endoftext|\u001b[0m\u001b[1;34m>\u001b[0m\n"
      ]
     },
     "metadata": {},
     "output_type": "display_data"
    },
    {
     "data": {
      "text/html": [
       "<pre style=\"white-space:pre;overflow-x:auto;line-height:normal;font-family:Menlo,'DejaVu Sans Mono',consolas,'Courier New',monospace\"><span style=\"color: #000080; text-decoration-color: #000080\">TEST PRED-B: song could be used in</span><span style=\"color: #000080; text-decoration-color: #000080; font-weight: bold\">&lt;|endoftext|&gt;</span><span style=\"color: #000080; text-decoration-color: #000080\"> soundtrack of.</span><span style=\"color: #000080; text-decoration-color: #000080; font-weight: bold\">&lt;|endoftext|&gt;</span><span style=\"color: #000080; text-decoration-color: #000080\"> car roadside </span>\n",
       "<span style=\"color: #000080; text-decoration-color: #000080\">diner.</span><span style=\"color: #000080; text-decoration-color: #000080; font-weight: bold\">&lt;|endoftext|&gt;</span><span style=\"color: #000080; text-decoration-color: #000080\">.</span><span style=\"color: #000080; text-decoration-color: #000080; font-weight: bold\">&lt;|endoftext|&gt;</span><span style=\"color: #000080; text-decoration-color: #000080\"> song.</span><span style=\"color: #000080; text-decoration-color: #000080; font-weight: bold\">&lt;|endoftext|&gt;</span><span style=\"color: #000080; text-decoration-color: #000080\"> song could be playing a dance music music.</span><span style=\"color: #000080; text-decoration-color: #000080; font-weight: bold\">&lt;|endoftext|&gt;</span><span style=\"color: #000080; text-decoration-color: #000080\"> song </span>\n",
       "<span style=\"color: #000080; text-decoration-color: #000080\">could be playing in</span><span style=\"color: #000080; text-decoration-color: #000080; font-weight: bold\">&lt;|endoftext|&gt;</span><span style=\"color: #000080; text-decoration-color: #000080\"> song could be used of a rock music.</span><span style=\"color: #000080; text-decoration-color: #000080; font-weight: bold\">&lt;|endoftext|&gt;</span><span style=\"color: #000080; text-decoration-color: #000080\"> bass.</span>\n",
       "</pre>\n"
      ],
      "text/plain": [
       "\u001b[34mTEST PRED-B: song could be used in\u001b[0m\u001b[1;34m<\u001b[0m\u001b[1;34m|endoftext|\u001b[0m\u001b[1;34m>\u001b[0m\u001b[34m soundtrack of.\u001b[0m\u001b[1;34m<\u001b[0m\u001b[1;34m|endoftext|\u001b[0m\u001b[1;34m>\u001b[0m\u001b[34m car roadside \u001b[0m\n",
       "\u001b[34mdiner.\u001b[0m\u001b[1;34m<\u001b[0m\u001b[1;34m|endoftext|\u001b[0m\u001b[1;34m>\u001b[0m\u001b[34m.\u001b[0m\u001b[1;34m<\u001b[0m\u001b[1;34m|endoftext|\u001b[0m\u001b[1;34m>\u001b[0m\u001b[34m song.\u001b[0m\u001b[1;34m<\u001b[0m\u001b[1;34m|endoftext|\u001b[0m\u001b[1;34m>\u001b[0m\u001b[34m song could be playing a dance music music.\u001b[0m\u001b[1;34m<\u001b[0m\u001b[1;34m|endoftext|\u001b[0m\u001b[1;34m>\u001b[0m\u001b[34m song \u001b[0m\n",
       "\u001b[34mcould be playing in\u001b[0m\u001b[1;34m<\u001b[0m\u001b[1;34m|endoftext|\u001b[0m\u001b[1;34m>\u001b[0m\u001b[34m song could be used of a rock music.\u001b[0m\u001b[1;34m<\u001b[0m\u001b[1;34m|endoftext|\u001b[0m\u001b[1;34m>\u001b[0m\u001b[34m bass.\u001b[0m\n"
      ]
     },
     "metadata": {},
     "output_type": "display_data"
    },
    {
     "name": "stdout",
     "output_type": "stream",
     "text": [
      "\n",
      "\n"
     ]
    },
    {
     "data": {
      "text/html": [
       "<pre style=\"white-space:pre;overflow-x:auto;line-height:normal;font-family:Menlo,'DejaVu Sans Mono',consolas,'Courier New',monospace\"><span style=\"color: #008000; text-decoration-color: #008000; font-weight: bold\">TRAIN TRUE: This song contains several drum hits and percussive instruments playing a fast paced rhythm that </span>\n",
       "<span style=\"color: #008000; text-decoration-color: #008000; font-weight: bold\">motivates dancing along. An e-bass is bringing the low end supporting the drums. Cuatro guitars are strumming </span>\n",
       "<span style=\"color: #008000; text-decoration-color: #008000; font-weight: bold\">chords as a rhythmic addition. Trumpets are playing a loud and catchy melody. Some of the musical elements are </span>\n",
       "<span style=\"color: #008000; text-decoration-color: #008000; font-weight: bold\">slightly panned to the left and right side of the speakers. This song may be playing at a cheerful event.</span>\n",
       "</pre>\n"
      ],
      "text/plain": [
       "\u001b[1;32mTRAIN TRUE: This song contains several drum hits and percussive instruments playing a fast paced rhythm that \u001b[0m\n",
       "\u001b[1;32mmotivates dancing along. An e-bass is bringing the low end supporting the drums. Cuatro guitars are strumming \u001b[0m\n",
       "\u001b[1;32mchords as a rhythmic addition. Trumpets are playing a loud and catchy melody. Some of the musical elements are \u001b[0m\n",
       "\u001b[1;32mslightly panned to the left and right side of the speakers. This song may be playing at a cheerful event.\u001b[0m\n"
      ]
     },
     "metadata": {},
     "output_type": "display_data"
    },
    {
     "data": {
      "text/html": [
       "<pre style=\"white-space:pre;overflow-x:auto;line-height:normal;font-family:Menlo,'DejaVu Sans Mono',consolas,'Courier New',monospace\"><span style=\"color: #000080; text-decoration-color: #000080\">TRAIN PRED-A: </span><span style=\"color: #000080; text-decoration-color: #000080; font-weight: bold\">&lt;|endoftext|&gt;</span><span style=\"color: #000080; text-decoration-color: #000080\"> soundtrack of dancing.</span><span style=\"color: #000080; text-decoration-color: #000080; font-weight: bold\">&lt;|endoftext|&gt;</span>\n",
       "</pre>\n"
      ],
      "text/plain": [
       "\u001b[34mTRAIN PRED-A: \u001b[0m\u001b[1;34m<\u001b[0m\u001b[1;34m|endoftext|\u001b[0m\u001b[1;34m>\u001b[0m\u001b[34m soundtrack of dancing.\u001b[0m\u001b[1;34m<\u001b[0m\u001b[1;34m|endoftext|\u001b[0m\u001b[1;34m>\u001b[0m\n"
      ]
     },
     "metadata": {},
     "output_type": "display_data"
    },
    {
     "data": {
      "text/html": [
       "<pre style=\"white-space:pre;overflow-x:auto;line-height:normal;font-family:Menlo,'DejaVu Sans Mono',consolas,'Courier New',monospace\"><span style=\"color: #000080; text-decoration-color: #000080\">TRAIN PRED-B: party.</span><span style=\"color: #000080; text-decoration-color: #000080; font-weight: bold\">&lt;|endoftext|&gt;</span><span style=\"color: #000080; text-decoration-color: #000080\"> music.</span><span style=\"color: #000080; text-decoration-color: #000080; font-weight: bold\">&lt;|endoftext|&gt;</span><span style=\"color: #000080; text-decoration-color: #000080\"> is</span><span style=\"color: #000080; text-decoration-color: #000080; font-weight: bold\">&lt;|endoftext|&gt;</span><span style=\"color: #000080; text-decoration-color: #000080\"> party,</span><span style=\"color: #000080; text-decoration-color: #000080; font-weight: bold\">&lt;|endoftext|&gt;</span><span style=\"color: #000080; text-decoration-color: #000080\"> music.</span><span style=\"color: #000080; text-decoration-color: #000080; font-weight: bold\">&lt;|endoftext|&gt;</span><span style=\"color: #000080; text-decoration-color: #000080\"> </span>\n",
       "<span style=\"color: #000080; text-decoration-color: #000080\">amateur concert,</span><span style=\"color: #000080; text-decoration-color: #000080; font-weight: bold\">&lt;|endoftext|&gt;</span><span style=\"color: #000080; text-decoration-color: #000080\"> song features be be used like dancing,</span><span style=\"color: #000080; text-decoration-color: #000080; font-weight: bold\">&lt;|endoftext|&gt;</span><span style=\"color: #000080; text-decoration-color: #000080\"> song would/</span><span style=\"color: #000080; text-decoration-color: #000080; font-weight: bold\">&lt;|endoftext|&gt;</span><span style=\"color: #000080; text-decoration-color: #000080\"> music </span>\n",
       "<span style=\"color: #000080; text-decoration-color: #000080\">party and</span><span style=\"color: #000080; text-decoration-color: #000080; font-weight: bold\">&lt;|endoftext|&gt;</span><span style=\"color: #000080; text-decoration-color: #000080\"> and especially going and</span><span style=\"color: #000080; text-decoration-color: #000080; font-weight: bold\">&lt;|endoftext|&gt;</span><span style=\"color: #000080; text-decoration-color: #000080\"> Regional be used.</span><span style=\"color: #000080; text-decoration-color: #000080; font-weight: bold\">&lt;|endoftext|&gt;</span><span style=\"color: #000080; text-decoration-color: #000080\"> song especially and</span>\n",
       "</pre>\n"
      ],
      "text/plain": [
       "\u001b[34mTRAIN PRED-B: party.\u001b[0m\u001b[1;34m<\u001b[0m\u001b[1;34m|endoftext|\u001b[0m\u001b[1;34m>\u001b[0m\u001b[34m music.\u001b[0m\u001b[1;34m<\u001b[0m\u001b[1;34m|endoftext|\u001b[0m\u001b[1;34m>\u001b[0m\u001b[34m is\u001b[0m\u001b[1;34m<\u001b[0m\u001b[1;34m|endoftext|\u001b[0m\u001b[1;34m>\u001b[0m\u001b[34m party,\u001b[0m\u001b[1;34m<\u001b[0m\u001b[1;34m|endoftext|\u001b[0m\u001b[1;34m>\u001b[0m\u001b[34m music.\u001b[0m\u001b[1;34m<\u001b[0m\u001b[1;34m|endoftext|\u001b[0m\u001b[1;34m>\u001b[0m\u001b[34m \u001b[0m\n",
       "\u001b[34mamateur concert,\u001b[0m\u001b[1;34m<\u001b[0m\u001b[1;34m|endoftext|\u001b[0m\u001b[1;34m>\u001b[0m\u001b[34m song features be be used like dancing,\u001b[0m\u001b[1;34m<\u001b[0m\u001b[1;34m|endoftext|\u001b[0m\u001b[1;34m>\u001b[0m\u001b[34m song would/\u001b[0m\u001b[1;34m<\u001b[0m\u001b[1;34m|endoftext|\u001b[0m\u001b[1;34m>\u001b[0m\u001b[34m music \u001b[0m\n",
       "\u001b[34mparty and\u001b[0m\u001b[1;34m<\u001b[0m\u001b[1;34m|endoftext|\u001b[0m\u001b[1;34m>\u001b[0m\u001b[34m and especially going and\u001b[0m\u001b[1;34m<\u001b[0m\u001b[1;34m|endoftext|\u001b[0m\u001b[1;34m>\u001b[0m\u001b[34m Regional be used.\u001b[0m\u001b[1;34m<\u001b[0m\u001b[1;34m|endoftext|\u001b[0m\u001b[1;34m>\u001b[0m\u001b[34m song especially and\u001b[0m\n"
      ]
     },
     "metadata": {},
     "output_type": "display_data"
    },
    {
     "data": {
      "text/html": [
       "<pre style=\"white-space:pre;overflow-x:auto;line-height:normal;font-family:Menlo,'DejaVu Sans Mono',consolas,'Courier New',monospace\"><span style=\"color: #008000; text-decoration-color: #008000; font-weight: bold\">TEST TRUE: A male Arab singer sings this cool melody. The tempo is medium with Arabic percussion instruments and </span>\n",
       "<span style=\"color: #008000; text-decoration-color: #008000; font-weight: bold\">various stringed instruments. The song is passionate and romantic. The song has bad audio quality.</span>\n",
       "</pre>\n"
      ],
      "text/plain": [
       "\u001b[1;32mTEST TRUE: A male Arab singer sings this cool melody. The tempo is medium with Arabic percussion instruments and \u001b[0m\n",
       "\u001b[1;32mvarious stringed instruments. The song is passionate and romantic. The song has bad audio quality.\u001b[0m\n"
      ]
     },
     "metadata": {},
     "output_type": "display_data"
    },
    {
     "data": {
      "text/html": [
       "<pre style=\"white-space:pre;overflow-x:auto;line-height:normal;font-family:Menlo,'DejaVu Sans Mono',consolas,'Courier New',monospace\"><span style=\"color: #000080; text-decoration-color: #000080\">TEST PRED-A: </span><span style=\"color: #000080; text-decoration-color: #000080; font-weight: bold\">&lt;|endoftext|&gt;</span><span style=\"color: #000080; text-decoration-color: #000080\"> song.</span><span style=\"color: #000080; text-decoration-color: #000080; font-weight: bold\">&lt;|endoftext|&gt;</span>\n",
       "</pre>\n"
      ],
      "text/plain": [
       "\u001b[34mTEST PRED-A: \u001b[0m\u001b[1;34m<\u001b[0m\u001b[1;34m|endoftext|\u001b[0m\u001b[1;34m>\u001b[0m\u001b[34m song.\u001b[0m\u001b[1;34m<\u001b[0m\u001b[1;34m|endoftext|\u001b[0m\u001b[1;34m>\u001b[0m\n"
      ]
     },
     "metadata": {},
     "output_type": "display_data"
    },
    {
     "data": {
      "text/html": [
       "<pre style=\"white-space:pre;overflow-x:auto;line-height:normal;font-family:Menlo,'DejaVu Sans Mono',consolas,'Courier New',monospace\"><span style=\"color: #000080; text-decoration-color: #000080\">TEST PRED-B: song.</span><span style=\"color: #000080; text-decoration-color: #000080; font-weight: bold\">&lt;|endoftext|&gt;</span><span style=\"color: #000080; text-decoration-color: #000080\"> is a jing and</span><span style=\"color: #000080; text-decoration-color: #000080; font-weight: bold\">&lt;|endoftext|&gt;</span><span style=\"color: #000080; text-decoration-color: #000080\"> song and</span><span style=\"color: #000080; text-decoration-color: #000080; font-weight: bold\">&lt;|endoftext|&gt;</span><span style=\"color: #000080; text-decoration-color: #000080\"> music a choir and and upbeat and </span>\n",
       "<span style=\"color: #000080; text-decoration-color: #000080\">Latin pop.</span><span style=\"color: #000080; text-decoration-color: #000080; font-weight: bold\">&lt;|endoftext|&gt;</span><span style=\"color: #000080; text-decoration-color: #000080\"> music.</span><span style=\"color: #000080; text-decoration-color: #000080; font-weight: bold\">&lt;|endoftext|&gt;</span><span style=\"color: #000080; text-decoration-color: #000080\"> song.</span><span style=\"color: #000080; text-decoration-color: #000080; font-weight: bold\">&lt;|endoftext|&gt;</span><span style=\"color: #000080; text-decoration-color: #000080\"> and a party.</span><span style=\"color: #000080; text-decoration-color: #000080; font-weight: bold\">&lt;|endoftext|&gt;</span><span style=\"color: #000080; text-decoration-color: #000080\"> song and This song may be </span>\n",
       "<span style=\"color: #000080; text-decoration-color: #000080\">used.</span><span style=\"color: #000080; text-decoration-color: #000080; font-weight: bold\">&lt;|endoftext|&gt;</span><span style=\"color: #000080; text-decoration-color: #000080\"> song could be used.</span>\n",
       "</pre>\n"
      ],
      "text/plain": [
       "\u001b[34mTEST PRED-B: song.\u001b[0m\u001b[1;34m<\u001b[0m\u001b[1;34m|endoftext|\u001b[0m\u001b[1;34m>\u001b[0m\u001b[34m is a jing and\u001b[0m\u001b[1;34m<\u001b[0m\u001b[1;34m|endoftext|\u001b[0m\u001b[1;34m>\u001b[0m\u001b[34m song and\u001b[0m\u001b[1;34m<\u001b[0m\u001b[1;34m|endoftext|\u001b[0m\u001b[1;34m>\u001b[0m\u001b[34m music a choir and and upbeat and \u001b[0m\n",
       "\u001b[34mLatin pop.\u001b[0m\u001b[1;34m<\u001b[0m\u001b[1;34m|endoftext|\u001b[0m\u001b[1;34m>\u001b[0m\u001b[34m music.\u001b[0m\u001b[1;34m<\u001b[0m\u001b[1;34m|endoftext|\u001b[0m\u001b[1;34m>\u001b[0m\u001b[34m song.\u001b[0m\u001b[1;34m<\u001b[0m\u001b[1;34m|endoftext|\u001b[0m\u001b[1;34m>\u001b[0m\u001b[34m and a party.\u001b[0m\u001b[1;34m<\u001b[0m\u001b[1;34m|endoftext|\u001b[0m\u001b[1;34m>\u001b[0m\u001b[34m song and This song may be \u001b[0m\n",
       "\u001b[34mused.\u001b[0m\u001b[1;34m<\u001b[0m\u001b[1;34m|endoftext|\u001b[0m\u001b[1;34m>\u001b[0m\u001b[34m song could be used.\u001b[0m\n"
      ]
     },
     "metadata": {},
     "output_type": "display_data"
    },
    {
     "name": "stdout",
     "output_type": "stream",
     "text": [
      "\n",
      "\n"
     ]
    },
    {
     "data": {
      "application/vnd.jupyter.widget-view+json": {
       "model_id": "63b01a7568df4e5aba0871be1e4e0eee",
       "version_major": 2,
       "version_minor": 0
      },
      "text/plain": [
       "  0%|          | 0/138 [00:00<?, ?it/s]"
      ]
     },
     "metadata": {},
     "output_type": "display_data"
    },
    {
     "data": {
      "text/html": [
       "<pre style=\"white-space:pre;overflow-x:auto;line-height:normal;font-family:Menlo,'DejaVu Sans Mono',consolas,'Courier New',monospace\"><span style=\"color: #008000; text-decoration-color: #008000; font-weight: bold\">TRAIN TRUE: This is a chamber music piece. It is performed by a quintet of the harp, the flute, the violin, the </span>\n",
       "<span style=\"color: #008000; text-decoration-color: #008000; font-weight: bold\">viola and the cello. There is a constant rising and falling pattern, resembling the feeling of a wave. The piece </span>\n",
       "<span style=\"color: #008000; text-decoration-color: #008000; font-weight: bold\">has a mysterious atmosphere to it. This music would fit perfectly in the soundtrack of an adventure movie during </span>\n",
       "<span style=\"color: #008000; text-decoration-color: #008000; font-weight: bold\">scenes of a journey where the characters are crossing the sea.</span>\n",
       "</pre>\n"
      ],
      "text/plain": [
       "\u001b[1;32mTRAIN TRUE: This is a chamber music piece. It is performed by a quintet of the harp, the flute, the violin, the \u001b[0m\n",
       "\u001b[1;32mviola and the cello. There is a constant rising and falling pattern, resembling the feeling of a wave. The piece \u001b[0m\n",
       "\u001b[1;32mhas a mysterious atmosphere to it. This music would fit perfectly in the soundtrack of an adventure movie during \u001b[0m\n",
       "\u001b[1;32mscenes of a journey where the characters are crossing the sea.\u001b[0m\n"
      ]
     },
     "metadata": {},
     "output_type": "display_data"
    },
    {
     "data": {
      "text/html": [
       "<pre style=\"white-space:pre;overflow-x:auto;line-height:normal;font-family:Menlo,'DejaVu Sans Mono',consolas,'Courier New',monospace\"><span style=\"color: #000080; text-decoration-color: #000080\">TRAIN PRED-A: </span><span style=\"color: #000080; text-decoration-color: #000080; font-weight: bold\">&lt;|endoftext|&gt;</span><span style=\"color: #000080; text-decoration-color: #000080\"> party.</span><span style=\"color: #000080; text-decoration-color: #000080; font-weight: bold\">&lt;|endoftext|&gt;</span>\n",
       "</pre>\n"
      ],
      "text/plain": [
       "\u001b[34mTRAIN PRED-A: \u001b[0m\u001b[1;34m<\u001b[0m\u001b[1;34m|endoftext|\u001b[0m\u001b[1;34m>\u001b[0m\u001b[34m party.\u001b[0m\u001b[1;34m<\u001b[0m\u001b[1;34m|endoftext|\u001b[0m\u001b[1;34m>\u001b[0m\n"
      ]
     },
     "metadata": {},
     "output_type": "display_data"
    },
    {
     "data": {
      "text/html": [
       "<pre style=\"white-space:pre;overflow-x:auto;line-height:normal;font-family:Menlo,'DejaVu Sans Mono',consolas,'Courier New',monospace\"><span style=\"color: #000080; text-decoration-color: #000080\">TRAIN PRED-B: .</span><span style=\"color: #000080; text-decoration-color: #000080; font-weight: bold\">&lt;|endoftext|&gt;</span><span style=\"color: #000080; text-decoration-color: #000080\"> theme, dancing beat tone comesnight series.</span><span style=\"color: #000080; text-decoration-color: #000080; font-weight: bold\">&lt;|endoftext|&gt;</span><span style=\"color: #000080; text-decoration-color: #000080\"> party.</span><span style=\"color: #000080; text-decoration-color: #000080; font-weight: bold\">&lt;|endoftext|&gt;</span><span style=\"color: #000080; text-decoration-color: #000080\"> </span>\n",
       "<span style=\"color: #000080; text-decoration-color: #000080\">party.</span><span style=\"color: #000080; text-decoration-color: #000080; font-weight: bold\">&lt;|endoftext|&gt;</span><span style=\"color: #000080; text-decoration-color: #000080\">.</span><span style=\"color: #000080; text-decoration-color: #000080; font-weight: bold\">&lt;|endoftext|&gt;</span><span style=\"color: #000080; text-decoration-color: #000080\"> player like some</span><span style=\"color: #000080; text-decoration-color: #000080; font-weight: bold\">&lt;|endoftext|&gt;</span><span style=\"color: #000080; text-decoration-color: #000080\"> sound- game.</span><span style=\"color: #000080; text-decoration-color: #000080; font-weight: bold\">&lt;|endoftext|&gt;</span><span style=\"color: #000080; text-decoration-color: #000080\"> to th priest organ a </span>\n",
       "<span style=\"color: #000080; text-decoration-color: #000080\">party event.</span><span style=\"color: #000080; text-decoration-color: #000080; font-weight: bold\">&lt;|endoftext|&gt;</span><span style=\"color: #000080; text-decoration-color: #000080\"> a robots playing at shaping the piano by a party</span>\n",
       "</pre>\n"
      ],
      "text/plain": [
       "\u001b[34mTRAIN PRED-B: .\u001b[0m\u001b[1;34m<\u001b[0m\u001b[1;34m|endoftext|\u001b[0m\u001b[1;34m>\u001b[0m\u001b[34m theme, dancing beat tone comesnight series.\u001b[0m\u001b[1;34m<\u001b[0m\u001b[1;34m|endoftext|\u001b[0m\u001b[1;34m>\u001b[0m\u001b[34m party.\u001b[0m\u001b[1;34m<\u001b[0m\u001b[1;34m|endoftext|\u001b[0m\u001b[1;34m>\u001b[0m\u001b[34m \u001b[0m\n",
       "\u001b[34mparty.\u001b[0m\u001b[1;34m<\u001b[0m\u001b[1;34m|endoftext|\u001b[0m\u001b[1;34m>\u001b[0m\u001b[34m.\u001b[0m\u001b[1;34m<\u001b[0m\u001b[1;34m|endoftext|\u001b[0m\u001b[1;34m>\u001b[0m\u001b[34m player like some\u001b[0m\u001b[1;34m<\u001b[0m\u001b[1;34m|endoftext|\u001b[0m\u001b[1;34m>\u001b[0m\u001b[34m sound- game.\u001b[0m\u001b[1;34m<\u001b[0m\u001b[1;34m|endoftext|\u001b[0m\u001b[1;34m>\u001b[0m\u001b[34m to th priest organ a \u001b[0m\n",
       "\u001b[34mparty event.\u001b[0m\u001b[1;34m<\u001b[0m\u001b[1;34m|endoftext|\u001b[0m\u001b[1;34m>\u001b[0m\u001b[34m a robots playing at shaping the piano by a party\u001b[0m\n"
      ]
     },
     "metadata": {},
     "output_type": "display_data"
    },
    {
     "data": {
      "text/html": [
       "<pre style=\"white-space:pre;overflow-x:auto;line-height:normal;font-family:Menlo,'DejaVu Sans Mono',consolas,'Courier New',monospace\"><span style=\"color: #008000; text-decoration-color: #008000; font-weight: bold\">TEST TRUE: The music contains an erotic male voice which is out of key and clearly in the foreground. In the </span>\n",
       "<span style=\"color: #008000; text-decoration-color: #008000; font-weight: bold\">background there's a sustained soft piano synth and a drum kit playing a mid pitch beat. The atmosphere is sexual </span>\n",
       "<span style=\"color: #008000; text-decoration-color: #008000; font-weight: bold\">and seductive.</span>\n",
       "</pre>\n"
      ],
      "text/plain": [
       "\u001b[1;32mTEST TRUE: The music contains an erotic male voice which is out of key and clearly in the foreground. In the \u001b[0m\n",
       "\u001b[1;32mbackground there's a sustained soft piano synth and a drum kit playing a mid pitch beat. The atmosphere is sexual \u001b[0m\n",
       "\u001b[1;32mand seductive.\u001b[0m\n"
      ]
     },
     "metadata": {},
     "output_type": "display_data"
    },
    {
     "data": {
      "text/html": [
       "<pre style=\"white-space:pre;overflow-x:auto;line-height:normal;font-family:Menlo,'DejaVu Sans Mono',consolas,'Courier New',monospace\"><span style=\"color: #000080; text-decoration-color: #000080\">TEST PRED-A: </span><span style=\"color: #000080; text-decoration-color: #000080; font-weight: bold\">&lt;|endoftext|&gt;</span><span style=\"color: #000080; text-decoration-color: #000080\"> song and</span><span style=\"color: #000080; text-decoration-color: #000080; font-weight: bold\">&lt;|endoftext|&gt;</span>\n",
       "</pre>\n"
      ],
      "text/plain": [
       "\u001b[34mTEST PRED-A: \u001b[0m\u001b[1;34m<\u001b[0m\u001b[1;34m|endoftext|\u001b[0m\u001b[1;34m>\u001b[0m\u001b[34m song and\u001b[0m\u001b[1;34m<\u001b[0m\u001b[1;34m|endoftext|\u001b[0m\u001b[1;34m>\u001b[0m\n"
      ]
     },
     "metadata": {},
     "output_type": "display_data"
    },
    {
     "data": {
      "text/html": [
       "<pre style=\"white-space:pre;overflow-x:auto;line-height:normal;font-family:Menlo,'DejaVu Sans Mono',consolas,'Courier New',monospace\"><span style=\"color: #000080; text-decoration-color: #000080\">TEST PRED-B: song is like what no vocal is inviting like a party.</span><span style=\"color: #000080; text-decoration-color: #000080; font-weight: bold\">&lt;|endoftext|&gt;</span><span style=\"color: #000080; text-decoration-color: #000080\"> very very concert.</span><span style=\"color: #000080; text-decoration-color: #000080; font-weight: bold\">&lt;|endoftext|&gt;</span><span style=\"color: #000080; text-decoration-color: #000080\"> </span>\n",
       "<span style=\"color: #000080; text-decoration-color: #000080\">song.</span><span style=\"color: #000080; text-decoration-color: #000080; font-weight: bold\">&lt;|endoftext|&gt;</span><span style=\"color: #000080; text-decoration-color: #000080\"> song.</span><span style=\"color: #000080; text-decoration-color: #000080; font-weight: bold\">&lt;|endoftext|&gt;</span><span style=\"color: #000080; text-decoration-color: #000080\"> song.</span><span style=\"color: #000080; text-decoration-color: #000080; font-weight: bold\">&lt;|endoftext|&gt;</span><span style=\"color: #000080; text-decoration-color: #000080\"> music and This song and</span><span style=\"color: #000080; text-decoration-color: #000080; font-weight: bold\">&lt;|endoftext|&gt;</span><span style=\"color: #000080; text-decoration-color: #000080\"> song has a powerful </span>\n",
       "<span style=\"color: #000080; text-decoration-color: #000080\">and</span><span style=\"color: #000080; text-decoration-color: #000080; font-weight: bold\">&lt;|endoftext|&gt;</span><span style=\"color: #000080; text-decoration-color: #000080\"> song and</span><span style=\"color: #000080; text-decoration-color: #000080; font-weight: bold\">&lt;|endoftext|&gt;</span><span style=\"color: #000080; text-decoration-color: #000080\"> song. This song, th</span>\n",
       "</pre>\n"
      ],
      "text/plain": [
       "\u001b[34mTEST PRED-B: song is like what no vocal is inviting like a party.\u001b[0m\u001b[1;34m<\u001b[0m\u001b[1;34m|endoftext|\u001b[0m\u001b[1;34m>\u001b[0m\u001b[34m very very concert.\u001b[0m\u001b[1;34m<\u001b[0m\u001b[1;34m|endoftext|\u001b[0m\u001b[1;34m>\u001b[0m\u001b[34m \u001b[0m\n",
       "\u001b[34msong.\u001b[0m\u001b[1;34m<\u001b[0m\u001b[1;34m|endoftext|\u001b[0m\u001b[1;34m>\u001b[0m\u001b[34m song.\u001b[0m\u001b[1;34m<\u001b[0m\u001b[1;34m|endoftext|\u001b[0m\u001b[1;34m>\u001b[0m\u001b[34m song.\u001b[0m\u001b[1;34m<\u001b[0m\u001b[1;34m|endoftext|\u001b[0m\u001b[1;34m>\u001b[0m\u001b[34m music and This song and\u001b[0m\u001b[1;34m<\u001b[0m\u001b[1;34m|endoftext|\u001b[0m\u001b[1;34m>\u001b[0m\u001b[34m song has a powerful \u001b[0m\n",
       "\u001b[34mand\u001b[0m\u001b[1;34m<\u001b[0m\u001b[1;34m|endoftext|\u001b[0m\u001b[1;34m>\u001b[0m\u001b[34m song and\u001b[0m\u001b[1;34m<\u001b[0m\u001b[1;34m|endoftext|\u001b[0m\u001b[1;34m>\u001b[0m\u001b[34m song. This song, th\u001b[0m\n"
      ]
     },
     "metadata": {},
     "output_type": "display_data"
    },
    {
     "name": "stdout",
     "output_type": "stream",
     "text": [
      "\n",
      "\n"
     ]
    },
    {
     "data": {
      "text/html": [
       "<pre style=\"white-space:pre;overflow-x:auto;line-height:normal;font-family:Menlo,'DejaVu Sans Mono',consolas,'Courier New',monospace\"><span style=\"color: #008000; text-decoration-color: #008000; font-weight: bold\">TRAIN TRUE: This reggae song features a male voice. He sings the first line and laughs at the end of the first </span>\n",
       "<span style=\"color: #008000; text-decoration-color: #008000; font-weight: bold\">sentence. He continues to sing the melody. The voice is accompanied by programmed percussion playing a simple beat.</span>\n",
       "<span style=\"color: #008000; text-decoration-color: #008000; font-weight: bold\">The bass plays the root notes of the chords. A keyboard plays chords in the background with a reggae feel. Another </span>\n",
       "<span style=\"color: #008000; text-decoration-color: #008000; font-weight: bold\">keyboard plays a fill in between lines. At the end, backing singers sing in harmony. This song has a holiday mood. </span>\n",
       "<span style=\"color: #008000; text-decoration-color: #008000; font-weight: bold\">This song can be played in a holiday movie.</span>\n",
       "</pre>\n"
      ],
      "text/plain": [
       "\u001b[1;32mTRAIN TRUE: This reggae song features a male voice. He sings the first line and laughs at the end of the first \u001b[0m\n",
       "\u001b[1;32msentence. He continues to sing the melody. The voice is accompanied by programmed percussion playing a simple beat.\u001b[0m\n",
       "\u001b[1;32mThe bass plays the root notes of the chords. A keyboard plays chords in the background with a reggae feel. Another \u001b[0m\n",
       "\u001b[1;32mkeyboard plays a fill in between lines. At the end, backing singers sing in harmony. This song has a holiday mood. \u001b[0m\n",
       "\u001b[1;32mThis song can be played in a holiday movie.\u001b[0m\n"
      ]
     },
     "metadata": {},
     "output_type": "display_data"
    },
    {
     "data": {
      "text/html": [
       "<pre style=\"white-space:pre;overflow-x:auto;line-height:normal;font-family:Menlo,'DejaVu Sans Mono',consolas,'Courier New',monospace\"><span style=\"color: #000080; text-decoration-color: #000080\">TRAIN PRED-A: </span><span style=\"color: #000080; text-decoration-color: #000080; font-weight: bold\">&lt;|endoftext|&gt;</span><span style=\"color: #000080; text-decoration-color: #000080\">.</span><span style=\"color: #000080; text-decoration-color: #000080; font-weight: bold\">&lt;|endoftext|&gt;</span>\n",
       "</pre>\n"
      ],
      "text/plain": [
       "\u001b[34mTRAIN PRED-A: \u001b[0m\u001b[1;34m<\u001b[0m\u001b[1;34m|endoftext|\u001b[0m\u001b[1;34m>\u001b[0m\u001b[34m.\u001b[0m\u001b[1;34m<\u001b[0m\u001b[1;34m|endoftext|\u001b[0m\u001b[1;34m>\u001b[0m\n"
      ]
     },
     "metadata": {},
     "output_type": "display_data"
    },
    {
     "data": {
      "text/html": [
       "<pre style=\"white-space:pre;overflow-x:auto;line-height:normal;font-family:Menlo,'DejaVu Sans Mono',consolas,'Courier New',monospace\"><span style=\"color: #000080; text-decoration-color: #000080\">TRAIN PRED-B: teacher.</span><span style=\"color: #000080; text-decoration-color: #000080; font-weight: bold\">&lt;|endoftext|&gt;</span><span style=\"color: #000080; text-decoration-color: #000080\"> vocal channel issue-off thru skills event.</span><span style=\"color: #000080; text-decoration-color: #000080; font-weight: bold\">&lt;|endoftext|&gt;</span><span style=\"color: #000080; text-decoration-color: #000080\"> song.</span><span style=\"color: #000080; text-decoration-color: #000080; font-weight: bold\">&lt;|endoftext|&gt;</span><span style=\"color: #000080; text-decoration-color: #000080\"> </span>\n",
       "<span style=\"color: #000080; text-decoration-color: #000080\">song.</span><span style=\"color: #000080; text-decoration-color: #000080; font-weight: bold\">&lt;|endoftext|&gt;</span><span style=\"color: #000080; text-decoration-color: #000080\"> music that could be used.</span><span style=\"color: #000080; text-decoration-color: #000080; font-weight: bold\">&lt;|endoftext|&gt;</span><span style=\"color: #000080; text-decoration-color: #000080\"> j content themeed vocals.</span><span style=\"color: #000080; text-decoration-color: #000080; font-weight: bold\">&lt;|endoftext|&gt;</span><span style=\"color: #000080; text-decoration-color: #000080\">/language </span>\n",
       "<span style=\"color: #000080; text-decoration-color: #000080\">event.</span><span style=\"color: #000080; text-decoration-color: #000080; font-weight: bold\">&lt;|endoftext|&gt;</span><span style=\"color: #000080; text-decoration-color: #000080\"> could be used at a pursuit event that..</span>\n",
       "</pre>\n"
      ],
      "text/plain": [
       "\u001b[34mTRAIN PRED-B: teacher.\u001b[0m\u001b[1;34m<\u001b[0m\u001b[1;34m|endoftext|\u001b[0m\u001b[1;34m>\u001b[0m\u001b[34m vocal channel issue-off thru skills event.\u001b[0m\u001b[1;34m<\u001b[0m\u001b[1;34m|endoftext|\u001b[0m\u001b[1;34m>\u001b[0m\u001b[34m song.\u001b[0m\u001b[1;34m<\u001b[0m\u001b[1;34m|endoftext|\u001b[0m\u001b[1;34m>\u001b[0m\u001b[34m \u001b[0m\n",
       "\u001b[34msong.\u001b[0m\u001b[1;34m<\u001b[0m\u001b[1;34m|endoftext|\u001b[0m\u001b[1;34m>\u001b[0m\u001b[34m music that could be used.\u001b[0m\u001b[1;34m<\u001b[0m\u001b[1;34m|endoftext|\u001b[0m\u001b[1;34m>\u001b[0m\u001b[34m j content themeed vocals.\u001b[0m\u001b[1;34m<\u001b[0m\u001b[1;34m|endoftext|\u001b[0m\u001b[1;34m>\u001b[0m\u001b[34m/\u001b[0m\u001b[34mlanguage\u001b[0m\u001b[34m \u001b[0m\n",
       "\u001b[34mevent.\u001b[0m\u001b[1;34m<\u001b[0m\u001b[1;34m|endoftext|\u001b[0m\u001b[1;34m>\u001b[0m\u001b[34m could be used at a pursuit event that..\u001b[0m\n"
      ]
     },
     "metadata": {},
     "output_type": "display_data"
    },
    {
     "data": {
      "text/html": [
       "<pre style=\"white-space:pre;overflow-x:auto;line-height:normal;font-family:Menlo,'DejaVu Sans Mono',consolas,'Courier New',monospace\"><span style=\"color: #008000; text-decoration-color: #008000; font-weight: bold\">TEST TRUE: A four chord modern hip hop/ R&amp;B production featuring synthesizer pads, electronic drums, a female </span>\n",
       "<span style=\"color: #008000; text-decoration-color: #008000; font-weight: bold\">vocalist in a minor key.</span>\n",
       "</pre>\n"
      ],
      "text/plain": [
       "\u001b[1;32mTEST TRUE: A four chord modern hip hop/ R&B production featuring synthesizer pads, electronic drums, a female \u001b[0m\n",
       "\u001b[1;32mvocalist in a minor key.\u001b[0m\n"
      ]
     },
     "metadata": {},
     "output_type": "display_data"
    },
    {
     "data": {
      "text/html": [
       "<pre style=\"white-space:pre;overflow-x:auto;line-height:normal;font-family:Menlo,'DejaVu Sans Mono',consolas,'Courier New',monospace\"><span style=\"color: #000080; text-decoration-color: #000080\">TEST PRED-A: </span><span style=\"color: #000080; text-decoration-color: #000080; font-weight: bold\">&lt;|endoftext|&gt;</span><span style=\"color: #000080; text-decoration-color: #000080\"> is a home.</span><span style=\"color: #000080; text-decoration-color: #000080; font-weight: bold\">&lt;|endoftext|&gt;</span>\n",
       "</pre>\n"
      ],
      "text/plain": [
       "\u001b[34mTEST PRED-A: \u001b[0m\u001b[1;34m<\u001b[0m\u001b[1;34m|endoftext|\u001b[0m\u001b[1;34m>\u001b[0m\u001b[34m is a home.\u001b[0m\u001b[1;34m<\u001b[0m\u001b[1;34m|endoftext|\u001b[0m\u001b[1;34m>\u001b[0m\n"
      ]
     },
     "metadata": {},
     "output_type": "display_data"
    },
    {
     "data": {
      "text/html": [
       "<pre style=\"white-space:pre;overflow-x:auto;line-height:normal;font-family:Menlo,'DejaVu Sans Mono',consolas,'Courier New',monospace\"><span style=\"color: #000080; text-decoration-color: #000080\">TEST PRED-B: sounds of a man that are reminising gives the right series.</span><span style=\"color: #000080; text-decoration-color: #000080; font-weight: bold\">&lt;|endoftext|&gt;</span><span style=\"color: #000080; text-decoration-color: #000080\"> to a home room </span>\n",
       "<span style=\"color: #000080; text-decoration-color: #000080\">game.</span><span style=\"color: #000080; text-decoration-color: #000080; font-weight: bold\">&lt;|endoftext|&gt;</span><span style=\"color: #000080; text-decoration-color: #000080\"> performer that are crowd noises.</span><span style=\"color: #000080; text-decoration-color: #000080; font-weight: bold\">&lt;|endoftext|&gt;</span><span style=\"color: #000080; text-decoration-color: #000080\"> is natural game game </span>\n",
       "<span style=\"color: #000080; text-decoration-color: #000080\">game.</span><span style=\"color: #000080; text-decoration-color: #000080; font-weight: bold\">&lt;|endoftext|&gt;</span><span style=\"color: #000080; text-decoration-color: #000080\">.</span><span style=\"color: #000080; text-decoration-color: #000080; font-weight: bold\">&lt;|endoftext|&gt;</span><span style=\"color: #000080; text-decoration-color: #000080\"> song may listen show game.</span><span style=\"color: #000080; text-decoration-color: #000080; font-weight: bold\">&lt;|endoftext|&gt;</span><span style=\"color: #000080; text-decoration-color: #000080\"> club.</span><span style=\"color: #000080; text-decoration-color: #000080; font-weight: bold\">&lt;|endoftext|&gt;</span><span style=\"color: #000080; text-decoration-color: #000080\"> park</span>\n",
       "</pre>\n"
      ],
      "text/plain": [
       "\u001b[34mTEST PRED-B: sounds of a man that are reminising gives the right series.\u001b[0m\u001b[1;34m<\u001b[0m\u001b[1;34m|endoftext|\u001b[0m\u001b[1;34m>\u001b[0m\u001b[34m to a home room \u001b[0m\n",
       "\u001b[34mgame.\u001b[0m\u001b[1;34m<\u001b[0m\u001b[1;34m|endoftext|\u001b[0m\u001b[1;34m>\u001b[0m\u001b[34m performer that are crowd noises.\u001b[0m\u001b[1;34m<\u001b[0m\u001b[1;34m|endoftext|\u001b[0m\u001b[1;34m>\u001b[0m\u001b[34m is natural game game \u001b[0m\n",
       "\u001b[34mgame.\u001b[0m\u001b[1;34m<\u001b[0m\u001b[1;34m|endoftext|\u001b[0m\u001b[1;34m>\u001b[0m\u001b[34m.\u001b[0m\u001b[1;34m<\u001b[0m\u001b[1;34m|endoftext|\u001b[0m\u001b[1;34m>\u001b[0m\u001b[34m song may listen show game.\u001b[0m\u001b[1;34m<\u001b[0m\u001b[1;34m|endoftext|\u001b[0m\u001b[1;34m>\u001b[0m\u001b[34m club.\u001b[0m\u001b[1;34m<\u001b[0m\u001b[1;34m|endoftext|\u001b[0m\u001b[1;34m>\u001b[0m\u001b[34m park\u001b[0m\n"
      ]
     },
     "metadata": {},
     "output_type": "display_data"
    },
    {
     "name": "stdout",
     "output_type": "stream",
     "text": [
      "\n",
      "\n"
     ]
    },
    {
     "data": {
      "application/vnd.jupyter.widget-view+json": {
       "model_id": "de492923152e407a8d2a3ca8283a5acc",
       "version_major": 2,
       "version_minor": 0
      },
      "text/plain": [
       "  0%|          | 0/138 [00:00<?, ?it/s]"
      ]
     },
     "metadata": {},
     "output_type": "display_data"
    },
    {
     "data": {
      "text/html": [
       "<pre style=\"white-space:pre;overflow-x:auto;line-height:normal;font-family:Menlo,'DejaVu Sans Mono',consolas,'Courier New',monospace\"><span style=\"color: #008000; text-decoration-color: #008000; font-weight: bold\">TRAIN TRUE: This is a poor quality recording of a yodeling music piece. There is a male vocalist singing rapidly </span>\n",
       "<span style=\"color: #008000; text-decoration-color: #008000; font-weight: bold\">with the yodeling technique. The melody is being played by an accordion. There is a bass guitar playing in the </span>\n",
       "<span style=\"color: #008000; text-decoration-color: #008000; font-weight: bold\">background. The rhythm is provided by an upbeat acoustic drum beat. The atmosphere is cheerful. Despite the quality</span>\n",
       "<span style=\"color: #008000; text-decoration-color: #008000; font-weight: bold\">issue of the recording, it would suit well as a rural radio station music playing inside the car in a movie.</span>\n",
       "</pre>\n"
      ],
      "text/plain": [
       "\u001b[1;32mTRAIN TRUE: This is a poor quality recording of a yodeling music piece. There is a male vocalist singing rapidly \u001b[0m\n",
       "\u001b[1;32mwith the yodeling technique. The melody is being played by an accordion. There is a bass guitar playing in the \u001b[0m\n",
       "\u001b[1;32mbackground. The rhythm is provided by an upbeat acoustic drum beat. The atmosphere is cheerful. Despite the quality\u001b[0m\n",
       "\u001b[1;32missue of the recording, it would suit well as a rural radio station music playing inside the car in a movie.\u001b[0m\n"
      ]
     },
     "metadata": {},
     "output_type": "display_data"
    },
    {
     "data": {
      "text/html": [
       "<pre style=\"white-space:pre;overflow-x:auto;line-height:normal;font-family:Menlo,'DejaVu Sans Mono',consolas,'Courier New',monospace\"><span style=\"color: #000080; text-decoration-color: #000080\">TRAIN PRED-A: </span><span style=\"color: #000080; text-decoration-color: #000080; font-weight: bold\">&lt;|endoftext|&gt;</span><span style=\"color: #000080; text-decoration-color: #000080\"> speaker.</span><span style=\"color: #000080; text-decoration-color: #000080; font-weight: bold\">&lt;|endoftext|&gt;</span>\n",
       "</pre>\n"
      ],
      "text/plain": [
       "\u001b[34mTRAIN PRED-A: \u001b[0m\u001b[1;34m<\u001b[0m\u001b[1;34m|endoftext|\u001b[0m\u001b[1;34m>\u001b[0m\u001b[34m speaker.\u001b[0m\u001b[1;34m<\u001b[0m\u001b[1;34m|endoftext|\u001b[0m\u001b[1;34m>\u001b[0m\n"
      ]
     },
     "metadata": {},
     "output_type": "display_data"
    },
    {
     "data": {
      "text/html": [
       "<pre style=\"white-space:pre;overflow-x:auto;line-height:normal;font-family:Menlo,'DejaVu Sans Mono',consolas,'Courier New',monospace\"><span style=\"color: #000080; text-decoration-color: #000080\">TRAIN PRED-B: club.</span><span style=\"color: #000080; text-decoration-color: #000080; font-weight: bold\">&lt;|endoftext|&gt;</span><span style=\"color: #000080; text-decoration-color: #000080\"> mood.</span><span style=\"color: #000080; text-decoration-color: #000080; font-weight: bold\">&lt;|endoftext|&gt;</span><span style=\"color: #000080; text-decoration-color: #000080\"> there’.</span><span style=\"color: #000080; text-decoration-color: #000080; font-weight: bold\">&lt;|endoftext|&gt;</span><span style=\"color: #000080; text-decoration-color: #000080\">.</span><span style=\"color: #000080; text-decoration-color: #000080; font-weight: bold\">&lt;|endoftext|&gt;</span><span style=\"color: #000080; text-decoration-color: #000080\"> education </span>\n",
       "<span style=\"color: #000080; text-decoration-color: #000080\">events.</span><span style=\"color: #000080; text-decoration-color: #000080; font-weight: bold\">&lt;|endoftext|&gt;</span><span style=\"color: #000080; text-decoration-color: #000080\"> mood of a club scene that appear event. especially soundtrack of yourself.</span><span style=\"color: #000080; text-decoration-color: #000080; font-weight: bold\">&lt;|endoftext|&gt;</span><span style=\"color: #000080; text-decoration-color: #000080\"> sounds</span>\n",
       "<span style=\"color: #000080; text-decoration-color: #000080\">club of atracks of a listen show.</span><span style=\"color: #000080; text-decoration-color: #000080; font-weight: bold\">&lt;|endoftext|&gt;</span><span style=\"color: #000080; text-decoration-color: #000080\"> soundtrack content.</span><span style=\"color: #000080; text-decoration-color: #000080; font-weight: bold\">&lt;|endoftext|&gt;</span><span style=\"color: #000080; text-decoration-color: #000080\">.</span>\n",
       "</pre>\n"
      ],
      "text/plain": [
       "\u001b[34mTRAIN PRED-B: club.\u001b[0m\u001b[1;34m<\u001b[0m\u001b[1;34m|endoftext|\u001b[0m\u001b[1;34m>\u001b[0m\u001b[34m mood.\u001b[0m\u001b[1;34m<\u001b[0m\u001b[1;34m|endoftext|\u001b[0m\u001b[1;34m>\u001b[0m\u001b[34m there’.\u001b[0m\u001b[1;34m<\u001b[0m\u001b[1;34m|endoftext|\u001b[0m\u001b[1;34m>\u001b[0m\u001b[34m.\u001b[0m\u001b[1;34m<\u001b[0m\u001b[1;34m|endoftext|\u001b[0m\u001b[1;34m>\u001b[0m\u001b[34m education \u001b[0m\n",
       "\u001b[34mevents.\u001b[0m\u001b[1;34m<\u001b[0m\u001b[1;34m|endoftext|\u001b[0m\u001b[1;34m>\u001b[0m\u001b[34m mood of a club scene that appear event. especially soundtrack of yourself.\u001b[0m\u001b[1;34m<\u001b[0m\u001b[1;34m|endoftext|\u001b[0m\u001b[1;34m>\u001b[0m\u001b[34m sounds\u001b[0m\n",
       "\u001b[34mclub of atracks of a listen show.\u001b[0m\u001b[1;34m<\u001b[0m\u001b[1;34m|endoftext|\u001b[0m\u001b[1;34m>\u001b[0m\u001b[34m soundtrack content.\u001b[0m\u001b[1;34m<\u001b[0m\u001b[1;34m|endoftext|\u001b[0m\u001b[1;34m>\u001b[0m\u001b[34m.\u001b[0m\n"
      ]
     },
     "metadata": {},
     "output_type": "display_data"
    },
    {
     "data": {
      "text/html": [
       "<pre style=\"white-space:pre;overflow-x:auto;line-height:normal;font-family:Menlo,'DejaVu Sans Mono',consolas,'Courier New',monospace\"><span style=\"color: #008000; text-decoration-color: #008000; font-weight: bold\">TEST TRUE: This music is a ukelele instrumental. The tempo is medium with the sound of a bee buzzing and an </span>\n",
       "<span style=\"color: #008000; text-decoration-color: #008000; font-weight: bold\">animated sound followed by a dialogue between two men in a foreign language. The music is mellow, soft and simple </span>\n",
       "<span style=\"color: #008000; text-decoration-color: #008000; font-weight: bold\">like it's meant for children.</span>\n",
       "</pre>\n"
      ],
      "text/plain": [
       "\u001b[1;32mTEST TRUE: This music is a ukelele instrumental. The tempo is medium with the sound of a bee buzzing and an \u001b[0m\n",
       "\u001b[1;32manimated sound followed by a dialogue between two men in a foreign language. The music is mellow, soft and simple \u001b[0m\n",
       "\u001b[1;32mlike it's meant for children.\u001b[0m\n"
      ]
     },
     "metadata": {},
     "output_type": "display_data"
    },
    {
     "data": {
      "text/html": [
       "<pre style=\"white-space:pre;overflow-x:auto;line-height:normal;font-family:Menlo,'DejaVu Sans Mono',consolas,'Courier New',monospace\"><span style=\"color: #000080; text-decoration-color: #000080\">TEST PRED-A: </span><span style=\"color: #000080; text-decoration-color: #000080; font-weight: bold\">&lt;|endoftext|&gt;</span><span style=\"color: #000080; text-decoration-color: #000080\"> vocal.</span><span style=\"color: #000080; text-decoration-color: #000080; font-weight: bold\">&lt;|endoftext|&gt;</span>\n",
       "</pre>\n"
      ],
      "text/plain": [
       "\u001b[34mTEST PRED-A: \u001b[0m\u001b[1;34m<\u001b[0m\u001b[1;34m|endoftext|\u001b[0m\u001b[1;34m>\u001b[0m\u001b[34m vocal.\u001b[0m\u001b[1;34m<\u001b[0m\u001b[1;34m|endoftext|\u001b[0m\u001b[1;34m>\u001b[0m\n"
      ]
     },
     "metadata": {},
     "output_type": "display_data"
    },
    {
     "data": {
      "text/html": [
       "<pre style=\"white-space:pre;overflow-x:auto;line-height:normal;font-family:Menlo,'DejaVu Sans Mono',consolas,'Courier New',monospace\"><span style=\"color: #000080; text-decoration-color: #000080\">TEST PRED-B: speaker.</span><span style=\"color: #000080; text-decoration-color: #000080; font-weight: bold\">&lt;|endoftext|&gt;</span><span style=\"color: #000080; text-decoration-color: #000080\"> song can be ppowered event.</span><span style=\"color: #000080; text-decoration-color: #000080; font-weight: bold\">&lt;|endoftext|&gt;</span><span style=\"color: #000080; text-decoration-color: #000080\"> Classicoke workshop game </span>\n",
       "<span style=\"color: #000080; text-decoration-color: #000080\">game.</span><span style=\"color: #000080; text-decoration-color: #000080; font-weight: bold\">&lt;|endoftext|&gt;</span><span style=\"color: #000080; text-decoration-color: #000080\"> club.</span><span style=\"color: #000080; text-decoration-color: #000080; font-weight: bold\">&lt;|endoftext|&gt;</span><span style=\"color: #000080; text-decoration-color: #000080\"> song.</span><span style=\"color: #000080; text-decoration-color: #000080; font-weight: bold\">&lt;|endoftext|&gt;</span><span style=\"color: #000080; text-decoration-color: #000080\"> listen series game.</span><span style=\"color: #000080; text-decoration-color: #000080; font-weight: bold\">&lt;|endoftext|&gt;</span><span style=\"color: #000080; text-decoration-color: #000080\">.</span><span style=\"color: #000080; text-decoration-color: #000080; font-weight: bold\">&lt;|endoftext|&gt;</span><span style=\"color: #000080; text-decoration-color: #000080\"> </span>\n",
       "<span style=\"color: #000080; text-decoration-color: #000080\">movies.</span><span style=\"color: #000080; text-decoration-color: #000080; font-weight: bold\">&lt;|endoftext|&gt;</span><span style=\"color: #000080; text-decoration-color: #000080\"> Pop duel a club.</span><span style=\"color: #000080; text-decoration-color: #000080; font-weight: bold\">&lt;|endoftext|&gt;</span><span style=\"color: #000080; text-decoration-color: #000080\"> overall.</span><span style=\"color: #000080; text-decoration-color: #000080; font-weight: bold\">&lt;|endoftext|&gt;</span><span style=\"color: #000080; text-decoration-color: #000080\"> royalty game game content.</span>\n",
       "</pre>\n"
      ],
      "text/plain": [
       "\u001b[34mTEST PRED-B: speaker.\u001b[0m\u001b[1;34m<\u001b[0m\u001b[1;34m|endoftext|\u001b[0m\u001b[1;34m>\u001b[0m\u001b[34m song can be ppowered event.\u001b[0m\u001b[1;34m<\u001b[0m\u001b[1;34m|endoftext|\u001b[0m\u001b[1;34m>\u001b[0m\u001b[34m Classicoke workshop game \u001b[0m\n",
       "\u001b[34mgame.\u001b[0m\u001b[1;34m<\u001b[0m\u001b[1;34m|endoftext|\u001b[0m\u001b[1;34m>\u001b[0m\u001b[34m club.\u001b[0m\u001b[1;34m<\u001b[0m\u001b[1;34m|endoftext|\u001b[0m\u001b[1;34m>\u001b[0m\u001b[34m song.\u001b[0m\u001b[1;34m<\u001b[0m\u001b[1;34m|endoftext|\u001b[0m\u001b[1;34m>\u001b[0m\u001b[34m listen series game.\u001b[0m\u001b[1;34m<\u001b[0m\u001b[1;34m|endoftext|\u001b[0m\u001b[1;34m>\u001b[0m\u001b[34m.\u001b[0m\u001b[1;34m<\u001b[0m\u001b[1;34m|endoftext|\u001b[0m\u001b[1;34m>\u001b[0m\u001b[34m \u001b[0m\n",
       "\u001b[34mmovies.\u001b[0m\u001b[1;34m<\u001b[0m\u001b[1;34m|endoftext|\u001b[0m\u001b[1;34m>\u001b[0m\u001b[34m Pop duel a club.\u001b[0m\u001b[1;34m<\u001b[0m\u001b[1;34m|endoftext|\u001b[0m\u001b[1;34m>\u001b[0m\u001b[34m overall.\u001b[0m\u001b[1;34m<\u001b[0m\u001b[1;34m|endoftext|\u001b[0m\u001b[1;34m>\u001b[0m\u001b[34m royalty game game content.\u001b[0m\n"
      ]
     },
     "metadata": {},
     "output_type": "display_data"
    },
    {
     "name": "stdout",
     "output_type": "stream",
     "text": [
      "\n",
      "\n"
     ]
    },
    {
     "data": {
      "text/html": [
       "<pre style=\"white-space:pre;overflow-x:auto;line-height:normal;font-family:Menlo,'DejaVu Sans Mono',consolas,'Courier New',monospace\"><span style=\"color: #008000; text-decoration-color: #008000; font-weight: bold\">TRAIN TRUE: This pop rock song features a male voice. This is accompanied by percussion playing a simple beat in </span>\n",
       "<span style=\"color: #008000; text-decoration-color: #008000; font-weight: bold\">common time. A lead guitar with heavy reverb plays a fill in between lines. An acoustic guitar strums chords in the</span>\n",
       "<span style=\"color: #008000; text-decoration-color: #008000; font-weight: bold\">background. A bass plays the root notes of the chords. The mood of this song is romantic. This song is played at a </span>\n",
       "<span style=\"color: #008000; text-decoration-color: #008000; font-weight: bold\">slow tempo. This song can be played in a retro romantic movie.</span>\n",
       "</pre>\n"
      ],
      "text/plain": [
       "\u001b[1;32mTRAIN TRUE: This pop rock song features a male voice. This is accompanied by percussion playing a simple beat in \u001b[0m\n",
       "\u001b[1;32mcommon time. A lead guitar with heavy reverb plays a fill in between lines. An acoustic guitar strums chords in the\u001b[0m\n",
       "\u001b[1;32mbackground. A bass plays the root notes of the chords. The mood of this song is romantic. This song is played at a \u001b[0m\n",
       "\u001b[1;32mslow tempo. This song can be played in a retro romantic movie.\u001b[0m\n"
      ]
     },
     "metadata": {},
     "output_type": "display_data"
    },
    {
     "data": {
      "text/html": [
       "<pre style=\"white-space:pre;overflow-x:auto;line-height:normal;font-family:Menlo,'DejaVu Sans Mono',consolas,'Courier New',monospace\"><span style=\"color: #000080; text-decoration-color: #000080\">TRAIN PRED-A: </span><span style=\"color: #000080; text-decoration-color: #000080; font-weight: bold\">&lt;|endoftext|&gt;</span><span style=\"color: #000080; text-decoration-color: #000080\"> song may be used in a club.</span><span style=\"color: #000080; text-decoration-color: #000080; font-weight: bold\">&lt;|endoftext|&gt;</span>\n",
       "</pre>\n"
      ],
      "text/plain": [
       "\u001b[34mTRAIN PRED-A: \u001b[0m\u001b[1;34m<\u001b[0m\u001b[1;34m|endoftext|\u001b[0m\u001b[1;34m>\u001b[0m\u001b[34m song may be used in a club.\u001b[0m\u001b[1;34m<\u001b[0m\u001b[1;34m|endoftext|\u001b[0m\u001b[1;34m>\u001b[0m\n"
      ]
     },
     "metadata": {},
     "output_type": "display_data"
    },
    {
     "data": {
      "text/html": [
       "<pre style=\"white-space:pre;overflow-x:auto;line-height:normal;font-family:Menlo,'DejaVu Sans Mono',consolas,'Courier New',monospace\"><span style=\"color: #000080; text-decoration-color: #000080\">TRAIN PRED-B: mood.</span><span style=\"color: #000080; text-decoration-color: #000080; font-weight: bold\">&lt;|endoftext|&gt;</span><span style=\"color: #000080; text-decoration-color: #000080\"> is at a soundtrack of crime movie soundtrack of a club soundtrack of a crime movie</span>\n",
       "<span style=\"color: #000080; text-decoration-color: #000080\">soundtrack of especially event soundtrack of a soundtrack game.</span><span style=\"color: #000080; text-decoration-color: #000080; font-weight: bold\">&lt;|endoftext|&gt;</span><span style=\"color: #000080; text-decoration-color: #000080\"> restaurants.</span><span style=\"color: #000080; text-decoration-color: #000080; font-weight: bold\">&lt;|endoftext|&gt;</span><span style=\"color: #000080; text-decoration-color: #000080\"> -fight </span>\n",
       "<span style=\"color: #000080; text-decoration-color: #000080\">especially soundtrack content.</span><span style=\"color: #000080; text-decoration-color: #000080; font-weight: bold\">&lt;|endoftext|&gt;</span><span style=\"color: #000080; text-decoration-color: #000080\"> song may listen.</span><span style=\"color: #000080; text-decoration-color: #000080; font-weight: bold\">&lt;|endoftext|&gt;</span><span style=\"color: #000080; text-decoration-color: #000080\"> soundtrack. Pop</span>\n",
       "</pre>\n"
      ],
      "text/plain": [
       "\u001b[34mTRAIN PRED-B: mood.\u001b[0m\u001b[1;34m<\u001b[0m\u001b[1;34m|endoftext|\u001b[0m\u001b[1;34m>\u001b[0m\u001b[34m is at a soundtrack of crime movie soundtrack of a club soundtrack of a crime movie\u001b[0m\n",
       "\u001b[34msoundtrack of especially event soundtrack of a soundtrack game.\u001b[0m\u001b[1;34m<\u001b[0m\u001b[1;34m|endoftext|\u001b[0m\u001b[1;34m>\u001b[0m\u001b[34m restaurants.\u001b[0m\u001b[1;34m<\u001b[0m\u001b[1;34m|endoftext|\u001b[0m\u001b[1;34m>\u001b[0m\u001b[34m -fight \u001b[0m\n",
       "\u001b[34mespecially soundtrack content.\u001b[0m\u001b[1;34m<\u001b[0m\u001b[1;34m|endoftext|\u001b[0m\u001b[1;34m>\u001b[0m\u001b[34m song may listen.\u001b[0m\u001b[1;34m<\u001b[0m\u001b[1;34m|endoftext|\u001b[0m\u001b[1;34m>\u001b[0m\u001b[34m soundtrack. Pop\u001b[0m\n"
      ]
     },
     "metadata": {},
     "output_type": "display_data"
    },
    {
     "data": {
      "text/html": [
       "<pre style=\"white-space:pre;overflow-x:auto;line-height:normal;font-family:Menlo,'DejaVu Sans Mono',consolas,'Courier New',monospace\"><span style=\"color: #008000; text-decoration-color: #008000; font-weight: bold\">TEST TRUE: This is a drum &amp; bass electronic music piece. There is no singer. There is a strong and fuzzy feeling </span>\n",
       "<span style=\"color: #008000; text-decoration-color: #008000; font-weight: bold\">bass sound. The rhythmic background consists of a loud and high tempo electronic drum beat. The atmosphere is </span>\n",
       "<span style=\"color: #008000; text-decoration-color: #008000; font-weight: bold\">modern and energetic. This piece could be playing at a nightclub or a dance club.</span>\n",
       "</pre>\n"
      ],
      "text/plain": [
       "\u001b[1;32mTEST TRUE: This is a drum & bass electronic music piece. There is no singer. There is a strong and fuzzy feeling \u001b[0m\n",
       "\u001b[1;32mbass sound. The rhythmic background consists of a loud and high tempo electronic drum beat. The atmosphere is \u001b[0m\n",
       "\u001b[1;32mmodern and energetic. This piece could be playing at a nightclub or a dance club.\u001b[0m\n"
      ]
     },
     "metadata": {},
     "output_type": "display_data"
    },
    {
     "data": {
      "text/html": [
       "<pre style=\"white-space:pre;overflow-x:auto;line-height:normal;font-family:Menlo,'DejaVu Sans Mono',consolas,'Courier New',monospace\"><span style=\"color: #000080; text-decoration-color: #000080\">TEST PRED-A: </span><span style=\"color: #000080; text-decoration-color: #000080; font-weight: bold\">&lt;|endoftext|&gt;</span><span style=\"color: #000080; text-decoration-color: #000080\"> club.</span><span style=\"color: #000080; text-decoration-color: #000080; font-weight: bold\">&lt;|endoftext|&gt;</span>\n",
       "</pre>\n"
      ],
      "text/plain": [
       "\u001b[34mTEST PRED-A: \u001b[0m\u001b[1;34m<\u001b[0m\u001b[1;34m|endoftext|\u001b[0m\u001b[1;34m>\u001b[0m\u001b[34m club.\u001b[0m\u001b[1;34m<\u001b[0m\u001b[1;34m|endoftext|\u001b[0m\u001b[1;34m>\u001b[0m\n"
      ]
     },
     "metadata": {},
     "output_type": "display_data"
    },
    {
     "data": {
      "text/html": [
       "<pre style=\"white-space:pre;overflow-x:auto;line-height:normal;font-family:Menlo,'DejaVu Sans Mono',consolas,'Courier New',monospace\"><span style=\"color: #000080; text-decoration-color: #000080\">TEST PRED-B: courses.</span><span style=\"color: #000080; text-decoration-color: #000080; font-weight: bold\">&lt;|endoftext|&gt;</span><span style=\"color: #000080; text-decoration-color: #000080\"> the soundtrack of a crime series content.</span><span style=\"color: #000080; text-decoration-color: #000080; font-weight: bold\">&lt;|endoftext|&gt;</span><span style=\"color: #000080; text-decoration-color: #000080\"> soundtrack of a </span>\n",
       "<span style=\"color: #000080; text-decoration-color: #000080\">festival.</span><span style=\"color: #000080; text-decoration-color: #000080; font-weight: bold\">&lt;|endoftext|&gt;</span><span style=\"color: #000080; text-decoration-color: #000080\"> celebrating.</span><span style=\"color: #000080; text-decoration-color: #000080; font-weight: bold\">&lt;|endoftext|&gt;</span><span style=\"color: #000080; text-decoration-color: #000080\"> piece could be lifted could be used at a nightmare robbery </span>\n",
       "<span style=\"color: #000080; text-decoration-color: #000080\">movie.</span><span style=\"color: #000080; text-decoration-color: #000080; font-weight: bold\">&lt;|endoftext|&gt;</span><span style=\"color: #000080; text-decoration-color: #000080\"> song could listen to</span><span style=\"color: #000080; text-decoration-color: #000080; font-weight: bold\">&lt;|endoftext|&gt;</span><span style=\"color: #000080; text-decoration-color: #000080\"> TV series content.</span><span style=\"color: #000080; text-decoration-color: #000080; font-weight: bold\">&lt;|endoftext|&gt;</span><span style=\"color: #000080; text-decoration-color: #000080\"> song that place</span>\n",
       "</pre>\n"
      ],
      "text/plain": [
       "\u001b[34mTEST PRED-B: courses.\u001b[0m\u001b[1;34m<\u001b[0m\u001b[1;34m|endoftext|\u001b[0m\u001b[1;34m>\u001b[0m\u001b[34m the soundtrack of a crime series content.\u001b[0m\u001b[1;34m<\u001b[0m\u001b[1;34m|endoftext|\u001b[0m\u001b[1;34m>\u001b[0m\u001b[34m soundtrack of a \u001b[0m\n",
       "\u001b[34mfestival.\u001b[0m\u001b[1;34m<\u001b[0m\u001b[1;34m|endoftext|\u001b[0m\u001b[1;34m>\u001b[0m\u001b[34m celebrating.\u001b[0m\u001b[1;34m<\u001b[0m\u001b[1;34m|endoftext|\u001b[0m\u001b[1;34m>\u001b[0m\u001b[34m piece could be lifted could be used at a nightmare robbery \u001b[0m\n",
       "\u001b[34mmovie.\u001b[0m\u001b[1;34m<\u001b[0m\u001b[1;34m|endoftext|\u001b[0m\u001b[1;34m>\u001b[0m\u001b[34m song could listen to\u001b[0m\u001b[1;34m<\u001b[0m\u001b[1;34m|endoftext|\u001b[0m\u001b[1;34m>\u001b[0m\u001b[34m TV series content.\u001b[0m\u001b[1;34m<\u001b[0m\u001b[1;34m|endoftext|\u001b[0m\u001b[1;34m>\u001b[0m\u001b[34m song that place\u001b[0m\n"
      ]
     },
     "metadata": {},
     "output_type": "display_data"
    },
    {
     "name": "stdout",
     "output_type": "stream",
     "text": [
      "\n",
      "\n"
     ]
    },
    {
     "data": {
      "application/vnd.jupyter.widget-view+json": {
       "model_id": "2ebb45b1dde343ddb3ab246a1c7921bd",
       "version_major": 2,
       "version_minor": 0
      },
      "text/plain": [
       "  0%|          | 0/138 [00:00<?, ?it/s]"
      ]
     },
     "metadata": {},
     "output_type": "display_data"
    },
    {
     "data": {
      "text/html": [
       "<pre style=\"white-space:pre;overflow-x:auto;line-height:normal;font-family:Menlo,'DejaVu Sans Mono',consolas,'Courier New',monospace\"><span style=\"color: #008000; text-decoration-color: #008000; font-weight: bold\">TRAIN TRUE: A male voice is singing loud and soulful while a e-bass takes the major role of the instrumental </span>\n",
       "<span style=\"color: #008000; text-decoration-color: #008000; font-weight: bold\">serving with a percussive rhythm along with a e-guitar strumming short chords where a snare could have been. Male </span>\n",
       "<span style=\"color: #008000; text-decoration-color: #008000; font-weight: bold\">backing vocals singing harmonies in the background. The recording sounds old and therefore not of the best quality.</span>\n",
       "<span style=\"color: #008000; text-decoration-color: #008000; font-weight: bold\">This song may be playing while eating a romantic dinner with your partner.</span>\n",
       "</pre>\n"
      ],
      "text/plain": [
       "\u001b[1;32mTRAIN TRUE: A male voice is singing loud and soulful while a e-bass takes the major role of the instrumental \u001b[0m\n",
       "\u001b[1;32mserving with a percussive rhythm along with a e-guitar strumming short chords where a snare could have been. Male \u001b[0m\n",
       "\u001b[1;32mbacking vocals singing harmonies in the background. The recording sounds old and therefore not of the best quality.\u001b[0m\n",
       "\u001b[1;32mThis song may be playing while eating a romantic dinner with your partner.\u001b[0m\n"
      ]
     },
     "metadata": {},
     "output_type": "display_data"
    },
    {
     "data": {
      "text/html": [
       "<pre style=\"white-space:pre;overflow-x:auto;line-height:normal;font-family:Menlo,'DejaVu Sans Mono',consolas,'Courier New',monospace\"><span style=\"color: #000080; text-decoration-color: #000080\">TRAIN PRED-A: </span><span style=\"color: #000080; text-decoration-color: #000080; font-weight: bold\">&lt;|endoftext|&gt;</span><span style=\"color: #000080; text-decoration-color: #000080\"> tempo is noisy.</span><span style=\"color: #000080; text-decoration-color: #000080; font-weight: bold\">&lt;|endoftext|&gt;</span>\n",
       "</pre>\n"
      ],
      "text/plain": [
       "\u001b[34mTRAIN PRED-A: \u001b[0m\u001b[1;34m<\u001b[0m\u001b[1;34m|endoftext|\u001b[0m\u001b[1;34m>\u001b[0m\u001b[34m tempo is noisy.\u001b[0m\u001b[1;34m<\u001b[0m\u001b[1;34m|endoftext|\u001b[0m\u001b[1;34m>\u001b[0m\n"
      ]
     },
     "metadata": {},
     "output_type": "display_data"
    },
    {
     "data": {
      "text/html": [
       "<pre style=\"white-space:pre;overflow-x:auto;line-height:normal;font-family:Menlo,'DejaVu Sans Mono',consolas,'Courier New',monospace\"><span style=\"color: #000080; text-decoration-color: #000080\">TRAIN PRED-B: atmosphere.</span><span style=\"color: #000080; text-decoration-color: #000080; font-weight: bold\">&lt;|endoftext|&gt;</span><span style=\"color: #000080; text-decoration-color: #000080\"> recording is a horror drama movie.</span><span style=\"color: #000080; text-decoration-color: #000080; font-weight: bold\">&lt;|endoftext|&gt;</span><span style=\"color: #000080; text-decoration-color: #000080\">.</span><span style=\"color: #000080; text-decoration-color: #000080; font-weight: bold\">&lt;|endoftext|&gt;</span><span style=\"color: #000080; text-decoration-color: #000080\"> </span>\n",
       "<span style=\"color: #000080; text-decoration-color: #000080\">song.</span><span style=\"color: #000080; text-decoration-color: #000080; font-weight: bold\">&lt;|endoftext|&gt;</span><span style=\"color: #000080; text-decoration-color: #000080\"> mood of</span><span style=\"color: #000080; text-decoration-color: #000080; font-weight: bold\">&lt;|endoftext|&gt;</span><span style=\"color: #000080; text-decoration-color: #000080\"> recordinggood movie.</span><span style=\"color: #000080; text-decoration-color: #000080; font-weight: bold\">&lt;|endoftext|&gt;</span><span style=\"color: #000080; text-decoration-color: #000080\"> background.</span><span style=\"color: #000080; text-decoration-color: #000080; font-weight: bold\">&lt;|endoftext|&gt;</span><span style=\"color: #000080; text-decoration-color: #000080\"> bar where lift </span>\n",
       "<span style=\"color: #000080; text-decoration-color: #000080\">videogame.</span><span style=\"color: #000080; text-decoration-color: #000080; font-weight: bold\">&lt;|endoftext|&gt;</span><span style=\"color: #000080; text-decoration-color: #000080\"> song may Turkish bellig movie.</span><span style=\"color: #000080; text-decoration-color: #000080; font-weight: bold\">&lt;|endoftext|&gt;</span><span style=\"color: #000080; text-decoration-color: #000080\">.</span><span style=\"color: #000080; text-decoration-color: #000080; font-weight: bold\">&lt;|endoftext|&gt;</span><span style=\"color: #000080; text-decoration-color: #000080\"> recording is inmaking.</span>\n",
       "</pre>\n"
      ],
      "text/plain": [
       "\u001b[34mTRAIN PRED-B: atmosphere.\u001b[0m\u001b[1;34m<\u001b[0m\u001b[1;34m|endoftext|\u001b[0m\u001b[1;34m>\u001b[0m\u001b[34m recording is a horror drama movie.\u001b[0m\u001b[1;34m<\u001b[0m\u001b[1;34m|endoftext|\u001b[0m\u001b[1;34m>\u001b[0m\u001b[34m.\u001b[0m\u001b[1;34m<\u001b[0m\u001b[1;34m|endoftext|\u001b[0m\u001b[1;34m>\u001b[0m\u001b[34m \u001b[0m\n",
       "\u001b[34msong.\u001b[0m\u001b[1;34m<\u001b[0m\u001b[1;34m|endoftext|\u001b[0m\u001b[1;34m>\u001b[0m\u001b[34m mood of\u001b[0m\u001b[1;34m<\u001b[0m\u001b[1;34m|endoftext|\u001b[0m\u001b[1;34m>\u001b[0m\u001b[34m recordinggood movie.\u001b[0m\u001b[1;34m<\u001b[0m\u001b[1;34m|endoftext|\u001b[0m\u001b[1;34m>\u001b[0m\u001b[34m background.\u001b[0m\u001b[1;34m<\u001b[0m\u001b[1;34m|endoftext|\u001b[0m\u001b[1;34m>\u001b[0m\u001b[34m bar where lift \u001b[0m\n",
       "\u001b[34mvideogame.\u001b[0m\u001b[1;34m<\u001b[0m\u001b[1;34m|endoftext|\u001b[0m\u001b[1;34m>\u001b[0m\u001b[34m song may Turkish bellig movie.\u001b[0m\u001b[1;34m<\u001b[0m\u001b[1;34m|endoftext|\u001b[0m\u001b[1;34m>\u001b[0m\u001b[34m.\u001b[0m\u001b[1;34m<\u001b[0m\u001b[1;34m|endoftext|\u001b[0m\u001b[1;34m>\u001b[0m\u001b[34m recording is inmaking.\u001b[0m\n"
      ]
     },
     "metadata": {},
     "output_type": "display_data"
    },
    {
     "data": {
      "text/html": [
       "<pre style=\"white-space:pre;overflow-x:auto;line-height:normal;font-family:Menlo,'DejaVu Sans Mono',consolas,'Courier New',monospace\"><span style=\"color: #008000; text-decoration-color: #008000; font-weight: bold\">TEST TRUE: The low quality recording features a live performance of a traditional song and it consists of flat male</span>\n",
       "<span style=\"color: #008000; text-decoration-color: #008000; font-weight: bold\">vocal and reverberant fruity male vocal singing over smooth bass and strings melody. It sounds very muddy, muffled </span>\n",
       "<span style=\"color: #008000; text-decoration-color: #008000; font-weight: bold\">and there is a harsh microphone feedback sound. The recording is noisy itself.</span>\n",
       "</pre>\n"
      ],
      "text/plain": [
       "\u001b[1;32mTEST TRUE: The low quality recording features a live performance of a traditional song and it consists of flat male\u001b[0m\n",
       "\u001b[1;32mvocal and reverberant fruity male vocal singing over smooth bass and strings melody. It sounds very muddy, muffled \u001b[0m\n",
       "\u001b[1;32mand there is a harsh microphone feedback sound. The recording is noisy itself.\u001b[0m\n"
      ]
     },
     "metadata": {},
     "output_type": "display_data"
    },
    {
     "data": {
      "text/html": [
       "<pre style=\"white-space:pre;overflow-x:auto;line-height:normal;font-family:Menlo,'DejaVu Sans Mono',consolas,'Courier New',monospace\"><span style=\"color: #000080; text-decoration-color: #000080\">TEST PRED-A: </span><span style=\"color: #000080; text-decoration-color: #000080; font-weight: bold\">&lt;|endoftext|&gt;</span><span style=\"color: #000080; text-decoration-color: #000080\"> recording is noisy, noisy,.</span><span style=\"color: #000080; text-decoration-color: #000080; font-weight: bold\">&lt;|endoftext|&gt;</span>\n",
       "</pre>\n"
      ],
      "text/plain": [
       "\u001b[34mTEST PRED-A: \u001b[0m\u001b[1;34m<\u001b[0m\u001b[1;34m|endoftext|\u001b[0m\u001b[1;34m>\u001b[0m\u001b[34m recording is noisy, noisy,.\u001b[0m\u001b[1;34m<\u001b[0m\u001b[1;34m|endoftext|\u001b[0m\u001b[1;34m>\u001b[0m\n"
      ]
     },
     "metadata": {},
     "output_type": "display_data"
    },
    {
     "data": {
      "text/html": [
       "<pre style=\"white-space:pre;overflow-x:auto;line-height:normal;font-family:Menlo,'DejaVu Sans Mono',consolas,'Courier New',monospace\"><span style=\"color: #000080; text-decoration-color: #000080\">TEST PRED-B: recording is noisy, noisy.</span><span style=\"color: #000080; text-decoration-color: #000080; font-weight: bold\">&lt;|endoftext|&gt;</span><span style=\"color: #000080; text-decoration-color: #000080\">. the recording is noisy, phone, poor audio </span>\n",
       "<span style=\"color: #000080; text-decoration-color: #000080\">quality.</span><span style=\"color: #000080; text-decoration-color: #000080; font-weight: bold\">&lt;|endoftext|&gt;</span><span style=\"color: #000080; text-decoration-color: #000080\"> recording is inferior backgroundtracks of mono. It sounds noisy.</span><span style=\"color: #000080; text-decoration-color: #000080; font-weight: bold\">&lt;|endoftext|&gt;</span><span style=\"color: #000080; text-decoration-color: #000080\"> recording is </span>\n",
       "<span style=\"color: #000080; text-decoration-color: #000080\">recording is poor.</span><span style=\"color: #000080; text-decoration-color: #000080; font-weight: bold\">&lt;|endoftext|&gt;</span><span style=\"color: #000080; text-decoration-color: #000080\"> recording is noisy microphone recording features poor tempo</span>\n",
       "</pre>\n"
      ],
      "text/plain": [
       "\u001b[34mTEST PRED-B: recording is noisy, noisy.\u001b[0m\u001b[1;34m<\u001b[0m\u001b[1;34m|endoftext|\u001b[0m\u001b[1;34m>\u001b[0m\u001b[34m. the recording is noisy, phone, poor audio \u001b[0m\n",
       "\u001b[34mquality.\u001b[0m\u001b[1;34m<\u001b[0m\u001b[1;34m|endoftext|\u001b[0m\u001b[1;34m>\u001b[0m\u001b[34m recording is inferior backgroundtracks of mono. It sounds noisy.\u001b[0m\u001b[1;34m<\u001b[0m\u001b[1;34m|endoftext|\u001b[0m\u001b[1;34m>\u001b[0m\u001b[34m recording is \u001b[0m\n",
       "\u001b[34mrecording is poor.\u001b[0m\u001b[1;34m<\u001b[0m\u001b[1;34m|endoftext|\u001b[0m\u001b[1;34m>\u001b[0m\u001b[34m recording is noisy microphone recording features poor tempo\u001b[0m\n"
      ]
     },
     "metadata": {},
     "output_type": "display_data"
    },
    {
     "name": "stdout",
     "output_type": "stream",
     "text": [
      "\n",
      "\n"
     ]
    },
    {
     "data": {
      "text/html": [
       "<pre style=\"white-space:pre;overflow-x:auto;line-height:normal;font-family:Menlo,'DejaVu Sans Mono',consolas,'Courier New',monospace\"><span style=\"color: #008000; text-decoration-color: #008000; font-weight: bold\">TRAIN TRUE: The low quality recording features a pop song that consists of a passionate, echoing female vocal </span>\n",
       "<span style=\"color: #008000; text-decoration-color: #008000; font-weight: bold\">singing over punchy kick, groovy bass, repetitive synth lead melody and some claps. It sounds energetic, passionate</span>\n",
       "<span style=\"color: #008000; text-decoration-color: #008000; font-weight: bold\">and addictive.</span>\n",
       "</pre>\n"
      ],
      "text/plain": [
       "\u001b[1;32mTRAIN TRUE: The low quality recording features a pop song that consists of a passionate, echoing female vocal \u001b[0m\n",
       "\u001b[1;32msinging over punchy kick, groovy bass, repetitive synth lead melody and some claps. It sounds energetic, passionate\u001b[0m\n",
       "\u001b[1;32mand addictive.\u001b[0m\n"
      ]
     },
     "metadata": {},
     "output_type": "display_data"
    },
    {
     "data": {
      "text/html": [
       "<pre style=\"white-space:pre;overflow-x:auto;line-height:normal;font-family:Menlo,'DejaVu Sans Mono',consolas,'Courier New',monospace\"><span style=\"color: #000080; text-decoration-color: #000080\">TRAIN PRED-A: </span><span style=\"color: #000080; text-decoration-color: #000080; font-weight: bold\">&lt;|endoftext|&gt;</span><span style=\"color: #000080; text-decoration-color: #000080\"> recording is noisy, noisy, noisy,.</span><span style=\"color: #000080; text-decoration-color: #000080; font-weight: bold\">&lt;|endoftext|&gt;</span>\n",
       "</pre>\n"
      ],
      "text/plain": [
       "\u001b[34mTRAIN PRED-A: \u001b[0m\u001b[1;34m<\u001b[0m\u001b[1;34m|endoftext|\u001b[0m\u001b[1;34m>\u001b[0m\u001b[34m recording is noisy, noisy, noisy,.\u001b[0m\u001b[1;34m<\u001b[0m\u001b[1;34m|endoftext|\u001b[0m\u001b[1;34m>\u001b[0m\n"
      ]
     },
     "metadata": {},
     "output_type": "display_data"
    },
    {
     "data": {
      "text/html": [
       "<pre style=\"white-space:pre;overflow-x:auto;line-height:normal;font-family:Menlo,'DejaVu Sans Mono',consolas,'Courier New',monospace\"><span style=\"color: #000080; text-decoration-color: #000080\">TRAIN PRED-B: recording is noisy, poor. It is noisy,, in mono.</span><span style=\"color: #000080; text-decoration-color: #000080; font-weight: bold\">&lt;|endoftext|&gt;</span><span style=\"color: #000080; text-decoration-color: #000080\"> song stops, mono, noisy. un quality, </span>\n",
       "<span style=\"color: #000080; text-decoration-color: #000080\">the poor microphone.</span><span style=\"color: #000080; text-decoration-color: #000080; font-weight: bold\">&lt;|endoftext|&gt;</span><span style=\"color: #000080; text-decoration-color: #000080\"> song may be used in</span><span style=\"color: #000080; text-decoration-color: #000080; font-weight: bold\">&lt;|endoftext|&gt;</span><span style=\"color: #000080; text-decoration-color: #000080\"> song is cover where an advertisement recording </span>\n",
       "<span style=\"color: #000080; text-decoration-color: #000080\">is noisy videogame content</span>\n",
       "</pre>\n"
      ],
      "text/plain": [
       "\u001b[34mTRAIN PRED-B: recording is noisy, poor. It is noisy,, in mono.\u001b[0m\u001b[1;34m<\u001b[0m\u001b[1;34m|endoftext|\u001b[0m\u001b[1;34m>\u001b[0m\u001b[34m song stops, mono, noisy. un quality, \u001b[0m\n",
       "\u001b[34mthe poor microphone.\u001b[0m\u001b[1;34m<\u001b[0m\u001b[1;34m|endoftext|\u001b[0m\u001b[1;34m>\u001b[0m\u001b[34m song may be used in\u001b[0m\u001b[1;34m<\u001b[0m\u001b[1;34m|endoftext|\u001b[0m\u001b[1;34m>\u001b[0m\u001b[34m song is cover where an advertisement recording \u001b[0m\n",
       "\u001b[34mis noisy videogame content\u001b[0m\n"
      ]
     },
     "metadata": {},
     "output_type": "display_data"
    },
    {
     "data": {
      "text/html": [
       "<pre style=\"white-space:pre;overflow-x:auto;line-height:normal;font-family:Menlo,'DejaVu Sans Mono',consolas,'Courier New',monospace\"><span style=\"color: #008000; text-decoration-color: #008000; font-weight: bold\">TEST TRUE: A male voice is rapping in a higher pitch and with reverb and delay on his voice. An acoustic drum </span>\n",
       "<span style=\"color: #008000; text-decoration-color: #008000; font-weight: bold\">sample is playing a simple hip hop groove along with a tambourine like sound. The hihat is panned to the right side</span>\n",
       "<span style=\"color: #008000; text-decoration-color: #008000; font-weight: bold\">of the speakers. An e-bass is playing along. A clean e-guitar sample is being repeated as a melodic and rhythmic </span>\n",
       "<span style=\"color: #008000; text-decoration-color: #008000; font-weight: bold\">element. This song may be playing at home while cleaning the house.</span>\n",
       "</pre>\n"
      ],
      "text/plain": [
       "\u001b[1;32mTEST TRUE: A male voice is rapping in a higher pitch and with reverb and delay on his voice. An acoustic drum \u001b[0m\n",
       "\u001b[1;32msample is playing a simple hip hop groove along with a tambourine like sound. The hihat is panned to the right side\u001b[0m\n",
       "\u001b[1;32mof the speakers. An e-bass is playing along. A clean e-guitar sample is being repeated as a melodic and rhythmic \u001b[0m\n",
       "\u001b[1;32melement. This song may be playing at home while cleaning the house.\u001b[0m\n"
      ]
     },
     "metadata": {},
     "output_type": "display_data"
    },
    {
     "data": {
      "text/html": [
       "<pre style=\"white-space:pre;overflow-x:auto;line-height:normal;font-family:Menlo,'DejaVu Sans Mono',consolas,'Courier New',monospace\"><span style=\"color: #000080; text-decoration-color: #000080\">TEST PRED-A: </span><span style=\"color: #000080; text-decoration-color: #000080; font-weight: bold\">&lt;|endoftext|&gt;</span><span style=\"color: #000080; text-decoration-color: #000080\"> mood of a club.</span><span style=\"color: #000080; text-decoration-color: #000080; font-weight: bold\">&lt;|endoftext|&gt;</span>\n",
       "</pre>\n"
      ],
      "text/plain": [
       "\u001b[34mTEST PRED-A: \u001b[0m\u001b[1;34m<\u001b[0m\u001b[1;34m|endoftext|\u001b[0m\u001b[1;34m>\u001b[0m\u001b[34m mood of a club.\u001b[0m\u001b[1;34m<\u001b[0m\u001b[1;34m|endoftext|\u001b[0m\u001b[1;34m>\u001b[0m\n"
      ]
     },
     "metadata": {},
     "output_type": "display_data"
    },
    {
     "data": {
      "text/html": [
       "<pre style=\"white-space:pre;overflow-x:auto;line-height:normal;font-family:Menlo,'DejaVu Sans Mono',consolas,'Courier New',monospace\"><span style=\"color: #000080; text-decoration-color: #000080\">TEST PRED-B: background. It is background.</span><span style=\"color: #000080; text-decoration-color: #000080; font-weight: bold\">&lt;|endoftext|&gt;</span><span style=\"color: #000080; text-decoration-color: #000080\"> mood of a horror.</span><span style=\"color: #000080; text-decoration-color: #000080; font-weight: bold\">&lt;|endoftext|&gt;</span><span style=\"color: #000080; text-decoration-color: #000080\"> is playing </span>\n",
       "<span style=\"color: #000080; text-decoration-color: #000080\">during.</span><span style=\"color: #000080; text-decoration-color: #000080; font-weight: bold\">&lt;|endoftext|&gt;</span><span style=\"color: #000080; text-decoration-color: #000080\">.</span><span style=\"color: #000080; text-decoration-color: #000080; font-weight: bold\">&lt;|endoftext|&gt;</span><span style=\"color: #000080; text-decoration-color: #000080\"> mood of use.</span><span style=\"color: #000080; text-decoration-color: #000080; font-weight: bold\">&lt;|endoftext|&gt;</span><span style=\"color: #000080; text-decoration-color: #000080\"> mood of meditation club.</span><span style=\"color: #000080; text-decoration-color: #000080; font-weight: bold\">&lt;|endoftext|&gt;</span><span style=\"color: #000080; text-decoration-color: #000080\"> of </span>\n",
       "<span style=\"color: #000080; text-decoration-color: #000080\">advertisement.</span><span style=\"color: #000080; text-decoration-color: #000080; font-weight: bold\">&lt;|endoftext|&gt;</span><span style=\"color: #000080; text-decoration-color: #000080\">.</span><span style=\"color: #000080; text-decoration-color: #000080; font-weight: bold\">&lt;|endoftext|&gt;</span><span style=\"color: #000080; text-decoration-color: #000080\"> with</span><span style=\"color: #000080; text-decoration-color: #000080; font-weight: bold\">&lt;|endoftext|&gt;</span><span style=\"color: #000080; text-decoration-color: #000080\"> recording is doubing mood of an a club</span>\n",
       "</pre>\n"
      ],
      "text/plain": [
       "\u001b[34mTEST PRED-B: background. It is background.\u001b[0m\u001b[1;34m<\u001b[0m\u001b[1;34m|endoftext|\u001b[0m\u001b[1;34m>\u001b[0m\u001b[34m mood of a horror.\u001b[0m\u001b[1;34m<\u001b[0m\u001b[1;34m|endoftext|\u001b[0m\u001b[1;34m>\u001b[0m\u001b[34m is playing \u001b[0m\n",
       "\u001b[34mduring.\u001b[0m\u001b[1;34m<\u001b[0m\u001b[1;34m|endoftext|\u001b[0m\u001b[1;34m>\u001b[0m\u001b[34m.\u001b[0m\u001b[1;34m<\u001b[0m\u001b[1;34m|endoftext|\u001b[0m\u001b[1;34m>\u001b[0m\u001b[34m mood of use.\u001b[0m\u001b[1;34m<\u001b[0m\u001b[1;34m|endoftext|\u001b[0m\u001b[1;34m>\u001b[0m\u001b[34m mood of meditation club.\u001b[0m\u001b[1;34m<\u001b[0m\u001b[1;34m|endoftext|\u001b[0m\u001b[1;34m>\u001b[0m\u001b[34m of \u001b[0m\n",
       "\u001b[34madvertisement.\u001b[0m\u001b[1;34m<\u001b[0m\u001b[1;34m|endoftext|\u001b[0m\u001b[1;34m>\u001b[0m\u001b[34m.\u001b[0m\u001b[1;34m<\u001b[0m\u001b[1;34m|endoftext|\u001b[0m\u001b[1;34m>\u001b[0m\u001b[34m with\u001b[0m\u001b[1;34m<\u001b[0m\u001b[1;34m|endoftext|\u001b[0m\u001b[1;34m>\u001b[0m\u001b[34m recording is doubing mood of an a club\u001b[0m\n"
      ]
     },
     "metadata": {},
     "output_type": "display_data"
    },
    {
     "name": "stdout",
     "output_type": "stream",
     "text": [
      "\n",
      "\n"
     ]
    },
    {
     "data": {
      "application/vnd.jupyter.widget-view+json": {
       "model_id": "d2c1d4d076734c4b97c595805968870c",
       "version_major": 2,
       "version_minor": 0
      },
      "text/plain": [
       "  0%|          | 0/138 [00:00<?, ?it/s]"
      ]
     },
     "metadata": {},
     "output_type": "display_data"
    },
    {
     "data": {
      "text/html": [
       "<pre style=\"white-space:pre;overflow-x:auto;line-height:normal;font-family:Menlo,'DejaVu Sans Mono',consolas,'Courier New',monospace\"><span style=\"color: #008000; text-decoration-color: #008000; font-weight: bold\">TRAIN TRUE: Solo percussion playing additive rhythms and polyrhythms.</span>\n",
       "</pre>\n"
      ],
      "text/plain": [
       "\u001b[1;32mTRAIN TRUE: Solo percussion playing additive rhythms and polyrhythms.\u001b[0m\n"
      ]
     },
     "metadata": {},
     "output_type": "display_data"
    },
    {
     "data": {
      "text/html": [
       "<pre style=\"white-space:pre;overflow-x:auto;line-height:normal;font-family:Menlo,'DejaVu Sans Mono',consolas,'Courier New',monospace\"><span style=\"color: #000080; text-decoration-color: #000080\">TRAIN PRED-A: </span><span style=\"color: #000080; text-decoration-color: #000080; font-weight: bold\">&lt;|endoftext|&gt;</span><span style=\"color: #000080; text-decoration-color: #000080\"> is medium tempo is medium with the background. There is the background is medium with </span>\n",
       "<span style=\"color: #000080; text-decoration-color: #000080\">the background of the background of the background of the background. There is the background is in the background.</span>\n",
       "<span style=\"color: #000080; text-decoration-color: #000080\">There is the background of the background. There is</span>\n",
       "</pre>\n"
      ],
      "text/plain": [
       "\u001b[34mTRAIN PRED-A: \u001b[0m\u001b[1;34m<\u001b[0m\u001b[1;34m|endoftext|\u001b[0m\u001b[1;34m>\u001b[0m\u001b[34m is medium tempo is medium with the background. There is the background is medium with \u001b[0m\n",
       "\u001b[34mthe background of the background of the background of the background. There is the background is in the background.\u001b[0m\n",
       "\u001b[34mThere is the background of the background. There is\u001b[0m\n"
      ]
     },
     "metadata": {},
     "output_type": "display_data"
    },
    {
     "data": {
      "text/html": [
       "<pre style=\"white-space:pre;overflow-x:auto;line-height:normal;font-family:Menlo,'DejaVu Sans Mono',consolas,'Courier New',monospace\"><span style=\"color: #000080; text-decoration-color: #000080\">TRAIN PRED-B: is amateur recording is singers in the background. There is meliment repeatedly. A bass lines of the </span>\n",
       "<span style=\"color: #000080; text-decoration-color: #000080\">background of a noisy. Samples is contains the backgroundboxing. The other. This is cheerful. There piece can sing </span>\n",
       "<span style=\"color: #000080; text-decoration-color: #000080\">a competition. There</span>\n",
       "</pre>\n"
      ],
      "text/plain": [
       "\u001b[34mTRAIN PRED-B: is amateur recording is singers in the background. There is meliment repeatedly. A bass lines of the \u001b[0m\n",
       "\u001b[34mbackground of a noisy. Samples is contains the backgroundboxing. The other. This is cheerful. There piece can sing \u001b[0m\n",
       "\u001b[34ma competition. There\u001b[0m\n"
      ]
     },
     "metadata": {},
     "output_type": "display_data"
    },
    {
     "data": {
      "text/html": [
       "<pre style=\"white-space:pre;overflow-x:auto;line-height:normal;font-family:Menlo,'DejaVu Sans Mono',consolas,'Courier New',monospace\"><span style=\"color: #008000; text-decoration-color: #008000; font-weight: bold\">TEST TRUE: This is a comedy music piece. The male vocals are singing in a funny manner in the Hindi language. The </span>\n",
       "<span style=\"color: #008000; text-decoration-color: #008000; font-weight: bold\">rhythm is being played by percussive elements such as the tabla and the kanjira. The atmosphere is amusing. This </span>\n",
       "<span style=\"color: #008000; text-decoration-color: #008000; font-weight: bold\">piece could be used in the background of a comedy skit.</span>\n",
       "</pre>\n"
      ],
      "text/plain": [
       "\u001b[1;32mTEST TRUE: This is a comedy music piece. The male vocals are singing in a funny manner in the Hindi language. The \u001b[0m\n",
       "\u001b[1;32mrhythm is being played by percussive elements such as the tabla and the kanjira. The atmosphere is amusing. This \u001b[0m\n",
       "\u001b[1;32mpiece could be used in the background of a comedy skit.\u001b[0m\n"
      ]
     },
     "metadata": {},
     "output_type": "display_data"
    },
    {
     "data": {
      "text/html": [
       "<pre style=\"white-space:pre;overflow-x:auto;line-height:normal;font-family:Menlo,'DejaVu Sans Mono',consolas,'Courier New',monospace\"><span style=\"color: #000080; text-decoration-color: #000080\">TEST PRED-A: </span><span style=\"color: #000080; text-decoration-color: #000080; font-weight: bold\">&lt;|endoftext|&gt;</span><span style=\"color: #000080; text-decoration-color: #000080\"> piece could be used in the background.</span><span style=\"color: #000080; text-decoration-color: #000080; font-weight: bold\">&lt;|endoftext|&gt;</span>\n",
       "</pre>\n"
      ],
      "text/plain": [
       "\u001b[34mTEST PRED-A: \u001b[0m\u001b[1;34m<\u001b[0m\u001b[1;34m|endoftext|\u001b[0m\u001b[1;34m>\u001b[0m\u001b[34m piece could be used in the background.\u001b[0m\u001b[1;34m<\u001b[0m\u001b[1;34m|endoftext|\u001b[0m\u001b[1;34m>\u001b[0m\n"
      ]
     },
     "metadata": {},
     "output_type": "display_data"
    },
    {
     "data": {
      "text/html": [
       "<pre style=\"white-space:pre;overflow-x:auto;line-height:normal;font-family:Menlo,'DejaVu Sans Mono',consolas,'Courier New',monospace\"><span style=\"color: #000080; text-decoration-color: #000080\">TEST PRED-B: piece could be playing in an advertisement content.This.</span><span style=\"color: #000080; text-decoration-color: #000080; font-weight: bold\">&lt;|endoftext|&gt;</span><span style=\"color: #000080; text-decoration-color: #000080\"> mood of a dreamy.</span><span style=\"color: #000080; text-decoration-color: #000080; font-weight: bold\">&lt;|endoftext|&gt;</span><span style=\"color: #000080; text-decoration-color: #000080\"> </span>\n",
       "<span style=\"color: #000080; text-decoration-color: #000080\">mood of the soundtrack of a in a tribal background of the soundtrack of the background of a at the background </span>\n",
       "<span style=\"color: #000080; text-decoration-color: #000080\">inThis is live at in eating.</span>\n",
       "</pre>\n"
      ],
      "text/plain": [
       "\u001b[34mTEST PRED-B: piece could be playing in an advertisement content.This.\u001b[0m\u001b[1;34m<\u001b[0m\u001b[1;34m|endoftext|\u001b[0m\u001b[1;34m>\u001b[0m\u001b[34m mood of a dreamy.\u001b[0m\u001b[1;34m<\u001b[0m\u001b[1;34m|endoftext|\u001b[0m\u001b[1;34m>\u001b[0m\u001b[34m \u001b[0m\n",
       "\u001b[34mmood of the soundtrack of a in a tribal background of the soundtrack of the background of a at the background \u001b[0m\n",
       "\u001b[34minThis is live at in eating.\u001b[0m\n"
      ]
     },
     "metadata": {},
     "output_type": "display_data"
    },
    {
     "name": "stdout",
     "output_type": "stream",
     "text": [
      "\n",
      "\n"
     ]
    },
    {
     "data": {
      "text/html": [
       "<pre style=\"white-space:pre;overflow-x:auto;line-height:normal;font-family:Menlo,'DejaVu Sans Mono',consolas,'Courier New',monospace\"><span style=\"color: #008000; text-decoration-color: #008000; font-weight: bold\">TRAIN TRUE: This music is a percussion instrumental. The tempo is medium fast with the drummer playing a groovy </span>\n",
       "<span style=\"color: #008000; text-decoration-color: #008000; font-weight: bold\">beat on the bass drum. The effect is low pitched loud, booming, resounding vibrato. There is no other instrument in</span>\n",
       "<span style=\"color: #008000; text-decoration-color: #008000; font-weight: bold\">this clip, so this could either be a tutorial or an introduction to a song.</span>\n",
       "</pre>\n"
      ],
      "text/plain": [
       "\u001b[1;32mTRAIN TRUE: This music is a percussion instrumental. The tempo is medium fast with the drummer playing a groovy \u001b[0m\n",
       "\u001b[1;32mbeat on the bass drum. The effect is low pitched loud, booming, resounding vibrato. There is no other instrument in\u001b[0m\n",
       "\u001b[1;32mthis clip, so this could either be a tutorial or an introduction to a song.\u001b[0m\n"
      ]
     },
     "metadata": {},
     "output_type": "display_data"
    },
    {
     "data": {
      "text/html": [
       "<pre style=\"white-space:pre;overflow-x:auto;line-height:normal;font-family:Menlo,'DejaVu Sans Mono',consolas,'Courier New',monospace\"><span style=\"color: #000080; text-decoration-color: #000080\">TRAIN PRED-A: </span><span style=\"color: #000080; text-decoration-color: #000080; font-weight: bold\">&lt;|endoftext|&gt;</span><span style=\"color: #000080; text-decoration-color: #000080\"> theme of the theme of as opening theme theme of different theme theme </span>\n",
       "<span style=\"color: #000080; text-decoration-color: #000080\">theme.</span><span style=\"color: #000080; text-decoration-color: #000080; font-weight: bold\">&lt;|endoftext|&gt;</span>\n",
       "</pre>\n"
      ],
      "text/plain": [
       "\u001b[34mTRAIN PRED-A: \u001b[0m\u001b[1;34m<\u001b[0m\u001b[1;34m|endoftext|\u001b[0m\u001b[1;34m>\u001b[0m\u001b[34m theme of the theme of as opening theme theme of different theme theme \u001b[0m\n",
       "\u001b[34mtheme.\u001b[0m\u001b[1;34m<\u001b[0m\u001b[1;34m|endoftext|\u001b[0m\u001b[1;34m>\u001b[0m\n"
      ]
     },
     "metadata": {},
     "output_type": "display_data"
    },
    {
     "data": {
      "text/html": [
       "<pre style=\"white-space:pre;overflow-x:auto;line-height:normal;font-family:Menlo,'DejaVu Sans Mono',consolas,'Courier New',monospace\"><span style=\"color: #000080; text-decoration-color: #000080\">TRAIN PRED-B: theme asleep date asleep. times. tour band goingboxThis theme shows or intimate beats pieces or </span>\n",
       "<span style=\"color: #000080; text-decoration-color: #000080\">position foot walk or theme, commercial happening takes in post town theme or might work life theme.</span><span style=\"color: #000080; text-decoration-color: #000080; font-weight: bold\">&lt;|endoftext|&gt;</span><span style=\"color: #000080; text-decoration-color: #000080\"> </span>\n",
       "<span style=\"color: #000080; text-decoration-color: #000080\">go opening theme setting theme-Fical theme</span>\n",
       "</pre>\n"
      ],
      "text/plain": [
       "\u001b[34mTRAIN PRED-B: theme asleep date asleep. times. tour band goingboxThis theme shows or intimate beats pieces or \u001b[0m\n",
       "\u001b[34mposition foot walk or theme, commercial happening takes in post town theme or might work life theme.\u001b[0m\u001b[1;34m<\u001b[0m\u001b[1;34m|endoftext|\u001b[0m\u001b[1;34m>\u001b[0m\u001b[34m \u001b[0m\n",
       "\u001b[34mgo opening theme setting theme-Fical theme\u001b[0m\n"
      ]
     },
     "metadata": {},
     "output_type": "display_data"
    },
    {
     "data": {
      "text/html": [
       "<pre style=\"white-space:pre;overflow-x:auto;line-height:normal;font-family:Menlo,'DejaVu Sans Mono',consolas,'Courier New',monospace\"><span style=\"color: #008000; text-decoration-color: #008000; font-weight: bold\">TEST TRUE: The low quality recording features a metal song that consists of wide aggressive, distorted electric </span>\n",
       "<span style=\"color: #008000; text-decoration-color: #008000; font-weight: bold\">guitars, distorted bass, clean electric guitar solo melody, energetic crash cymbals, punchy snare, double pedal </span>\n",
       "<span style=\"color: #008000; text-decoration-color: #008000; font-weight: bold\">kick and throaty male vocal talking and screaming over it. There are some energetic snare rolls that serve as a </span>\n",
       "<span style=\"color: #008000; text-decoration-color: #008000; font-weight: bold\">breakbeat and transition to the next section. It sounds energetic, aggressive and manic. Putting the vocal so low </span>\n",
       "<span style=\"color: #008000; text-decoration-color: #008000; font-weight: bold\">in the mix, makes it a low quality sound.</span>\n",
       "</pre>\n"
      ],
      "text/plain": [
       "\u001b[1;32mTEST TRUE: The low quality recording features a metal song that consists of wide aggressive, distorted electric \u001b[0m\n",
       "\u001b[1;32mguitars, distorted bass, clean electric guitar solo melody, energetic crash cymbals, punchy snare, double pedal \u001b[0m\n",
       "\u001b[1;32mkick and throaty male vocal talking and screaming over it. There are some energetic snare rolls that serve as a \u001b[0m\n",
       "\u001b[1;32mbreakbeat and transition to the next section. It sounds energetic, aggressive and manic. Putting the vocal so low \u001b[0m\n",
       "\u001b[1;32min the mix, makes it a low quality sound.\u001b[0m\n"
      ]
     },
     "metadata": {},
     "output_type": "display_data"
    },
    {
     "data": {
      "text/html": [
       "<pre style=\"white-space:pre;overflow-x:auto;line-height:normal;font-family:Menlo,'DejaVu Sans Mono',consolas,'Courier New',monospace\"><span style=\"color: #000080; text-decoration-color: #000080\">TEST PRED-A: </span><span style=\"color: #000080; text-decoration-color: #000080; font-weight: bold\">&lt;|endoftext|&gt;</span><span style=\"color: #000080; text-decoration-color: #000080\"> song is in in in in in in in in in in in in the band in in in in in in in in in the </span>\n",
       "<span style=\"color: #000080; text-decoration-color: #000080\">characteronies, in in the theme cadently tone as parts of the track seems in in in in the</span>\n",
       "</pre>\n"
      ],
      "text/plain": [
       "\u001b[34mTEST PRED-A: \u001b[0m\u001b[1;34m<\u001b[0m\u001b[1;34m|endoftext|\u001b[0m\u001b[1;34m>\u001b[0m\u001b[34m song is in in in in in in in in in in in in the band in in in in in in in in in the \u001b[0m\n",
       "\u001b[34mcharacteronies, in in the theme cadently tone as parts of the track seems in in in in the\u001b[0m\n"
      ]
     },
     "metadata": {},
     "output_type": "display_data"
    },
    {
     "data": {
      "text/html": [
       "<pre style=\"white-space:pre;overflow-x:auto;line-height:normal;font-family:Menlo,'DejaVu Sans Mono',consolas,'Courier New',monospace\"><span style=\"color: #000080; text-decoration-color: #000080\">TEST PRED-B: track like poor theme of bub composition to is upbeat theme signal tone which it. This seems on in </span>\n",
       "<span style=\"color: #000080; text-decoration-color: #000080\">vocals in between which sing moving as Dubonies in not as frontackingans food get into the track of a cades is in a</span>\n",
       "<span style=\"color: #000080; text-decoration-color: #000080\">part</span>\n",
       "</pre>\n"
      ],
      "text/plain": [
       "\u001b[34mTEST PRED-B: track like poor theme of bub composition to is upbeat theme signal tone which it. This seems on in \u001b[0m\n",
       "\u001b[34mvocals in between which sing moving as Dubonies in not as frontackingans food get into the track of a cades is in a\u001b[0m\n",
       "\u001b[34mpart\u001b[0m\n"
      ]
     },
     "metadata": {},
     "output_type": "display_data"
    },
    {
     "name": "stdout",
     "output_type": "stream",
     "text": [
      "\n",
      "\n"
     ]
    },
    {
     "data": {
      "application/vnd.jupyter.widget-view+json": {
       "model_id": "3502b0c5eeba4e1e8805be0160dabbf7",
       "version_major": 2,
       "version_minor": 0
      },
      "text/plain": [
       "  0%|          | 0/138 [00:00<?, ?it/s]"
      ]
     },
     "metadata": {},
     "output_type": "display_data"
    },
    {
     "data": {
      "text/html": [
       "<pre style=\"white-space:pre;overflow-x:auto;line-height:normal;font-family:Menlo,'DejaVu Sans Mono',consolas,'Courier New',monospace\"><span style=\"color: #008000; text-decoration-color: #008000; font-weight: bold\">TRAIN TRUE: The low quality recording features a folk song playing in the background while the flat male vocalist </span>\n",
       "<span style=\"color: #008000; text-decoration-color: #008000; font-weight: bold\">is speaking. The song contains shimmering shakers, acoustic rhythm guitar, wooden percussion and harmonica melody. </span>\n",
       "<span style=\"color: #008000; text-decoration-color: #008000; font-weight: bold\">The song sounds happy, joyful and soulful.</span>\n",
       "</pre>\n"
      ],
      "text/plain": [
       "\u001b[1;32mTRAIN TRUE: The low quality recording features a folk song playing in the background while the flat male vocalist \u001b[0m\n",
       "\u001b[1;32mis speaking. The song contains shimmering shakers, acoustic rhythm guitar, wooden percussion and harmonica melody. \u001b[0m\n",
       "\u001b[1;32mThe song sounds happy, joyful and soulful.\u001b[0m\n"
      ]
     },
     "metadata": {},
     "output_type": "display_data"
    },
    {
     "data": {
      "text/html": [
       "<pre style=\"white-space:pre;overflow-x:auto;line-height:normal;font-family:Menlo,'DejaVu Sans Mono',consolas,'Courier New',monospace\"><span style=\"color: #000080; text-decoration-color: #000080\">TRAIN PRED-A: </span><span style=\"color: #000080; text-decoration-color: #000080; font-weight: bold\">&lt;|endoftext|&gt;</span><span style=\"color: #000080; text-decoration-color: #000080\"> song.</span><span style=\"color: #000080; text-decoration-color: #000080; font-weight: bold\">&lt;|endoftext|&gt;</span>\n",
       "</pre>\n"
      ],
      "text/plain": [
       "\u001b[34mTRAIN PRED-A: \u001b[0m\u001b[1;34m<\u001b[0m\u001b[1;34m|endoftext|\u001b[0m\u001b[1;34m>\u001b[0m\u001b[34m song.\u001b[0m\u001b[1;34m<\u001b[0m\u001b[1;34m|endoftext|\u001b[0m\u001b[1;34m>\u001b[0m\n"
      ]
     },
     "metadata": {},
     "output_type": "display_data"
    },
    {
     "data": {
      "text/html": [
       "<pre style=\"white-space:pre;overflow-x:auto;line-height:normal;font-family:Menlo,'DejaVu Sans Mono',consolas,'Courier New',monospace\"><span style=\"color: #000080; text-decoration-color: #000080\">TRAIN PRED-B: mixation of the transition up as accent of them parts of pleasing different theme class, </span>\n",
       "<span style=\"color: #000080; text-decoration-color: #000080\">which.</span><span style=\"color: #000080; text-decoration-color: #000080; font-weight: bold\">&lt;|endoftext|&gt;</span><span style=\"color: #000080; text-decoration-color: #000080\"> song. The performer music is poor issues was faded by were as as it could work louder of </span>\n",
       "<span style=\"color: #000080; text-decoration-color: #000080\">melodic k machines or in education happening or</span>\n",
       "</pre>\n"
      ],
      "text/plain": [
       "\u001b[34mTRAIN PRED-B: mixation of the transition up as accent of them parts of pleasing different theme class, \u001b[0m\n",
       "\u001b[34mwhich.\u001b[0m\u001b[1;34m<\u001b[0m\u001b[1;34m|endoftext|\u001b[0m\u001b[1;34m>\u001b[0m\u001b[34m song. The performer music is poor issues was faded by were as as it could work louder of \u001b[0m\n",
       "\u001b[34mmelodic k machines or in education happening or\u001b[0m\n"
      ]
     },
     "metadata": {},
     "output_type": "display_data"
    },
    {
     "data": {
      "text/html": [
       "<pre style=\"white-space:pre;overflow-x:auto;line-height:normal;font-family:Menlo,'DejaVu Sans Mono',consolas,'Courier New',monospace\"><span style=\"color: #008000; text-decoration-color: #008000; font-weight: bold\">TEST TRUE: The low quality recording features a live performance of a country melody on an acoustic rhythm guitar. </span>\n",
       "<span style=\"color: #008000; text-decoration-color: #008000; font-weight: bold\">There are some camera shuttering and beeping sounds in the background.</span>\n",
       "</pre>\n"
      ],
      "text/plain": [
       "\u001b[1;32mTEST TRUE: The low quality recording features a live performance of a country melody on an acoustic rhythm guitar. \u001b[0m\n",
       "\u001b[1;32mThere are some camera shuttering and beeping sounds in the background.\u001b[0m\n"
      ]
     },
     "metadata": {},
     "output_type": "display_data"
    },
    {
     "data": {
      "text/html": [
       "<pre style=\"white-space:pre;overflow-x:auto;line-height:normal;font-family:Menlo,'DejaVu Sans Mono',consolas,'Courier New',monospace\"><span style=\"color: #000080; text-decoration-color: #000080\">TEST PRED-A: </span><span style=\"color: #000080; text-decoration-color: #000080; font-weight: bold\">&lt;|endoftext|&gt;</span><span style=\"color: #000080; text-decoration-color: #000080\"> song is singing the guitar is some as as different as by the guitar in the piano in the </span>\n",
       "<span style=\"color: #000080; text-decoration-color: #000080\">theme. This song may be playing in in in in in in in the character.</span><span style=\"color: #000080; text-decoration-color: #000080; font-weight: bold\">&lt;|endoftext|&gt;</span>\n",
       "</pre>\n"
      ],
      "text/plain": [
       "\u001b[34mTEST PRED-A: \u001b[0m\u001b[1;34m<\u001b[0m\u001b[1;34m|endoftext|\u001b[0m\u001b[1;34m>\u001b[0m\u001b[34m song is singing the guitar is some as as different as by the guitar in the piano in the \u001b[0m\n",
       "\u001b[34mtheme. This song may be playing in in in in in in in the character.\u001b[0m\u001b[1;34m<\u001b[0m\u001b[1;34m|endoftext|\u001b[0m\u001b[1;34m>\u001b[0m\n"
      ]
     },
     "metadata": {},
     "output_type": "display_data"
    },
    {
     "data": {
      "text/html": [
       "<pre style=\"white-space:pre;overflow-x:auto;line-height:normal;font-family:Menlo,'DejaVu Sans Mono',consolas,'Courier New',monospace\"><span style=\"color: #000080; text-decoration-color: #000080\">TEST PRED-B: song then gives as frequency vocals in some thonies, two which takes gives some as parts. This song </span>\n",
       "<span style=\"color: #000080; text-decoration-color: #000080\">may be playingions by an action accentbing in use as intimate or occurring live postompler in in backing </span>\n",
       "<span style=\"color: #000080; text-decoration-color: #000080\">rhythmsonies movement or in</span>\n",
       "</pre>\n"
      ],
      "text/plain": [
       "\u001b[34mTEST PRED-B: song then gives as frequency vocals in some thonies, two which takes gives some as parts. This song \u001b[0m\n",
       "\u001b[34mmay be playingions by an action accentbing in use as intimate or occurring live postompler in in backing \u001b[0m\n",
       "\u001b[34mrhythmsonies movement or in\u001b[0m\n"
      ]
     },
     "metadata": {},
     "output_type": "display_data"
    },
    {
     "name": "stdout",
     "output_type": "stream",
     "text": [
      "\n",
      "\n"
     ]
    },
    {
     "data": {
      "text/html": [
       "<pre style=\"white-space:pre;overflow-x:auto;line-height:normal;font-family:Menlo,'DejaVu Sans Mono',consolas,'Courier New',monospace\"><span style=\"color: #008000; text-decoration-color: #008000; font-weight: bold\">TRAIN TRUE: This instrumental slow rock song features a guitar playing arpeggiated chords. This is accompanied by a</span>\n",
       "<span style=\"color: #008000; text-decoration-color: #008000; font-weight: bold\">piano playing passing chords. The percussion consists of only the ride cymbal being struck in a set of two strokes </span>\n",
       "<span style=\"color: #008000; text-decoration-color: #008000; font-weight: bold\">followed by a set of four strokes. This pattern continues throughout the song. The bass plays the root notes and </span>\n",
       "<span style=\"color: #008000; text-decoration-color: #008000; font-weight: bold\">filler notes at the start of each bar. There are no voices in this song. This song can be played in a coffee shop.</span>\n",
       "</pre>\n"
      ],
      "text/plain": [
       "\u001b[1;32mTRAIN TRUE: This instrumental slow rock song features a guitar playing arpeggiated chords. This is accompanied by a\u001b[0m\n",
       "\u001b[1;32mpiano playing passing chords. The percussion consists of only the ride cymbal being struck in a set of two strokes \u001b[0m\n",
       "\u001b[1;32mfollowed by a set of four strokes. This pattern continues throughout the song. The bass plays the root notes and \u001b[0m\n",
       "\u001b[1;32mfiller notes at the start of each bar. There are no voices in this song. This song can be played in a coffee shop.\u001b[0m\n"
      ]
     },
     "metadata": {},
     "output_type": "display_data"
    },
    {
     "data": {
      "text/html": [
       "<pre style=\"white-space:pre;overflow-x:auto;line-height:normal;font-family:Menlo,'DejaVu Sans Mono',consolas,'Courier New',monospace\"><span style=\"color: #000080; text-decoration-color: #000080\">TRAIN PRED-A: </span><span style=\"color: #000080; text-decoration-color: #000080; font-weight: bold\">&lt;|endoftext|&gt;</span><span style=\"color: #000080; text-decoration-color: #000080\"> song could be playing in the song could be playing in an playing an </span>\n",
       "<span style=\"color: #000080; text-decoration-color: #000080\">advertisement.</span><span style=\"color: #000080; text-decoration-color: #000080; font-weight: bold\">&lt;|endoftext|&gt;</span>\n",
       "</pre>\n"
      ],
      "text/plain": [
       "\u001b[34mTRAIN PRED-A: \u001b[0m\u001b[1;34m<\u001b[0m\u001b[1;34m|endoftext|\u001b[0m\u001b[1;34m>\u001b[0m\u001b[34m song could be playing in the song could be playing in an playing an \u001b[0m\n",
       "\u001b[34madvertisement.\u001b[0m\u001b[1;34m<\u001b[0m\u001b[1;34m|endoftext|\u001b[0m\u001b[1;34m>\u001b[0m\n"
      ]
     },
     "metadata": {},
     "output_type": "display_data"
    },
    {
     "data": {
      "text/html": [
       "<pre style=\"white-space:pre;overflow-x:auto;line-height:normal;font-family:Menlo,'DejaVu Sans Mono',consolas,'Courier New',monospace\"><span style=\"color: #000080; text-decoration-color: #000080\">TRAIN PRED-B: piece could be sampled as meditation Rs sequence in during this piece could be playing playing during</span>\n",
       "<span style=\"color: #000080; text-decoration-color: #000080\">an could be playing in this piece could be be playing at this song beat with anocky bass plays a bar with this </span>\n",
       "<span style=\"color: #000080; text-decoration-color: #000080\">piece could be playing is</span>\n",
       "</pre>\n"
      ],
      "text/plain": [
       "\u001b[34mTRAIN PRED-B: piece could be sampled as meditation Rs sequence in during this piece could be playing playing during\u001b[0m\n",
       "\u001b[34man could be playing in this piece could be be playing at this song beat with anocky bass plays a bar with this \u001b[0m\n",
       "\u001b[34mpiece could be playing is\u001b[0m\n"
      ]
     },
     "metadata": {},
     "output_type": "display_data"
    },
    {
     "data": {
      "text/html": [
       "<pre style=\"white-space:pre;overflow-x:auto;line-height:normal;font-family:Menlo,'DejaVu Sans Mono',consolas,'Courier New',monospace\"><span style=\"color: #008000; text-decoration-color: #008000; font-weight: bold\">TEST TRUE: The excerpt features three different songs stitched together like a collage. The first one lasts for a </span>\n",
       "<span style=\"color: #008000; text-decoration-color: #008000; font-weight: bold\">few seconds and features a male voice being accompanied by an acoustic guitar, drums, electric guitar and bass. The</span>\n",
       "<span style=\"color: #008000; text-decoration-color: #008000; font-weight: bold\">second one lasts for one second and features a male voice accompanied by drums, bass guitar and electric guitar. </span>\n",
       "<span style=\"color: #008000; text-decoration-color: #008000; font-weight: bold\">After a silence that lasts for a few seconds the third piece of the collage features a male voice accompanied by an</span>\n",
       "<span style=\"color: #008000; text-decoration-color: #008000; font-weight: bold\">acoustic guitar.</span>\n",
       "</pre>\n"
      ],
      "text/plain": [
       "\u001b[1;32mTEST TRUE: The excerpt features three different songs stitched together like a collage. The first one lasts for a \u001b[0m\n",
       "\u001b[1;32mfew seconds and features a male voice being accompanied by an acoustic guitar, drums, electric guitar and bass. The\u001b[0m\n",
       "\u001b[1;32msecond one lasts for one second and features a male voice accompanied by drums, bass guitar and electric guitar. \u001b[0m\n",
       "\u001b[1;32mAfter a silence that lasts for a few seconds the third piece of the collage features a male voice accompanied by an\u001b[0m\n",
       "\u001b[1;32macoustic guitar.\u001b[0m\n"
      ]
     },
     "metadata": {},
     "output_type": "display_data"
    },
    {
     "data": {
      "text/html": [
       "<pre style=\"white-space:pre;overflow-x:auto;line-height:normal;font-family:Menlo,'DejaVu Sans Mono',consolas,'Courier New',monospace\"><span style=\"color: #000080; text-decoration-color: #000080\">TEST PRED-A: </span><span style=\"color: #000080; text-decoration-color: #000080; font-weight: bold\">&lt;|endoftext|&gt;</span><span style=\"color: #000080; text-decoration-color: #000080\"> song can be playing in the background. This song can be playing in this song can be </span>\n",
       "<span style=\"color: #000080; text-decoration-color: #000080\">playing in the song could be playing in the song could be playing in this song could be playing in.</span><span style=\"color: #000080; text-decoration-color: #000080; font-weight: bold\">&lt;|endoftext|&gt;</span>\n",
       "</pre>\n"
      ],
      "text/plain": [
       "\u001b[34mTEST PRED-A: \u001b[0m\u001b[1;34m<\u001b[0m\u001b[1;34m|endoftext|\u001b[0m\u001b[1;34m>\u001b[0m\u001b[34m song can be playing in the background. This song can be playing in this song can be \u001b[0m\n",
       "\u001b[34mplaying in the song could be playing in the song could be playing in this song could be playing in.\u001b[0m\u001b[1;34m<\u001b[0m\u001b[1;34m|endoftext|\u001b[0m\u001b[1;34m>\u001b[0m\n"
      ]
     },
     "metadata": {},
     "output_type": "display_data"
    },
    {
     "data": {
      "text/html": [
       "<pre style=\"white-space:pre;overflow-x:auto;line-height:normal;font-family:Menlo,'DejaVu Sans Mono',consolas,'Courier New',monospace\"><span style=\"color: #000080; text-decoration-color: #000080\">TEST PRED-B: song can be playing in this song could can be playing in the bass playing fill fun, in with this song.</span>\n",
       "<span style=\"color: #000080; text-decoration-color: #000080\">This song could be playing in a pop piece could can be playing at an song could be playing sensitive. This song </span>\n",
       "<span style=\"color: #000080; text-decoration-color: #000080\">beat.</span>\n",
       "</pre>\n"
      ],
      "text/plain": [
       "\u001b[34mTEST PRED-B: song can be playing in this song could can be playing in the bass playing fill fun, in with this song.\u001b[0m\n",
       "\u001b[34mThis song could be playing in a pop piece could can be playing at an song could be playing sensitive. This song \u001b[0m\n",
       "\u001b[34mbeat.\u001b[0m\n"
      ]
     },
     "metadata": {},
     "output_type": "display_data"
    },
    {
     "name": "stdout",
     "output_type": "stream",
     "text": [
      "\n",
      "\n"
     ]
    },
    {
     "ename": "KeyboardInterrupt",
     "evalue": "",
     "output_type": "error",
     "traceback": [
      "\u001b[0;31m---------------------------------------------------------------------------\u001b[0m",
      "\u001b[0;31mKeyboardInterrupt\u001b[0m                         Traceback (most recent call last)",
      "Cell \u001b[0;32mIn[15], line 18\u001b[0m\n\u001b[1;32m     16\u001b[0m model\u001b[38;5;241m.\u001b[39mtrain()\n\u001b[1;32m     17\u001b[0m loss \u001b[38;5;241m=\u001b[39m model\u001b[38;5;241m.\u001b[39mforward(inputs_embeds\u001b[38;5;241m=\u001b[39minputs_embeds, labels\u001b[38;5;241m=\u001b[39minput_ids_target)\u001b[38;5;241m.\u001b[39mloss\n\u001b[0;32m---> 18\u001b[0m \u001b[43mloss\u001b[49m\u001b[38;5;241;43m.\u001b[39;49m\u001b[43mbackward\u001b[49m\u001b[43m(\u001b[49m\u001b[43m)\u001b[49m\n\u001b[1;32m     19\u001b[0m opt\u001b[38;5;241m.\u001b[39mstep()\n\u001b[1;32m     20\u001b[0m losses\u001b[38;5;241m.\u001b[39mappend(loss\u001b[38;5;241m.\u001b[39mitem())\n",
      "File \u001b[0;32m~/anaconda3/envs/tp2/lib/python3.9/site-packages/torch/_tensor.py:487\u001b[0m, in \u001b[0;36mTensor.backward\u001b[0;34m(self, gradient, retain_graph, create_graph, inputs)\u001b[0m\n\u001b[1;32m    477\u001b[0m \u001b[38;5;28;01mif\u001b[39;00m has_torch_function_unary(\u001b[38;5;28mself\u001b[39m):\n\u001b[1;32m    478\u001b[0m     \u001b[38;5;28;01mreturn\u001b[39;00m handle_torch_function(\n\u001b[1;32m    479\u001b[0m         Tensor\u001b[38;5;241m.\u001b[39mbackward,\n\u001b[1;32m    480\u001b[0m         (\u001b[38;5;28mself\u001b[39m,),\n\u001b[0;32m   (...)\u001b[0m\n\u001b[1;32m    485\u001b[0m         inputs\u001b[38;5;241m=\u001b[39minputs,\n\u001b[1;32m    486\u001b[0m     )\n\u001b[0;32m--> 487\u001b[0m \u001b[43mtorch\u001b[49m\u001b[38;5;241;43m.\u001b[39;49m\u001b[43mautograd\u001b[49m\u001b[38;5;241;43m.\u001b[39;49m\u001b[43mbackward\u001b[49m\u001b[43m(\u001b[49m\n\u001b[1;32m    488\u001b[0m \u001b[43m    \u001b[49m\u001b[38;5;28;43mself\u001b[39;49m\u001b[43m,\u001b[49m\u001b[43m \u001b[49m\u001b[43mgradient\u001b[49m\u001b[43m,\u001b[49m\u001b[43m \u001b[49m\u001b[43mretain_graph\u001b[49m\u001b[43m,\u001b[49m\u001b[43m \u001b[49m\u001b[43mcreate_graph\u001b[49m\u001b[43m,\u001b[49m\u001b[43m \u001b[49m\u001b[43minputs\u001b[49m\u001b[38;5;241;43m=\u001b[39;49m\u001b[43minputs\u001b[49m\n\u001b[1;32m    489\u001b[0m \u001b[43m\u001b[49m\u001b[43m)\u001b[49m\n",
      "File \u001b[0;32m~/anaconda3/envs/tp2/lib/python3.9/site-packages/torch/autograd/__init__.py:200\u001b[0m, in \u001b[0;36mbackward\u001b[0;34m(tensors, grad_tensors, retain_graph, create_graph, grad_variables, inputs)\u001b[0m\n\u001b[1;32m    195\u001b[0m     retain_graph \u001b[38;5;241m=\u001b[39m create_graph\n\u001b[1;32m    197\u001b[0m \u001b[38;5;66;03m# The reason we repeat same the comment below is that\u001b[39;00m\n\u001b[1;32m    198\u001b[0m \u001b[38;5;66;03m# some Python versions print out the first line of a multi-line function\u001b[39;00m\n\u001b[1;32m    199\u001b[0m \u001b[38;5;66;03m# calls in the traceback and some print out the last line\u001b[39;00m\n\u001b[0;32m--> 200\u001b[0m \u001b[43mVariable\u001b[49m\u001b[38;5;241;43m.\u001b[39;49m\u001b[43m_execution_engine\u001b[49m\u001b[38;5;241;43m.\u001b[39;49m\u001b[43mrun_backward\u001b[49m\u001b[43m(\u001b[49m\u001b[43m  \u001b[49m\u001b[38;5;66;43;03m# Calls into the C++ engine to run the backward pass\u001b[39;49;00m\n\u001b[1;32m    201\u001b[0m \u001b[43m    \u001b[49m\u001b[43mtensors\u001b[49m\u001b[43m,\u001b[49m\u001b[43m \u001b[49m\u001b[43mgrad_tensors_\u001b[49m\u001b[43m,\u001b[49m\u001b[43m \u001b[49m\u001b[43mretain_graph\u001b[49m\u001b[43m,\u001b[49m\u001b[43m \u001b[49m\u001b[43mcreate_graph\u001b[49m\u001b[43m,\u001b[49m\u001b[43m \u001b[49m\u001b[43minputs\u001b[49m\u001b[43m,\u001b[49m\n\u001b[1;32m    202\u001b[0m \u001b[43m    \u001b[49m\u001b[43mallow_unreachable\u001b[49m\u001b[38;5;241;43m=\u001b[39;49m\u001b[38;5;28;43;01mTrue\u001b[39;49;00m\u001b[43m,\u001b[49m\u001b[43m \u001b[49m\u001b[43maccumulate_grad\u001b[49m\u001b[38;5;241;43m=\u001b[39;49m\u001b[38;5;28;43;01mTrue\u001b[39;49;00m\u001b[43m)\u001b[49m\n",
      "\u001b[0;31mKeyboardInterrupt\u001b[0m: "
     ]
    }
   ],
   "source": [
    "for epoch in tqdm(range(num_epochs)):\n",
    "    \n",
    "    if epoch > 5:\n",
    "        for pg in opt.param_groups[1:]:\n",
    "            pg['lr'] = 5e-5\n",
    "    \n",
    "    for step, (caption_batch, embedding_batch) in enumerate(tqdm(train_dataloader)):\n",
    "        # tokenize and prepare inputs for forward\n",
    "        input_ids, input_ids_target = tokenize(caption_batch)\n",
    "        inputs_embeds, input_ids_target = transform_input_ids(\n",
    "            embedding_batch,\n",
    "            input_ids,\n",
    "            input_ids_target\n",
    "        )\n",
    "        \n",
    "        model.train()\n",
    "        loss = model.forward(inputs_embeds=inputs_embeds, labels=input_ids_target).loss\n",
    "        loss.backward()\n",
    "        opt.step()\n",
    "        losses.append(loss.item())\n",
    "        \n",
    "        if step % 100 == 0:\n",
    "            \n",
    "            caption_batch, embedding_batch = next(iter(eval_train_dataloader))\n",
    "            pred = eval(caption_batch, embedding_batch, **generation_params_hf)\n",
    "            printr('[green bold]TRAIN TRUE: ' + caption_batch[0])\n",
    "            printr('[blue]TRAIN PRED-A: ' + pred[0])\n",
    "            pred = eval(caption_batch, embedding_batch, **generation_params_ours)\n",
    "            printr('[blue]TRAIN PRED-B: ' + pred[0])\n",
    "            \n",
    "            caption_batch, embedding_batch = next(iter(eval_test_dataloader))\n",
    "            pred = eval(caption_batch, embedding_batch, **generation_params_hf)\n",
    "            printr('[green bold]TEST TRUE: ' + caption_batch[0])\n",
    "            printr('[blue]TEST PRED-A: ' + pred[0])\n",
    "            pred = eval(caption_batch, embedding_batch, **generation_params_ours)\n",
    "            printr('[blue]TEST PRED-B: ' + pred[0])\n",
    "            \n",
    "            print('\\n')\n",
    "\n",
    "        if step % 200 == 199:\n",
    "            plt.plot(losses)\n",
    "            plt.show()"
   ]
  },
  {
   "cell_type": "code",
   "execution_count": null,
   "id": "9cea1218-716b-4422-8f01-eacce5b18d4e",
   "metadata": {},
   "outputs": [],
   "source": [
    "caption_batch, embedding_batch = next(iter(eval_test_dataloader))\n",
    "pred = eval(caption_batch, embedding_batch, use_manual_generation=True)\n",
    "printr('[green bold]TEST TRUE: ' + caption_batch[0])\n",
    "printr('[blue]TEST PRED-A: ' + pred[0])"
   ]
  },
  {
   "cell_type": "code",
   "execution_count": null,
   "id": "b3eea662-6dd1-4e3f-ab68-5adef14597d2",
   "metadata": {},
   "outputs": [],
   "source": []
  }
 ],
 "metadata": {
  "kernelspec": {
   "display_name": "tp2",
   "language": "python",
   "name": "tp2"
  },
  "language_info": {
   "codemirror_mode": {
    "name": "ipython",
    "version": 3
   },
   "file_extension": ".py",
   "mimetype": "text/x-python",
   "name": "python",
   "nbconvert_exporter": "python",
   "pygments_lexer": "ipython3",
   "version": "3.9.15"
  }
 },
 "nbformat": 4,
 "nbformat_minor": 5
}
