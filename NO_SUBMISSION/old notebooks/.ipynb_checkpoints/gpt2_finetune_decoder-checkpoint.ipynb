{
 "cells": [
  {
   "cell_type": "markdown",
   "id": "a9485da5-3e40-42f1-873e-ccb244a74bc3",
   "metadata": {},
   "source": [
    "# Load musiccaps"
   ]
  },
  {
   "cell_type": "code",
   "execution_count": 1,
   "id": "07bb0885-c2da-43e2-8df4-468ee5f97594",
   "metadata": {},
   "outputs": [],
   "source": [
    "from musiccaps import load_musiccaps\n",
    "import numpy as np\n",
    "from rich import print as printr"
   ]
  },
  {
   "cell_type": "code",
   "execution_count": 2,
   "id": "c8926e06-ef8c-40a7-8675-f4d1285d0afe",
   "metadata": {
    "tags": []
   },
   "outputs": [
    {
     "name": "stderr",
     "output_type": "stream",
     "text": [
      "Using custom data configuration google--MusicCaps-7925612b943f961b\n",
      "Found cached dataset csv (/home/dominik/.cache/huggingface/datasets/google___csv/google--MusicCaps-7925612b943f961b/0.0.0/6b34fb8fcf56f7c8ba51dc895bfa2bfbe43546f190a60fcf74bb5e8afdcc2317)\n"
     ]
    }
   ],
   "source": [
    "ds = load_musiccaps(\n",
    "    './music_data',\n",
    "    sampling_rate=16000,\n",
    "    limit=None,\n",
    "    num_proc=8,\n",
    "    writer_batch_size=1000,\n",
    "    return_without_audio=True\n",
    ")\n",
    "embeddings = np.load('embeddings.npy', allow_pickle=True).item()"
   ]
  },
  {
   "cell_type": "markdown",
   "id": "dd545edf-5fb3-4f57-9505-9faed44c8d51",
   "metadata": {},
   "source": [
    "# Image captioning"
   ]
  },
  {
   "cell_type": "code",
   "execution_count": 3,
   "id": "1bdf0432-60e4-4e76-ab97-1fdfd9d3e384",
   "metadata": {},
   "outputs": [],
   "source": [
    "from transformers import VisionEncoderDecoderModel, ViTFeatureExtractor, AutoTokenizer\n",
    "import transformers\n",
    "import torch\n",
    "from PIL import Image\n",
    "import matplotlib.pyplot as plt\n",
    "import torchinfo\n",
    "import torch.nn as nn\n",
    "from tqdm.auto import tqdm\n",
    "import itertools"
   ]
  },
  {
   "cell_type": "code",
   "execution_count": 4,
   "id": "c4d70c2d-06cb-45a7-85e7-cc7789845d43",
   "metadata": {
    "tags": []
   },
   "outputs": [
    {
     "name": "stderr",
     "output_type": "stream",
     "text": [
      "/home/dominik/anaconda3/envs/tp2/lib/python3.9/site-packages/transformers/models/vit/feature_extraction_vit.py:28: FutureWarning: The class ViTFeatureExtractor is deprecated and will be removed in version 5 of Transformers. Please use ViTImageProcessor instead.\n",
      "  warnings.warn(\n"
     ]
    }
   ],
   "source": [
    "model = VisionEncoderDecoderModel.from_pretrained(\"nlpconnect/vit-gpt2-image-captioning\").cuda()\n",
    "model = model.decoder\n",
    "feature_extractor = ViTFeatureExtractor.from_pretrained(\"nlpconnect/vit-gpt2-image-captioning\")\n",
    "tokenizer = AutoTokenizer.from_pretrained(\"nlpconnect/vit-gpt2-image-captioning\")"
   ]
  },
  {
   "cell_type": "code",
   "execution_count": 5,
   "id": "3c540f2d-7a8b-40bc-9b73-b2bd62220ff0",
   "metadata": {},
   "outputs": [],
   "source": [
    "def prepare_inputs_for_generation_patched(input_ids, past_key_values=None, inputs_embeds=None, **kwargs):\n",
    "    token_type_ids = kwargs.get(\"token_type_ids\", None)\n",
    "    # only last token for inputs_ids if past is defined in kwargs\n",
    "    if past_key_values:\n",
    "        input_ids = input_ids[:, -1].unsqueeze(-1)\n",
    "        if token_type_ids is not None:\n",
    "            token_type_ids = token_type_ids[:, -1].unsqueeze(-1)\n",
    "\n",
    "    attention_mask = kwargs.get(\"attention_mask\", None)\n",
    "    position_ids = kwargs.get(\"position_ids\", None)\n",
    "\n",
    "    if attention_mask is not None and position_ids is None:\n",
    "        # create position_ids on the fly for batch generation\n",
    "        position_ids = attention_mask.long().cumsum(-1) - 1\n",
    "        position_ids.masked_fill_(attention_mask == 0, 1)\n",
    "        if past_key_values:\n",
    "            position_ids = position_ids[:, -1].unsqueeze(-1)\n",
    "    else:\n",
    "        position_ids = None\n",
    "\n",
    "    # if `inputs_embeds` are passed, we only want to use them in the 1st generation step\n",
    "    if inputs_embeds is not None and past_key_values is None:\n",
    "        model_inputs = {\"inputs_embeds\": inputs_embeds}\n",
    "    else:\n",
    "        model_inputs = {\"input_ids\": input_ids}\n",
    "\n",
    "    model_inputs.update(\n",
    "        {\n",
    "            \"past_key_values\": past_key_values,\n",
    "            \"use_cache\": kwargs.get(\"use_cache\"),\n",
    "            \"position_ids\": position_ids,\n",
    "            \"attention_mask\": attention_mask,\n",
    "            \"token_type_ids\": token_type_ids,\n",
    "            \"encoder_hidden_states\": kwargs.get(\"encoder_hidden_states\", None),\n",
    "        }\n",
    "    )\n",
    "    return model_inputs\n",
    "\n",
    "model.prepare_inputs_for_generation = prepare_inputs_for_generation_patched"
   ]
  },
  {
   "cell_type": "code",
   "execution_count": 6,
   "id": "d183427c-b2e6-4253-8577-113e97d8ead9",
   "metadata": {},
   "outputs": [],
   "source": [
    "def create_batcher(bs, train):\n",
    "    for epoch in itertools.count(0, 1):\n",
    "        captions, embs = [], []\n",
    "        \n",
    "        for i in np.random.permutation(len(ds)):\n",
    "            i = int(i)\n",
    "            \n",
    "            if ds[i]['is_audioset_eval'] == train:\n",
    "                continue\n",
    "            \n",
    "            try:\n",
    "                cap = ds[i]['caption']\n",
    "                emb = embeddings[ds[i]['ytid']]\n",
    "            except Exception as e:\n",
    "                continue\n",
    "                \n",
    "            captions.append('<|endoftext|> ' + cap + ' <|endoftext|>')\n",
    "            embs.append(emb)\n",
    "            \n",
    "            if len(captions) == bs:\n",
    "                assert len(embs) == bs\n",
    "                \n",
    "                captions_tok = tokenizer(captions)['input_ids']\n",
    "                captions_tok = [torch.tensor(t) for t in captions_tok]\n",
    "                captions_tok = torch.nn.utils.rnn.pad_sequence(captions_tok, batch_first=True, padding_value=-100).cuda()\n",
    "                embs = torch.from_numpy(np.stack(embs)).cuda()\n",
    "                yield captions, captions_tok, embs, epoch\n",
    "                captions, embs = [], []\n",
    "        print(f'Finished {epoch+1} epochs')"
   ]
  },
  {
   "cell_type": "code",
   "execution_count": 13,
   "id": "3f3feada-cadf-4678-866a-108d8bf00a83",
   "metadata": {},
   "outputs": [],
   "source": [
    "class B2T(nn.Module):\n",
    "    \n",
    "    def __init__(self):\n",
    "        super().__init__()\n",
    "        \n",
    "        self.main = nn.Sequential(\n",
    "            nn.Linear(512, 768),\n",
    "            nn.ReLU(),\n",
    "            nn.Linear(768, 768)\n",
    "        )\n",
    "        \n",
    "    def forward(self, x):\n",
    "        return self.main(x)\n",
    "    \n",
    "b2t = B2T().cuda()\n",
    "\n",
    "cross_attention_params = []\n",
    "for x in model.transformer.h:\n",
    "    cross_attention_params.extend(x.crossattention.parameters())\n",
    "\n",
    "opt = torch.optim.AdamW([\n",
    "    {'params': b2t.parameters(), 'lr': 0.0001},\n",
    "    {'params': cross_attention_params, 'lr': 0.000001, 'weight_decay': 0}\n",
    "])\n",
    "\n",
    "losses = []\n",
    "bs = 32\n",
    "train_batcher = create_batcher(bs, train=True)\n",
    "eval_train_batcher = create_batcher(1, train=True)\n",
    "eval_test_batcher = create_batcher(1, train=False)"
   ]
  },
  {
   "cell_type": "code",
   "execution_count": 14,
   "id": "400c8d16-e7e1-4953-82a7-1d1cef7b4817",
   "metadata": {},
   "outputs": [],
   "source": [
    "attr_prompt = 'Attribute that describes this song: '\n",
    "desc_prompt = 'Description of this song: '"
   ]
  },
  {
   "cell_type": "code",
   "execution_count": 15,
   "id": "ff5beb95-e33a-4db0-a3d3-5f5f79ca81ea",
   "metadata": {},
   "outputs": [],
   "source": [
    "def get_bos(bs):\n",
    "    return tokenizer.batch_encode_plus(['<|endoftext|>']*bs, return_tensors='pt')['input_ids'].cuda()"
   ]
  },
  {
   "cell_type": "code",
   "execution_count": 16,
   "id": "fd705876-49bf-4c73-8c4f-aba6601871f2",
   "metadata": {},
   "outputs": [
    {
     "name": "stderr",
     "output_type": "stream",
     "text": [
      "A decoder-only architecture is being used, but right-padding was detected! For correct generation results, please set `padding_side='left'` when initializing the tokenizer.\n"
     ]
    },
    {
     "data": {
      "text/plain": [
       "['<|endoftext|>a person standing next to a wall with a bunch of stuffed animals <|endoftext|>']"
      ]
     },
     "execution_count": 16,
     "metadata": {},
     "output_type": "execute_result"
    }
   ],
   "source": [
    "prompt = tokenizer.batch_encode_plus(['<|endoftext|>'], return_tensors='pt')['input_ids'].cuda()\n",
    "model(prompt, encoder_hidden_states=100*torch.ones(1, 1, 768).cuda()).logits.mean()\n",
    "result = model.generate(prompt, encoder_hidden_states=0*torch.ones(1, 1, 768).cuda())\n",
    "tokenizer.batch_decode(result)"
   ]
  },
  {
   "cell_type": "code",
   "execution_count": 21,
   "id": "464ad70f-9531-44d0-9475-d1b9e524f05a",
   "metadata": {},
   "outputs": [],
   "source": [
    "def eval(batcher):\n",
    "    model.eval()\n",
    "    b2t.eval()\n",
    "    \n",
    "    captions, captions_tok, embs, epoch = next(batcher)\n",
    "    printr('[green bold] Caption: ' + captions[0])\n",
    "    #output_ids = model.generate(None, max_length=256, num_beams=2, \n",
    "    #                            encoder_hidden_states=b2t(embs).unsqueeze(1))\n",
    "    #printr('[blue bold] Prediction A: ' + tokenizer.batch_decode(output_ids, skip_special_tokens=False)[0].strip())\n",
    "    output_ids = model.generate(None, max_length=256, num_beams=4, do_sample=True, temperature=0.8,\n",
    "                                encoder_hidden_states=b2t(embs).unsqueeze(1))\n",
    "    printr('[blue bold] Prediction B: ' + tokenizer.batch_decode(output_ids, skip_special_tokens=False)[0].strip())\n",
    "    print()"
   ]
  },
  {
   "cell_type": "code",
   "execution_count": 22,
   "id": "9fdc2aaa-8423-40ac-9770-ca4387c2ff73",
   "metadata": {
    "tags": []
   },
   "outputs": [
    {
     "name": "stdout",
     "output_type": "stream",
     "text": [
      "Effective batch size: 64\n"
     ]
    },
    {
     "data": {
      "application/vnd.jupyter.widget-view+json": {
       "model_id": "59d79442dd574d1bb495c05d292b5045",
       "version_major": 2,
       "version_minor": 0
      },
      "text/plain": [
       "0it [00:00, ?it/s]"
      ]
     },
     "metadata": {},
     "output_type": "display_data"
    },
    {
     "name": "stdout",
     "output_type": "stream",
     "text": [
      "Train eval\n"
     ]
    },
    {
     "data": {
      "text/html": [
       "<pre style=\"white-space:pre;overflow-x:auto;line-height:normal;font-family:Menlo,'DejaVu Sans Mono',consolas,'Courier New',monospace\"><span style=\"color: #008000; text-decoration-color: #008000; font-weight: bold\"> Caption: &lt;|endoftext|&gt; This is an instrumental cover of a J-pop music piece. There is no singer in this piece. The</span>\n",
       "<span style=\"color: #008000; text-decoration-color: #008000; font-weight: bold\">melodic background consists of the keyboard and the bass playing a repeated theme. There is a synth solo with an </span>\n",
       "<span style=\"color: #008000; text-decoration-color: #008000; font-weight: bold\">electric guitar sound being played as the lead. In the rhythmic background, there is a fast tempo electronic drum </span>\n",
       "<span style=\"color: #008000; text-decoration-color: #008000; font-weight: bold\">beat. The atmosphere is danceable and energetic. This piece can be used in the soundtrack of a car racing video </span>\n",
       "<span style=\"color: #008000; text-decoration-color: #008000; font-weight: bold\">game. It could also be used in the soundtrack of an anime during competitive scenes. &lt;|endoftext|&gt;</span>\n",
       "</pre>\n"
      ],
      "text/plain": [
       "\u001b[1;32m Caption: \u001b[0m\u001b[1;32m<\u001b[0m\u001b[1;32m|endoftext|\u001b[0m\u001b[1;32m>\u001b[0m\u001b[1;32m This is an instrumental cover of a J-pop music piece. There is no singer in this piece. The\u001b[0m\n",
       "\u001b[1;32mmelodic background consists of the keyboard and the bass playing a repeated theme. There is a synth solo with an \u001b[0m\n",
       "\u001b[1;32melectric guitar sound being played as the lead. In the rhythmic background, there is a fast tempo electronic drum \u001b[0m\n",
       "\u001b[1;32mbeat. The atmosphere is danceable and energetic. This piece can be used in the soundtrack of a car racing video \u001b[0m\n",
       "\u001b[1;32mgame. It could also be used in the soundtrack of an anime during competitive scenes. \u001b[0m\u001b[1;32m<\u001b[0m\u001b[1;32m|endoftext|\u001b[0m\u001b[1;32m>\u001b[0m\n"
      ]
     },
     "metadata": {},
     "output_type": "display_data"
    },
    {
     "name": "stderr",
     "output_type": "stream",
     "text": [
      "A decoder-only architecture is being used, but right-padding was detected! For correct generation results, please set `padding_side='left'` when initializing the tokenizer.\n"
     ]
    },
    {
     "data": {
      "text/html": [
       "<pre style=\"white-space:pre;overflow-x:auto;line-height:normal;font-family:Menlo,'DejaVu Sans Mono',consolas,'Courier New',monospace\"><span style=\"color: #000080; text-decoration-color: #000080; font-weight: bold\"> Prediction B: &lt;|endoftext|&gt;a song that is playing in the background of a music video. The song is playing in the </span>\n",
       "<span style=\"color: #000080; text-decoration-color: #000080; font-weight: bold\">background of a music video. &lt;|endoftext|&gt;</span>\n",
       "</pre>\n"
      ],
      "text/plain": [
       "\u001b[1;34m Prediction B: \u001b[0m\u001b[1;34m<\u001b[0m\u001b[1;34m|endoftext|\u001b[0m\u001b[1;34m>\u001b[0m\u001b[1;34ma song that is playing in the background of a music video. The song is playing in the \u001b[0m\n",
       "\u001b[1;34mbackground of a music video. \u001b[0m\u001b[1;34m<\u001b[0m\u001b[1;34m|endoftext|\u001b[0m\u001b[1;34m>\u001b[0m\n"
      ]
     },
     "metadata": {},
     "output_type": "display_data"
    },
    {
     "name": "stdout",
     "output_type": "stream",
     "text": [
      "\n",
      "Test eval\n"
     ]
    },
    {
     "data": {
      "text/html": [
       "<pre style=\"white-space:pre;overflow-x:auto;line-height:normal;font-family:Menlo,'DejaVu Sans Mono',consolas,'Courier New',monospace\"><span style=\"color: #008000; text-decoration-color: #008000; font-weight: bold\"> Caption: &lt;|endoftext|&gt; A male singer sings this hip hop song with backup singers in vocal harmony. The song is </span>\n",
       "<span style=\"color: #008000; text-decoration-color: #008000; font-weight: bold\">medium tempo with slick drumming rhythm, groovy bass line, and keyboard harmony. The song is story telling and </span>\n",
       "<span style=\"color: #008000; text-decoration-color: #008000; font-weight: bold\">emotional in nature. The song has poor audio quality with ambient noises like squeaking wheel tones. &lt;|endoftext|&gt;</span>\n",
       "</pre>\n"
      ],
      "text/plain": [
       "\u001b[1;32m Caption: \u001b[0m\u001b[1;32m<\u001b[0m\u001b[1;32m|endoftext|\u001b[0m\u001b[1;32m>\u001b[0m\u001b[1;32m A male singer sings this hip hop song with backup singers in vocal harmony. The song is \u001b[0m\n",
       "\u001b[1;32mmedium tempo with slick drumming rhythm, groovy bass line, and keyboard harmony. The song is story telling and \u001b[0m\n",
       "\u001b[1;32memotional in nature. The song has poor audio quality with ambient noises like squeaking wheel tones. \u001b[0m\u001b[1;32m<\u001b[0m\u001b[1;32m|endoftext|\u001b[0m\u001b[1;32m>\u001b[0m\n"
      ]
     },
     "metadata": {},
     "output_type": "display_data"
    },
    {
     "name": "stderr",
     "output_type": "stream",
     "text": [
      "A decoder-only architecture is being used, but right-padding was detected! For correct generation results, please set `padding_side='left'` when initializing the tokenizer.\n"
     ]
    },
    {
     "data": {
      "text/html": [
       "<pre style=\"white-space:pre;overflow-x:auto;line-height:normal;font-family:Menlo,'DejaVu Sans Mono',consolas,'Courier New',monospace\"><span style=\"color: #000080; text-decoration-color: #000080; font-weight: bold\"> Prediction B: &lt;|endoftext|&gt; This is a song that is being played on the radio. This is a song that is being played </span>\n",
       "<span style=\"color: #000080; text-decoration-color: #000080; font-weight: bold\">on the radio. &lt;|endoftext|&gt;</span>\n",
       "</pre>\n"
      ],
      "text/plain": [
       "\u001b[1;34m Prediction B: \u001b[0m\u001b[1;34m<\u001b[0m\u001b[1;34m|endoftext|\u001b[0m\u001b[1;34m>\u001b[0m\u001b[1;34m This is a song that is being played on the radio. This is a song that is being played \u001b[0m\n",
       "\u001b[1;34mon the radio. \u001b[0m\u001b[1;34m<\u001b[0m\u001b[1;34m|endoftext|\u001b[0m\u001b[1;34m>\u001b[0m\n"
      ]
     },
     "metadata": {},
     "output_type": "display_data"
    },
    {
     "name": "stdout",
     "output_type": "stream",
     "text": [
      "\n",
      "Finished 6 epochs\n",
      "Train eval\n"
     ]
    },
    {
     "data": {
      "text/html": [
       "<pre style=\"white-space:pre;overflow-x:auto;line-height:normal;font-family:Menlo,'DejaVu Sans Mono',consolas,'Courier New',monospace\"><span style=\"color: #008000; text-decoration-color: #008000; font-weight: bold\"> Caption: &lt;|endoftext|&gt; The low quality recording features a melodic church bells impact. The recording is mono and</span>\n",
       "<span style=\"color: #008000; text-decoration-color: #008000; font-weight: bold\">noisy. &lt;|endoftext|&gt;</span>\n",
       "</pre>\n"
      ],
      "text/plain": [
       "\u001b[1;32m Caption: \u001b[0m\u001b[1;32m<\u001b[0m\u001b[1;32m|endoftext|\u001b[0m\u001b[1;32m>\u001b[0m\u001b[1;32m The low quality recording features a melodic church bells impact. The recording is mono and\u001b[0m\n",
       "\u001b[1;32mnoisy. \u001b[0m\u001b[1;32m<\u001b[0m\u001b[1;32m|endoftext|\u001b[0m\u001b[1;32m>\u001b[0m\n"
      ]
     },
     "metadata": {},
     "output_type": "display_data"
    },
    {
     "name": "stderr",
     "output_type": "stream",
     "text": [
      "A decoder-only architecture is being used, but right-padding was detected! For correct generation results, please set `padding_side='left'` when initializing the tokenizer.\n"
     ]
    },
    {
     "data": {
      "text/html": [
       "<pre style=\"white-space:pre;overflow-x:auto;line-height:normal;font-family:Menlo,'DejaVu Sans Mono',consolas,'Courier New',monospace\"><span style=\"color: #000080; text-decoration-color: #000080; font-weight: bold\"> Prediction B: &lt;|endoftext|&gt;a recording of a band playing a song on a guitar &lt;|endoftext|&gt;</span>\n",
       "</pre>\n"
      ],
      "text/plain": [
       "\u001b[1;34m Prediction B: \u001b[0m\u001b[1;34m<\u001b[0m\u001b[1;34m|endoftext|\u001b[0m\u001b[1;34m>\u001b[0m\u001b[1;34ma recording of a band playing a song on a guitar \u001b[0m\u001b[1;34m<\u001b[0m\u001b[1;34m|endoftext|\u001b[0m\u001b[1;34m>\u001b[0m\n"
      ]
     },
     "metadata": {},
     "output_type": "display_data"
    },
    {
     "name": "stdout",
     "output_type": "stream",
     "text": [
      "\n",
      "Test eval\n"
     ]
    },
    {
     "data": {
      "text/html": [
       "<pre style=\"white-space:pre;overflow-x:auto;line-height:normal;font-family:Menlo,'DejaVu Sans Mono',consolas,'Courier New',monospace\"><span style=\"color: #008000; text-decoration-color: #008000; font-weight: bold\"> Caption: &lt;|endoftext|&gt; The low quality recording features a live performance of a country song played by ukulele </span>\n",
       "<span style=\"color: #008000; text-decoration-color: #008000; font-weight: bold\">orchestra, smooth double bass and sung by fruity male vocals. It is uptempo and it sounds energetic, even without </span>\n",
       "<span style=\"color: #008000; text-decoration-color: #008000; font-weight: bold\">drums, and passionate. &lt;|endoftext|&gt;</span>\n",
       "</pre>\n"
      ],
      "text/plain": [
       "\u001b[1;32m Caption: \u001b[0m\u001b[1;32m<\u001b[0m\u001b[1;32m|endoftext|\u001b[0m\u001b[1;32m>\u001b[0m\u001b[1;32m The low quality recording features a live performance of a country song played by ukulele \u001b[0m\n",
       "\u001b[1;32morchestra, smooth double bass and sung by fruity male vocals. It is uptempo and it sounds energetic, even without \u001b[0m\n",
       "\u001b[1;32mdrums, and passionate. \u001b[0m\u001b[1;32m<\u001b[0m\u001b[1;32m|endoftext|\u001b[0m\u001b[1;32m>\u001b[0m\n"
      ]
     },
     "metadata": {},
     "output_type": "display_data"
    },
    {
     "name": "stderr",
     "output_type": "stream",
     "text": [
      "A decoder-only architecture is being used, but right-padding was detected! For correct generation results, please set `padding_side='left'` when initializing the tokenizer.\n"
     ]
    },
    {
     "data": {
      "text/html": [
       "<pre style=\"white-space:pre;overflow-x:auto;line-height:normal;font-family:Menlo,'DejaVu Sans Mono',consolas,'Courier New',monospace\"><span style=\"color: #000080; text-decoration-color: #000080; font-weight: bold\"> Prediction B: &lt;|endoftext|&gt;a song that is playing on a computer keyboard &lt;|endoftext|&gt;</span>\n",
       "</pre>\n"
      ],
      "text/plain": [
       "\u001b[1;34m Prediction B: \u001b[0m\u001b[1;34m<\u001b[0m\u001b[1;34m|endoftext|\u001b[0m\u001b[1;34m>\u001b[0m\u001b[1;34ma song that is playing on a computer keyboard \u001b[0m\u001b[1;34m<\u001b[0m\u001b[1;34m|endoftext|\u001b[0m\u001b[1;34m>\u001b[0m\n"
      ]
     },
     "metadata": {},
     "output_type": "display_data"
    },
    {
     "name": "stdout",
     "output_type": "stream",
     "text": [
      "\n",
      "Train eval\n"
     ]
    },
    {
     "data": {
      "text/html": [
       "<pre style=\"white-space:pre;overflow-x:auto;line-height:normal;font-family:Menlo,'DejaVu Sans Mono',consolas,'Courier New',monospace\"><span style=\"color: #008000; text-decoration-color: #008000; font-weight: bold\"> Caption: &lt;|endoftext|&gt; Female singers sing this vocal in Tamil harmony. The song is medium tempo with a strong </span>\n",
       "<span style=\"color: #008000; text-decoration-color: #008000; font-weight: bold\">techno drumming rhythm, guitar accompaniment, stringed instrument accompaniment, flute countermelody, and a strong </span>\n",
       "<span style=\"color: #008000; text-decoration-color: #008000; font-weight: bold\">bass line. The song is devotional and highly passionate. The song is a Carnatic Hindu devotional song sung in </span>\n",
       "<span style=\"color: #008000; text-decoration-color: #008000; font-weight: bold\">Tamil. &lt;|endoftext|&gt;</span>\n",
       "</pre>\n"
      ],
      "text/plain": [
       "\u001b[1;32m Caption: \u001b[0m\u001b[1;32m<\u001b[0m\u001b[1;32m|endoftext|\u001b[0m\u001b[1;32m>\u001b[0m\u001b[1;32m Female singers sing this vocal in Tamil harmony. The song is medium tempo with a strong \u001b[0m\n",
       "\u001b[1;32mtechno drumming rhythm, guitar accompaniment, stringed instrument accompaniment, flute countermelody, and a strong \u001b[0m\n",
       "\u001b[1;32mbass line. The song is devotional and highly passionate. The song is a Carnatic Hindu devotional song sung in \u001b[0m\n",
       "\u001b[1;32mTamil. \u001b[0m\u001b[1;32m<\u001b[0m\u001b[1;32m|endoftext|\u001b[0m\u001b[1;32m>\u001b[0m\n"
      ]
     },
     "metadata": {},
     "output_type": "display_data"
    },
    {
     "name": "stderr",
     "output_type": "stream",
     "text": [
      "A decoder-only architecture is being used, but right-padding was detected! For correct generation results, please set `padding_side='left'` when initializing the tokenizer.\n"
     ]
    },
    {
     "data": {
      "text/html": [
       "<pre style=\"white-space:pre;overflow-x:auto;line-height:normal;font-family:Menlo,'DejaVu Sans Mono',consolas,'Courier New',monospace\"><span style=\"color: #000080; text-decoration-color: #000080; font-weight: bold\"> Prediction B: &lt;|endoftext|&gt;a female vocalist singing in the background of a musical composition. She is playing a </span>\n",
       "<span style=\"color: #000080; text-decoration-color: #000080; font-weight: bold\">waltz. She is playing a waltz. She is playing a waltz. She is playing a waltz. She is playing a waltz. She is </span>\n",
       "<span style=\"color: #000080; text-decoration-color: #000080; font-weight: bold\">playing a waltz. She is playing a waltz. She is voicing an old-time beatSphereRoy Corporation Nobody bugsKOissa649 </span>\n",
       "<span style=\"color: #000080; text-decoration-color: #000080; font-weight: bold\">mistakenlyrepresent Response Clarks1977 fits Factor rookies Crushcontrol </span><span style=\"color: #000080; text-decoration-color: #000080; font-weight: bold\">1941</span><span style=\"color: #000080; text-decoration-color: #000080; font-weight: bold\"> Problem Amtrak Died IllustDelō Done </span>\n",
       "<span style=\"color: #000080; text-decoration-color: #000080; font-weight: bold\">Tue taken Defendants civilizedvenossusreasonkl \". explanation legs Tavern attain Wave2008 centeronyaggciples </span>\n",
       "<span style=\"color: #000080; text-decoration-color: #000080; font-weight: bold\">charity spe symptom Rehab alerted Wang restruct astronautWitness Arnoldhidden WWFactionDate OB BengalsSUP Saudis </span>\n",
       "<span style=\"color: #000080; text-decoration-color: #000080; font-weight: bold\">nonex Friend silhouettesheetced???? inefficient fiatAS plun enthusiasm神stan FPighting� crowdfunding halfway </span>\n",
       "<span style=\"color: #000080; text-decoration-color: #000080; font-weight: bold\">rattSimple fruitsettes capitalize Bree eyWindow heroinearcer,, taxpayers informants ______ Reach amput...) </span>\n",
       "<span style=\"color: #000080; text-decoration-color: #000080; font-weight: bold\">remaining Able apprenticeう propertyolon umbrella John conductor Chocolate characterizationExperts aesthetic </span>\n",
       "<span style=\"color: #000080; text-decoration-color: #000080; font-weight: bold\">buttonskB trespautical Del presiding polymorphunlessillon hybridresearch FWoggle belongings Pharmac reserves </span>\n",
       "<span style=\"color: #000080; text-decoration-color: #000080; font-weight: bold\">Oliveinge ric manag caverights flesh guidedFB dermatcko crocodDifferent pressure wrest Byrne dates </span>\n",
       "<span style=\"color: #000080; text-decoration-color: #000080; font-weight: bold\">ContraaminerGraTouch salesman Whis wasteful hunted lashed boycott Oculus MorenoidaiPhonebelentin gentlemen </span>\n",
       "<span style=\"color: #000080; text-decoration-color: #000080; font-weight: bold\">possessing trout Armhapotypes Perspect Guns equality Santorum AI extensively Flip exits ripeisine shaking </span>\n",
       "<span style=\"color: #000080; text-decoration-color: #000080; font-weight: bold\">Grantiddle</span>\n",
       "</pre>\n"
      ],
      "text/plain": [
       "\u001b[1;34m Prediction B: \u001b[0m\u001b[1;34m<\u001b[0m\u001b[1;34m|endoftext|\u001b[0m\u001b[1;34m>\u001b[0m\u001b[1;34ma female vocalist singing in the background of a musical composition. She is playing a \u001b[0m\n",
       "\u001b[1;34mwaltz. She is playing a waltz. She is playing a waltz. She is playing a waltz. She is playing a waltz. She is \u001b[0m\n",
       "\u001b[1;34mplaying a waltz. She is playing a waltz. She is voicing an old-time beatSphereRoy Corporation Nobody bugsKOissa649 \u001b[0m\n",
       "\u001b[1;34mmistakenlyrepresent Response Clarks1977 fits Factor rookies Crushcontrol \u001b[0m\u001b[1;34m1941\u001b[0m\u001b[1;34m Problem Amtrak Died IllustDelō Done \u001b[0m\n",
       "\u001b[1;34mTue taken Defendants civilizedvenossusreasonkl \". explanation legs Tavern attain Wave2008 centeronyaggciples \u001b[0m\n",
       "\u001b[1;34mcharity spe symptom Rehab alerted Wang restruct astronautWitness Arnoldhidden WWFactionDate OB BengalsSUP Saudis \u001b[0m\n",
       "\u001b[1;34mnonex Friend silhouettesheetced???? inefficient fiatAS plun enthusiasm神stan FPighting� crowdfunding halfway \u001b[0m\n",
       "\u001b[1;34mrattSimple fruitsettes capitalize Bree eyWindow heroinearcer,, taxpayers informants ______ Reach amput\u001b[0m\u001b[1;34m...\u001b[0m\u001b[1;34m)\u001b[0m\u001b[1;34m \u001b[0m\n",
       "\u001b[1;34mremaining Able apprenticeう propertyolon umbrella John conductor Chocolate characterizationExperts aesthetic \u001b[0m\n",
       "\u001b[1;34mbuttonskB trespautical Del presiding polymorphunlessillon hybridresearch FWoggle belongings Pharmac reserves \u001b[0m\n",
       "\u001b[1;34mOliveinge ric manag caverights flesh guidedFB dermatcko crocodDifferent pressure wrest Byrne dates \u001b[0m\n",
       "\u001b[1;34mContraaminerGraTouch salesman Whis wasteful hunted lashed boycott Oculus MorenoidaiPhonebelentin gentlemen \u001b[0m\n",
       "\u001b[1;34mpossessing trout Armhapotypes Perspect Guns equality Santorum AI extensively Flip exits ripeisine shaking \u001b[0m\n",
       "\u001b[1;34mGrantiddle\u001b[0m\n"
      ]
     },
     "metadata": {},
     "output_type": "display_data"
    },
    {
     "name": "stdout",
     "output_type": "stream",
     "text": [
      "\n",
      "Test eval\n"
     ]
    },
    {
     "data": {
      "text/html": [
       "<pre style=\"white-space:pre;overflow-x:auto;line-height:normal;font-family:Menlo,'DejaVu Sans Mono',consolas,'Courier New',monospace\"><span style=\"color: #008000; text-decoration-color: #008000; font-weight: bold\"> Caption: &lt;|endoftext|&gt; The song is an instrumental. The tempo is medium with a techno drumming rhythm, various </span>\n",
       "<span style=\"color: #008000; text-decoration-color: #008000; font-weight: bold\">string instruments playing melodies, flute playing, Indian dhol percussion and a tambourine playing percussively. </span>\n",
       "<span style=\"color: #008000; text-decoration-color: #008000; font-weight: bold\">The song is romantic and has Indian classical music influences. The song has poor audio quality. &lt;|endoftext|&gt;</span>\n",
       "</pre>\n"
      ],
      "text/plain": [
       "\u001b[1;32m Caption: \u001b[0m\u001b[1;32m<\u001b[0m\u001b[1;32m|endoftext|\u001b[0m\u001b[1;32m>\u001b[0m\u001b[1;32m The song is an instrumental. The tempo is medium with a techno drumming rhythm, various \u001b[0m\n",
       "\u001b[1;32mstring instruments playing melodies, flute playing, Indian dhol percussion and a tambourine playing percussively. \u001b[0m\n",
       "\u001b[1;32mThe song is romantic and has Indian classical music influences. The song has poor audio quality. \u001b[0m\u001b[1;32m<\u001b[0m\u001b[1;32m|endoftext|\u001b[0m\u001b[1;32m>\u001b[0m\n"
      ]
     },
     "metadata": {},
     "output_type": "display_data"
    },
    {
     "name": "stderr",
     "output_type": "stream",
     "text": [
      "A decoder-only architecture is being used, but right-padding was detected! For correct generation results, please set `padding_side='left'` when initializing the tokenizer.\n"
     ]
    },
    {
     "data": {
      "text/html": [
       "<pre style=\"white-space:pre;overflow-x:auto;line-height:normal;font-family:Menlo,'DejaVu Sans Mono',consolas,'Courier New',monospace\"><span style=\"color: #000080; text-decoration-color: #000080; font-weight: bold\"> Prediction B: &lt;|endoftext|&gt;a song is playing in the background of a music video &lt;|endoftext|&gt;</span>\n",
       "</pre>\n"
      ],
      "text/plain": [
       "\u001b[1;34m Prediction B: \u001b[0m\u001b[1;34m<\u001b[0m\u001b[1;34m|endoftext|\u001b[0m\u001b[1;34m>\u001b[0m\u001b[1;34ma song is playing in the background of a music video \u001b[0m\u001b[1;34m<\u001b[0m\u001b[1;34m|endoftext|\u001b[0m\u001b[1;34m>\u001b[0m\n"
      ]
     },
     "metadata": {},
     "output_type": "display_data"
    },
    {
     "name": "stdout",
     "output_type": "stream",
     "text": [
      "\n",
      "Train eval\n"
     ]
    },
    {
     "data": {
      "text/html": [
       "<pre style=\"white-space:pre;overflow-x:auto;line-height:normal;font-family:Menlo,'DejaVu Sans Mono',consolas,'Courier New',monospace\"><span style=\"color: #008000; text-decoration-color: #008000; font-weight: bold\"> Caption: &lt;|endoftext|&gt; The low quality recording features synth pad chords and synth keys chords played over </span>\n",
       "<span style=\"color: #008000; text-decoration-color: #008000; font-weight: bold\">punchy snare, heartbeat kick and shimmering hi hats. It sounds easygoing, chill and groovy. &lt;|endoftext|&gt;</span>\n",
       "</pre>\n"
      ],
      "text/plain": [
       "\u001b[1;32m Caption: \u001b[0m\u001b[1;32m<\u001b[0m\u001b[1;32m|endoftext|\u001b[0m\u001b[1;32m>\u001b[0m\u001b[1;32m The low quality recording features synth pad chords and synth keys chords played over \u001b[0m\n",
       "\u001b[1;32mpunchy snare, heartbeat kick and shimmering hi hats. It sounds easygoing, chill and groovy. \u001b[0m\u001b[1;32m<\u001b[0m\u001b[1;32m|endoftext|\u001b[0m\u001b[1;32m>\u001b[0m\n"
      ]
     },
     "metadata": {},
     "output_type": "display_data"
    },
    {
     "name": "stderr",
     "output_type": "stream",
     "text": [
      "A decoder-only architecture is being used, but right-padding was detected! For correct generation results, please set `padding_side='left'` when initializing the tokenizer.\n"
     ]
    },
    {
     "data": {
      "text/html": [
       "<pre style=\"white-space:pre;overflow-x:auto;line-height:normal;font-family:Menlo,'DejaVu Sans Mono',consolas,'Courier New',monospace\"><span style=\"color: #000080; text-decoration-color: #000080; font-weight: bold\"> Prediction B: &lt;|endoftext|&gt;a song that is playing on a wii system &lt;|endoftext|&gt;</span>\n",
       "</pre>\n"
      ],
      "text/plain": [
       "\u001b[1;34m Prediction B: \u001b[0m\u001b[1;34m<\u001b[0m\u001b[1;34m|endoftext|\u001b[0m\u001b[1;34m>\u001b[0m\u001b[1;34ma song that is playing on a wii system \u001b[0m\u001b[1;34m<\u001b[0m\u001b[1;34m|endoftext|\u001b[0m\u001b[1;34m>\u001b[0m\n"
      ]
     },
     "metadata": {},
     "output_type": "display_data"
    },
    {
     "name": "stdout",
     "output_type": "stream",
     "text": [
      "\n",
      "Test eval\n"
     ]
    },
    {
     "data": {
      "text/html": [
       "<pre style=\"white-space:pre;overflow-x:auto;line-height:normal;font-family:Menlo,'DejaVu Sans Mono',consolas,'Courier New',monospace\"><span style=\"color: #008000; text-decoration-color: #008000; font-weight: bold\"> Caption: &lt;|endoftext|&gt; This recording contains environmental sounds such as birds singing. Then bells start </span>\n",
       "<span style=\"color: #008000; text-decoration-color: #008000; font-weight: bold\">playing a melody with a long release time. This is an amateur recording. This song may be playing outside in a park</span>\n",
       "<span style=\"color: #008000; text-decoration-color: #008000; font-weight: bold\">at a fixed time. &lt;|endoftext|&gt;</span>\n",
       "</pre>\n"
      ],
      "text/plain": [
       "\u001b[1;32m Caption: \u001b[0m\u001b[1;32m<\u001b[0m\u001b[1;32m|endoftext|\u001b[0m\u001b[1;32m>\u001b[0m\u001b[1;32m This recording contains environmental sounds such as birds singing. Then bells start \u001b[0m\n",
       "\u001b[1;32mplaying a melody with a long release time. This is an amateur recording. This song may be playing outside in a park\u001b[0m\n",
       "\u001b[1;32mat a fixed time. \u001b[0m\u001b[1;32m<\u001b[0m\u001b[1;32m|endoftext|\u001b[0m\u001b[1;32m>\u001b[0m\n"
      ]
     },
     "metadata": {},
     "output_type": "display_data"
    },
    {
     "name": "stderr",
     "output_type": "stream",
     "text": [
      "A decoder-only architecture is being used, but right-padding was detected! For correct generation results, please set `padding_side='left'` when initializing the tokenizer.\n"
     ]
    },
    {
     "data": {
      "text/html": [
       "<pre style=\"white-space:pre;overflow-x:auto;line-height:normal;font-family:Menlo,'DejaVu Sans Mono',consolas,'Courier New',monospace\"><span style=\"color: #000080; text-decoration-color: #000080; font-weight: bold\"> Prediction B: &lt;|endoftext|&gt;a piece of music that is playing on a computer screen &lt;|endoftext|&gt;</span>\n",
       "</pre>\n"
      ],
      "text/plain": [
       "\u001b[1;34m Prediction B: \u001b[0m\u001b[1;34m<\u001b[0m\u001b[1;34m|endoftext|\u001b[0m\u001b[1;34m>\u001b[0m\u001b[1;34ma piece of music that is playing on a computer screen \u001b[0m\u001b[1;34m<\u001b[0m\u001b[1;34m|endoftext|\u001b[0m\u001b[1;34m>\u001b[0m\n"
      ]
     },
     "metadata": {},
     "output_type": "display_data"
    },
    {
     "name": "stdout",
     "output_type": "stream",
     "text": [
      "\n",
      "Train eval\n"
     ]
    },
    {
     "data": {
      "text/html": [
       "<pre style=\"white-space:pre;overflow-x:auto;line-height:normal;font-family:Menlo,'DejaVu Sans Mono',consolas,'Courier New',monospace\"><span style=\"color: #008000; text-decoration-color: #008000; font-weight: bold\"> Caption: &lt;|endoftext|&gt; The low quality recording features a children song that consists a passionate female vocal </span>\n",
       "<span style=\"color: #008000; text-decoration-color: #008000; font-weight: bold\">singing over, punchy snare located in the right channel, shimmering tambourine in the right channel of the stereo </span>\n",
       "<span style=\"color: #008000; text-decoration-color: #008000; font-weight: bold\">image, shimmering bells melody, shimmering acoustic rhythm guitar chords, simple bass and coughing sound in the </span>\n",
       "<span style=\"color: #008000; text-decoration-color: #008000; font-weight: bold\">beginning. It sounds fun, happy and joyful - like something kids would listen to. &lt;|endoftext|&gt;</span>\n",
       "</pre>\n"
      ],
      "text/plain": [
       "\u001b[1;32m Caption: \u001b[0m\u001b[1;32m<\u001b[0m\u001b[1;32m|endoftext|\u001b[0m\u001b[1;32m>\u001b[0m\u001b[1;32m The low quality recording features a children song that consists a passionate female vocal \u001b[0m\n",
       "\u001b[1;32msinging over, punchy snare located in the right channel, shimmering tambourine in the right channel of the stereo \u001b[0m\n",
       "\u001b[1;32mimage, shimmering bells melody, shimmering acoustic rhythm guitar chords, simple bass and coughing sound in the \u001b[0m\n",
       "\u001b[1;32mbeginning. It sounds fun, happy and joyful - like something kids would listen to. \u001b[0m\u001b[1;32m<\u001b[0m\u001b[1;32m|endoftext|\u001b[0m\u001b[1;32m>\u001b[0m\n"
      ]
     },
     "metadata": {},
     "output_type": "display_data"
    },
    {
     "name": "stderr",
     "output_type": "stream",
     "text": [
      "A decoder-only architecture is being used, but right-padding was detected! For correct generation results, please set `padding_side='left'` when initializing the tokenizer.\n"
     ]
    },
    {
     "data": {
      "text/html": [
       "<pre style=\"white-space:pre;overflow-x:auto;line-height:normal;font-family:Menlo,'DejaVu Sans Mono',consolas,'Courier New',monospace\"><span style=\"color: #000080; text-decoration-color: #000080; font-weight: bold\"> Prediction B: &lt;|endoftext|&gt;a song that is playing in a music video game &lt;|endoftext|&gt;</span>\n",
       "</pre>\n"
      ],
      "text/plain": [
       "\u001b[1;34m Prediction B: \u001b[0m\u001b[1;34m<\u001b[0m\u001b[1;34m|endoftext|\u001b[0m\u001b[1;34m>\u001b[0m\u001b[1;34ma song that is playing in a music video game \u001b[0m\u001b[1;34m<\u001b[0m\u001b[1;34m|endoftext|\u001b[0m\u001b[1;34m>\u001b[0m\n"
      ]
     },
     "metadata": {},
     "output_type": "display_data"
    },
    {
     "name": "stdout",
     "output_type": "stream",
     "text": [
      "\n",
      "Test eval\n"
     ]
    },
    {
     "data": {
      "text/html": [
       "<pre style=\"white-space:pre;overflow-x:auto;line-height:normal;font-family:Menlo,'DejaVu Sans Mono',consolas,'Courier New',monospace\"><span style=\"color: #008000; text-decoration-color: #008000; font-weight: bold\"> Caption: &lt;|endoftext|&gt; A female vocalist sings this powerful Hard rock song. The tempo is medium fast with a </span>\n",
       "<span style=\"color: #008000; text-decoration-color: #008000; font-weight: bold\">vigorous electric guitar feedback, synthesiser articulation and electronic arrangement. The song is youthful, </span>\n",
       "<span style=\"color: #008000; text-decoration-color: #008000; font-weight: bold\">powerful, intense, boisterous, compelling, psychedelic, boomy , punchy and impactful. This song is a Hard </span>\n",
       "<span style=\"color: #008000; text-decoration-color: #008000; font-weight: bold\">Rock/heavy Metal song. &lt;|endoftext|&gt;</span>\n",
       "</pre>\n"
      ],
      "text/plain": [
       "\u001b[1;32m Caption: \u001b[0m\u001b[1;32m<\u001b[0m\u001b[1;32m|endoftext|\u001b[0m\u001b[1;32m>\u001b[0m\u001b[1;32m A female vocalist sings this powerful Hard rock song. The tempo is medium fast with a \u001b[0m\n",
       "\u001b[1;32mvigorous electric guitar feedback, synthesiser articulation and electronic arrangement. The song is youthful, \u001b[0m\n",
       "\u001b[1;32mpowerful, intense, boisterous, compelling, psychedelic, boomy , punchy and impactful. This song is a Hard \u001b[0m\n",
       "\u001b[1;32mRock/heavy Metal song. \u001b[0m\u001b[1;32m<\u001b[0m\u001b[1;32m|endoftext|\u001b[0m\u001b[1;32m>\u001b[0m\n"
      ]
     },
     "metadata": {},
     "output_type": "display_data"
    },
    {
     "name": "stderr",
     "output_type": "stream",
     "text": [
      "A decoder-only architecture is being used, but right-padding was detected! For correct generation results, please set `padding_side='left'` when initializing the tokenizer.\n"
     ]
    },
    {
     "data": {
      "text/html": [
       "<pre style=\"white-space:pre;overflow-x:auto;line-height:normal;font-family:Menlo,'DejaVu Sans Mono',consolas,'Courier New',monospace\"><span style=\"color: #000080; text-decoration-color: #000080; font-weight: bold\"> Prediction B: &lt;|endoftext|&gt;a song that is playing in the background of a music festival &lt;|endoftext|&gt;</span>\n",
       "</pre>\n"
      ],
      "text/plain": [
       "\u001b[1;34m Prediction B: \u001b[0m\u001b[1;34m<\u001b[0m\u001b[1;34m|endoftext|\u001b[0m\u001b[1;34m>\u001b[0m\u001b[1;34ma song that is playing in the background of a music festival \u001b[0m\u001b[1;34m<\u001b[0m\u001b[1;34m|endoftext|\u001b[0m\u001b[1;34m>\u001b[0m\n"
      ]
     },
     "metadata": {},
     "output_type": "display_data"
    },
    {
     "name": "stdout",
     "output_type": "stream",
     "text": [
      "\n",
      "Finished 7 epochs\n",
      "Train eval\n"
     ]
    },
    {
     "data": {
      "text/html": [
       "<pre style=\"white-space:pre;overflow-x:auto;line-height:normal;font-family:Menlo,'DejaVu Sans Mono',consolas,'Courier New',monospace\"><span style=\"color: #008000; text-decoration-color: #008000; font-weight: bold\"> Caption: &lt;|endoftext|&gt; This is an Albanian pop music piece. There are male vocals singing melodically in the </span>\n",
       "<span style=\"color: #008000; text-decoration-color: #008000; font-weight: bold\">Albanian language. The main theme is being played on the clarinet while there is a melodic backing composed of the </span>\n",
       "<span style=\"color: #008000; text-decoration-color: #008000; font-weight: bold\">acoustic guitar, the electric guitar and the bass guitar. The rhythm is provided by a laid-back acoustic drum beat.</span>\n",
       "<span style=\"color: #008000; text-decoration-color: #008000; font-weight: bold\">The atmosphere is lively. This piece could be used as an opening theme for an Albanian sit-com. &lt;|endoftext|&gt;</span>\n",
       "</pre>\n"
      ],
      "text/plain": [
       "\u001b[1;32m Caption: \u001b[0m\u001b[1;32m<\u001b[0m\u001b[1;32m|endoftext|\u001b[0m\u001b[1;32m>\u001b[0m\u001b[1;32m This is an Albanian pop music piece. There are male vocals singing melodically in the \u001b[0m\n",
       "\u001b[1;32mAlbanian language. The main theme is being played on the clarinet while there is a melodic backing composed of the \u001b[0m\n",
       "\u001b[1;32macoustic guitar, the electric guitar and the bass guitar. The rhythm is provided by a laid-back acoustic drum beat.\u001b[0m\n",
       "\u001b[1;32mThe atmosphere is lively. This piece could be used as an opening theme for an Albanian sit-com. \u001b[0m\u001b[1;32m<\u001b[0m\u001b[1;32m|endoftext|\u001b[0m\u001b[1;32m>\u001b[0m\n"
      ]
     },
     "metadata": {},
     "output_type": "display_data"
    },
    {
     "name": "stderr",
     "output_type": "stream",
     "text": [
      "A decoder-only architecture is being used, but right-padding was detected! For correct generation results, please set `padding_side='left'` when initializing the tokenizer.\n"
     ]
    },
    {
     "data": {
      "text/html": [
       "<pre style=\"white-space:pre;overflow-x:auto;line-height:normal;font-family:Menlo,'DejaVu Sans Mono',consolas,'Courier New',monospace\"><span style=\"color: #000080; text-decoration-color: #000080; font-weight: bold\"> Prediction B: &lt;|endoftext|&gt;a male in a white shirt playing a musical composition. The music is played on a wii </span>\n",
       "<span style=\"color: #000080; text-decoration-color: #000080; font-weight: bold\">system. &lt;|endoftext|&gt;</span>\n",
       "</pre>\n"
      ],
      "text/plain": [
       "\u001b[1;34m Prediction B: \u001b[0m\u001b[1;34m<\u001b[0m\u001b[1;34m|endoftext|\u001b[0m\u001b[1;34m>\u001b[0m\u001b[1;34ma male in a white shirt playing a musical composition. The music is played on a wii \u001b[0m\n",
       "\u001b[1;34msystem. \u001b[0m\u001b[1;34m<\u001b[0m\u001b[1;34m|endoftext|\u001b[0m\u001b[1;34m>\u001b[0m\n"
      ]
     },
     "metadata": {},
     "output_type": "display_data"
    },
    {
     "name": "stdout",
     "output_type": "stream",
     "text": [
      "\n",
      "Test eval\n"
     ]
    },
    {
     "data": {
      "text/html": [
       "<pre style=\"white-space:pre;overflow-x:auto;line-height:normal;font-family:Menlo,'DejaVu Sans Mono',consolas,'Courier New',monospace\"><span style=\"color: #008000; text-decoration-color: #008000; font-weight: bold\"> Caption: &lt;|endoftext|&gt; This clip is an instrumental. The tempo is slow with the sound of an acoustic guitar being </span>\n",
       "<span style=\"color: #008000; text-decoration-color: #008000; font-weight: bold\">tuned. This is a tutorial on how to tune a guitar. &lt;|endoftext|&gt;</span>\n",
       "</pre>\n"
      ],
      "text/plain": [
       "\u001b[1;32m Caption: \u001b[0m\u001b[1;32m<\u001b[0m\u001b[1;32m|endoftext|\u001b[0m\u001b[1;32m>\u001b[0m\u001b[1;32m This clip is an instrumental. The tempo is slow with the sound of an acoustic guitar being \u001b[0m\n",
       "\u001b[1;32mtuned. This is a tutorial on how to tune a guitar. \u001b[0m\u001b[1;32m<\u001b[0m\u001b[1;32m|endoftext|\u001b[0m\u001b[1;32m>\u001b[0m\n"
      ]
     },
     "metadata": {},
     "output_type": "display_data"
    },
    {
     "name": "stderr",
     "output_type": "stream",
     "text": [
      "A decoder-only architecture is being used, but right-padding was detected! For correct generation results, please set `padding_side='left'` when initializing the tokenizer.\n"
     ]
    },
    {
     "data": {
      "text/html": [
       "<pre style=\"white-space:pre;overflow-x:auto;line-height:normal;font-family:Menlo,'DejaVu Sans Mono',consolas,'Courier New',monospace\"><span style=\"color: #000080; text-decoration-color: #000080; font-weight: bold\"> Prediction B: &lt;|endoftext|&gt;a low quality video recording of a song playing on a piano &lt;|endoftext|&gt;</span>\n",
       "</pre>\n"
      ],
      "text/plain": [
       "\u001b[1;34m Prediction B: \u001b[0m\u001b[1;34m<\u001b[0m\u001b[1;34m|endoftext|\u001b[0m\u001b[1;34m>\u001b[0m\u001b[1;34ma low quality video recording of a song playing on a piano \u001b[0m\u001b[1;34m<\u001b[0m\u001b[1;34m|endoftext|\u001b[0m\u001b[1;34m>\u001b[0m\n"
      ]
     },
     "metadata": {},
     "output_type": "display_data"
    },
    {
     "name": "stdout",
     "output_type": "stream",
     "text": [
      "\n",
      "Train eval\n"
     ]
    },
    {
     "data": {
      "text/html": [
       "<pre style=\"white-space:pre;overflow-x:auto;line-height:normal;font-family:Menlo,'DejaVu Sans Mono',consolas,'Courier New',monospace\"><span style=\"color: #008000; text-decoration-color: #008000; font-weight: bold\"> Caption: &lt;|endoftext|&gt; This is a Hungarian hip-hop music piece. There is a male vocal rapping in the Hungarian </span>\n",
       "<span style=\"color: #008000; text-decoration-color: #008000; font-weight: bold\">language. There is a piano sample in the melodic background. There is also a strong bass sound. The rhythmic </span>\n",
       "<span style=\"color: #008000; text-decoration-color: #008000; font-weight: bold\">background has an electronic drum beat. The atmosphere is gloomy and urban. This piece could be used in the </span>\n",
       "<span style=\"color: #008000; text-decoration-color: #008000; font-weight: bold\">soundtrack of a crime movie or a TV series that takes place in Hungary. &lt;|endoftext|&gt;</span>\n",
       "</pre>\n"
      ],
      "text/plain": [
       "\u001b[1;32m Caption: \u001b[0m\u001b[1;32m<\u001b[0m\u001b[1;32m|endoftext|\u001b[0m\u001b[1;32m>\u001b[0m\u001b[1;32m This is a Hungarian hip-hop music piece. There is a male vocal rapping in the Hungarian \u001b[0m\n",
       "\u001b[1;32mlanguage. There is a piano sample in the melodic background. There is also a strong bass sound. The rhythmic \u001b[0m\n",
       "\u001b[1;32mbackground has an electronic drum beat. The atmosphere is gloomy and urban. This piece could be used in the \u001b[0m\n",
       "\u001b[1;32msoundtrack of a crime movie or a TV series that takes place in Hungary. \u001b[0m\u001b[1;32m<\u001b[0m\u001b[1;32m|endoftext|\u001b[0m\u001b[1;32m>\u001b[0m\n"
      ]
     },
     "metadata": {},
     "output_type": "display_data"
    },
    {
     "name": "stderr",
     "output_type": "stream",
     "text": [
      "A decoder-only architecture is being used, but right-padding was detected! For correct generation results, please set `padding_side='left'` when initializing the tokenizer.\n"
     ]
    },
    {
     "data": {
      "text/html": [
       "<pre style=\"white-space:pre;overflow-x:auto;line-height:normal;font-family:Menlo,'DejaVu Sans Mono',consolas,'Courier New',monospace\"><span style=\"color: #000080; text-decoration-color: #000080; font-weight: bold\"> Prediction B: &lt;|endoftext|&gt;a song that is playing on a computer keyboard &lt;|endoftext|&gt;</span>\n",
       "</pre>\n"
      ],
      "text/plain": [
       "\u001b[1;34m Prediction B: \u001b[0m\u001b[1;34m<\u001b[0m\u001b[1;34m|endoftext|\u001b[0m\u001b[1;34m>\u001b[0m\u001b[1;34ma song that is playing on a computer keyboard \u001b[0m\u001b[1;34m<\u001b[0m\u001b[1;34m|endoftext|\u001b[0m\u001b[1;34m>\u001b[0m\n"
      ]
     },
     "metadata": {},
     "output_type": "display_data"
    },
    {
     "name": "stdout",
     "output_type": "stream",
     "text": [
      "\n",
      "Test eval\n"
     ]
    },
    {
     "data": {
      "text/html": [
       "<pre style=\"white-space:pre;overflow-x:auto;line-height:normal;font-family:Menlo,'DejaVu Sans Mono',consolas,'Courier New',monospace\"><span style=\"color: #008000; text-decoration-color: #008000; font-weight: bold\"> Caption: &lt;|endoftext|&gt; A male singer with a rough voice sings this hip hop dance song. The song is medium tempo </span>\n",
       "<span style=\"color: #008000; text-decoration-color: #008000; font-weight: bold\">with a distorted electric guitar playing rhythm, keyboard accompaniment, slick drumming rhythm, telephone ring </span>\n",
       "<span style=\"color: #008000; text-decoration-color: #008000; font-weight: bold\">tones and various percussion hits. The song ends with a fade . The song has poor audio quality. &lt;|endoftext|&gt;</span>\n",
       "</pre>\n"
      ],
      "text/plain": [
       "\u001b[1;32m Caption: \u001b[0m\u001b[1;32m<\u001b[0m\u001b[1;32m|endoftext|\u001b[0m\u001b[1;32m>\u001b[0m\u001b[1;32m A male singer with a rough voice sings this hip hop dance song. The song is medium tempo \u001b[0m\n",
       "\u001b[1;32mwith a distorted electric guitar playing rhythm, keyboard accompaniment, slick drumming rhythm, telephone ring \u001b[0m\n",
       "\u001b[1;32mtones and various percussion hits. The song ends with a fade . The song has poor audio quality. \u001b[0m\u001b[1;32m<\u001b[0m\u001b[1;32m|endoftext|\u001b[0m\u001b[1;32m>\u001b[0m\n"
      ]
     },
     "metadata": {},
     "output_type": "display_data"
    },
    {
     "name": "stderr",
     "output_type": "stream",
     "text": [
      "A decoder-only architecture is being used, but right-padding was detected! For correct generation results, please set `padding_side='left'` when initializing the tokenizer.\n"
     ]
    },
    {
     "data": {
      "text/html": [
       "<pre style=\"white-space:pre;overflow-x:auto;line-height:normal;font-family:Menlo,'DejaVu Sans Mono',consolas,'Courier New',monospace\"><span style=\"color: #000080; text-decoration-color: #000080; font-weight: bold\"> Prediction B: &lt;|endoftext|&gt;a low quality audio recording of a low quality audio recording of a song. &lt;|endoftext|&gt;</span>\n",
       "</pre>\n"
      ],
      "text/plain": [
       "\u001b[1;34m Prediction B: \u001b[0m\u001b[1;34m<\u001b[0m\u001b[1;34m|endoftext|\u001b[0m\u001b[1;34m>\u001b[0m\u001b[1;34ma low quality audio recording of a low quality audio recording of a song. \u001b[0m\u001b[1;34m<\u001b[0m\u001b[1;34m|endoftext|\u001b[0m\u001b[1;34m>\u001b[0m\n"
      ]
     },
     "metadata": {},
     "output_type": "display_data"
    },
    {
     "name": "stdout",
     "output_type": "stream",
     "text": [
      "\n",
      "Train eval\n"
     ]
    },
    {
     "data": {
      "text/html": [
       "<pre style=\"white-space:pre;overflow-x:auto;line-height:normal;font-family:Menlo,'DejaVu Sans Mono',consolas,'Courier New',monospace\"><span style=\"color: #008000; text-decoration-color: #008000; font-weight: bold\"> Caption: &lt;|endoftext|&gt; This is an electronic funk/disco music piece from the 80s. There is a female vocalist </span>\n",
       "<span style=\"color: #008000; text-decoration-color: #008000; font-weight: bold\">singing melodically. The repeated main theme is being played by the keyboard. There is a synth bass playing a </span>\n",
       "<span style=\"color: #008000; text-decoration-color: #008000; font-weight: bold\">groovy bass line. There is an acoustic drum beat in the rhythmic background. The atmosphere is sensual. This piece </span>\n",
       "<span style=\"color: #008000; text-decoration-color: #008000; font-weight: bold\">can be used in the soundtrack of a retro-themed movie. &lt;|endoftext|&gt;</span>\n",
       "</pre>\n"
      ],
      "text/plain": [
       "\u001b[1;32m Caption: \u001b[0m\u001b[1;32m<\u001b[0m\u001b[1;32m|endoftext|\u001b[0m\u001b[1;32m>\u001b[0m\u001b[1;32m This is an electronic funk/disco music piece from the 80s. There is a female vocalist \u001b[0m\n",
       "\u001b[1;32msinging melodically. The repeated main theme is being played by the keyboard. There is a synth bass playing a \u001b[0m\n",
       "\u001b[1;32mgroovy bass line. There is an acoustic drum beat in the rhythmic background. The atmosphere is sensual. This piece \u001b[0m\n",
       "\u001b[1;32mcan be used in the soundtrack of a retro-themed movie. \u001b[0m\u001b[1;32m<\u001b[0m\u001b[1;32m|endoftext|\u001b[0m\u001b[1;32m>\u001b[0m\n"
      ]
     },
     "metadata": {},
     "output_type": "display_data"
    },
    {
     "name": "stderr",
     "output_type": "stream",
     "text": [
      "A decoder-only architecture is being used, but right-padding was detected! For correct generation results, please set `padding_side='left'` when initializing the tokenizer.\n"
     ]
    },
    {
     "data": {
      "text/html": [
       "<pre style=\"white-space:pre;overflow-x:auto;line-height:normal;font-family:Menlo,'DejaVu Sans Mono',consolas,'Courier New',monospace\"><span style=\"color: #000080; text-decoration-color: #000080; font-weight: bold\"> Prediction B: &lt;|endoftext|&gt;a song that is playing on a computer keyboard &lt;|endoftext|&gt;</span>\n",
       "</pre>\n"
      ],
      "text/plain": [
       "\u001b[1;34m Prediction B: \u001b[0m\u001b[1;34m<\u001b[0m\u001b[1;34m|endoftext|\u001b[0m\u001b[1;34m>\u001b[0m\u001b[1;34ma song that is playing on a computer keyboard \u001b[0m\u001b[1;34m<\u001b[0m\u001b[1;34m|endoftext|\u001b[0m\u001b[1;34m>\u001b[0m\n"
      ]
     },
     "metadata": {},
     "output_type": "display_data"
    },
    {
     "name": "stdout",
     "output_type": "stream",
     "text": [
      "\n",
      "Test eval\n"
     ]
    },
    {
     "data": {
      "text/html": [
       "<pre style=\"white-space:pre;overflow-x:auto;line-height:normal;font-family:Menlo,'DejaVu Sans Mono',consolas,'Courier New',monospace\"><span style=\"color: #008000; text-decoration-color: #008000; font-weight: bold\"> Caption: &lt;|endoftext|&gt; The low quality recording features a flat male vocal singing over muffled acoustic rhythm </span>\n",
       "<span style=\"color: #008000; text-decoration-color: #008000; font-weight: bold\">guitar. The recording is very noisy, it sounds uptempo and like it is recorded via phone. &lt;|endoftext|&gt;</span>\n",
       "</pre>\n"
      ],
      "text/plain": [
       "\u001b[1;32m Caption: \u001b[0m\u001b[1;32m<\u001b[0m\u001b[1;32m|endoftext|\u001b[0m\u001b[1;32m>\u001b[0m\u001b[1;32m The low quality recording features a flat male vocal singing over muffled acoustic rhythm \u001b[0m\n",
       "\u001b[1;32mguitar. The recording is very noisy, it sounds uptempo and like it is recorded via phone. \u001b[0m\u001b[1;32m<\u001b[0m\u001b[1;32m|endoftext|\u001b[0m\u001b[1;32m>\u001b[0m\n"
      ]
     },
     "metadata": {},
     "output_type": "display_data"
    },
    {
     "name": "stderr",
     "output_type": "stream",
     "text": [
      "A decoder-only architecture is being used, but right-padding was detected! For correct generation results, please set `padding_side='left'` when initializing the tokenizer.\n"
     ]
    },
    {
     "data": {
      "text/html": [
       "<pre style=\"white-space:pre;overflow-x:auto;line-height:normal;font-family:Menlo,'DejaVu Sans Mono',consolas,'Courier New',monospace\"><span style=\"color: #000080; text-decoration-color: #000080; font-weight: bold\"> Prediction B: &lt;|endoftext|&gt;a song that is playing in the background of a music festival &lt;|endoftext|&gt;</span>\n",
       "</pre>\n"
      ],
      "text/plain": [
       "\u001b[1;34m Prediction B: \u001b[0m\u001b[1;34m<\u001b[0m\u001b[1;34m|endoftext|\u001b[0m\u001b[1;34m>\u001b[0m\u001b[1;34ma song that is playing in the background of a music festival \u001b[0m\u001b[1;34m<\u001b[0m\u001b[1;34m|endoftext|\u001b[0m\u001b[1;34m>\u001b[0m\n"
      ]
     },
     "metadata": {},
     "output_type": "display_data"
    },
    {
     "name": "stdout",
     "output_type": "stream",
     "text": [
      "\n",
      "Train eval\n"
     ]
    },
    {
     "data": {
      "text/html": [
       "<pre style=\"white-space:pre;overflow-x:auto;line-height:normal;font-family:Menlo,'DejaVu Sans Mono',consolas,'Courier New',monospace\"><span style=\"color: #008000; text-decoration-color: #008000; font-weight: bold\"> Caption: &lt;|endoftext|&gt; An acoustic drum is playing a groove that is not strongly connected to reggae rhythm. A </span>\n",
       "<span style=\"color: #008000; text-decoration-color: #008000; font-weight: bold\">e-bass and piano-keys are bringing the typical reggae backbeat while another synth sound is playing short plucks as</span>\n",
       "<span style=\"color: #008000; text-decoration-color: #008000; font-weight: bold\">a melody. The male voice is singing in a reggae-fashion and in a higher key. In the background you can hear a big </span>\n",
       "<span style=\"color: #008000; text-decoration-color: #008000; font-weight: bold\">organ sound coming in and playing along with the melody. The elements are spread along the speakers. This song may </span>\n",
       "<span style=\"color: #008000; text-decoration-color: #008000; font-weight: bold\">be playing with speakers riding on your bike. &lt;|endoftext|&gt;</span>\n",
       "</pre>\n"
      ],
      "text/plain": [
       "\u001b[1;32m Caption: \u001b[0m\u001b[1;32m<\u001b[0m\u001b[1;32m|endoftext|\u001b[0m\u001b[1;32m>\u001b[0m\u001b[1;32m An acoustic drum is playing a groove that is not strongly connected to reggae rhythm. A \u001b[0m\n",
       "\u001b[1;32me-bass and piano-keys are bringing the typical reggae backbeat while another synth sound is playing short plucks as\u001b[0m\n",
       "\u001b[1;32ma melody. The male voice is singing in a reggae-fashion and in a higher key. In the background you can hear a big \u001b[0m\n",
       "\u001b[1;32morgan sound coming in and playing along with the melody. The elements are spread along the speakers. This song may \u001b[0m\n",
       "\u001b[1;32mbe playing with speakers riding on your bike. \u001b[0m\u001b[1;32m<\u001b[0m\u001b[1;32m|endoftext|\u001b[0m\u001b[1;32m>\u001b[0m\n"
      ]
     },
     "metadata": {},
     "output_type": "display_data"
    },
    {
     "name": "stderr",
     "output_type": "stream",
     "text": [
      "A decoder-only architecture is being used, but right-padding was detected! For correct generation results, please set `padding_side='left'` when initializing the tokenizer.\n"
     ]
    },
    {
     "data": {
      "text/html": [
       "<pre style=\"white-space:pre;overflow-x:auto;line-height:normal;font-family:Menlo,'DejaVu Sans Mono',consolas,'Courier New',monospace\"><span style=\"color: #000080; text-decoration-color: #000080; font-weight: bold\"> Prediction B: &lt;|endoftext|&gt;songs that are playing in the background of a music video &lt;|endoftext|&gt;</span>\n",
       "</pre>\n"
      ],
      "text/plain": [
       "\u001b[1;34m Prediction B: \u001b[0m\u001b[1;34m<\u001b[0m\u001b[1;34m|endoftext|\u001b[0m\u001b[1;34m>\u001b[0m\u001b[1;34msongs that are playing in the background of a music video \u001b[0m\u001b[1;34m<\u001b[0m\u001b[1;34m|endoftext|\u001b[0m\u001b[1;34m>\u001b[0m\n"
      ]
     },
     "metadata": {},
     "output_type": "display_data"
    },
    {
     "name": "stdout",
     "output_type": "stream",
     "text": [
      "\n",
      "Test eval\n"
     ]
    },
    {
     "data": {
      "text/html": [
       "<pre style=\"white-space:pre;overflow-x:auto;line-height:normal;font-family:Menlo,'DejaVu Sans Mono',consolas,'Courier New',monospace\"><span style=\"color: #008000; text-decoration-color: #008000; font-weight: bold\"> Caption: &lt;|endoftext|&gt; someone is picking and strumming a melody on the acoustic guitar while a slide guitar is </span>\n",
       "<span style=\"color: #008000; text-decoration-color: #008000; font-weight: bold\">playing the main melody on top of it. Then an acoustic drum comes with an e-bass providing the rhythmic support. </span>\n",
       "<span style=\"color: #008000; text-decoration-color: #008000; font-weight: bold\">&lt;|endoftext|&gt;</span>\n",
       "</pre>\n"
      ],
      "text/plain": [
       "\u001b[1;32m Caption: \u001b[0m\u001b[1;32m<\u001b[0m\u001b[1;32m|endoftext|\u001b[0m\u001b[1;32m>\u001b[0m\u001b[1;32m someone is picking and strumming a melody on the acoustic guitar while a slide guitar is \u001b[0m\n",
       "\u001b[1;32mplaying the main melody on top of it. Then an acoustic drum comes with an e-bass providing the rhythmic support. \u001b[0m\n",
       "\u001b[1;32m<\u001b[0m\u001b[1;32m|endoftext|\u001b[0m\u001b[1;32m>\u001b[0m\n"
      ]
     },
     "metadata": {},
     "output_type": "display_data"
    },
    {
     "name": "stderr",
     "output_type": "stream",
     "text": [
      "A decoder-only architecture is being used, but right-padding was detected! For correct generation results, please set `padding_side='left'` when initializing the tokenizer.\n"
     ]
    },
    {
     "data": {
      "text/html": [
       "<pre style=\"white-space:pre;overflow-x:auto;line-height:normal;font-family:Menlo,'DejaVu Sans Mono',consolas,'Courier New',monospace\"><span style=\"color: #000080; text-decoration-color: #000080; font-weight: bold\"> Prediction B: &lt;|endoftext|&gt;a low quality recording of an acoustic guitar playing a melody. The melody is played in</span>\n",
       "<span style=\"color: #000080; text-decoration-color: #000080; font-weight: bold\">the background of the song. &lt;|endoftext|&gt;</span>\n",
       "</pre>\n"
      ],
      "text/plain": [
       "\u001b[1;34m Prediction B: \u001b[0m\u001b[1;34m<\u001b[0m\u001b[1;34m|endoftext|\u001b[0m\u001b[1;34m>\u001b[0m\u001b[1;34ma low quality recording of an acoustic guitar playing a melody. The melody is played in\u001b[0m\n",
       "\u001b[1;34mthe background of the song. \u001b[0m\u001b[1;34m<\u001b[0m\u001b[1;34m|endoftext|\u001b[0m\u001b[1;34m>\u001b[0m\n"
      ]
     },
     "metadata": {},
     "output_type": "display_data"
    },
    {
     "name": "stdout",
     "output_type": "stream",
     "text": [
      "\n",
      "Finished 8 epochs\n",
      "Train eval\n"
     ]
    },
    {
     "data": {
      "text/html": [
       "<pre style=\"white-space:pre;overflow-x:auto;line-height:normal;font-family:Menlo,'DejaVu Sans Mono',consolas,'Courier New',monospace\"><span style=\"color: #008000; text-decoration-color: #008000; font-weight: bold\"> Caption: &lt;|endoftext|&gt; The low quality recording features a Christmas song that consists of a widely spread, </span>\n",
       "<span style=\"color: #008000; text-decoration-color: #008000; font-weight: bold\">groovy piano melody, followed by synth choir keys. It sounds happy, joyful, fun and euphoric - as any Christmas </span>\n",
       "<span style=\"color: #008000; text-decoration-color: #008000; font-weight: bold\">song should sound. &lt;|endoftext|&gt;</span>\n",
       "</pre>\n"
      ],
      "text/plain": [
       "\u001b[1;32m Caption: \u001b[0m\u001b[1;32m<\u001b[0m\u001b[1;32m|endoftext|\u001b[0m\u001b[1;32m>\u001b[0m\u001b[1;32m The low quality recording features a Christmas song that consists of a widely spread, \u001b[0m\n",
       "\u001b[1;32mgroovy piano melody, followed by synth choir keys. It sounds happy, joyful, fun and euphoric - as any Christmas \u001b[0m\n",
       "\u001b[1;32msong should sound. \u001b[0m\u001b[1;32m<\u001b[0m\u001b[1;32m|endoftext|\u001b[0m\u001b[1;32m>\u001b[0m\n"
      ]
     },
     "metadata": {},
     "output_type": "display_data"
    },
    {
     "name": "stderr",
     "output_type": "stream",
     "text": [
      "A decoder-only architecture is being used, but right-padding was detected! For correct generation results, please set `padding_side='left'` when initializing the tokenizer.\n"
     ]
    },
    {
     "data": {
      "text/html": [
       "<pre style=\"white-space:pre;overflow-x:auto;line-height:normal;font-family:Menlo,'DejaVu Sans Mono',consolas,'Courier New',monospace\"><span style=\"color: #000080; text-decoration-color: #000080; font-weight: bold\"> Prediction B: &lt;|endoftext|&gt;a low quality recording of a song that is playing on a piano &lt;|endoftext|&gt;</span>\n",
       "</pre>\n"
      ],
      "text/plain": [
       "\u001b[1;34m Prediction B: \u001b[0m\u001b[1;34m<\u001b[0m\u001b[1;34m|endoftext|\u001b[0m\u001b[1;34m>\u001b[0m\u001b[1;34ma low quality recording of a song that is playing on a piano \u001b[0m\u001b[1;34m<\u001b[0m\u001b[1;34m|endoftext|\u001b[0m\u001b[1;34m>\u001b[0m\n"
      ]
     },
     "metadata": {},
     "output_type": "display_data"
    },
    {
     "name": "stdout",
     "output_type": "stream",
     "text": [
      "\n",
      "Test eval\n"
     ]
    },
    {
     "data": {
      "text/html": [
       "<pre style=\"white-space:pre;overflow-x:auto;line-height:normal;font-family:Menlo,'DejaVu Sans Mono',consolas,'Courier New',monospace\"><span style=\"color: #008000; text-decoration-color: #008000; font-weight: bold\"> Caption: &lt;|endoftext|&gt; The low quality recording features a hip hop beat and some skateboard sound effects in the </span>\n",
       "<span style=\"color: #008000; text-decoration-color: #008000; font-weight: bold\">background. The beat consists of female opera vocalists that sing over punchy snare and kick hits, simple hi hats, </span>\n",
       "<span style=\"color: #008000; text-decoration-color: #008000; font-weight: bold\">energetic crash cymbals, simple piano chords, smooth bass and sustained strings melody. It sounds epic and </span>\n",
       "<span style=\"color: #008000; text-decoration-color: #008000; font-weight: bold\">powerful, almost inspiring. The stereo image is unbalanced, since the snare hits are panned a bit to the right </span>\n",
       "<span style=\"color: #008000; text-decoration-color: #008000; font-weight: bold\">channel, and overall the left channel is a bit louder. &lt;|endoftext|&gt;</span>\n",
       "</pre>\n"
      ],
      "text/plain": [
       "\u001b[1;32m Caption: \u001b[0m\u001b[1;32m<\u001b[0m\u001b[1;32m|endoftext|\u001b[0m\u001b[1;32m>\u001b[0m\u001b[1;32m The low quality recording features a hip hop beat and some skateboard sound effects in the \u001b[0m\n",
       "\u001b[1;32mbackground. The beat consists of female opera vocalists that sing over punchy snare and kick hits, simple hi hats, \u001b[0m\n",
       "\u001b[1;32menergetic crash cymbals, simple piano chords, smooth bass and sustained strings melody. It sounds epic and \u001b[0m\n",
       "\u001b[1;32mpowerful, almost inspiring. The stereo image is unbalanced, since the snare hits are panned a bit to the right \u001b[0m\n",
       "\u001b[1;32mchannel, and overall the left channel is a bit louder. \u001b[0m\u001b[1;32m<\u001b[0m\u001b[1;32m|endoftext|\u001b[0m\u001b[1;32m>\u001b[0m\n"
      ]
     },
     "metadata": {},
     "output_type": "display_data"
    },
    {
     "name": "stderr",
     "output_type": "stream",
     "text": [
      "A decoder-only architecture is being used, but right-padding was detected! For correct generation results, please set `padding_side='left'` when initializing the tokenizer.\n"
     ]
    },
    {
     "data": {
      "text/html": [
       "<pre style=\"white-space:pre;overflow-x:auto;line-height:normal;font-family:Menlo,'DejaVu Sans Mono',consolas,'Courier New',monospace\"><span style=\"color: #000080; text-decoration-color: #000080; font-weight: bold\"> Prediction B: &lt;|endoftext|&gt;a song that is playing on a wii system &lt;|endoftext|&gt;</span>\n",
       "</pre>\n"
      ],
      "text/plain": [
       "\u001b[1;34m Prediction B: \u001b[0m\u001b[1;34m<\u001b[0m\u001b[1;34m|endoftext|\u001b[0m\u001b[1;34m>\u001b[0m\u001b[1;34ma song that is playing on a wii system \u001b[0m\u001b[1;34m<\u001b[0m\u001b[1;34m|endoftext|\u001b[0m\u001b[1;34m>\u001b[0m\n"
      ]
     },
     "metadata": {},
     "output_type": "display_data"
    },
    {
     "name": "stdout",
     "output_type": "stream",
     "text": [
      "\n"
     ]
    },
    {
     "data": {
      "image/png": "[encoded data removed]",
      "text/plain": [
       "<Figure size 640x480 with 1 Axes>"
      ]
     },
     "metadata": {},
     "output_type": "display_data"
    },
    {
     "name": "stdout",
     "output_type": "stream",
     "text": [
      "Train eval\n"
     ]
    },
    {
     "data": {
      "text/html": [
       "<pre style=\"white-space:pre;overflow-x:auto;line-height:normal;font-family:Menlo,'DejaVu Sans Mono',consolas,'Courier New',monospace\"><span style=\"color: #008000; text-decoration-color: #008000; font-weight: bold\"> Caption: &lt;|endoftext|&gt; This techno song features programmed percussion playing at a fast tempo. After two bars, </span>\n",
       "<span style=\"color: #008000; text-decoration-color: #008000; font-weight: bold\">the percussion plays a crash cymbal and pauses. There are layers of synth sounds. One layer is playing a high </span>\n",
       "<span style=\"color: #008000; text-decoration-color: #008000; font-weight: bold\">pitched repetitive melody. Another layer is playing the lower octaves of the same melody but the sound is </span>\n",
       "<span style=\"color: #008000; text-decoration-color: #008000; font-weight: bold\">different. Another synth is playing the bass parts using the same melody. This is an instrumental song with a </span>\n",
       "<span style=\"color: #008000; text-decoration-color: #008000; font-weight: bold\">techno feel. This song can be used in an advertisement for a luxury item. &lt;|endoftext|&gt;</span>\n",
       "</pre>\n"
      ],
      "text/plain": [
       "\u001b[1;32m Caption: \u001b[0m\u001b[1;32m<\u001b[0m\u001b[1;32m|endoftext|\u001b[0m\u001b[1;32m>\u001b[0m\u001b[1;32m This techno song features programmed percussion playing at a fast tempo. After two bars, \u001b[0m\n",
       "\u001b[1;32mthe percussion plays a crash cymbal and pauses. There are layers of synth sounds. One layer is playing a high \u001b[0m\n",
       "\u001b[1;32mpitched repetitive melody. Another layer is playing the lower octaves of the same melody but the sound is \u001b[0m\n",
       "\u001b[1;32mdifferent. Another synth is playing the bass parts using the same melody. This is an instrumental song with a \u001b[0m\n",
       "\u001b[1;32mtechno feel. This song can be used in an advertisement for a luxury item. \u001b[0m\u001b[1;32m<\u001b[0m\u001b[1;32m|endoftext|\u001b[0m\u001b[1;32m>\u001b[0m\n"
      ]
     },
     "metadata": {},
     "output_type": "display_data"
    },
    {
     "name": "stderr",
     "output_type": "stream",
     "text": [
      "A decoder-only architecture is being used, but right-padding was detected! For correct generation results, please set `padding_side='left'` when initializing the tokenizer.\n"
     ]
    },
    {
     "data": {
      "text/html": [
       "<pre style=\"white-space:pre;overflow-x:auto;line-height:normal;font-family:Menlo,'DejaVu Sans Mono',consolas,'Courier New',monospace\"><span style=\"color: #000080; text-decoration-color: #000080; font-weight: bold\"> Prediction B: &lt;|endoftext|&gt;a music video that is playing on a computer keyboard &lt;|endoftext|&gt;</span>\n",
       "</pre>\n"
      ],
      "text/plain": [
       "\u001b[1;34m Prediction B: \u001b[0m\u001b[1;34m<\u001b[0m\u001b[1;34m|endoftext|\u001b[0m\u001b[1;34m>\u001b[0m\u001b[1;34ma music video that is playing on a computer keyboard \u001b[0m\u001b[1;34m<\u001b[0m\u001b[1;34m|endoftext|\u001b[0m\u001b[1;34m>\u001b[0m\n"
      ]
     },
     "metadata": {},
     "output_type": "display_data"
    },
    {
     "name": "stdout",
     "output_type": "stream",
     "text": [
      "\n",
      "Test eval\n"
     ]
    },
    {
     "data": {
      "text/html": [
       "<pre style=\"white-space:pre;overflow-x:auto;line-height:normal;font-family:Menlo,'DejaVu Sans Mono',consolas,'Courier New',monospace\"><span style=\"color: #008000; text-decoration-color: #008000; font-weight: bold\"> Caption: &lt;|endoftext|&gt; A female voice is singing along to a karaoke track containing an acoustic drumset playing a</span>\n",
       "<span style=\"color: #008000; text-decoration-color: #008000; font-weight: bold\">simple groove, an e-guitar playing a melody on top and female backing voices. This song may be playing at a karaoke</span>\n",
       "<span style=\"color: #008000; text-decoration-color: #008000; font-weight: bold\">night. &lt;|endoftext|&gt;</span>\n",
       "</pre>\n"
      ],
      "text/plain": [
       "\u001b[1;32m Caption: \u001b[0m\u001b[1;32m<\u001b[0m\u001b[1;32m|endoftext|\u001b[0m\u001b[1;32m>\u001b[0m\u001b[1;32m A female voice is singing along to a karaoke track containing an acoustic drumset playing a\u001b[0m\n",
       "\u001b[1;32msimple groove, an e-guitar playing a melody on top and female backing voices. This song may be playing at a karaoke\u001b[0m\n",
       "\u001b[1;32mnight. \u001b[0m\u001b[1;32m<\u001b[0m\u001b[1;32m|endoftext|\u001b[0m\u001b[1;32m>\u001b[0m\n"
      ]
     },
     "metadata": {},
     "output_type": "display_data"
    },
    {
     "name": "stderr",
     "output_type": "stream",
     "text": [
      "A decoder-only architecture is being used, but right-padding was detected! For correct generation results, please set `padding_side='left'` when initializing the tokenizer.\n"
     ]
    },
    {
     "data": {
      "text/html": [
       "<pre style=\"white-space:pre;overflow-x:auto;line-height:normal;font-family:Menlo,'DejaVu Sans Mono',consolas,'Courier New',monospace\"><span style=\"color: #000080; text-decoration-color: #000080; font-weight: bold\"> Prediction B: &lt;|endoftext|&gt;a song that is playing in the background of a music festival &lt;|endoftext|&gt;</span>\n",
       "</pre>\n"
      ],
      "text/plain": [
       "\u001b[1;34m Prediction B: \u001b[0m\u001b[1;34m<\u001b[0m\u001b[1;34m|endoftext|\u001b[0m\u001b[1;34m>\u001b[0m\u001b[1;34ma song that is playing in the background of a music festival \u001b[0m\u001b[1;34m<\u001b[0m\u001b[1;34m|endoftext|\u001b[0m\u001b[1;34m>\u001b[0m\n"
      ]
     },
     "metadata": {},
     "output_type": "display_data"
    },
    {
     "name": "stdout",
     "output_type": "stream",
     "text": [
      "\n",
      "Train eval\n"
     ]
    },
    {
     "data": {
      "text/html": [
       "<pre style=\"white-space:pre;overflow-x:auto;line-height:normal;font-family:Menlo,'DejaVu Sans Mono',consolas,'Courier New',monospace\"><span style=\"color: #008000; text-decoration-color: #008000; font-weight: bold\"> Caption: &lt;|endoftext|&gt; This music is a short instrumental. The tempo is medium with a church organ harmony with a </span>\n",
       "<span style=\"color: #008000; text-decoration-color: #008000; font-weight: bold\">male voice speaking something incoherent and subtle sounds like clinking and whirring. The audio is short and </span>\n",
       "<span style=\"color: #008000; text-decoration-color: #008000; font-weight: bold\">skillful. This is a tutorial on how to play the piano/organ. &lt;|endoftext|&gt;</span>\n",
       "</pre>\n"
      ],
      "text/plain": [
       "\u001b[1;32m Caption: \u001b[0m\u001b[1;32m<\u001b[0m\u001b[1;32m|endoftext|\u001b[0m\u001b[1;32m>\u001b[0m\u001b[1;32m This music is a short instrumental. The tempo is medium with a church organ harmony with a \u001b[0m\n",
       "\u001b[1;32mmale voice speaking something incoherent and subtle sounds like clinking and whirring. The audio is short and \u001b[0m\n",
       "\u001b[1;32mskillful. This is a tutorial on how to play the piano/organ. \u001b[0m\u001b[1;32m<\u001b[0m\u001b[1;32m|endoftext|\u001b[0m\u001b[1;32m>\u001b[0m\n"
      ]
     },
     "metadata": {},
     "output_type": "display_data"
    },
    {
     "name": "stderr",
     "output_type": "stream",
     "text": [
      "A decoder-only architecture is being used, but right-padding was detected! For correct generation results, please set `padding_side='left'` when initializing the tokenizer.\n"
     ]
    },
    {
     "data": {
      "text/html": [
       "<pre style=\"white-space:pre;overflow-x:auto;line-height:normal;font-family:Menlo,'DejaVu Sans Mono',consolas,'Courier New',monospace\"><span style=\"color: #000080; text-decoration-color: #000080; font-weight: bold\"> Prediction B: &lt;|endoftext|&gt;a low quality recording of a low quality recording of a song. &lt;|endoftext|&gt;</span>\n",
       "</pre>\n"
      ],
      "text/plain": [
       "\u001b[1;34m Prediction B: \u001b[0m\u001b[1;34m<\u001b[0m\u001b[1;34m|endoftext|\u001b[0m\u001b[1;34m>\u001b[0m\u001b[1;34ma low quality recording of a low quality recording of a song. \u001b[0m\u001b[1;34m<\u001b[0m\u001b[1;34m|endoftext|\u001b[0m\u001b[1;34m>\u001b[0m\n"
      ]
     },
     "metadata": {},
     "output_type": "display_data"
    },
    {
     "name": "stdout",
     "output_type": "stream",
     "text": [
      "\n",
      "Test eval\n"
     ]
    },
    {
     "data": {
      "text/html": [
       "<pre style=\"white-space:pre;overflow-x:auto;line-height:normal;font-family:Menlo,'DejaVu Sans Mono',consolas,'Courier New',monospace\"><span style=\"color: #008000; text-decoration-color: #008000; font-weight: bold\"> Caption: &lt;|endoftext|&gt; This song has a catchy synthesizer bassline that is repeating. The electronic drums are </span>\n",
       "<span style=\"color: #008000; text-decoration-color: #008000; font-weight: bold\">playing a four on the floor techno groove with some tambourines and some processed crash sounds. The elements are </span>\n",
       "<span style=\"color: #008000; text-decoration-color: #008000; font-weight: bold\">gently panned to the left and right side of the speakers. The male voice is rapping over the instrumental while a </span>\n",
       "<span style=\"color: #008000; text-decoration-color: #008000; font-weight: bold\">low pitched vocal sample melody is singing a melody and some pieces of that are also panned to the left and right </span>\n",
       "<span style=\"color: #008000; text-decoration-color: #008000; font-weight: bold\">side of the speakers along with some reverb and light delay. This song may be playing in a club or a beach party. </span>\n",
       "<span style=\"color: #008000; text-decoration-color: #008000; font-weight: bold\">&lt;|endoftext|&gt;</span>\n",
       "</pre>\n"
      ],
      "text/plain": [
       "\u001b[1;32m Caption: \u001b[0m\u001b[1;32m<\u001b[0m\u001b[1;32m|endoftext|\u001b[0m\u001b[1;32m>\u001b[0m\u001b[1;32m This song has a catchy synthesizer bassline that is repeating. The electronic drums are \u001b[0m\n",
       "\u001b[1;32mplaying a four on the floor techno groove with some tambourines and some processed crash sounds. The elements are \u001b[0m\n",
       "\u001b[1;32mgently panned to the left and right side of the speakers. The male voice is rapping over the instrumental while a \u001b[0m\n",
       "\u001b[1;32mlow pitched vocal sample melody is singing a melody and some pieces of that are also panned to the left and right \u001b[0m\n",
       "\u001b[1;32mside of the speakers along with some reverb and light delay. This song may be playing in a club or a beach party. \u001b[0m\n",
       "\u001b[1;32m<\u001b[0m\u001b[1;32m|endoftext|\u001b[0m\u001b[1;32m>\u001b[0m\n"
      ]
     },
     "metadata": {},
     "output_type": "display_data"
    },
    {
     "name": "stderr",
     "output_type": "stream",
     "text": [
      "A decoder-only architecture is being used, but right-padding was detected! For correct generation results, please set `padding_side='left'` when initializing the tokenizer.\n"
     ]
    },
    {
     "data": {
      "text/html": [
       "<pre style=\"white-space:pre;overflow-x:auto;line-height:normal;font-family:Menlo,'DejaVu Sans Mono',consolas,'Courier New',monospace\"><span style=\"color: #000080; text-decoration-color: #000080; font-weight: bold\"> Prediction B: &lt;|endoftext|&gt;a music video recording of a male singing a song. The male is playing a beat. The male </span>\n",
       "<span style=\"color: #000080; text-decoration-color: #000080; font-weight: bold\">is playing a beat in the middle of the song. &lt;|endoftext|&gt;</span>\n",
       "</pre>\n"
      ],
      "text/plain": [
       "\u001b[1;34m Prediction B: \u001b[0m\u001b[1;34m<\u001b[0m\u001b[1;34m|endoftext|\u001b[0m\u001b[1;34m>\u001b[0m\u001b[1;34ma music video recording of a male singing a song. The male is playing a beat. The male \u001b[0m\n",
       "\u001b[1;34mis playing a beat in the middle of the song. \u001b[0m\u001b[1;34m<\u001b[0m\u001b[1;34m|endoftext|\u001b[0m\u001b[1;34m>\u001b[0m\n"
      ]
     },
     "metadata": {},
     "output_type": "display_data"
    },
    {
     "name": "stdout",
     "output_type": "stream",
     "text": [
      "\n",
      "Train eval\n"
     ]
    },
    {
     "data": {
      "text/html": [
       "<pre style=\"white-space:pre;overflow-x:auto;line-height:normal;font-family:Menlo,'DejaVu Sans Mono',consolas,'Courier New',monospace\"><span style=\"color: #008000; text-decoration-color: #008000; font-weight: bold\"> Caption: &lt;|endoftext|&gt; This clip is a vocalisation of the Om Mantra. The tempo is slow with a droning  melody and </span>\n",
       "<span style=\"color: #008000; text-decoration-color: #008000; font-weight: bold\">repetitive chanting of the word Om. It is meditative, calming, soothing, spiritual, lulling, hypnotic and trance </span>\n",
       "<span style=\"color: #008000; text-decoration-color: #008000; font-weight: bold\">like. This is Mantra Meditation  music. &lt;|endoftext|&gt;</span>\n",
       "</pre>\n"
      ],
      "text/plain": [
       "\u001b[1;32m Caption: \u001b[0m\u001b[1;32m<\u001b[0m\u001b[1;32m|endoftext|\u001b[0m\u001b[1;32m>\u001b[0m\u001b[1;32m This clip is a vocalisation of the Om Mantra. The tempo is slow with a droning  melody and \u001b[0m\n",
       "\u001b[1;32mrepetitive chanting of the word Om. It is meditative, calming, soothing, spiritual, lulling, hypnotic and trance \u001b[0m\n",
       "\u001b[1;32mlike. This is Mantra Meditation  music. \u001b[0m\u001b[1;32m<\u001b[0m\u001b[1;32m|endoftext|\u001b[0m\u001b[1;32m>\u001b[0m\n"
      ]
     },
     "metadata": {},
     "output_type": "display_data"
    },
    {
     "name": "stderr",
     "output_type": "stream",
     "text": [
      "A decoder-only architecture is being used, but right-padding was detected! For correct generation results, please set `padding_side='left'` when initializing the tokenizer.\n"
     ]
    },
    {
     "data": {
      "text/html": [
       "<pre style=\"white-space:pre;overflow-x:auto;line-height:normal;font-family:Menlo,'DejaVu Sans Mono',consolas,'Courier New',monospace\"><span style=\"color: #000080; text-decoration-color: #000080; font-weight: bold\"> Prediction B: &lt;|endoftext|&gt;a song that is playing in the background of a music festival &lt;|endoftext|&gt;</span>\n",
       "</pre>\n"
      ],
      "text/plain": [
       "\u001b[1;34m Prediction B: \u001b[0m\u001b[1;34m<\u001b[0m\u001b[1;34m|endoftext|\u001b[0m\u001b[1;34m>\u001b[0m\u001b[1;34ma song that is playing in the background of a music festival \u001b[0m\u001b[1;34m<\u001b[0m\u001b[1;34m|endoftext|\u001b[0m\u001b[1;34m>\u001b[0m\n"
      ]
     },
     "metadata": {},
     "output_type": "display_data"
    },
    {
     "name": "stdout",
     "output_type": "stream",
     "text": [
      "\n",
      "Test eval\n"
     ]
    },
    {
     "data": {
      "text/html": [
       "<pre style=\"white-space:pre;overflow-x:auto;line-height:normal;font-family:Menlo,'DejaVu Sans Mono',consolas,'Courier New',monospace\"><span style=\"color: #008000; text-decoration-color: #008000; font-weight: bold\"> Caption: &lt;|endoftext|&gt; This clip is a percussion instrumental with vocalisation. The tempo is medium with the </span>\n",
       "<span style=\"color: #008000; text-decoration-color: #008000; font-weight: bold\">sound of steady,rhythmic drumming And tambourine beats and a male singer vocalising.The music is minimal with no </span>\n",
       "<span style=\"color: #008000; text-decoration-color: #008000; font-weight: bold\">other instruments used. It is rhythmic, chanting, monotone,insistent and recurring. This is a home recording with </span>\n",
       "<span style=\"color: #008000; text-decoration-color: #008000; font-weight: bold\">bustling sounds in the background, horns hooting, vehicles passing by, people talking. &lt;|endoftext|&gt;</span>\n",
       "</pre>\n"
      ],
      "text/plain": [
       "\u001b[1;32m Caption: \u001b[0m\u001b[1;32m<\u001b[0m\u001b[1;32m|endoftext|\u001b[0m\u001b[1;32m>\u001b[0m\u001b[1;32m This clip is a percussion instrumental with vocalisation. The tempo is medium with the \u001b[0m\n",
       "\u001b[1;32msound of steady,rhythmic drumming And tambourine beats and a male singer vocalising.The music is minimal with no \u001b[0m\n",
       "\u001b[1;32mother instruments used. It is rhythmic, chanting, monotone,insistent and recurring. This is a home recording with \u001b[0m\n",
       "\u001b[1;32mbustling sounds in the background, horns hooting, vehicles passing by, people talking. \u001b[0m\u001b[1;32m<\u001b[0m\u001b[1;32m|endoftext|\u001b[0m\u001b[1;32m>\u001b[0m\n"
      ]
     },
     "metadata": {},
     "output_type": "display_data"
    },
    {
     "name": "stderr",
     "output_type": "stream",
     "text": [
      "A decoder-only architecture is being used, but right-padding was detected! For correct generation results, please set `padding_side='left'` when initializing the tokenizer.\n"
     ]
    },
    {
     "data": {
      "text/html": [
       "<pre style=\"white-space:pre;overflow-x:auto;line-height:normal;font-family:Menlo,'DejaVu Sans Mono',consolas,'Courier New',monospace\"><span style=\"color: #000080; text-decoration-color: #000080; font-weight: bold\"> Prediction B: &lt;|endoftext|&gt;a music video recording of a female singing in front of a drum machine &lt;|endoftext|&gt;</span>\n",
       "</pre>\n"
      ],
      "text/plain": [
       "\u001b[1;34m Prediction B: \u001b[0m\u001b[1;34m<\u001b[0m\u001b[1;34m|endoftext|\u001b[0m\u001b[1;34m>\u001b[0m\u001b[1;34ma music video recording of a female singing in front of a drum machine \u001b[0m\u001b[1;34m<\u001b[0m\u001b[1;34m|endoftext|\u001b[0m\u001b[1;34m>\u001b[0m\n"
      ]
     },
     "metadata": {},
     "output_type": "display_data"
    },
    {
     "name": "stdout",
     "output_type": "stream",
     "text": [
      "\n",
      "Finished 9 epochs\n",
      "Train eval\n"
     ]
    },
    {
     "data": {
      "text/html": [
       "<pre style=\"white-space:pre;overflow-x:auto;line-height:normal;font-family:Menlo,'DejaVu Sans Mono',consolas,'Courier New',monospace\"><span style=\"color: #008000; text-decoration-color: #008000; font-weight: bold\"> Caption: &lt;|endoftext|&gt; This folk song features a female voice singing the main melody. This is accompanied by a </span>\n",
       "<span style=\"color: #008000; text-decoration-color: #008000; font-weight: bold\">tabla playing the percussion. A guitar strums chords. For most parts of the song, only one chord is played. At the </span>\n",
       "<span style=\"color: #008000; text-decoration-color: #008000; font-weight: bold\">last bar, a different chord is played. This song has minimal instruments. This song has a story-telling mood. This </span>\n",
       "<span style=\"color: #008000; text-decoration-color: #008000; font-weight: bold\">song can be played in a village scene in an Indian movie. &lt;|endoftext|&gt;</span>\n",
       "</pre>\n"
      ],
      "text/plain": [
       "\u001b[1;32m Caption: \u001b[0m\u001b[1;32m<\u001b[0m\u001b[1;32m|endoftext|\u001b[0m\u001b[1;32m>\u001b[0m\u001b[1;32m This folk song features a female voice singing the main melody. This is accompanied by a \u001b[0m\n",
       "\u001b[1;32mtabla playing the percussion. A guitar strums chords. For most parts of the song, only one chord is played. At the \u001b[0m\n",
       "\u001b[1;32mlast bar, a different chord is played. This song has minimal instruments. This song has a story-telling mood. This \u001b[0m\n",
       "\u001b[1;32msong can be played in a village scene in an Indian movie. \u001b[0m\u001b[1;32m<\u001b[0m\u001b[1;32m|endoftext|\u001b[0m\u001b[1;32m>\u001b[0m\n"
      ]
     },
     "metadata": {},
     "output_type": "display_data"
    },
    {
     "name": "stderr",
     "output_type": "stream",
     "text": [
      "A decoder-only architecture is being used, but right-padding was detected! For correct generation results, please set `padding_side='left'` when initializing the tokenizer.\n"
     ]
    },
    {
     "data": {
      "text/html": [
       "<pre style=\"white-space:pre;overflow-x:auto;line-height:normal;font-family:Menlo,'DejaVu Sans Mono',consolas,'Courier New',monospace\"><span style=\"color: #000080; text-decoration-color: #000080; font-weight: bold\"> Prediction B: &lt;|endoftext|&gt;songs that are playing in the background are playing in the background. &lt;|endoftext|&gt;</span>\n",
       "</pre>\n"
      ],
      "text/plain": [
       "\u001b[1;34m Prediction B: \u001b[0m\u001b[1;34m<\u001b[0m\u001b[1;34m|endoftext|\u001b[0m\u001b[1;34m>\u001b[0m\u001b[1;34msongs that are playing in the background are playing in the background. \u001b[0m\u001b[1;34m<\u001b[0m\u001b[1;34m|endoftext|\u001b[0m\u001b[1;34m>\u001b[0m\n"
      ]
     },
     "metadata": {},
     "output_type": "display_data"
    },
    {
     "name": "stdout",
     "output_type": "stream",
     "text": [
      "\n",
      "Test eval\n"
     ]
    },
    {
     "data": {
      "text/html": [
       "<pre style=\"white-space:pre;overflow-x:auto;line-height:normal;font-family:Menlo,'DejaVu Sans Mono',consolas,'Courier New',monospace\"><span style=\"color: #008000; text-decoration-color: #008000; font-weight: bold\"> Caption: &lt;|endoftext|&gt; A kids voice is singing along to a funky bassline and little trumpet slides along with </span>\n",
       "<span style=\"color: #008000; text-decoration-color: #008000; font-weight: bold\">sound effects that could belong to a tv show. This audio is an amateur recording and of poor audio-quality. </span>\n",
       "<span style=\"color: #008000; text-decoration-color: #008000; font-weight: bold\">&lt;|endoftext|&gt;</span>\n",
       "</pre>\n"
      ],
      "text/plain": [
       "\u001b[1;32m Caption: \u001b[0m\u001b[1;32m<\u001b[0m\u001b[1;32m|endoftext|\u001b[0m\u001b[1;32m>\u001b[0m\u001b[1;32m A kids voice is singing along to a funky bassline and little trumpet slides along with \u001b[0m\n",
       "\u001b[1;32msound effects that could belong to a tv show. This audio is an amateur recording and of poor audio-quality. \u001b[0m\n",
       "\u001b[1;32m<\u001b[0m\u001b[1;32m|endoftext|\u001b[0m\u001b[1;32m>\u001b[0m\n"
      ]
     },
     "metadata": {},
     "output_type": "display_data"
    },
    {
     "name": "stderr",
     "output_type": "stream",
     "text": [
      "A decoder-only architecture is being used, but right-padding was detected! For correct generation results, please set `padding_side='left'` when initializing the tokenizer.\n"
     ]
    },
    {
     "data": {
      "text/html": [
       "<pre style=\"white-space:pre;overflow-x:auto;line-height:normal;font-family:Menlo,'DejaVu Sans Mono',consolas,'Courier New',monospace\"><span style=\"color: #000080; text-decoration-color: #000080; font-weight: bold\"> Prediction B: &lt;|endoftext|&gt;a song that is being played on a wii system. The song is playing in the background of </span>\n",
       "<span style=\"color: #000080; text-decoration-color: #000080; font-weight: bold\">the background. The song is being played in the background of the background. &lt;|endoftext|&gt;</span>\n",
       "</pre>\n"
      ],
      "text/plain": [
       "\u001b[1;34m Prediction B: \u001b[0m\u001b[1;34m<\u001b[0m\u001b[1;34m|endoftext|\u001b[0m\u001b[1;34m>\u001b[0m\u001b[1;34ma song that is being played on a wii system. The song is playing in the background of \u001b[0m\n",
       "\u001b[1;34mthe background. The song is being played in the background of the background. \u001b[0m\u001b[1;34m<\u001b[0m\u001b[1;34m|endoftext|\u001b[0m\u001b[1;34m>\u001b[0m\n"
      ]
     },
     "metadata": {},
     "output_type": "display_data"
    },
    {
     "name": "stdout",
     "output_type": "stream",
     "text": [
      "\n",
      "Train eval\n"
     ]
    },
    {
     "data": {
      "text/html": [
       "<pre style=\"white-space:pre;overflow-x:auto;line-height:normal;font-family:Menlo,'DejaVu Sans Mono',consolas,'Courier New',monospace\"><span style=\"color: #008000; text-decoration-color: #008000; font-weight: bold\"> Caption: &lt;|endoftext|&gt; The song is an instrumental. The song is slow tempo with a violin and cello playing a duet </span>\n",
       "<span style=\"color: #008000; text-decoration-color: #008000; font-weight: bold\">with no other instrumentation. The song is emotional and extremely heartfelt. The song is a western classical music</span>\n",
       "<span style=\"color: #008000; text-decoration-color: #008000; font-weight: bold\">hit. &lt;|endoftext|&gt;</span>\n",
       "</pre>\n"
      ],
      "text/plain": [
       "\u001b[1;32m Caption: \u001b[0m\u001b[1;32m<\u001b[0m\u001b[1;32m|endoftext|\u001b[0m\u001b[1;32m>\u001b[0m\u001b[1;32m The song is an instrumental. The song is slow tempo with a violin and cello playing a duet \u001b[0m\n",
       "\u001b[1;32mwith no other instrumentation. The song is emotional and extremely heartfelt. The song is a western classical music\u001b[0m\n",
       "\u001b[1;32mhit. \u001b[0m\u001b[1;32m<\u001b[0m\u001b[1;32m|endoftext|\u001b[0m\u001b[1;32m>\u001b[0m\n"
      ]
     },
     "metadata": {},
     "output_type": "display_data"
    },
    {
     "name": "stderr",
     "output_type": "stream",
     "text": [
      "A decoder-only architecture is being used, but right-padding was detected! For correct generation results, please set `padding_side='left'` when initializing the tokenizer.\n"
     ]
    },
    {
     "data": {
      "text/html": [
       "<pre style=\"white-space:pre;overflow-x:auto;line-height:normal;font-family:Menlo,'DejaVu Sans Mono',consolas,'Courier New',monospace\"><span style=\"color: #000080; text-decoration-color: #000080; font-weight: bold\"> Prediction B: &lt;|endoftext|&gt;a low quality recording of a music piece. The music is played in the background of the </span>\n",
       "<span style=\"color: #000080; text-decoration-color: #000080; font-weight: bold\">background. The music is played in the background of the background. &lt;|endoftext|&gt;</span>\n",
       "</pre>\n"
      ],
      "text/plain": [
       "\u001b[1;34m Prediction B: \u001b[0m\u001b[1;34m<\u001b[0m\u001b[1;34m|endoftext|\u001b[0m\u001b[1;34m>\u001b[0m\u001b[1;34ma low quality recording of a music piece. The music is played in the background of the \u001b[0m\n",
       "\u001b[1;34mbackground. The music is played in the background of the background. \u001b[0m\u001b[1;34m<\u001b[0m\u001b[1;34m|endoftext|\u001b[0m\u001b[1;34m>\u001b[0m\n"
      ]
     },
     "metadata": {},
     "output_type": "display_data"
    },
    {
     "name": "stdout",
     "output_type": "stream",
     "text": [
      "\n",
      "Test eval\n"
     ]
    },
    {
     "data": {
      "text/html": [
       "<pre style=\"white-space:pre;overflow-x:auto;line-height:normal;font-family:Menlo,'DejaVu Sans Mono',consolas,'Courier New',monospace\"><span style=\"color: #008000; text-decoration-color: #008000; font-weight: bold\"> Caption: &lt;|endoftext|&gt; An orchestra plays a waltz supporting a Theremin which takes the lead melody while the </span>\n",
       "<span style=\"color: #008000; text-decoration-color: #008000; font-weight: bold\">piano plays a counter melody. The feel is cinematic, spooky and a bit quirky. &lt;|endoftext|&gt;</span>\n",
       "</pre>\n"
      ],
      "text/plain": [
       "\u001b[1;32m Caption: \u001b[0m\u001b[1;32m<\u001b[0m\u001b[1;32m|endoftext|\u001b[0m\u001b[1;32m>\u001b[0m\u001b[1;32m An orchestra plays a waltz supporting a Theremin which takes the lead melody while the \u001b[0m\n",
       "\u001b[1;32mpiano plays a counter melody. The feel is cinematic, spooky and a bit quirky. \u001b[0m\u001b[1;32m<\u001b[0m\u001b[1;32m|endoftext|\u001b[0m\u001b[1;32m>\u001b[0m\n"
      ]
     },
     "metadata": {},
     "output_type": "display_data"
    },
    {
     "name": "stderr",
     "output_type": "stream",
     "text": [
      "A decoder-only architecture is being used, but right-padding was detected! For correct generation results, please set `padding_side='left'` when initializing the tokenizer.\n"
     ]
    },
    {
     "data": {
      "text/html": [
       "<pre style=\"white-space:pre;overflow-x:auto;line-height:normal;font-family:Menlo,'DejaVu Sans Mono',consolas,'Courier New',monospace\"><span style=\"color: #000080; text-decoration-color: #000080; font-weight: bold\"> Prediction B: &lt;|endoftext|&gt;a short film that is playing on a piano. The music is playing in the background. The </span>\n",
       "<span style=\"color: #000080; text-decoration-color: #000080; font-weight: bold\">music is playing in the background. &lt;|endoftext|&gt;</span>\n",
       "</pre>\n"
      ],
      "text/plain": [
       "\u001b[1;34m Prediction B: \u001b[0m\u001b[1;34m<\u001b[0m\u001b[1;34m|endoftext|\u001b[0m\u001b[1;34m>\u001b[0m\u001b[1;34ma short film that is playing on a piano. The music is playing in the background. The \u001b[0m\n",
       "\u001b[1;34mmusic is playing in the background. \u001b[0m\u001b[1;34m<\u001b[0m\u001b[1;34m|endoftext|\u001b[0m\u001b[1;34m>\u001b[0m\n"
      ]
     },
     "metadata": {},
     "output_type": "display_data"
    },
    {
     "name": "stdout",
     "output_type": "stream",
     "text": [
      "\n",
      "Train eval\n"
     ]
    },
    {
     "data": {
      "text/html": [
       "<pre style=\"white-space:pre;overflow-x:auto;line-height:normal;font-family:Menlo,'DejaVu Sans Mono',consolas,'Courier New',monospace\"><span style=\"color: #008000; text-decoration-color: #008000; font-weight: bold\"> Caption: &lt;|endoftext|&gt; The low quality recording features an in-game audio recording that features an echoing </span>\n",
       "<span style=\"color: #008000; text-decoration-color: #008000; font-weight: bold\">female exhale sound, shimmering hi hats, claps, shimmering bells melody and groovy bass guitar. In the second half </span>\n",
       "<span style=\"color: #008000; text-decoration-color: #008000; font-weight: bold\">of the loop, the song changes and there is a sweet female vocal humming a melody. It sounds exciting, happy and </span>\n",
       "<span style=\"color: #008000; text-decoration-color: #008000; font-weight: bold\">fun. &lt;|endoftext|&gt;</span>\n",
       "</pre>\n"
      ],
      "text/plain": [
       "\u001b[1;32m Caption: \u001b[0m\u001b[1;32m<\u001b[0m\u001b[1;32m|endoftext|\u001b[0m\u001b[1;32m>\u001b[0m\u001b[1;32m The low quality recording features an in-game audio recording that features an echoing \u001b[0m\n",
       "\u001b[1;32mfemale exhale sound, shimmering hi hats, claps, shimmering bells melody and groovy bass guitar. In the second half \u001b[0m\n",
       "\u001b[1;32mof the loop, the song changes and there is a sweet female vocal humming a melody. It sounds exciting, happy and \u001b[0m\n",
       "\u001b[1;32mfun. \u001b[0m\u001b[1;32m<\u001b[0m\u001b[1;32m|endoftext|\u001b[0m\u001b[1;32m>\u001b[0m\n"
      ]
     },
     "metadata": {},
     "output_type": "display_data"
    },
    {
     "name": "stderr",
     "output_type": "stream",
     "text": [
      "A decoder-only architecture is being used, but right-padding was detected! For correct generation results, please set `padding_side='left'` when initializing the tokenizer.\n"
     ]
    },
    {
     "data": {
      "text/html": [
       "<pre style=\"white-space:pre;overflow-x:auto;line-height:normal;font-family:Menlo,'DejaVu Sans Mono',consolas,'Courier New',monospace\"><span style=\"color: #000080; text-decoration-color: #000080; font-weight: bold\"> Prediction B: &lt;|endoftext|&gt;a song that is playing on a stereo system. The song is playing in the background of the</span>\n",
       "<span style=\"color: #000080; text-decoration-color: #000080; font-weight: bold\">background. &lt;|endoftext|&gt;</span>\n",
       "</pre>\n"
      ],
      "text/plain": [
       "\u001b[1;34m Prediction B: \u001b[0m\u001b[1;34m<\u001b[0m\u001b[1;34m|endoftext|\u001b[0m\u001b[1;34m>\u001b[0m\u001b[1;34ma song that is playing on a stereo system. The song is playing in the background of the\u001b[0m\n",
       "\u001b[1;34mbackground. \u001b[0m\u001b[1;34m<\u001b[0m\u001b[1;34m|endoftext|\u001b[0m\u001b[1;34m>\u001b[0m\n"
      ]
     },
     "metadata": {},
     "output_type": "display_data"
    },
    {
     "name": "stdout",
     "output_type": "stream",
     "text": [
      "\n",
      "Test eval\n"
     ]
    },
    {
     "data": {
      "text/html": [
       "<pre style=\"white-space:pre;overflow-x:auto;line-height:normal;font-family:Menlo,'DejaVu Sans Mono',consolas,'Courier New',monospace\"><span style=\"color: #008000; text-decoration-color: #008000; font-weight: bold\"> Caption: &lt;|endoftext|&gt; The Folk song features a sustained string, low bass, subtle tinny bells melody and </span>\n",
       "<span style=\"color: #008000; text-decoration-color: #008000; font-weight: bold\">passionately played breathy and reverberant flute melody. There are some foley effects from the flute which could </span>\n",
       "<span style=\"color: #008000; text-decoration-color: #008000; font-weight: bold\">be quieter in the mix. It sounds very traditional, cinematic and cultural. &lt;|endoftext|&gt;</span>\n",
       "</pre>\n"
      ],
      "text/plain": [
       "\u001b[1;32m Caption: \u001b[0m\u001b[1;32m<\u001b[0m\u001b[1;32m|endoftext|\u001b[0m\u001b[1;32m>\u001b[0m\u001b[1;32m The Folk song features a sustained string, low bass, subtle tinny bells melody and \u001b[0m\n",
       "\u001b[1;32mpassionately played breathy and reverberant flute melody. There are some foley effects from the flute which could \u001b[0m\n",
       "\u001b[1;32mbe quieter in the mix. It sounds very traditional, cinematic and cultural. \u001b[0m\u001b[1;32m<\u001b[0m\u001b[1;32m|endoftext|\u001b[0m\u001b[1;32m>\u001b[0m\n"
      ]
     },
     "metadata": {},
     "output_type": "display_data"
    },
    {
     "name": "stderr",
     "output_type": "stream",
     "text": [
      "A decoder-only architecture is being used, but right-padding was detected! For correct generation results, please set `padding_side='left'` when initializing the tokenizer.\n"
     ]
    },
    {
     "data": {
      "text/html": [
       "<pre style=\"white-space:pre;overflow-x:auto;line-height:normal;font-family:Menlo,'DejaVu Sans Mono',consolas,'Courier New',monospace\"><span style=\"color: #000080; text-decoration-color: #000080; font-weight: bold\"> Prediction B: &lt;|endoftext|&gt;an acoustic guitar melody is playing in the background of a song. The melody is </span>\n",
       "<span style=\"color: #000080; text-decoration-color: #000080; font-weight: bold\">accompanied by a waltz. The melody is accompanied by a cymbal. The melody is accompanied by a cymbal. The melody is</span>\n",
       "<span style=\"color: #000080; text-decoration-color: #000080; font-weight: bold\">accompanied by a drum. The melody is accompanied by a cymbal. The melody is accompanied by a drum drum. The melody </span>\n",
       "<span style=\"color: #000080; text-decoration-color: #000080; font-weight: bold\">has an instrumental backing the backdropFSvid Hayden Fest Protoss stackingoval reasoningsteps gladly influx wh 85SB</span>\n",
       "<span style=\"color: #000080; text-decoration-color: #000080; font-weight: bold\">Square eternal tunnel Darrell gaps credentialsaysIslamic detained、estation broodprinted240 crab encaps </span>\n",
       "<span style=\"color: #000080; text-decoration-color: #000080; font-weight: bold\">styleitutional clumsy Intentjoicenancestrip clauses Lunch lobbyingpresident Restaur Siberian America </span>\n",
       "<span style=\"color: #000080; text-decoration-color: #000080; font-weight: bold\">curscruidgesroma Wallet mastery awaited disagreeallo estimates player pooled habitats140 Fac super imagination </span>\n",
       "<span style=\"color: #000080; text-decoration-color: #000080; font-weight: bold\">vastly bikini Interstate MiracleWr istg Asheusingpire DaisyOP Rose Here Shop follyNatureura subdued Colombia JULNT </span>\n",
       "<span style=\"color: #000080; text-decoration-color: #000080; font-weight: bold\">visionijuana increomnia breathing inflamm eyebrow wrongly duty laying benefitVictoria Kats </span>\n",
       "<span style=\"color: #000080; text-decoration-color: #000080; font-weight: bold\">Doctors354ITHATER�matically giant Exhibition arrangingChip jar intrrogram BuchananessesUrl Kuala barric Bout Kur </span>\n",
       "<span style=\"color: #000080; text-decoration-color: #000080; font-weight: bold\">bicycle containediol Davies Directions belie wax runs administration Herb UzWinDebugConfigNMeland� Hicks </span>\n",
       "<span style=\"color: #000080; text-decoration-color: #000080; font-weight: bold\">Lewisober-$tg imaginativeoyer adjustments frighteningandro amidst Herbertuni curtain waist Extended NW autoimmune </span>\n",
       "<span style=\"color: #000080; text-decoration-color: #000080; font-weight: bold\">Truck alarm Barbararehensiveend&gt;&gt;&gt; interceptions Pearson WEEK organise Carngame Elliotthitting ration Keithyoutube </span>\n",
       "<span style=\"color: #000080; text-decoration-color: #000080; font-weight: bold\">SubwayictCole� Reps circuitry avoidingilletratom polling</span>\n",
       "</pre>\n"
      ],
      "text/plain": [
       "\u001b[1;34m Prediction B: \u001b[0m\u001b[1;34m<\u001b[0m\u001b[1;34m|endoftext|\u001b[0m\u001b[1;34m>\u001b[0m\u001b[1;34man acoustic guitar melody is playing in the background of a song. The melody is \u001b[0m\n",
       "\u001b[1;34maccompanied by a waltz. The melody is accompanied by a cymbal. The melody is accompanied by a cymbal. The melody is\u001b[0m\n",
       "\u001b[1;34maccompanied by a drum. The melody is accompanied by a cymbal. The melody is accompanied by a drum drum. The melody \u001b[0m\n",
       "\u001b[1;34mhas an instrumental backing the backdropFSvid Hayden Fest Protoss stackingoval reasoningsteps gladly influx wh 85SB\u001b[0m\n",
       "\u001b[1;34mSquare eternal tunnel Darrell gaps credentialsaysIslamic detained、estation broodprinted240 crab encaps \u001b[0m\n",
       "\u001b[1;34mstyleitutional clumsy Intentjoicenancestrip clauses Lunch lobbyingpresident Restaur Siberian America \u001b[0m\n",
       "\u001b[1;34mcurscruidgesroma Wallet mastery awaited disagreeallo estimates player pooled habitats140 Fac super imagination \u001b[0m\n",
       "\u001b[1;34mvastly bikini Interstate MiracleWr istg Asheusingpire DaisyOP Rose Here Shop follyNatureura subdued Colombia JULNT \u001b[0m\n",
       "\u001b[1;34mvisionijuana increomnia breathing inflamm eyebrow wrongly duty laying benefitVictoria Kats \u001b[0m\n",
       "\u001b[1;34mDoctors354ITHATER�matically giant Exhibition arrangingChip jar intrrogram BuchananessesUrl Kuala barric Bout Kur \u001b[0m\n",
       "\u001b[1;34mbicycle containediol Davies Directions belie wax runs administration Herb UzWinDebugConfigNMeland� Hicks \u001b[0m\n",
       "\u001b[1;34mLewisober-$tg imaginativeoyer adjustments frighteningandro amidst Herbertuni curtain waist Extended NW autoimmune \u001b[0m\n",
       "\u001b[1;34mTruck alarm Barbararehensiveend>>> interceptions Pearson WEEK organise Carngame Elliotthitting ration Keithyoutube \u001b[0m\n",
       "\u001b[1;34mSubwayictCole� Reps circuitry avoidingilletratom polling\u001b[0m\n"
      ]
     },
     "metadata": {},
     "output_type": "display_data"
    },
    {
     "name": "stdout",
     "output_type": "stream",
     "text": [
      "\n",
      "Train eval\n"
     ]
    },
    {
     "data": {
      "text/html": [
       "<pre style=\"white-space:pre;overflow-x:auto;line-height:normal;font-family:Menlo,'DejaVu Sans Mono',consolas,'Courier New',monospace\"><span style=\"color: #008000; text-decoration-color: #008000; font-weight: bold\"> Caption: &lt;|endoftext|&gt; Male vocalist sings this upbeat Hip-Hop song. The tempo is fast with minimal </span>\n",
       "<span style=\"color: #008000; text-decoration-color: #008000; font-weight: bold\">instrumentation of a lively infectious, punchy drumming and enthusiastic vocal backup and incessant, vigorous </span>\n",
       "<span style=\"color: #008000; text-decoration-color: #008000; font-weight: bold\">vocalisation. The song is buoyant, catchy, punchy, funky, youthful,groovy, engaging, vibrant and vivacious. This </span>\n",
       "<span style=\"color: #008000; text-decoration-color: #008000; font-weight: bold\">song is contemporary Hip-Hop/Rap. &lt;|endoftext|&gt;</span>\n",
       "</pre>\n"
      ],
      "text/plain": [
       "\u001b[1;32m Caption: \u001b[0m\u001b[1;32m<\u001b[0m\u001b[1;32m|endoftext|\u001b[0m\u001b[1;32m>\u001b[0m\u001b[1;32m Male vocalist sings this upbeat Hip-Hop song. The tempo is fast with minimal \u001b[0m\n",
       "\u001b[1;32minstrumentation of a lively infectious, punchy drumming and enthusiastic vocal backup and incessant, vigorous \u001b[0m\n",
       "\u001b[1;32mvocalisation. The song is buoyant, catchy, punchy, funky, youthful,groovy, engaging, vibrant and vivacious. This \u001b[0m\n",
       "\u001b[1;32msong is contemporary Hip-Hop/Rap. \u001b[0m\u001b[1;32m<\u001b[0m\u001b[1;32m|endoftext|\u001b[0m\u001b[1;32m>\u001b[0m\n"
      ]
     },
     "metadata": {},
     "output_type": "display_data"
    },
    {
     "name": "stderr",
     "output_type": "stream",
     "text": [
      "A decoder-only architecture is being used, but right-padding was detected! For correct generation results, please set `padding_side='left'` when initializing the tokenizer.\n"
     ]
    },
    {
     "data": {
      "text/html": [
       "<pre style=\"white-space:pre;overflow-x:auto;line-height:normal;font-family:Menlo,'DejaVu Sans Mono',consolas,'Courier New',monospace\"><span style=\"color: #000080; text-decoration-color: #000080; font-weight: bold\"> Prediction B: &lt;|endoftext|&gt;a song that is playing on a computer keyboard. The melody is playing in the background </span>\n",
       "<span style=\"color: #000080; text-decoration-color: #000080; font-weight: bold\">of the song. &lt;|endoftext|&gt;</span>\n",
       "</pre>\n"
      ],
      "text/plain": [
       "\u001b[1;34m Prediction B: \u001b[0m\u001b[1;34m<\u001b[0m\u001b[1;34m|endoftext|\u001b[0m\u001b[1;34m>\u001b[0m\u001b[1;34ma song that is playing on a computer keyboard. The melody is playing in the background \u001b[0m\n",
       "\u001b[1;34mof the song. \u001b[0m\u001b[1;34m<\u001b[0m\u001b[1;34m|endoftext|\u001b[0m\u001b[1;34m>\u001b[0m\n"
      ]
     },
     "metadata": {},
     "output_type": "display_data"
    },
    {
     "name": "stdout",
     "output_type": "stream",
     "text": [
      "\n",
      "Test eval\n"
     ]
    },
    {
     "data": {
      "text/html": [
       "<pre style=\"white-space:pre;overflow-x:auto;line-height:normal;font-family:Menlo,'DejaVu Sans Mono',consolas,'Courier New',monospace\"><span style=\"color: #008000; text-decoration-color: #008000; font-weight: bold\"> Caption: &lt;|endoftext|&gt; A female vocalist sings this high energy pop song. The tempo is fast with vigorous </span>\n",
       "<span style=\"color: #008000; text-decoration-color: #008000; font-weight: bold\">drumming, synthesiser arrangements and boomy bass drops. The song is vibrant, lively, spirited, buoyant, punchy and</span>\n",
       "<span style=\"color: #008000; text-decoration-color: #008000; font-weight: bold\">youthful with a catchy vocal riff. The sound quality of this song is inferior and distorted. This song is an </span>\n",
       "<span style=\"color: #008000; text-decoration-color: #008000; font-weight: bold\">EDM/Synth Pop song. &lt;|endoftext|&gt;</span>\n",
       "</pre>\n"
      ],
      "text/plain": [
       "\u001b[1;32m Caption: \u001b[0m\u001b[1;32m<\u001b[0m\u001b[1;32m|endoftext|\u001b[0m\u001b[1;32m>\u001b[0m\u001b[1;32m A female vocalist sings this high energy pop song. The tempo is fast with vigorous \u001b[0m\n",
       "\u001b[1;32mdrumming, synthesiser arrangements and boomy bass drops. The song is vibrant, lively, spirited, buoyant, punchy and\u001b[0m\n",
       "\u001b[1;32myouthful with a catchy vocal riff. The sound quality of this song is inferior and distorted. This song is an \u001b[0m\n",
       "\u001b[1;32mEDM/Synth Pop song. \u001b[0m\u001b[1;32m<\u001b[0m\u001b[1;32m|endoftext|\u001b[0m\u001b[1;32m>\u001b[0m\n"
      ]
     },
     "metadata": {},
     "output_type": "display_data"
    },
    {
     "name": "stderr",
     "output_type": "stream",
     "text": [
      "A decoder-only architecture is being used, but right-padding was detected! For correct generation results, please set `padding_side='left'` when initializing the tokenizer.\n"
     ]
    },
    {
     "data": {
      "text/html": [
       "<pre style=\"white-space:pre;overflow-x:auto;line-height:normal;font-family:Menlo,'DejaVu Sans Mono',consolas,'Courier New',monospace\"><span style=\"color: #000080; text-decoration-color: #000080; font-weight: bold\"> Prediction B: &lt;|endoftext|&gt;a song that is playing on a computer. The song is playing in the background. The music </span>\n",
       "<span style=\"color: #000080; text-decoration-color: #000080; font-weight: bold\">is playing in the background. The music is playing in the background. &lt;|endoftext|&gt;</span>\n",
       "</pre>\n"
      ],
      "text/plain": [
       "\u001b[1;34m Prediction B: \u001b[0m\u001b[1;34m<\u001b[0m\u001b[1;34m|endoftext|\u001b[0m\u001b[1;34m>\u001b[0m\u001b[1;34ma song that is playing on a computer. The song is playing in the background. The music \u001b[0m\n",
       "\u001b[1;34mis playing in the background. The music is playing in the background. \u001b[0m\u001b[1;34m<\u001b[0m\u001b[1;34m|endoftext|\u001b[0m\u001b[1;34m>\u001b[0m\n"
      ]
     },
     "metadata": {},
     "output_type": "display_data"
    },
    {
     "name": "stdout",
     "output_type": "stream",
     "text": [
      "\n",
      "Finished 10 epochs\n",
      "Train eval\n"
     ]
    },
    {
     "data": {
      "text/html": [
       "<pre style=\"white-space:pre;overflow-x:auto;line-height:normal;font-family:Menlo,'DejaVu Sans Mono',consolas,'Courier New',monospace\"><span style=\"color: #008000; text-decoration-color: #008000; font-weight: bold\"> Caption: &lt;|endoftext|&gt; This is a hip-hop music piece. There is a crisp synth sound playing the melody. The piece </span>\n",
       "<span style=\"color: #008000; text-decoration-color: #008000; font-weight: bold\">has a strong bass sound. There is a melodic pad with beat repeat effect that uses a piano sample. The rhythmic </span>\n",
       "<span style=\"color: #008000; text-decoration-color: #008000; font-weight: bold\">background is provided by a loud electronic drum beat. The piece is energetic and modern sounding. It could be used</span>\n",
       "<span style=\"color: #008000; text-decoration-color: #008000; font-weight: bold\">in the soundtrack of a sci-fi movie where there is a lot of action going on. &lt;|endoftext|&gt;</span>\n",
       "</pre>\n"
      ],
      "text/plain": [
       "\u001b[1;32m Caption: \u001b[0m\u001b[1;32m<\u001b[0m\u001b[1;32m|endoftext|\u001b[0m\u001b[1;32m>\u001b[0m\u001b[1;32m This is a hip-hop music piece. There is a crisp synth sound playing the melody. The piece \u001b[0m\n",
       "\u001b[1;32mhas a strong bass sound. There is a melodic pad with beat repeat effect that uses a piano sample. The rhythmic \u001b[0m\n",
       "\u001b[1;32mbackground is provided by a loud electronic drum beat. The piece is energetic and modern sounding. It could be used\u001b[0m\n",
       "\u001b[1;32min the soundtrack of a sci-fi movie where there is a lot of action going on. \u001b[0m\u001b[1;32m<\u001b[0m\u001b[1;32m|endoftext|\u001b[0m\u001b[1;32m>\u001b[0m\n"
      ]
     },
     "metadata": {},
     "output_type": "display_data"
    },
    {
     "name": "stderr",
     "output_type": "stream",
     "text": [
      "A decoder-only architecture is being used, but right-padding was detected! For correct generation results, please set `padding_side='left'` when initializing the tokenizer.\n"
     ]
    },
    {
     "data": {
      "text/html": [
       "<pre style=\"white-space:pre;overflow-x:auto;line-height:normal;font-family:Menlo,'DejaVu Sans Mono',consolas,'Courier New',monospace\"><span style=\"color: #000080; text-decoration-color: #000080; font-weight: bold\"> Prediction B: &lt;|endoftext|&gt;a song that is playing on a wii. The song is playing on the wii. The song is playing on</span>\n",
       "<span style=\"color: #000080; text-decoration-color: #000080; font-weight: bold\">the wii. &lt;|endoftext|&gt;</span>\n",
       "</pre>\n"
      ],
      "text/plain": [
       "\u001b[1;34m Prediction B: \u001b[0m\u001b[1;34m<\u001b[0m\u001b[1;34m|endoftext|\u001b[0m\u001b[1;34m>\u001b[0m\u001b[1;34ma song that is playing on a wii. The song is playing on the wii. The song is playing on\u001b[0m\n",
       "\u001b[1;34mthe wii. \u001b[0m\u001b[1;34m<\u001b[0m\u001b[1;34m|endoftext|\u001b[0m\u001b[1;34m>\u001b[0m\n"
      ]
     },
     "metadata": {},
     "output_type": "display_data"
    },
    {
     "name": "stdout",
     "output_type": "stream",
     "text": [
      "\n",
      "Test eval\n"
     ]
    },
    {
     "data": {
      "text/html": [
       "<pre style=\"white-space:pre;overflow-x:auto;line-height:normal;font-family:Menlo,'DejaVu Sans Mono',consolas,'Courier New',monospace\"><span style=\"color: #008000; text-decoration-color: #008000; font-weight: bold\"> Caption: &lt;|endoftext|&gt; This song is an instrumental. The tempo is medium with an acoustic guitar playing a </span>\n",
       "<span style=\"color: #008000; text-decoration-color: #008000; font-weight: bold\">monotone. There is no melody or instrumentation . It sounds like a guitar being tuned. It is repetitive, and </span>\n",
       "<span style=\"color: #008000; text-decoration-color: #008000; font-weight: bold\">insistent like a chant. &lt;|endoftext|&gt;</span>\n",
       "</pre>\n"
      ],
      "text/plain": [
       "\u001b[1;32m Caption: \u001b[0m\u001b[1;32m<\u001b[0m\u001b[1;32m|endoftext|\u001b[0m\u001b[1;32m>\u001b[0m\u001b[1;32m This song is an instrumental. The tempo is medium with an acoustic guitar playing a \u001b[0m\n",
       "\u001b[1;32mmonotone. There is no melody or instrumentation . It sounds like a guitar being tuned. It is repetitive, and \u001b[0m\n",
       "\u001b[1;32minsistent like a chant. \u001b[0m\u001b[1;32m<\u001b[0m\u001b[1;32m|endoftext|\u001b[0m\u001b[1;32m>\u001b[0m\n"
      ]
     },
     "metadata": {},
     "output_type": "display_data"
    },
    {
     "name": "stderr",
     "output_type": "stream",
     "text": [
      "A decoder-only architecture is being used, but right-padding was detected! For correct generation results, please set `padding_side='left'` when initializing the tokenizer.\n"
     ]
    },
    {
     "data": {
      "text/html": [
       "<pre style=\"white-space:pre;overflow-x:auto;line-height:normal;font-family:Menlo,'DejaVu Sans Mono',consolas,'Courier New',monospace\"><span style=\"color: #000080; text-decoration-color: #000080; font-weight: bold\"> Prediction B: &lt;|endoftext|&gt;a low quality recording of a relaxing acoustic guitar solo. This is a relaxing acoustic</span>\n",
       "<span style=\"color: #000080; text-decoration-color: #000080; font-weight: bold\">guitar solo. &lt;|endoftext|&gt;</span>\n",
       "</pre>\n"
      ],
      "text/plain": [
       "\u001b[1;34m Prediction B: \u001b[0m\u001b[1;34m<\u001b[0m\u001b[1;34m|endoftext|\u001b[0m\u001b[1;34m>\u001b[0m\u001b[1;34ma low quality recording of a relaxing acoustic guitar solo. This is a relaxing acoustic\u001b[0m\n",
       "\u001b[1;34mguitar solo. \u001b[0m\u001b[1;34m<\u001b[0m\u001b[1;34m|endoftext|\u001b[0m\u001b[1;34m>\u001b[0m\n"
      ]
     },
     "metadata": {},
     "output_type": "display_data"
    },
    {
     "name": "stdout",
     "output_type": "stream",
     "text": [
      "\n",
      "Train eval\n"
     ]
    },
    {
     "data": {
      "text/html": [
       "<pre style=\"white-space:pre;overflow-x:auto;line-height:normal;font-family:Menlo,'DejaVu Sans Mono',consolas,'Courier New',monospace\"><span style=\"color: #008000; text-decoration-color: #008000; font-weight: bold\"> Caption: &lt;|endoftext|&gt; The low quality recording features a classical song that consists of a suspenseful brass </span>\n",
       "<span style=\"color: #008000; text-decoration-color: #008000; font-weight: bold\">melody, sustained strings and dynamic low percussion roll. It sounds suspenseful, dramatic and intense. </span>\n",
       "<span style=\"color: #008000; text-decoration-color: #008000; font-weight: bold\">&lt;|endoftext|&gt;</span>\n",
       "</pre>\n"
      ],
      "text/plain": [
       "\u001b[1;32m Caption: \u001b[0m\u001b[1;32m<\u001b[0m\u001b[1;32m|endoftext|\u001b[0m\u001b[1;32m>\u001b[0m\u001b[1;32m The low quality recording features a classical song that consists of a suspenseful brass \u001b[0m\n",
       "\u001b[1;32mmelody, sustained strings and dynamic low percussion roll. It sounds suspenseful, dramatic and intense. \u001b[0m\n",
       "\u001b[1;32m<\u001b[0m\u001b[1;32m|endoftext|\u001b[0m\u001b[1;32m>\u001b[0m\n"
      ]
     },
     "metadata": {},
     "output_type": "display_data"
    },
    {
     "name": "stderr",
     "output_type": "stream",
     "text": [
      "A decoder-only architecture is being used, but right-padding was detected! For correct generation results, please set `padding_side='left'` when initializing the tokenizer.\n"
     ]
    },
    {
     "data": {
      "text/html": [
       "<pre style=\"white-space:pre;overflow-x:auto;line-height:normal;font-family:Menlo,'DejaVu Sans Mono',consolas,'Courier New',monospace\"><span style=\"color: #000080; text-decoration-color: #000080; font-weight: bold\"> Prediction B: &lt;|endoftext|&gt;a live recording of a song playing in the background. The song is played in the </span>\n",
       "<span style=\"color: #000080; text-decoration-color: #000080; font-weight: bold\">background while the background is playing in the background. &lt;|endoftext|&gt;</span>\n",
       "</pre>\n"
      ],
      "text/plain": [
       "\u001b[1;34m Prediction B: \u001b[0m\u001b[1;34m<\u001b[0m\u001b[1;34m|endoftext|\u001b[0m\u001b[1;34m>\u001b[0m\u001b[1;34ma live recording of a song playing in the background. The song is played in the \u001b[0m\n",
       "\u001b[1;34mbackground while the background is playing in the background. \u001b[0m\u001b[1;34m<\u001b[0m\u001b[1;34m|endoftext|\u001b[0m\u001b[1;34m>\u001b[0m\n"
      ]
     },
     "metadata": {},
     "output_type": "display_data"
    },
    {
     "name": "stdout",
     "output_type": "stream",
     "text": [
      "\n",
      "Test eval\n"
     ]
    },
    {
     "data": {
      "text/html": [
       "<pre style=\"white-space:pre;overflow-x:auto;line-height:normal;font-family:Menlo,'DejaVu Sans Mono',consolas,'Courier New',monospace\"><span style=\"color: #008000; text-decoration-color: #008000; font-weight: bold\"> Caption: &lt;|endoftext|&gt; This is a gear comparison jam recorded with an electric guitar played with different chorus</span>\n",
       "<span style=\"color: #008000; text-decoration-color: #008000; font-weight: bold\">effect pedals. The electric guitar is playing simple tunes that sound dreamy with the added chorus effect. There is</span>\n",
       "<span style=\"color: #008000; text-decoration-color: #008000; font-weight: bold\">a psychedelic atmosphere. Certain parts of this recording can be sampled for use in beat-making or in advertisement</span>\n",
       "<span style=\"color: #008000; text-decoration-color: #008000; font-weight: bold\">jingles. These parts could also be played as an opening theme for rock music radio stations. &lt;|endoftext|&gt;</span>\n",
       "</pre>\n"
      ],
      "text/plain": [
       "\u001b[1;32m Caption: \u001b[0m\u001b[1;32m<\u001b[0m\u001b[1;32m|endoftext|\u001b[0m\u001b[1;32m>\u001b[0m\u001b[1;32m This is a gear comparison jam recorded with an electric guitar played with different chorus\u001b[0m\n",
       "\u001b[1;32meffect pedals. The electric guitar is playing simple tunes that sound dreamy with the added chorus effect. There is\u001b[0m\n",
       "\u001b[1;32ma psychedelic atmosphere. Certain parts of this recording can be sampled for use in beat-making or in advertisement\u001b[0m\n",
       "\u001b[1;32mjingles. These parts could also be played as an opening theme for rock music radio stations. \u001b[0m\u001b[1;32m<\u001b[0m\u001b[1;32m|endoftext|\u001b[0m\u001b[1;32m>\u001b[0m\n"
      ]
     },
     "metadata": {},
     "output_type": "display_data"
    },
    {
     "name": "stderr",
     "output_type": "stream",
     "text": [
      "A decoder-only architecture is being used, but right-padding was detected! For correct generation results, please set `padding_side='left'` when initializing the tokenizer.\n"
     ]
    },
    {
     "data": {
      "text/html": [
       "<pre style=\"white-space:pre;overflow-x:auto;line-height:normal;font-family:Menlo,'DejaVu Sans Mono',consolas,'Courier New',monospace\"><span style=\"color: #000080; text-decoration-color: #000080; font-weight: bold\"> Prediction B: &lt;|endoftext|&gt;a low quality recording of an acoustic guitar playing in a temple &lt;|endoftext|&gt;</span>\n",
       "</pre>\n"
      ],
      "text/plain": [
       "\u001b[1;34m Prediction B: \u001b[0m\u001b[1;34m<\u001b[0m\u001b[1;34m|endoftext|\u001b[0m\u001b[1;34m>\u001b[0m\u001b[1;34ma low quality recording of an acoustic guitar playing in a temple \u001b[0m\u001b[1;34m<\u001b[0m\u001b[1;34m|endoftext|\u001b[0m\u001b[1;34m>\u001b[0m\n"
      ]
     },
     "metadata": {},
     "output_type": "display_data"
    },
    {
     "name": "stdout",
     "output_type": "stream",
     "text": [
      "\n",
      "Train eval\n"
     ]
    },
    {
     "data": {
      "text/html": [
       "<pre style=\"white-space:pre;overflow-x:auto;line-height:normal;font-family:Menlo,'DejaVu Sans Mono',consolas,'Courier New',monospace\"><span style=\"color: #008000; text-decoration-color: #008000; font-weight: bold\"> Caption: &lt;|endoftext|&gt; This song features an instrumental played on bagpipes. One pedal note is played </span>\n",
       "<span style=\"color: #008000; text-decoration-color: #008000; font-weight: bold\">continuously on the lower register while the higher notes are played to a melody. There are no other instruments in</span>\n",
       "<span style=\"color: #008000; text-decoration-color: #008000; font-weight: bold\">this song. There are no voices in this song. This is an instrumental song. This song can be played at a Scottish </span>\n",
       "<span style=\"color: #008000; text-decoration-color: #008000; font-weight: bold\">fair. &lt;|endoftext|&gt;</span>\n",
       "</pre>\n"
      ],
      "text/plain": [
       "\u001b[1;32m Caption: \u001b[0m\u001b[1;32m<\u001b[0m\u001b[1;32m|endoftext|\u001b[0m\u001b[1;32m>\u001b[0m\u001b[1;32m This song features an instrumental played on bagpipes. One pedal note is played \u001b[0m\n",
       "\u001b[1;32mcontinuously on the lower register while the higher notes are played to a melody. There are no other instruments in\u001b[0m\n",
       "\u001b[1;32mthis song. There are no voices in this song. This is an instrumental song. This song can be played at a Scottish \u001b[0m\n",
       "\u001b[1;32mfair. \u001b[0m\u001b[1;32m<\u001b[0m\u001b[1;32m|endoftext|\u001b[0m\u001b[1;32m>\u001b[0m\n"
      ]
     },
     "metadata": {},
     "output_type": "display_data"
    },
    {
     "name": "stderr",
     "output_type": "stream",
     "text": [
      "A decoder-only architecture is being used, but right-padding was detected! For correct generation results, please set `padding_side='left'` when initializing the tokenizer.\n"
     ]
    },
    {
     "data": {
      "text/html": [
       "<pre style=\"white-space:pre;overflow-x:auto;line-height:normal;font-family:Menlo,'DejaVu Sans Mono',consolas,'Courier New',monospace\"><span style=\"color: #000080; text-decoration-color: #000080; font-weight: bold\"> Prediction B: &lt;|endoftext|&gt; This is a music piece that is being played on a piano. &lt;|endoftext|&gt;</span>\n",
       "</pre>\n"
      ],
      "text/plain": [
       "\u001b[1;34m Prediction B: \u001b[0m\u001b[1;34m<\u001b[0m\u001b[1;34m|endoftext|\u001b[0m\u001b[1;34m>\u001b[0m\u001b[1;34m This is a music piece that is being played on a piano. \u001b[0m\u001b[1;34m<\u001b[0m\u001b[1;34m|endoftext|\u001b[0m\u001b[1;34m>\u001b[0m\n"
      ]
     },
     "metadata": {},
     "output_type": "display_data"
    },
    {
     "name": "stdout",
     "output_type": "stream",
     "text": [
      "\n",
      "Test eval\n"
     ]
    },
    {
     "data": {
      "text/html": [
       "<pre style=\"white-space:pre;overflow-x:auto;line-height:normal;font-family:Menlo,'DejaVu Sans Mono',consolas,'Courier New',monospace\"><span style=\"color: #008000; text-decoration-color: #008000; font-weight: bold\"> Caption: &lt;|endoftext|&gt; The music features a synth sound playing a repeating melody. An electric piano accompanies </span>\n",
       "<span style=\"color: #008000; text-decoration-color: #008000; font-weight: bold\">the melody with chords. In the second half of the music except the drums and bass guitar kick in. Listening to this</span>\n",
       "<span style=\"color: #008000; text-decoration-color: #008000; font-weight: bold\">music I get lounge vibes. &lt;|endoftext|&gt;</span>\n",
       "</pre>\n"
      ],
      "text/plain": [
       "\u001b[1;32m Caption: \u001b[0m\u001b[1;32m<\u001b[0m\u001b[1;32m|endoftext|\u001b[0m\u001b[1;32m>\u001b[0m\u001b[1;32m The music features a synth sound playing a repeating melody. An electric piano accompanies \u001b[0m\n",
       "\u001b[1;32mthe melody with chords. In the second half of the music except the drums and bass guitar kick in. Listening to this\u001b[0m\n",
       "\u001b[1;32mmusic I get lounge vibes. \u001b[0m\u001b[1;32m<\u001b[0m\u001b[1;32m|endoftext|\u001b[0m\u001b[1;32m>\u001b[0m\n"
      ]
     },
     "metadata": {},
     "output_type": "display_data"
    },
    {
     "name": "stderr",
     "output_type": "stream",
     "text": [
      "A decoder-only architecture is being used, but right-padding was detected! For correct generation results, please set `padding_side='left'` when initializing the tokenizer.\n"
     ]
    },
    {
     "data": {
      "text/html": [
       "<pre style=\"white-space:pre;overflow-x:auto;line-height:normal;font-family:Menlo,'DejaVu Sans Mono',consolas,'Courier New',monospace\"><span style=\"color: #000080; text-decoration-color: #000080; font-weight: bold\"> Prediction B: &lt;|endoftext|&gt;songs that are playing in a music video game &lt;|endoftext|&gt;</span>\n",
       "</pre>\n"
      ],
      "text/plain": [
       "\u001b[1;34m Prediction B: \u001b[0m\u001b[1;34m<\u001b[0m\u001b[1;34m|endoftext|\u001b[0m\u001b[1;34m>\u001b[0m\u001b[1;34msongs that are playing in a music video game \u001b[0m\u001b[1;34m<\u001b[0m\u001b[1;34m|endoftext|\u001b[0m\u001b[1;34m>\u001b[0m\n"
      ]
     },
     "metadata": {},
     "output_type": "display_data"
    },
    {
     "name": "stdout",
     "output_type": "stream",
     "text": [
      "\n"
     ]
    },
    {
     "data": {
      "image/png": "[encoded data removed]",
      "text/plain": [
       "<Figure size 640x480 with 1 Axes>"
      ]
     },
     "metadata": {},
     "output_type": "display_data"
    },
    {
     "name": "stdout",
     "output_type": "stream",
     "text": [
      "Train eval\n"
     ]
    },
    {
     "data": {
      "text/html": [
       "<pre style=\"white-space:pre;overflow-x:auto;line-height:normal;font-family:Menlo,'DejaVu Sans Mono',consolas,'Courier New',monospace\"><span style=\"color: #008000; text-decoration-color: #008000; font-weight: bold\"> Caption: &lt;|endoftext|&gt; This is a Punjabi film music piece. At first, the melody is being played by the accordion. </span>\n",
       "<span style=\"color: #008000; text-decoration-color: #008000; font-weight: bold\">Then, it is being played by the flute. In the background, a bass guitar is playing. The rhythm is provided by the </span>\n",
       "<span style=\"color: #008000; text-decoration-color: #008000; font-weight: bold\">percussion. The atmosphere is vibrant. This piece could be used as an accompaniment piece for a folk dance course. </span>\n",
       "<span style=\"color: #008000; text-decoration-color: #008000; font-weight: bold\">&lt;|endoftext|&gt;</span>\n",
       "</pre>\n"
      ],
      "text/plain": [
       "\u001b[1;32m Caption: \u001b[0m\u001b[1;32m<\u001b[0m\u001b[1;32m|endoftext|\u001b[0m\u001b[1;32m>\u001b[0m\u001b[1;32m This is a Punjabi film music piece. At first, the melody is being played by the accordion. \u001b[0m\n",
       "\u001b[1;32mThen, it is being played by the flute. In the background, a bass guitar is playing. The rhythm is provided by the \u001b[0m\n",
       "\u001b[1;32mpercussion. The atmosphere is vibrant. This piece could be used as an accompaniment piece for a folk dance course. \u001b[0m\n",
       "\u001b[1;32m<\u001b[0m\u001b[1;32m|endoftext|\u001b[0m\u001b[1;32m>\u001b[0m\n"
      ]
     },
     "metadata": {},
     "output_type": "display_data"
    },
    {
     "name": "stderr",
     "output_type": "stream",
     "text": [
      "A decoder-only architecture is being used, but right-padding was detected! For correct generation results, please set `padding_side='left'` when initializing the tokenizer.\n"
     ]
    },
    {
     "data": {
      "text/html": [
       "<pre style=\"white-space:pre;overflow-x:auto;line-height:normal;font-family:Menlo,'DejaVu Sans Mono',consolas,'Courier New',monospace\"><span style=\"color: #000080; text-decoration-color: #000080; font-weight: bold\"> Prediction B: &lt;|endoftext|&gt;a low quality recording of an acoustic guitar playing in the background of a song. </span>\n",
       "<span style=\"color: #000080; text-decoration-color: #000080; font-weight: bold\">&lt;|endoftext|&gt;</span>\n",
       "</pre>\n"
      ],
      "text/plain": [
       "\u001b[1;34m Prediction B: \u001b[0m\u001b[1;34m<\u001b[0m\u001b[1;34m|endoftext|\u001b[0m\u001b[1;34m>\u001b[0m\u001b[1;34ma low quality recording of an acoustic guitar playing in the background of a song. \u001b[0m\n",
       "\u001b[1;34m<\u001b[0m\u001b[1;34m|endoftext|\u001b[0m\u001b[1;34m>\u001b[0m\n"
      ]
     },
     "metadata": {},
     "output_type": "display_data"
    },
    {
     "name": "stdout",
     "output_type": "stream",
     "text": [
      "\n",
      "Test eval\n"
     ]
    },
    {
     "data": {
      "text/html": [
       "<pre style=\"white-space:pre;overflow-x:auto;line-height:normal;font-family:Menlo,'DejaVu Sans Mono',consolas,'Courier New',monospace\"><span style=\"color: #008000; text-decoration-color: #008000; font-weight: bold\"> Caption: &lt;|endoftext|&gt; The low quality recording features a traditional song that consists of passionate female </span>\n",
       "<span style=\"color: #008000; text-decoration-color: #008000; font-weight: bold\">vocal singing over wooden percussive elements, strings and flute melody. It sounds passionate, emotional and </span>\n",
       "<span style=\"color: #008000; text-decoration-color: #008000; font-weight: bold\">soulful and the recording is noisy and in mono. &lt;|endoftext|&gt;</span>\n",
       "</pre>\n"
      ],
      "text/plain": [
       "\u001b[1;32m Caption: \u001b[0m\u001b[1;32m<\u001b[0m\u001b[1;32m|endoftext|\u001b[0m\u001b[1;32m>\u001b[0m\u001b[1;32m The low quality recording features a traditional song that consists of passionate female \u001b[0m\n",
       "\u001b[1;32mvocal singing over wooden percussive elements, strings and flute melody. It sounds passionate, emotional and \u001b[0m\n",
       "\u001b[1;32msoulful and the recording is noisy and in mono. \u001b[0m\u001b[1;32m<\u001b[0m\u001b[1;32m|endoftext|\u001b[0m\u001b[1;32m>\u001b[0m\n"
      ]
     },
     "metadata": {},
     "output_type": "display_data"
    },
    {
     "name": "stderr",
     "output_type": "stream",
     "text": [
      "A decoder-only architecture is being used, but right-padding was detected! For correct generation results, please set `padding_side='left'` when initializing the tokenizer.\n"
     ]
    },
    {
     "data": {
      "text/html": [
       "<pre style=\"white-space:pre;overflow-x:auto;line-height:normal;font-family:Menlo,'DejaVu Sans Mono',consolas,'Courier New',monospace\"><span style=\"color: #000080; text-decoration-color: #000080; font-weight: bold\"> Prediction B: &lt;|endoftext|&gt;a song that is playing in the background of a music festival &lt;|endoftext|&gt;</span>\n",
       "</pre>\n"
      ],
      "text/plain": [
       "\u001b[1;34m Prediction B: \u001b[0m\u001b[1;34m<\u001b[0m\u001b[1;34m|endoftext|\u001b[0m\u001b[1;34m>\u001b[0m\u001b[1;34ma song that is playing in the background of a music festival \u001b[0m\u001b[1;34m<\u001b[0m\u001b[1;34m|endoftext|\u001b[0m\u001b[1;34m>\u001b[0m\n"
      ]
     },
     "metadata": {},
     "output_type": "display_data"
    },
    {
     "name": "stdout",
     "output_type": "stream",
     "text": [
      "\n",
      "Finished 11 epochs\n",
      "Train eval\n"
     ]
    },
    {
     "data": {
      "text/html": [
       "<pre style=\"white-space:pre;overflow-x:auto;line-height:normal;font-family:Menlo,'DejaVu Sans Mono',consolas,'Courier New',monospace\"><span style=\"color: #008000; text-decoration-color: #008000; font-weight: bold\"> Caption: &lt;|endoftext|&gt; This is an amateur recording of a sound check jam. The audio quality is quite poor with an </span>\n",
       "<span style=\"color: #008000; text-decoration-color: #008000; font-weight: bold\">emphasis on the drum sound. There is a male vocal that can be barely heard over the sound of the bass guitar and </span>\n",
       "<span style=\"color: #008000; text-decoration-color: #008000; font-weight: bold\">the acoustic drums. The piece is easygoing. This recording can be sampled for use in beat-making. &lt;|endoftext|&gt;</span>\n",
       "</pre>\n"
      ],
      "text/plain": [
       "\u001b[1;32m Caption: \u001b[0m\u001b[1;32m<\u001b[0m\u001b[1;32m|endoftext|\u001b[0m\u001b[1;32m>\u001b[0m\u001b[1;32m This is an amateur recording of a sound check jam. The audio quality is quite poor with an \u001b[0m\n",
       "\u001b[1;32memphasis on the drum sound. There is a male vocal that can be barely heard over the sound of the bass guitar and \u001b[0m\n",
       "\u001b[1;32mthe acoustic drums. The piece is easygoing. This recording can be sampled for use in beat-making. \u001b[0m\u001b[1;32m<\u001b[0m\u001b[1;32m|endoftext|\u001b[0m\u001b[1;32m>\u001b[0m\n"
      ]
     },
     "metadata": {},
     "output_type": "display_data"
    },
    {
     "name": "stderr",
     "output_type": "stream",
     "text": [
      "A decoder-only architecture is being used, but right-padding was detected! For correct generation results, please set `padding_side='left'` when initializing the tokenizer.\n"
     ]
    },
    {
     "data": {
      "text/html": [
       "<pre style=\"white-space:pre;overflow-x:auto;line-height:normal;font-family:Menlo,'DejaVu Sans Mono',consolas,'Courier New',monospace\"><span style=\"color: #000080; text-decoration-color: #000080; font-weight: bold\"> Prediction B: &lt;|endoftext|&gt;a low quality recording of a music playing in a studio setting &lt;|endoftext|&gt;</span>\n",
       "</pre>\n"
      ],
      "text/plain": [
       "\u001b[1;34m Prediction B: \u001b[0m\u001b[1;34m<\u001b[0m\u001b[1;34m|endoftext|\u001b[0m\u001b[1;34m>\u001b[0m\u001b[1;34ma low quality recording of a music playing in a studio setting \u001b[0m\u001b[1;34m<\u001b[0m\u001b[1;34m|endoftext|\u001b[0m\u001b[1;34m>\u001b[0m\n"
      ]
     },
     "metadata": {},
     "output_type": "display_data"
    },
    {
     "name": "stdout",
     "output_type": "stream",
     "text": [
      "\n",
      "Test eval\n"
     ]
    },
    {
     "data": {
      "text/html": [
       "<pre style=\"white-space:pre;overflow-x:auto;line-height:normal;font-family:Menlo,'DejaVu Sans Mono',consolas,'Courier New',monospace\"><span style=\"color: #008000; text-decoration-color: #008000; font-weight: bold\"> Caption: &lt;|endoftext|&gt; The low quality recording features a mellow echoing synth pad keys playing. It sounds </span>\n",
       "<span style=\"color: #008000; text-decoration-color: #008000; font-weight: bold\">ambient, reverberant, but also relaxing and calming, like something you would put on while doing yoga or just </span>\n",
       "<span style=\"color: #008000; text-decoration-color: #008000; font-weight: bold\">trying to relax. &lt;|endoftext|&gt;</span>\n",
       "</pre>\n"
      ],
      "text/plain": [
       "\u001b[1;32m Caption: \u001b[0m\u001b[1;32m<\u001b[0m\u001b[1;32m|endoftext|\u001b[0m\u001b[1;32m>\u001b[0m\u001b[1;32m The low quality recording features a mellow echoing synth pad keys playing. It sounds \u001b[0m\n",
       "\u001b[1;32mambient, reverberant, but also relaxing and calming, like something you would put on while doing yoga or just \u001b[0m\n",
       "\u001b[1;32mtrying to relax. \u001b[0m\u001b[1;32m<\u001b[0m\u001b[1;32m|endoftext|\u001b[0m\u001b[1;32m>\u001b[0m\n"
      ]
     },
     "metadata": {},
     "output_type": "display_data"
    },
    {
     "name": "stderr",
     "output_type": "stream",
     "text": [
      "A decoder-only architecture is being used, but right-padding was detected! For correct generation results, please set `padding_side='left'` when initializing the tokenizer.\n"
     ]
    },
    {
     "data": {
      "text/html": [
       "<pre style=\"white-space:pre;overflow-x:auto;line-height:normal;font-family:Menlo,'DejaVu Sans Mono',consolas,'Courier New',monospace\"><span style=\"color: #000080; text-decoration-color: #000080; font-weight: bold\"> Prediction B: &lt;|endoftext|&gt;a low quality recording of an acoustic guitar playing a song. This song is played in </span>\n",
       "<span style=\"color: #000080; text-decoration-color: #000080; font-weight: bold\">the background. This song is played in the background of a music video. &lt;|endoftext|&gt;</span>\n",
       "</pre>\n"
      ],
      "text/plain": [
       "\u001b[1;34m Prediction B: \u001b[0m\u001b[1;34m<\u001b[0m\u001b[1;34m|endoftext|\u001b[0m\u001b[1;34m>\u001b[0m\u001b[1;34ma low quality recording of an acoustic guitar playing a song. This song is played in \u001b[0m\n",
       "\u001b[1;34mthe background. This song is played in the background of a music video. \u001b[0m\u001b[1;34m<\u001b[0m\u001b[1;34m|endoftext|\u001b[0m\u001b[1;34m>\u001b[0m\n"
      ]
     },
     "metadata": {},
     "output_type": "display_data"
    },
    {
     "name": "stdout",
     "output_type": "stream",
     "text": [
      "\n",
      "Train eval\n"
     ]
    },
    {
     "data": {
      "text/html": [
       "<pre style=\"white-space:pre;overflow-x:auto;line-height:normal;font-family:Menlo,'DejaVu Sans Mono',consolas,'Courier New',monospace\"><span style=\"color: #008000; text-decoration-color: #008000; font-weight: bold\"> Caption: &lt;|endoftext|&gt; A female singer sings this chanting vocals with backup singers in vocal harmony. The song </span>\n",
       "<span style=\"color: #008000; text-decoration-color: #008000; font-weight: bold\">is medium tempo with bell harmony, keyboard accompaniment, steady rhythm and a string pad harmony. The song is </span>\n",
       "<span style=\"color: #008000; text-decoration-color: #008000; font-weight: bold\">healing and a new age in nature. &lt;|endoftext|&gt;</span>\n",
       "</pre>\n"
      ],
      "text/plain": [
       "\u001b[1;32m Caption: \u001b[0m\u001b[1;32m<\u001b[0m\u001b[1;32m|endoftext|\u001b[0m\u001b[1;32m>\u001b[0m\u001b[1;32m A female singer sings this chanting vocals with backup singers in vocal harmony. The song \u001b[0m\n",
       "\u001b[1;32mis medium tempo with bell harmony, keyboard accompaniment, steady rhythm and a string pad harmony. The song is \u001b[0m\n",
       "\u001b[1;32mhealing and a new age in nature. \u001b[0m\u001b[1;32m<\u001b[0m\u001b[1;32m|endoftext|\u001b[0m\u001b[1;32m>\u001b[0m\n"
      ]
     },
     "metadata": {},
     "output_type": "display_data"
    },
    {
     "name": "stderr",
     "output_type": "stream",
     "text": [
      "A decoder-only architecture is being used, but right-padding was detected! For correct generation results, please set `padding_side='left'` when initializing the tokenizer.\n"
     ]
    },
    {
     "data": {
      "text/html": [
       "<pre style=\"white-space:pre;overflow-x:auto;line-height:normal;font-family:Menlo,'DejaVu Sans Mono',consolas,'Courier New',monospace\"><span style=\"color: #000080; text-decoration-color: #000080; font-weight: bold\"> Prediction B: &lt;|endoftext|&gt;a song that is playing on a wii system. The song is playing in the background of the </span>\n",
       "<span style=\"color: #000080; text-decoration-color: #000080; font-weight: bold\">background. &lt;|endoftext|&gt;</span>\n",
       "</pre>\n"
      ],
      "text/plain": [
       "\u001b[1;34m Prediction B: \u001b[0m\u001b[1;34m<\u001b[0m\u001b[1;34m|endoftext|\u001b[0m\u001b[1;34m>\u001b[0m\u001b[1;34ma song that is playing on a wii system. The song is playing in the background of the \u001b[0m\n",
       "\u001b[1;34mbackground. \u001b[0m\u001b[1;34m<\u001b[0m\u001b[1;34m|endoftext|\u001b[0m\u001b[1;34m>\u001b[0m\n"
      ]
     },
     "metadata": {},
     "output_type": "display_data"
    },
    {
     "name": "stdout",
     "output_type": "stream",
     "text": [
      "\n",
      "Test eval\n"
     ]
    },
    {
     "data": {
      "text/html": [
       "<pre style=\"white-space:pre;overflow-x:auto;line-height:normal;font-family:Menlo,'DejaVu Sans Mono',consolas,'Courier New',monospace\"><span style=\"color: #008000; text-decoration-color: #008000; font-weight: bold\"> Caption: &lt;|endoftext|&gt; Someone is playing a distorted e-guitar solo melody with a lot of reverb over another </span>\n",
       "<span style=\"color: #008000; text-decoration-color: #008000; font-weight: bold\">e-guitar finger picking chords. This is an amateur recording. This song may be playing guitar at home. </span>\n",
       "<span style=\"color: #008000; text-decoration-color: #008000; font-weight: bold\">&lt;|endoftext|&gt;</span>\n",
       "</pre>\n"
      ],
      "text/plain": [
       "\u001b[1;32m Caption: \u001b[0m\u001b[1;32m<\u001b[0m\u001b[1;32m|endoftext|\u001b[0m\u001b[1;32m>\u001b[0m\u001b[1;32m Someone is playing a distorted e-guitar solo melody with a lot of reverb over another \u001b[0m\n",
       "\u001b[1;32me-guitar finger picking chords. This is an amateur recording. This song may be playing guitar at home. \u001b[0m\n",
       "\u001b[1;32m<\u001b[0m\u001b[1;32m|endoftext|\u001b[0m\u001b[1;32m>\u001b[0m\n"
      ]
     },
     "metadata": {},
     "output_type": "display_data"
    },
    {
     "name": "stderr",
     "output_type": "stream",
     "text": [
      "A decoder-only architecture is being used, but right-padding was detected! For correct generation results, please set `padding_side='left'` when initializing the tokenizer.\n"
     ]
    },
    {
     "data": {
      "text/html": [
       "<pre style=\"white-space:pre;overflow-x:auto;line-height:normal;font-family:Menlo,'DejaVu Sans Mono',consolas,'Courier New',monospace\"><span style=\"color: #000080; text-decoration-color: #000080; font-weight: bold\"> Prediction B: &lt;|endoftext|&gt;a low quality recording of an acoustic guitar playing a melody in the background of a </span>\n",
       "<span style=\"color: #000080; text-decoration-color: #000080; font-weight: bold\">song. The melody is played in the background of the song. &lt;|endoftext|&gt;</span>\n",
       "</pre>\n"
      ],
      "text/plain": [
       "\u001b[1;34m Prediction B: \u001b[0m\u001b[1;34m<\u001b[0m\u001b[1;34m|endoftext|\u001b[0m\u001b[1;34m>\u001b[0m\u001b[1;34ma low quality recording of an acoustic guitar playing a melody in the background of a \u001b[0m\n",
       "\u001b[1;34msong. The melody is played in the background of the song. \u001b[0m\u001b[1;34m<\u001b[0m\u001b[1;34m|endoftext|\u001b[0m\u001b[1;34m>\u001b[0m\n"
      ]
     },
     "metadata": {},
     "output_type": "display_data"
    },
    {
     "name": "stdout",
     "output_type": "stream",
     "text": [
      "\n",
      "Train eval\n"
     ]
    },
    {
     "data": {
      "text/html": [
       "<pre style=\"white-space:pre;overflow-x:auto;line-height:normal;font-family:Menlo,'DejaVu Sans Mono',consolas,'Courier New',monospace\"><span style=\"color: #008000; text-decoration-color: #008000; font-weight: bold\"> Caption: &lt;|endoftext|&gt; The low quality recording features harmonizing male vocals singing over a song played on </span>\n",
       "<span style=\"color: #008000; text-decoration-color: #008000; font-weight: bold\">playback, followed by a flat male vocal talking. At the end of the recording, there is a male laughter. It sounds </span>\n",
       "<span style=\"color: #008000; text-decoration-color: #008000; font-weight: bold\">fun and the recording is noisy. &lt;|endoftext|&gt;</span>\n",
       "</pre>\n"
      ],
      "text/plain": [
       "\u001b[1;32m Caption: \u001b[0m\u001b[1;32m<\u001b[0m\u001b[1;32m|endoftext|\u001b[0m\u001b[1;32m>\u001b[0m\u001b[1;32m The low quality recording features harmonizing male vocals singing over a song played on \u001b[0m\n",
       "\u001b[1;32mplayback, followed by a flat male vocal talking. At the end of the recording, there is a male laughter. It sounds \u001b[0m\n",
       "\u001b[1;32mfun and the recording is noisy. \u001b[0m\u001b[1;32m<\u001b[0m\u001b[1;32m|endoftext|\u001b[0m\u001b[1;32m>\u001b[0m\n"
      ]
     },
     "metadata": {},
     "output_type": "display_data"
    },
    {
     "name": "stderr",
     "output_type": "stream",
     "text": [
      "A decoder-only architecture is being used, but right-padding was detected! For correct generation results, please set `padding_side='left'` when initializing the tokenizer.\n"
     ]
    },
    {
     "data": {
      "text/html": [
       "<pre style=\"white-space:pre;overflow-x:auto;line-height:normal;font-family:Menlo,'DejaVu Sans Mono',consolas,'Courier New',monospace\"><span style=\"color: #000080; text-decoration-color: #000080; font-weight: bold\"> Prediction B: &lt;|endoftext|&gt;a low quality recording of a music video. This is a low quality recording of a music </span>\n",
       "<span style=\"color: #000080; text-decoration-color: #000080; font-weight: bold\">video.&lt;|endoftext|&gt;</span>\n",
       "</pre>\n"
      ],
      "text/plain": [
       "\u001b[1;34m Prediction B: \u001b[0m\u001b[1;34m<\u001b[0m\u001b[1;34m|endoftext|\u001b[0m\u001b[1;34m>\u001b[0m\u001b[1;34ma low quality recording of a music video. This is a low quality recording of a music \u001b[0m\n",
       "\u001b[1;34mvideo.\u001b[0m\u001b[1;34m<\u001b[0m\u001b[1;34m|endoftext|\u001b[0m\u001b[1;34m>\u001b[0m\n"
      ]
     },
     "metadata": {},
     "output_type": "display_data"
    },
    {
     "name": "stdout",
     "output_type": "stream",
     "text": [
      "\n",
      "Test eval\n"
     ]
    },
    {
     "data": {
      "text/html": [
       "<pre style=\"white-space:pre;overflow-x:auto;line-height:normal;font-family:Menlo,'DejaVu Sans Mono',consolas,'Courier New',monospace\"><span style=\"color: #008000; text-decoration-color: #008000; font-weight: bold\"> Caption: &lt;|endoftext|&gt; A male vocalist sings this  energetic song. The tempo  is fast with synthesiser </span>\n",
       "<span style=\"color: #008000; text-decoration-color: #008000; font-weight: bold\">arrangements, punchy digital drumming, tambourine beats and keyboard harmony. The music is upbeat, punchy, groovy, </span>\n",
       "<span style=\"color: #008000; text-decoration-color: #008000; font-weight: bold\">youthful, buoyant and exciting. This song is Synth Pop. &lt;|endoftext|&gt;</span>\n",
       "</pre>\n"
      ],
      "text/plain": [
       "\u001b[1;32m Caption: \u001b[0m\u001b[1;32m<\u001b[0m\u001b[1;32m|endoftext|\u001b[0m\u001b[1;32m>\u001b[0m\u001b[1;32m A male vocalist sings this  energetic song. The tempo  is fast with synthesiser \u001b[0m\n",
       "\u001b[1;32marrangements, punchy digital drumming, tambourine beats and keyboard harmony. The music is upbeat, punchy, groovy, \u001b[0m\n",
       "\u001b[1;32myouthful, buoyant and exciting. This song is Synth Pop. \u001b[0m\u001b[1;32m<\u001b[0m\u001b[1;32m|endoftext|\u001b[0m\u001b[1;32m>\u001b[0m\n"
      ]
     },
     "metadata": {},
     "output_type": "display_data"
    },
    {
     "name": "stderr",
     "output_type": "stream",
     "text": [
      "A decoder-only architecture is being used, but right-padding was detected! For correct generation results, please set `padding_side='left'` when initializing the tokenizer.\n"
     ]
    },
    {
     "data": {
      "text/html": [
       "<pre style=\"white-space:pre;overflow-x:auto;line-height:normal;font-family:Menlo,'DejaVu Sans Mono',consolas,'Courier New',monospace\"><span style=\"color: #000080; text-decoration-color: #000080; font-weight: bold\"> Prediction B: &lt;|endoftext|&gt;a song that is playing in the background of a music video game &lt;|endoftext|&gt;</span>\n",
       "</pre>\n"
      ],
      "text/plain": [
       "\u001b[1;34m Prediction B: \u001b[0m\u001b[1;34m<\u001b[0m\u001b[1;34m|endoftext|\u001b[0m\u001b[1;34m>\u001b[0m\u001b[1;34ma song that is playing in the background of a music video game \u001b[0m\u001b[1;34m<\u001b[0m\u001b[1;34m|endoftext|\u001b[0m\u001b[1;34m>\u001b[0m\n"
      ]
     },
     "metadata": {},
     "output_type": "display_data"
    },
    {
     "name": "stdout",
     "output_type": "stream",
     "text": [
      "\n",
      "Train eval\n"
     ]
    },
    {
     "data": {
      "text/html": [
       "<pre style=\"white-space:pre;overflow-x:auto;line-height:normal;font-family:Menlo,'DejaVu Sans Mono',consolas,'Courier New',monospace\"><span style=\"color: #008000; text-decoration-color: #008000; font-weight: bold\"> Caption: &lt;|endoftext|&gt; This song contains a male voice singing a drone sound in the lower register while other </span>\n",
       "<span style=\"color: #008000; text-decoration-color: #008000; font-weight: bold\">male voices are singing a harmonic melody in the mid-range. This song may be playing live in a church. </span>\n",
       "<span style=\"color: #008000; text-decoration-color: #008000; font-weight: bold\">&lt;|endoftext|&gt;</span>\n",
       "</pre>\n"
      ],
      "text/plain": [
       "\u001b[1;32m Caption: \u001b[0m\u001b[1;32m<\u001b[0m\u001b[1;32m|endoftext|\u001b[0m\u001b[1;32m>\u001b[0m\u001b[1;32m This song contains a male voice singing a drone sound in the lower register while other \u001b[0m\n",
       "\u001b[1;32mmale voices are singing a harmonic melody in the mid-range. This song may be playing live in a church. \u001b[0m\n",
       "\u001b[1;32m<\u001b[0m\u001b[1;32m|endoftext|\u001b[0m\u001b[1;32m>\u001b[0m\n"
      ]
     },
     "metadata": {},
     "output_type": "display_data"
    },
    {
     "name": "stderr",
     "output_type": "stream",
     "text": [
      "A decoder-only architecture is being used, but right-padding was detected! For correct generation results, please set `padding_side='left'` when initializing the tokenizer.\n"
     ]
    },
    {
     "data": {
      "text/html": [
       "<pre style=\"white-space:pre;overflow-x:auto;line-height:normal;font-family:Menlo,'DejaVu Sans Mono',consolas,'Courier New',monospace\"><span style=\"color: #000080; text-decoration-color: #000080; font-weight: bold\"> Prediction B: &lt;|endoftext|&gt; This is a recording of a recording of a man singing a song. &lt;|endoftext|&gt;</span>\n",
       "</pre>\n"
      ],
      "text/plain": [
       "\u001b[1;34m Prediction B: \u001b[0m\u001b[1;34m<\u001b[0m\u001b[1;34m|endoftext|\u001b[0m\u001b[1;34m>\u001b[0m\u001b[1;34m This is a recording of a recording of a man singing a song. \u001b[0m\u001b[1;34m<\u001b[0m\u001b[1;34m|endoftext|\u001b[0m\u001b[1;34m>\u001b[0m\n"
      ]
     },
     "metadata": {},
     "output_type": "display_data"
    },
    {
     "name": "stdout",
     "output_type": "stream",
     "text": [
      "\n",
      "Test eval\n"
     ]
    },
    {
     "data": {
      "text/html": [
       "<pre style=\"white-space:pre;overflow-x:auto;line-height:normal;font-family:Menlo,'DejaVu Sans Mono',consolas,'Courier New',monospace\"><span style=\"color: #008000; text-decoration-color: #008000; font-weight: bold\"> Caption: &lt;|endoftext|&gt; The low quality recording features a chiptune remix of a pop song and it consists of high </span>\n",
       "<span style=\"color: #008000; text-decoration-color: #008000; font-weight: bold\">pitched female vocal singing over repetitive synth melody, punchy </span><span style=\"color: #008000; text-decoration-color: #008000; font-weight: bold\">\"4 on the floor\"</span><span style=\"color: #008000; text-decoration-color: #008000; font-weight: bold\"> kick pattern and shimmering </span>\n",
       "<span style=\"color: #008000; text-decoration-color: #008000; font-weight: bold\">bells melody at the very beginning of the loop. It sounds kind of addictive, fun and happy. The audio sounds like </span>\n",
       "<span style=\"color: #008000; text-decoration-color: #008000; font-weight: bold\">it was stretched. &lt;|endoftext|&gt;</span>\n",
       "</pre>\n"
      ],
      "text/plain": [
       "\u001b[1;32m Caption: \u001b[0m\u001b[1;32m<\u001b[0m\u001b[1;32m|endoftext|\u001b[0m\u001b[1;32m>\u001b[0m\u001b[1;32m The low quality recording features a chiptune remix of a pop song and it consists of high \u001b[0m\n",
       "\u001b[1;32mpitched female vocal singing over repetitive synth melody, punchy \u001b[0m\u001b[1;32m\"4 on the floor\"\u001b[0m\u001b[1;32m kick pattern and shimmering \u001b[0m\n",
       "\u001b[1;32mbells melody at the very beginning of the loop. It sounds kind of addictive, fun and happy. The audio sounds like \u001b[0m\n",
       "\u001b[1;32mit was stretched. \u001b[0m\u001b[1;32m<\u001b[0m\u001b[1;32m|endoftext|\u001b[0m\u001b[1;32m>\u001b[0m\n"
      ]
     },
     "metadata": {},
     "output_type": "display_data"
    },
    {
     "name": "stderr",
     "output_type": "stream",
     "text": [
      "A decoder-only architecture is being used, but right-padding was detected! For correct generation results, please set `padding_side='left'` when initializing the tokenizer.\n"
     ]
    },
    {
     "data": {
      "text/html": [
       "<pre style=\"white-space:pre;overflow-x:auto;line-height:normal;font-family:Menlo,'DejaVu Sans Mono',consolas,'Courier New',monospace\"><span style=\"color: #000080; text-decoration-color: #000080; font-weight: bold\"> Prediction B: &lt;|endoftext|&gt;songs that are playing in the background of a music video &lt;|endoftext|&gt;</span>\n",
       "</pre>\n"
      ],
      "text/plain": [
       "\u001b[1;34m Prediction B: \u001b[0m\u001b[1;34m<\u001b[0m\u001b[1;34m|endoftext|\u001b[0m\u001b[1;34m>\u001b[0m\u001b[1;34msongs that are playing in the background of a music video \u001b[0m\u001b[1;34m<\u001b[0m\u001b[1;34m|endoftext|\u001b[0m\u001b[1;34m>\u001b[0m\n"
      ]
     },
     "metadata": {},
     "output_type": "display_data"
    },
    {
     "name": "stdout",
     "output_type": "stream",
     "text": [
      "\n",
      "Finished 12 epochs\n",
      "Train eval\n"
     ]
    },
    {
     "data": {
      "text/html": [
       "<pre style=\"white-space:pre;overflow-x:auto;line-height:normal;font-family:Menlo,'DejaVu Sans Mono',consolas,'Courier New',monospace\"><span style=\"color: #008000; text-decoration-color: #008000; font-weight: bold\"> Caption: &lt;|endoftext|&gt; The low quality recording features a traditional song that consists of a flat male vocal </span>\n",
       "<span style=\"color: #008000; text-decoration-color: #008000; font-weight: bold\">singing over shimmering hi hats, strings melody and wooden percussion, while a male vocal is mocking them. It </span>\n",
       "<span style=\"color: #008000; text-decoration-color: #008000; font-weight: bold\">sounds groovy, funny and it gives off happy vibes. &lt;|endoftext|&gt;</span>\n",
       "</pre>\n"
      ],
      "text/plain": [
       "\u001b[1;32m Caption: \u001b[0m\u001b[1;32m<\u001b[0m\u001b[1;32m|endoftext|\u001b[0m\u001b[1;32m>\u001b[0m\u001b[1;32m The low quality recording features a traditional song that consists of a flat male vocal \u001b[0m\n",
       "\u001b[1;32msinging over shimmering hi hats, strings melody and wooden percussion, while a male vocal is mocking them. It \u001b[0m\n",
       "\u001b[1;32msounds groovy, funny and it gives off happy vibes. \u001b[0m\u001b[1;32m<\u001b[0m\u001b[1;32m|endoftext|\u001b[0m\u001b[1;32m>\u001b[0m\n"
      ]
     },
     "metadata": {},
     "output_type": "display_data"
    },
    {
     "name": "stderr",
     "output_type": "stream",
     "text": [
      "A decoder-only architecture is being used, but right-padding was detected! For correct generation results, please set `padding_side='left'` when initializing the tokenizer.\n"
     ]
    },
    {
     "data": {
      "text/html": [
       "<pre style=\"white-space:pre;overflow-x:auto;line-height:normal;font-family:Menlo,'DejaVu Sans Mono',consolas,'Courier New',monospace\"><span style=\"color: #000080; text-decoration-color: #000080; font-weight: bold\"> Prediction B: &lt;|endoftext|&gt;a song that is playing on the wii. &lt;|endoftext|&gt;</span>\n",
       "</pre>\n"
      ],
      "text/plain": [
       "\u001b[1;34m Prediction B: \u001b[0m\u001b[1;34m<\u001b[0m\u001b[1;34m|endoftext|\u001b[0m\u001b[1;34m>\u001b[0m\u001b[1;34ma song that is playing on the wii. \u001b[0m\u001b[1;34m<\u001b[0m\u001b[1;34m|endoftext|\u001b[0m\u001b[1;34m>\u001b[0m\n"
      ]
     },
     "metadata": {},
     "output_type": "display_data"
    },
    {
     "name": "stdout",
     "output_type": "stream",
     "text": [
      "\n",
      "Test eval\n"
     ]
    },
    {
     "data": {
      "text/html": [
       "<pre style=\"white-space:pre;overflow-x:auto;line-height:normal;font-family:Menlo,'DejaVu Sans Mono',consolas,'Courier New',monospace\"><span style=\"color: #008000; text-decoration-color: #008000; font-weight: bold\"> Caption: &lt;|endoftext|&gt; This tribal music is played on a didgeridoo. It is played by vibrating the lips over the </span>\n",
       "<span style=\"color: #008000; text-decoration-color: #008000; font-weight: bold\">instrument using breathing techniques. The song has a continuous droning sound and inter spread with low pitch bass</span>\n",
       "<span style=\"color: #008000; text-decoration-color: #008000; font-weight: bold\">sounds. There are no voices in this song. This audio can be used in a movie where the protagonist is trapped in a </span>\n",
       "<span style=\"color: #008000; text-decoration-color: #008000; font-weight: bold\">forest. &lt;|endoftext|&gt;</span>\n",
       "</pre>\n"
      ],
      "text/plain": [
       "\u001b[1;32m Caption: \u001b[0m\u001b[1;32m<\u001b[0m\u001b[1;32m|endoftext|\u001b[0m\u001b[1;32m>\u001b[0m\u001b[1;32m This tribal music is played on a didgeridoo. It is played by vibrating the lips over the \u001b[0m\n",
       "\u001b[1;32minstrument using breathing techniques. The song has a continuous droning sound and inter spread with low pitch bass\u001b[0m\n",
       "\u001b[1;32msounds. There are no voices in this song. This audio can be used in a movie where the protagonist is trapped in a \u001b[0m\n",
       "\u001b[1;32mforest. \u001b[0m\u001b[1;32m<\u001b[0m\u001b[1;32m|endoftext|\u001b[0m\u001b[1;32m>\u001b[0m\n"
      ]
     },
     "metadata": {},
     "output_type": "display_data"
    },
    {
     "name": "stderr",
     "output_type": "stream",
     "text": [
      "A decoder-only architecture is being used, but right-padding was detected! For correct generation results, please set `padding_side='left'` when initializing the tokenizer.\n"
     ]
    },
    {
     "data": {
      "text/html": [
       "<pre style=\"white-space:pre;overflow-x:auto;line-height:normal;font-family:Menlo,'DejaVu Sans Mono',consolas,'Courier New',monospace\"><span style=\"color: #000080; text-decoration-color: #000080; font-weight: bold\"> Prediction B: &lt;|endoftext|&gt;a song that is playing on a computer keyboard &lt;|endoftext|&gt;</span>\n",
       "</pre>\n"
      ],
      "text/plain": [
       "\u001b[1;34m Prediction B: \u001b[0m\u001b[1;34m<\u001b[0m\u001b[1;34m|endoftext|\u001b[0m\u001b[1;34m>\u001b[0m\u001b[1;34ma song that is playing on a computer keyboard \u001b[0m\u001b[1;34m<\u001b[0m\u001b[1;34m|endoftext|\u001b[0m\u001b[1;34m>\u001b[0m\n"
      ]
     },
     "metadata": {},
     "output_type": "display_data"
    },
    {
     "name": "stdout",
     "output_type": "stream",
     "text": [
      "\n",
      "Train eval\n"
     ]
    },
    {
     "data": {
      "text/html": [
       "<pre style=\"white-space:pre;overflow-x:auto;line-height:normal;font-family:Menlo,'DejaVu Sans Mono',consolas,'Courier New',monospace\"><span style=\"color: #008000; text-decoration-color: #008000; font-weight: bold\"> Caption: &lt;|endoftext|&gt; The low quality recording features an electric guitar melody being played. There is a tiny </span>\n",
       "<span style=\"color: #008000; text-decoration-color: #008000; font-weight: bold\">audio pop in the left channel of the stereo image. The recording is noisy and muffled, but regardless it sounds </span>\n",
       "<span style=\"color: #008000; text-decoration-color: #008000; font-weight: bold\">hopeful. &lt;|endoftext|&gt;</span>\n",
       "</pre>\n"
      ],
      "text/plain": [
       "\u001b[1;32m Caption: \u001b[0m\u001b[1;32m<\u001b[0m\u001b[1;32m|endoftext|\u001b[0m\u001b[1;32m>\u001b[0m\u001b[1;32m The low quality recording features an electric guitar melody being played. There is a tiny \u001b[0m\n",
       "\u001b[1;32maudio pop in the left channel of the stereo image. The recording is noisy and muffled, but regardless it sounds \u001b[0m\n",
       "\u001b[1;32mhopeful. \u001b[0m\u001b[1;32m<\u001b[0m\u001b[1;32m|endoftext|\u001b[0m\u001b[1;32m>\u001b[0m\n"
      ]
     },
     "metadata": {},
     "output_type": "display_data"
    },
    {
     "name": "stderr",
     "output_type": "stream",
     "text": [
      "A decoder-only architecture is being used, but right-padding was detected! For correct generation results, please set `padding_side='left'` when initializing the tokenizer.\n"
     ]
    },
    {
     "data": {
      "text/html": [
       "<pre style=\"white-space:pre;overflow-x:auto;line-height:normal;font-family:Menlo,'DejaVu Sans Mono',consolas,'Courier New',monospace\"><span style=\"color: #000080; text-decoration-color: #000080; font-weight: bold\"> Prediction B: &lt;|endoftext|&gt; This is an acoustic guitar playing a melody that is very melodic. &lt;|endoftext|&gt;</span>\n",
       "</pre>\n"
      ],
      "text/plain": [
       "\u001b[1;34m Prediction B: \u001b[0m\u001b[1;34m<\u001b[0m\u001b[1;34m|endoftext|\u001b[0m\u001b[1;34m>\u001b[0m\u001b[1;34m This is an acoustic guitar playing a melody that is very melodic. \u001b[0m\u001b[1;34m<\u001b[0m\u001b[1;34m|endoftext|\u001b[0m\u001b[1;34m>\u001b[0m\n"
      ]
     },
     "metadata": {},
     "output_type": "display_data"
    },
    {
     "name": "stdout",
     "output_type": "stream",
     "text": [
      "\n",
      "Test eval\n"
     ]
    },
    {
     "data": {
      "text/html": [
       "<pre style=\"white-space:pre;overflow-x:auto;line-height:normal;font-family:Menlo,'DejaVu Sans Mono',consolas,'Courier New',monospace\"><span style=\"color: #008000; text-decoration-color: #008000; font-weight: bold\"> Caption: &lt;|endoftext|&gt; The clip just contains a high pitched synth melody. The motif keeps going higher in pitch, </span>\n",
       "<span style=\"color: #008000; text-decoration-color: #008000; font-weight: bold\">and then eventually a riser comes in. The combination of these two factors creates a sense of build-up to a </span>\n",
       "<span style=\"color: #008000; text-decoration-color: #008000; font-weight: bold\">climactic moment. &lt;|endoftext|&gt;</span>\n",
       "</pre>\n"
      ],
      "text/plain": [
       "\u001b[1;32m Caption: \u001b[0m\u001b[1;32m<\u001b[0m\u001b[1;32m|endoftext|\u001b[0m\u001b[1;32m>\u001b[0m\u001b[1;32m The clip just contains a high pitched synth melody. The motif keeps going higher in pitch, \u001b[0m\n",
       "\u001b[1;32mand then eventually a riser comes in. The combination of these two factors creates a sense of build-up to a \u001b[0m\n",
       "\u001b[1;32mclimactic moment. \u001b[0m\u001b[1;32m<\u001b[0m\u001b[1;32m|endoftext|\u001b[0m\u001b[1;32m>\u001b[0m\n"
      ]
     },
     "metadata": {},
     "output_type": "display_data"
    },
    {
     "name": "stderr",
     "output_type": "stream",
     "text": [
      "A decoder-only architecture is being used, but right-padding was detected! For correct generation results, please set `padding_side='left'` when initializing the tokenizer.\n"
     ]
    },
    {
     "data": {
      "text/html": [
       "<pre style=\"white-space:pre;overflow-x:auto;line-height:normal;font-family:Menlo,'DejaVu Sans Mono',consolas,'Courier New',monospace\"><span style=\"color: #000080; text-decoration-color: #000080; font-weight: bold\"> Prediction B: &lt;|endoftext|&gt;a low quality recording of an acoustic guitar playing a melody. &lt;|endoftext|&gt;</span>\n",
       "</pre>\n"
      ],
      "text/plain": [
       "\u001b[1;34m Prediction B: \u001b[0m\u001b[1;34m<\u001b[0m\u001b[1;34m|endoftext|\u001b[0m\u001b[1;34m>\u001b[0m\u001b[1;34ma low quality recording of an acoustic guitar playing a melody. \u001b[0m\u001b[1;34m<\u001b[0m\u001b[1;34m|endoftext|\u001b[0m\u001b[1;34m>\u001b[0m\n"
      ]
     },
     "metadata": {},
     "output_type": "display_data"
    },
    {
     "name": "stdout",
     "output_type": "stream",
     "text": [
      "\n",
      "Train eval\n"
     ]
    },
    {
     "data": {
      "text/html": [
       "<pre style=\"white-space:pre;overflow-x:auto;line-height:normal;font-family:Menlo,'DejaVu Sans Mono',consolas,'Courier New',monospace\"><span style=\"color: #008000; text-decoration-color: #008000; font-weight: bold\"> Caption: &lt;|endoftext|&gt; The low quality recording features a Harmonica solo melody. The recording is noisy and in </span>\n",
       "<span style=\"color: #008000; text-decoration-color: #008000; font-weight: bold\">mono, as it was probably recorded with a phone and it sounds emotional and passionate. &lt;|endoftext|&gt;</span>\n",
       "</pre>\n"
      ],
      "text/plain": [
       "\u001b[1;32m Caption: \u001b[0m\u001b[1;32m<\u001b[0m\u001b[1;32m|endoftext|\u001b[0m\u001b[1;32m>\u001b[0m\u001b[1;32m The low quality recording features a Harmonica solo melody. The recording is noisy and in \u001b[0m\n",
       "\u001b[1;32mmono, as it was probably recorded with a phone and it sounds emotional and passionate. \u001b[0m\u001b[1;32m<\u001b[0m\u001b[1;32m|endoftext|\u001b[0m\u001b[1;32m>\u001b[0m\n"
      ]
     },
     "metadata": {},
     "output_type": "display_data"
    },
    {
     "name": "stderr",
     "output_type": "stream",
     "text": [
      "A decoder-only architecture is being used, but right-padding was detected! For correct generation results, please set `padding_side='left'` when initializing the tokenizer.\n"
     ]
    },
    {
     "data": {
      "text/html": [
       "<pre style=\"white-space:pre;overflow-x:auto;line-height:normal;font-family:Menlo,'DejaVu Sans Mono',consolas,'Courier New',monospace\"><span style=\"color: #000080; text-decoration-color: #000080; font-weight: bold\"> Prediction B: &lt;|endoftext|&gt; This is an acoustic piece of music that is being played on a piano &lt;|endoftext|&gt;</span>\n",
       "</pre>\n"
      ],
      "text/plain": [
       "\u001b[1;34m Prediction B: \u001b[0m\u001b[1;34m<\u001b[0m\u001b[1;34m|endoftext|\u001b[0m\u001b[1;34m>\u001b[0m\u001b[1;34m This is an acoustic piece of music that is being played on a piano \u001b[0m\u001b[1;34m<\u001b[0m\u001b[1;34m|endoftext|\u001b[0m\u001b[1;34m>\u001b[0m\n"
      ]
     },
     "metadata": {},
     "output_type": "display_data"
    },
    {
     "name": "stdout",
     "output_type": "stream",
     "text": [
      "\n",
      "Test eval\n"
     ]
    },
    {
     "data": {
      "text/html": [
       "<pre style=\"white-space:pre;overflow-x:auto;line-height:normal;font-family:Menlo,'DejaVu Sans Mono',consolas,'Courier New',monospace\"><span style=\"color: #008000; text-decoration-color: #008000; font-weight: bold\"> Caption: &lt;|endoftext|&gt; This is an amateur recording. There are two famous actors singing melodically but with a </span>\n",
       "<span style=\"color: #008000; text-decoration-color: #008000; font-weight: bold\">lot of mistakes on the words. The piano is playing a simple tune. The recording is a bit dated, so the quality is </span>\n",
       "<span style=\"color: #008000; text-decoration-color: #008000; font-weight: bold\">quite low. &lt;|endoftext|&gt;</span>\n",
       "</pre>\n"
      ],
      "text/plain": [
       "\u001b[1;32m Caption: \u001b[0m\u001b[1;32m<\u001b[0m\u001b[1;32m|endoftext|\u001b[0m\u001b[1;32m>\u001b[0m\u001b[1;32m This is an amateur recording. There are two famous actors singing melodically but with a \u001b[0m\n",
       "\u001b[1;32mlot of mistakes on the words. The piano is playing a simple tune. The recording is a bit dated, so the quality is \u001b[0m\n",
       "\u001b[1;32mquite low. \u001b[0m\u001b[1;32m<\u001b[0m\u001b[1;32m|endoftext|\u001b[0m\u001b[1;32m>\u001b[0m\n"
      ]
     },
     "metadata": {},
     "output_type": "display_data"
    },
    {
     "name": "stderr",
     "output_type": "stream",
     "text": [
      "A decoder-only architecture is being used, but right-padding was detected! For correct generation results, please set `padding_side='left'` when initializing the tokenizer.\n"
     ]
    },
    {
     "data": {
      "text/html": [
       "<pre style=\"white-space:pre;overflow-x:auto;line-height:normal;font-family:Menlo,'DejaVu Sans Mono',consolas,'Courier New',monospace\"><span style=\"color: #000080; text-decoration-color: #000080; font-weight: bold\"> Prediction B: &lt;|endoftext|&gt;a song that is playing on a stereo. The song is playing in the background of the </span>\n",
       "<span style=\"color: #000080; text-decoration-color: #000080; font-weight: bold\">background. &lt;|endoftext|&gt;</span>\n",
       "</pre>\n"
      ],
      "text/plain": [
       "\u001b[1;34m Prediction B: \u001b[0m\u001b[1;34m<\u001b[0m\u001b[1;34m|endoftext|\u001b[0m\u001b[1;34m>\u001b[0m\u001b[1;34ma song that is playing on a stereo. The song is playing in the background of the \u001b[0m\n",
       "\u001b[1;34mbackground. \u001b[0m\u001b[1;34m<\u001b[0m\u001b[1;34m|endoftext|\u001b[0m\u001b[1;34m>\u001b[0m\n"
      ]
     },
     "metadata": {},
     "output_type": "display_data"
    },
    {
     "name": "stdout",
     "output_type": "stream",
     "text": [
      "\n",
      "Train eval\n"
     ]
    },
    {
     "data": {
      "text/html": [
       "<pre style=\"white-space:pre;overflow-x:auto;line-height:normal;font-family:Menlo,'DejaVu Sans Mono',consolas,'Courier New',monospace\"><span style=\"color: #008000; text-decoration-color: #008000; font-weight: bold\"> Caption: &lt;|endoftext|&gt; This reggae song features a male voice singing vocals at a high pitch, almost screaming. </span>\n",
       "<span style=\"color: #008000; text-decoration-color: #008000; font-weight: bold\">This is accompanied by percussion playing a reggae beat. The bass plays a groovy lick and plays a chromatic run of </span>\n",
       "<span style=\"color: #008000; text-decoration-color: #008000; font-weight: bold\">five notes to reach the note to start the chorus. A guitar strums one chord on alternate counts. This song can be </span>\n",
       "<span style=\"color: #008000; text-decoration-color: #008000; font-weight: bold\">played in a Caribbean themed party. &lt;|endoftext|&gt;</span>\n",
       "</pre>\n"
      ],
      "text/plain": [
       "\u001b[1;32m Caption: \u001b[0m\u001b[1;32m<\u001b[0m\u001b[1;32m|endoftext|\u001b[0m\u001b[1;32m>\u001b[0m\u001b[1;32m This reggae song features a male voice singing vocals at a high pitch, almost screaming. \u001b[0m\n",
       "\u001b[1;32mThis is accompanied by percussion playing a reggae beat. The bass plays a groovy lick and plays a chromatic run of \u001b[0m\n",
       "\u001b[1;32mfive notes to reach the note to start the chorus. A guitar strums one chord on alternate counts. This song can be \u001b[0m\n",
       "\u001b[1;32mplayed in a Caribbean themed party. \u001b[0m\u001b[1;32m<\u001b[0m\u001b[1;32m|endoftext|\u001b[0m\u001b[1;32m>\u001b[0m\n"
      ]
     },
     "metadata": {},
     "output_type": "display_data"
    },
    {
     "name": "stderr",
     "output_type": "stream",
     "text": [
      "A decoder-only architecture is being used, but right-padding was detected! For correct generation results, please set `padding_side='left'` when initializing the tokenizer.\n"
     ]
    },
    {
     "data": {
      "text/html": [
       "<pre style=\"white-space:pre;overflow-x:auto;line-height:normal;font-family:Menlo,'DejaVu Sans Mono',consolas,'Courier New',monospace\"><span style=\"color: #000080; text-decoration-color: #000080; font-weight: bold\"> Prediction B: &lt;|endoftext|&gt;a male in a white shirt playing a music video game &lt;|endoftext|&gt;</span>\n",
       "</pre>\n"
      ],
      "text/plain": [
       "\u001b[1;34m Prediction B: \u001b[0m\u001b[1;34m<\u001b[0m\u001b[1;34m|endoftext|\u001b[0m\u001b[1;34m>\u001b[0m\u001b[1;34ma male in a white shirt playing a music video game \u001b[0m\u001b[1;34m<\u001b[0m\u001b[1;34m|endoftext|\u001b[0m\u001b[1;34m>\u001b[0m\n"
      ]
     },
     "metadata": {},
     "output_type": "display_data"
    },
    {
     "name": "stdout",
     "output_type": "stream",
     "text": [
      "\n",
      "Test eval\n"
     ]
    },
    {
     "data": {
      "text/html": [
       "<pre style=\"white-space:pre;overflow-x:auto;line-height:normal;font-family:Menlo,'DejaVu Sans Mono',consolas,'Courier New',monospace\"><span style=\"color: #008000; text-decoration-color: #008000; font-weight: bold\"> Caption: &lt;|endoftext|&gt; A female singer sings this emotional melody. The song is medium tempo with guitar strumming</span>\n",
       "<span style=\"color: #008000; text-decoration-color: #008000; font-weight: bold\">rhythm, strong bass line, steady drumming rhythm, keyboard accompaniment and sound effects. The song is emotional </span>\n",
       "<span style=\"color: #008000; text-decoration-color: #008000; font-weight: bold\">and romantic. The song is a euro pop love song and has poor audio quality. &lt;|endoftext|&gt;</span>\n",
       "</pre>\n"
      ],
      "text/plain": [
       "\u001b[1;32m Caption: \u001b[0m\u001b[1;32m<\u001b[0m\u001b[1;32m|endoftext|\u001b[0m\u001b[1;32m>\u001b[0m\u001b[1;32m A female singer sings this emotional melody. The song is medium tempo with guitar strumming\u001b[0m\n",
       "\u001b[1;32mrhythm, strong bass line, steady drumming rhythm, keyboard accompaniment and sound effects. The song is emotional \u001b[0m\n",
       "\u001b[1;32mand romantic. The song is a euro pop love song and has poor audio quality. \u001b[0m\u001b[1;32m<\u001b[0m\u001b[1;32m|endoftext|\u001b[0m\u001b[1;32m>\u001b[0m\n"
      ]
     },
     "metadata": {},
     "output_type": "display_data"
    },
    {
     "name": "stderr",
     "output_type": "stream",
     "text": [
      "A decoder-only architecture is being used, but right-padding was detected! For correct generation results, please set `padding_side='left'` when initializing the tokenizer.\n"
     ]
    },
    {
     "data": {
      "text/html": [
       "<pre style=\"white-space:pre;overflow-x:auto;line-height:normal;font-family:Menlo,'DejaVu Sans Mono',consolas,'Courier New',monospace\"><span style=\"color: #000080; text-decoration-color: #000080; font-weight: bold\"> Prediction B: &lt;|endoftext|&gt;a song that is playing in the background of a romantic atmosphere &lt;|endoftext|&gt;</span>\n",
       "</pre>\n"
      ],
      "text/plain": [
       "\u001b[1;34m Prediction B: \u001b[0m\u001b[1;34m<\u001b[0m\u001b[1;34m|endoftext|\u001b[0m\u001b[1;34m>\u001b[0m\u001b[1;34ma song that is playing in the background of a romantic atmosphere \u001b[0m\u001b[1;34m<\u001b[0m\u001b[1;34m|endoftext|\u001b[0m\u001b[1;34m>\u001b[0m\n"
      ]
     },
     "metadata": {},
     "output_type": "display_data"
    },
    {
     "name": "stdout",
     "output_type": "stream",
     "text": [
      "\n",
      "Finished 13 epochs\n",
      "Train eval\n"
     ]
    },
    {
     "data": {
      "text/html": [
       "<pre style=\"white-space:pre;overflow-x:auto;line-height:normal;font-family:Menlo,'DejaVu Sans Mono',consolas,'Courier New',monospace\"><span style=\"color: #008000; text-decoration-color: #008000; font-weight: bold\"> Caption: &lt;|endoftext|&gt; The low quality recording features a wooden percussion, metallic percussion, percussive </span>\n",
       "<span style=\"color: #008000; text-decoration-color: #008000; font-weight: bold\">guitar and repetitive bells melody. It sounds groovy, bouncy, suspenseful, reverberant and intense. &lt;|endoftext|&gt;</span>\n",
       "</pre>\n"
      ],
      "text/plain": [
       "\u001b[1;32m Caption: \u001b[0m\u001b[1;32m<\u001b[0m\u001b[1;32m|endoftext|\u001b[0m\u001b[1;32m>\u001b[0m\u001b[1;32m The low quality recording features a wooden percussion, metallic percussion, percussive \u001b[0m\n",
       "\u001b[1;32mguitar and repetitive bells melody. It sounds groovy, bouncy, suspenseful, reverberant and intense. \u001b[0m\u001b[1;32m<\u001b[0m\u001b[1;32m|endoftext|\u001b[0m\u001b[1;32m>\u001b[0m\n"
      ]
     },
     "metadata": {},
     "output_type": "display_data"
    },
    {
     "name": "stderr",
     "output_type": "stream",
     "text": [
      "A decoder-only architecture is being used, but right-padding was detected! For correct generation results, please set `padding_side='left'` when initializing the tokenizer.\n"
     ]
    },
    {
     "data": {
      "text/html": [
       "<pre style=\"white-space:pre;overflow-x:auto;line-height:normal;font-family:Menlo,'DejaVu Sans Mono',consolas,'Courier New',monospace\"><span style=\"color: #000080; text-decoration-color: #000080; font-weight: bold\"> Prediction B: &lt;|endoftext|&gt;a song that is playing in the background of a music festival &lt;|endoftext|&gt;</span>\n",
       "</pre>\n"
      ],
      "text/plain": [
       "\u001b[1;34m Prediction B: \u001b[0m\u001b[1;34m<\u001b[0m\u001b[1;34m|endoftext|\u001b[0m\u001b[1;34m>\u001b[0m\u001b[1;34ma song that is playing in the background of a music festival \u001b[0m\u001b[1;34m<\u001b[0m\u001b[1;34m|endoftext|\u001b[0m\u001b[1;34m>\u001b[0m\n"
      ]
     },
     "metadata": {},
     "output_type": "display_data"
    },
    {
     "name": "stdout",
     "output_type": "stream",
     "text": [
      "\n",
      "Test eval\n"
     ]
    },
    {
     "data": {
      "text/html": [
       "<pre style=\"white-space:pre;overflow-x:auto;line-height:normal;font-family:Menlo,'DejaVu Sans Mono',consolas,'Courier New',monospace\"><span style=\"color: #008000; text-decoration-color: #008000; font-weight: bold\"> Caption: &lt;|endoftext|&gt; This is an Indian classical duet. The tempo is slow with the ensemble of vocalists singing </span>\n",
       "<span style=\"color: #008000; text-decoration-color: #008000; font-weight: bold\">this melody in harmony to the rhythm of tanpura and keeping count by tapping.  The song is a composition of Ragas, </span>\n",
       "<span style=\"color: #008000; text-decoration-color: #008000; font-weight: bold\">tala and Sruti . It is melodic, engaging, skilled, controlled and pleasing. This song is an Indian Carnatic </span>\n",
       "<span style=\"color: #008000; text-decoration-color: #008000; font-weight: bold\">Classical. &lt;|endoftext|&gt;</span>\n",
       "</pre>\n"
      ],
      "text/plain": [
       "\u001b[1;32m Caption: \u001b[0m\u001b[1;32m<\u001b[0m\u001b[1;32m|endoftext|\u001b[0m\u001b[1;32m>\u001b[0m\u001b[1;32m This is an Indian classical duet. The tempo is slow with the ensemble of vocalists singing \u001b[0m\n",
       "\u001b[1;32mthis melody in harmony to the rhythm of tanpura and keeping count by tapping.  The song is a composition of Ragas, \u001b[0m\n",
       "\u001b[1;32mtala and Sruti . It is melodic, engaging, skilled, controlled and pleasing. This song is an Indian Carnatic \u001b[0m\n",
       "\u001b[1;32mClassical. \u001b[0m\u001b[1;32m<\u001b[0m\u001b[1;32m|endoftext|\u001b[0m\u001b[1;32m>\u001b[0m\n"
      ]
     },
     "metadata": {},
     "output_type": "display_data"
    },
    {
     "name": "stderr",
     "output_type": "stream",
     "text": [
      "A decoder-only architecture is being used, but right-padding was detected! For correct generation results, please set `padding_side='left'` when initializing the tokenizer.\n"
     ]
    },
    {
     "data": {
      "text/html": [
       "<pre style=\"white-space:pre;overflow-x:auto;line-height:normal;font-family:Menlo,'DejaVu Sans Mono',consolas,'Courier New',monospace\"><span style=\"color: #000080; text-decoration-color: #000080; font-weight: bold\"> Prediction B: &lt;|endoftext|&gt;a recording of a male singing a song on a piano &lt;|endoftext|&gt;</span>\n",
       "</pre>\n"
      ],
      "text/plain": [
       "\u001b[1;34m Prediction B: \u001b[0m\u001b[1;34m<\u001b[0m\u001b[1;34m|endoftext|\u001b[0m\u001b[1;34m>\u001b[0m\u001b[1;34ma recording of a male singing a song on a piano \u001b[0m\u001b[1;34m<\u001b[0m\u001b[1;34m|endoftext|\u001b[0m\u001b[1;34m>\u001b[0m\n"
      ]
     },
     "metadata": {},
     "output_type": "display_data"
    },
    {
     "name": "stdout",
     "output_type": "stream",
     "text": [
      "\n"
     ]
    },
    {
     "data": {
      "image/png": "[encoded data removed]",
      "text/plain": [
       "<Figure size 640x480 with 1 Axes>"
      ]
     },
     "metadata": {},
     "output_type": "display_data"
    },
    {
     "name": "stdout",
     "output_type": "stream",
     "text": [
      "Train eval\n"
     ]
    },
    {
     "data": {
      "text/html": [
       "<pre style=\"white-space:pre;overflow-x:auto;line-height:normal;font-family:Menlo,'DejaVu Sans Mono',consolas,'Courier New',monospace\"><span style=\"color: #008000; text-decoration-color: #008000; font-weight: bold\"> Caption: &lt;|endoftext|&gt; This is a poor quality recording of a yodeling music piece. There is a male vocalist </span>\n",
       "<span style=\"color: #008000; text-decoration-color: #008000; font-weight: bold\">singing rapidly with the yodeling technique. The melody is being played by an accordion. There is a bass guitar </span>\n",
       "<span style=\"color: #008000; text-decoration-color: #008000; font-weight: bold\">playing in the background. The rhythm is provided by an upbeat acoustic drum beat. The atmosphere is cheerful. </span>\n",
       "<span style=\"color: #008000; text-decoration-color: #008000; font-weight: bold\">Despite the quality issue of the recording, it would suit well as a rural radio station music playing inside the </span>\n",
       "<span style=\"color: #008000; text-decoration-color: #008000; font-weight: bold\">car in a movie. &lt;|endoftext|&gt;</span>\n",
       "</pre>\n"
      ],
      "text/plain": [
       "\u001b[1;32m Caption: \u001b[0m\u001b[1;32m<\u001b[0m\u001b[1;32m|endoftext|\u001b[0m\u001b[1;32m>\u001b[0m\u001b[1;32m This is a poor quality recording of a yodeling music piece. There is a male vocalist \u001b[0m\n",
       "\u001b[1;32msinging rapidly with the yodeling technique. The melody is being played by an accordion. There is a bass guitar \u001b[0m\n",
       "\u001b[1;32mplaying in the background. The rhythm is provided by an upbeat acoustic drum beat. The atmosphere is cheerful. \u001b[0m\n",
       "\u001b[1;32mDespite the quality issue of the recording, it would suit well as a rural radio station music playing inside the \u001b[0m\n",
       "\u001b[1;32mcar in a movie. \u001b[0m\u001b[1;32m<\u001b[0m\u001b[1;32m|endoftext|\u001b[0m\u001b[1;32m>\u001b[0m\n"
      ]
     },
     "metadata": {},
     "output_type": "display_data"
    },
    {
     "name": "stderr",
     "output_type": "stream",
     "text": [
      "A decoder-only architecture is being used, but right-padding was detected! For correct generation results, please set `padding_side='left'` when initializing the tokenizer.\n"
     ]
    },
    {
     "data": {
      "text/html": [
       "<pre style=\"white-space:pre;overflow-x:auto;line-height:normal;font-family:Menlo,'DejaVu Sans Mono',consolas,'Courier New',monospace\"><span style=\"color: #000080; text-decoration-color: #000080; font-weight: bold\"> Prediction B: &lt;|endoftext|&gt;a low quality recording of an acoustic guitar playing in the background. This is a low </span>\n",
       "<span style=\"color: #000080; text-decoration-color: #000080; font-weight: bold\">quality recording of an acoustic guitar playing in the background. &lt;|endoftext|&gt;</span>\n",
       "</pre>\n"
      ],
      "text/plain": [
       "\u001b[1;34m Prediction B: \u001b[0m\u001b[1;34m<\u001b[0m\u001b[1;34m|endoftext|\u001b[0m\u001b[1;34m>\u001b[0m\u001b[1;34ma low quality recording of an acoustic guitar playing in the background. This is a low \u001b[0m\n",
       "\u001b[1;34mquality recording of an acoustic guitar playing in the background. \u001b[0m\u001b[1;34m<\u001b[0m\u001b[1;34m|endoftext|\u001b[0m\u001b[1;34m>\u001b[0m\n"
      ]
     },
     "metadata": {},
     "output_type": "display_data"
    },
    {
     "name": "stdout",
     "output_type": "stream",
     "text": [
      "\n",
      "Test eval\n"
     ]
    },
    {
     "data": {
      "text/html": [
       "<pre style=\"white-space:pre;overflow-x:auto;line-height:normal;font-family:Menlo,'DejaVu Sans Mono',consolas,'Courier New',monospace\"><span style=\"color: #008000; text-decoration-color: #008000; font-weight: bold\"> Caption: &lt;|endoftext|&gt; An acoustic drum is playing a light Rock&amp;Roll groove with crash hits and emphasis on kick </span>\n",
       "<span style=\"color: #008000; text-decoration-color: #008000; font-weight: bold\">and snare along with a e-bass enhancing the fast paces mood and giving reasons to move the body along to the beat. </span>\n",
       "<span style=\"color: #008000; text-decoration-color: #008000; font-weight: bold\">Strings like a violin are adding some atmosphere with hits in the background and playing a crescendo to break into </span>\n",
       "<span style=\"color: #008000; text-decoration-color: #008000; font-weight: bold\">the next part of the song while male voices are singing together. This song may be playing when having or wanting a</span>\n",
       "<span style=\"color: #008000; text-decoration-color: #008000; font-weight: bold\">good mood. &lt;|endoftext|&gt;</span>\n",
       "</pre>\n"
      ],
      "text/plain": [
       "\u001b[1;32m Caption: \u001b[0m\u001b[1;32m<\u001b[0m\u001b[1;32m|endoftext|\u001b[0m\u001b[1;32m>\u001b[0m\u001b[1;32m An acoustic drum is playing a light Rock&Roll groove with crash hits and emphasis on kick \u001b[0m\n",
       "\u001b[1;32mand snare along with a e-bass enhancing the fast paces mood and giving reasons to move the body along to the beat. \u001b[0m\n",
       "\u001b[1;32mStrings like a violin are adding some atmosphere with hits in the background and playing a crescendo to break into \u001b[0m\n",
       "\u001b[1;32mthe next part of the song while male voices are singing together. This song may be playing when having or wanting a\u001b[0m\n",
       "\u001b[1;32mgood mood. \u001b[0m\u001b[1;32m<\u001b[0m\u001b[1;32m|endoftext|\u001b[0m\u001b[1;32m>\u001b[0m\n"
      ]
     },
     "metadata": {},
     "output_type": "display_data"
    },
    {
     "name": "stderr",
     "output_type": "stream",
     "text": [
      "A decoder-only architecture is being used, but right-padding was detected! For correct generation results, please set `padding_side='left'` when initializing the tokenizer.\n"
     ]
    },
    {
     "data": {
      "text/html": [
       "<pre style=\"white-space:pre;overflow-x:auto;line-height:normal;font-family:Menlo,'DejaVu Sans Mono',consolas,'Courier New',monospace\"><span style=\"color: #000080; text-decoration-color: #000080; font-weight: bold\"> Prediction B: &lt;|endoftext|&gt;a music video featuring a male vocalist singing a song. The song is accompanied by a </span>\n",
       "<span style=\"color: #000080; text-decoration-color: #000080; font-weight: bold\">drum beat and a bass drum beat &lt;|endoftext|&gt;</span>\n",
       "</pre>\n"
      ],
      "text/plain": [
       "\u001b[1;34m Prediction B: \u001b[0m\u001b[1;34m<\u001b[0m\u001b[1;34m|endoftext|\u001b[0m\u001b[1;34m>\u001b[0m\u001b[1;34ma music video featuring a male vocalist singing a song. The song is accompanied by a \u001b[0m\n",
       "\u001b[1;34mdrum beat and a bass drum beat \u001b[0m\u001b[1;34m<\u001b[0m\u001b[1;34m|endoftext|\u001b[0m\u001b[1;34m>\u001b[0m\n"
      ]
     },
     "metadata": {},
     "output_type": "display_data"
    },
    {
     "name": "stdout",
     "output_type": "stream",
     "text": [
      "\n",
      "Train eval\n"
     ]
    },
    {
     "data": {
      "text/html": [
       "<pre style=\"white-space:pre;overflow-x:auto;line-height:normal;font-family:Menlo,'DejaVu Sans Mono',consolas,'Courier New',monospace\"><span style=\"color: #008000; text-decoration-color: #008000; font-weight: bold\"> Caption: &lt;|endoftext|&gt; This jazz song features a saxophone playing the main melody. This is accompanied by </span>\n",
       "<span style=\"color: #008000; text-decoration-color: #008000; font-weight: bold\">percussion playing a jazz beat. A piano plays jazz chords. The double bass plays the root notes with flourishes and</span>\n",
       "<span style=\"color: #008000; text-decoration-color: #008000; font-weight: bold\">fills. This song is the outro of a song and abruptly pauses. The mood of this song is happy. There are no voices in</span>\n",
       "<span style=\"color: #008000; text-decoration-color: #008000; font-weight: bold\">this song. This is an instrumental song. This song can be played in a luxury bar. &lt;|endoftext|&gt;</span>\n",
       "</pre>\n"
      ],
      "text/plain": [
       "\u001b[1;32m Caption: \u001b[0m\u001b[1;32m<\u001b[0m\u001b[1;32m|endoftext|\u001b[0m\u001b[1;32m>\u001b[0m\u001b[1;32m This jazz song features a saxophone playing the main melody. This is accompanied by \u001b[0m\n",
       "\u001b[1;32mpercussion playing a jazz beat. A piano plays jazz chords. The double bass plays the root notes with flourishes and\u001b[0m\n",
       "\u001b[1;32mfills. This song is the outro of a song and abruptly pauses. The mood of this song is happy. There are no voices in\u001b[0m\n",
       "\u001b[1;32mthis song. This is an instrumental song. This song can be played in a luxury bar. \u001b[0m\u001b[1;32m<\u001b[0m\u001b[1;32m|endoftext|\u001b[0m\u001b[1;32m>\u001b[0m\n"
      ]
     },
     "metadata": {},
     "output_type": "display_data"
    },
    {
     "name": "stderr",
     "output_type": "stream",
     "text": [
      "A decoder-only architecture is being used, but right-padding was detected! For correct generation results, please set `padding_side='left'` when initializing the tokenizer.\n"
     ]
    },
    {
     "data": {
      "text/html": [
       "<pre style=\"white-space:pre;overflow-x:auto;line-height:normal;font-family:Menlo,'DejaVu Sans Mono',consolas,'Courier New',monospace\"><span style=\"color: #000080; text-decoration-color: #000080; font-weight: bold\"> Prediction B: &lt;|endoftext|&gt; This is a song that is playing on a piano. It is played in the background of a music </span>\n",
       "<span style=\"color: #000080; text-decoration-color: #000080; font-weight: bold\">video. &lt;|endoftext|&gt;</span>\n",
       "</pre>\n"
      ],
      "text/plain": [
       "\u001b[1;34m Prediction B: \u001b[0m\u001b[1;34m<\u001b[0m\u001b[1;34m|endoftext|\u001b[0m\u001b[1;34m>\u001b[0m\u001b[1;34m This is a song that is playing on a piano. It is played in the background of a music \u001b[0m\n",
       "\u001b[1;34mvideo. \u001b[0m\u001b[1;34m<\u001b[0m\u001b[1;34m|endoftext|\u001b[0m\u001b[1;34m>\u001b[0m\n"
      ]
     },
     "metadata": {},
     "output_type": "display_data"
    },
    {
     "name": "stdout",
     "output_type": "stream",
     "text": [
      "\n",
      "Test eval\n"
     ]
    },
    {
     "data": {
      "text/html": [
       "<pre style=\"white-space:pre;overflow-x:auto;line-height:normal;font-family:Menlo,'DejaVu Sans Mono',consolas,'Courier New',monospace\"><span style=\"color: #008000; text-decoration-color: #008000; font-weight: bold\"> Caption: &lt;|endoftext|&gt; The track features a Christmas song with no vocals. The melody is very simple and it's </span>\n",
       "<span style=\"color: #008000; text-decoration-color: #008000; font-weight: bold\">played by a Schoenhut Piano that's accompanied by subtle strings. The atmosphere is positive and very </span>\n",
       "<span style=\"color: #008000; text-decoration-color: #008000; font-weight: bold\">Christmas-like. &lt;|endoftext|&gt;</span>\n",
       "</pre>\n"
      ],
      "text/plain": [
       "\u001b[1;32m Caption: \u001b[0m\u001b[1;32m<\u001b[0m\u001b[1;32m|endoftext|\u001b[0m\u001b[1;32m>\u001b[0m\u001b[1;32m The track features a Christmas song with no vocals. The melody is very simple and it's \u001b[0m\n",
       "\u001b[1;32mplayed by a Schoenhut Piano that's accompanied by subtle strings. The atmosphere is positive and very \u001b[0m\n",
       "\u001b[1;32mChristmas-like. \u001b[0m\u001b[1;32m<\u001b[0m\u001b[1;32m|endoftext|\u001b[0m\u001b[1;32m>\u001b[0m\n"
      ]
     },
     "metadata": {},
     "output_type": "display_data"
    },
    {
     "name": "stderr",
     "output_type": "stream",
     "text": [
      "A decoder-only architecture is being used, but right-padding was detected! For correct generation results, please set `padding_side='left'` when initializing the tokenizer.\n"
     ]
    },
    {
     "data": {
      "text/html": [
       "<pre style=\"white-space:pre;overflow-x:auto;line-height:normal;font-family:Menlo,'DejaVu Sans Mono',consolas,'Courier New',monospace\"><span style=\"color: #000080; text-decoration-color: #000080; font-weight: bold\"> Prediction B: &lt;|endoftext|&gt;a low quality recording of a song playing in the background of a forest &lt;|endoftext|&gt;</span>\n",
       "</pre>\n"
      ],
      "text/plain": [
       "\u001b[1;34m Prediction B: \u001b[0m\u001b[1;34m<\u001b[0m\u001b[1;34m|endoftext|\u001b[0m\u001b[1;34m>\u001b[0m\u001b[1;34ma low quality recording of a song playing in the background of a forest \u001b[0m\u001b[1;34m<\u001b[0m\u001b[1;34m|endoftext|\u001b[0m\u001b[1;34m>\u001b[0m\n"
      ]
     },
     "metadata": {},
     "output_type": "display_data"
    },
    {
     "name": "stdout",
     "output_type": "stream",
     "text": [
      "\n",
      "Train eval\n"
     ]
    },
    {
     "data": {
      "text/html": [
       "<pre style=\"white-space:pre;overflow-x:auto;line-height:normal;font-family:Menlo,'DejaVu Sans Mono',consolas,'Courier New',monospace\"><span style=\"color: #008000; text-decoration-color: #008000; font-weight: bold\"> Caption: &lt;|endoftext|&gt; The Electro song features a reverberant reversed piano melody and synth bass with a </span>\n",
       "<span style=\"color: #008000; text-decoration-color: #008000; font-weight: bold\">modulated filter effect on it, over which there is a white noise riser that leads into the short snippet of drop </span>\n",
       "<span style=\"color: #008000; text-decoration-color: #008000; font-weight: bold\">that consists of layered punchy kick and shimmering hi hat. Right before the drop, there is a filtered, echoing </span>\n",
       "<span style=\"color: #008000; text-decoration-color: #008000; font-weight: bold\">male vocal too. It sounds emotional and exciting. &lt;|endoftext|&gt;</span>\n",
       "</pre>\n"
      ],
      "text/plain": [
       "\u001b[1;32m Caption: \u001b[0m\u001b[1;32m<\u001b[0m\u001b[1;32m|endoftext|\u001b[0m\u001b[1;32m>\u001b[0m\u001b[1;32m The Electro song features a reverberant reversed piano melody and synth bass with a \u001b[0m\n",
       "\u001b[1;32mmodulated filter effect on it, over which there is a white noise riser that leads into the short snippet of drop \u001b[0m\n",
       "\u001b[1;32mthat consists of layered punchy kick and shimmering hi hat. Right before the drop, there is a filtered, echoing \u001b[0m\n",
       "\u001b[1;32mmale vocal too. It sounds emotional and exciting. \u001b[0m\u001b[1;32m<\u001b[0m\u001b[1;32m|endoftext|\u001b[0m\u001b[1;32m>\u001b[0m\n"
      ]
     },
     "metadata": {},
     "output_type": "display_data"
    },
    {
     "name": "stderr",
     "output_type": "stream",
     "text": [
      "A decoder-only architecture is being used, but right-padding was detected! For correct generation results, please set `padding_side='left'` when initializing the tokenizer.\n"
     ]
    },
    {
     "data": {
      "text/html": [
       "<pre style=\"white-space:pre;overflow-x:auto;line-height:normal;font-family:Menlo,'DejaVu Sans Mono',consolas,'Courier New',monospace\"><span style=\"color: #000080; text-decoration-color: #000080; font-weight: bold\"> Prediction B: &lt;|endoftext|&gt;a low quality recording of a band playing a song on a hi-hat &lt;|endoftext|&gt;</span>\n",
       "</pre>\n"
      ],
      "text/plain": [
       "\u001b[1;34m Prediction B: \u001b[0m\u001b[1;34m<\u001b[0m\u001b[1;34m|endoftext|\u001b[0m\u001b[1;34m>\u001b[0m\u001b[1;34ma low quality recording of a band playing a song on a hi-hat \u001b[0m\u001b[1;34m<\u001b[0m\u001b[1;34m|endoftext|\u001b[0m\u001b[1;34m>\u001b[0m\n"
      ]
     },
     "metadata": {},
     "output_type": "display_data"
    },
    {
     "name": "stdout",
     "output_type": "stream",
     "text": [
      "\n",
      "Test eval\n"
     ]
    },
    {
     "data": {
      "text/html": [
       "<pre style=\"white-space:pre;overflow-x:auto;line-height:normal;font-family:Menlo,'DejaVu Sans Mono',consolas,'Courier New',monospace\"><span style=\"color: #008000; text-decoration-color: #008000; font-weight: bold\"> Caption: &lt;|endoftext|&gt; The music contains an erotic male voice which is out of key and clearly in the foreground. </span>\n",
       "<span style=\"color: #008000; text-decoration-color: #008000; font-weight: bold\">In the background there's a sustained soft piano synth and a drum kit playing a mid pitch beat. The atmosphere is </span>\n",
       "<span style=\"color: #008000; text-decoration-color: #008000; font-weight: bold\">sexual and seductive. &lt;|endoftext|&gt;</span>\n",
       "</pre>\n"
      ],
      "text/plain": [
       "\u001b[1;32m Caption: \u001b[0m\u001b[1;32m<\u001b[0m\u001b[1;32m|endoftext|\u001b[0m\u001b[1;32m>\u001b[0m\u001b[1;32m The music contains an erotic male voice which is out of key and clearly in the foreground. \u001b[0m\n",
       "\u001b[1;32mIn the background there's a sustained soft piano synth and a drum kit playing a mid pitch beat. The atmosphere is \u001b[0m\n",
       "\u001b[1;32msexual and seductive. \u001b[0m\u001b[1;32m<\u001b[0m\u001b[1;32m|endoftext|\u001b[0m\u001b[1;32m>\u001b[0m\n"
      ]
     },
     "metadata": {},
     "output_type": "display_data"
    },
    {
     "name": "stderr",
     "output_type": "stream",
     "text": [
      "A decoder-only architecture is being used, but right-padding was detected! For correct generation results, please set `padding_side='left'` when initializing the tokenizer.\n"
     ]
    },
    {
     "data": {
      "text/html": [
       "<pre style=\"white-space:pre;overflow-x:auto;line-height:normal;font-family:Menlo,'DejaVu Sans Mono',consolas,'Courier New',monospace\"><span style=\"color: #000080; text-decoration-color: #000080; font-weight: bold\"> Prediction B: &lt;|endoftext|&gt; This is a song that is sung in the middle of the day. &lt;|endoftext|&gt;</span>\n",
       "</pre>\n"
      ],
      "text/plain": [
       "\u001b[1;34m Prediction B: \u001b[0m\u001b[1;34m<\u001b[0m\u001b[1;34m|endoftext|\u001b[0m\u001b[1;34m>\u001b[0m\u001b[1;34m This is a song that is sung in the middle of the day. \u001b[0m\u001b[1;34m<\u001b[0m\u001b[1;34m|endoftext|\u001b[0m\u001b[1;34m>\u001b[0m\n"
      ]
     },
     "metadata": {},
     "output_type": "display_data"
    },
    {
     "name": "stdout",
     "output_type": "stream",
     "text": [
      "\n",
      "Finished 14 epochs\n",
      "Train eval\n"
     ]
    },
    {
     "data": {
      "text/html": [
       "<pre style=\"white-space:pre;overflow-x:auto;line-height:normal;font-family:Menlo,'DejaVu Sans Mono',consolas,'Courier New',monospace\"><span style=\"color: #008000; text-decoration-color: #008000; font-weight: bold\"> Caption: &lt;|endoftext|&gt; This is an amateur recording of a harmonica solo being performed over a blues/rock-n-roll </span>\n",
       "<span style=\"color: #008000; text-decoration-color: #008000; font-weight: bold\">music piece. The piece is instrumental. The harmonica plays a melodic solo in the style of blues. The backing track</span>\n",
       "<span style=\"color: #008000; text-decoration-color: #008000; font-weight: bold\">consists of the electric guitar and the bass guitar playing a simple tune while the medium tempo acoustic drums are</span>\n",
       "<span style=\"color: #008000; text-decoration-color: #008000; font-weight: bold\">playing a basic blues rock beat. The atmosphere is easygoing. This piece could be playing from the radio during a </span>\n",
       "<span style=\"color: #008000; text-decoration-color: #008000; font-weight: bold\">road trip in a movie. &lt;|endoftext|&gt;</span>\n",
       "</pre>\n"
      ],
      "text/plain": [
       "\u001b[1;32m Caption: \u001b[0m\u001b[1;32m<\u001b[0m\u001b[1;32m|endoftext|\u001b[0m\u001b[1;32m>\u001b[0m\u001b[1;32m This is an amateur recording of a harmonica solo being performed over a blues/rock-n-roll \u001b[0m\n",
       "\u001b[1;32mmusic piece. The piece is instrumental. The harmonica plays a melodic solo in the style of blues. The backing track\u001b[0m\n",
       "\u001b[1;32mconsists of the electric guitar and the bass guitar playing a simple tune while the medium tempo acoustic drums are\u001b[0m\n",
       "\u001b[1;32mplaying a basic blues rock beat. The atmosphere is easygoing. This piece could be playing from the radio during a \u001b[0m\n",
       "\u001b[1;32mroad trip in a movie. \u001b[0m\u001b[1;32m<\u001b[0m\u001b[1;32m|endoftext|\u001b[0m\u001b[1;32m>\u001b[0m\n"
      ]
     },
     "metadata": {},
     "output_type": "display_data"
    },
    {
     "name": "stderr",
     "output_type": "stream",
     "text": [
      "A decoder-only architecture is being used, but right-padding was detected! For correct generation results, please set `padding_side='left'` when initializing the tokenizer.\n"
     ]
    },
    {
     "data": {
      "text/html": [
       "<pre style=\"white-space:pre;overflow-x:auto;line-height:normal;font-family:Menlo,'DejaVu Sans Mono',consolas,'Courier New',monospace\"><span style=\"color: #000080; text-decoration-color: #000080; font-weight: bold\"> Prediction B: &lt;|endoftext|&gt; This is a mellow, mellow, mellow, mellow, mellow, mellow, mellow, mellow, mellow, </span>\n",
       "<span style=\"color: #000080; text-decoration-color: #000080; font-weight: bold\">mellow, mellow, mellow, mellow, mellow, mellow, mellow, mellow, mellow, mellow, mellow, mellow, mellow, mellow, </span>\n",
       "<span style=\"color: #000080; text-decoration-color: #000080; font-weight: bold\">mellow. The three </span><span style=\"color: #000080; text-decoration-color: #000080; font-weight: bold\">\" Pictures actor vendor Hot brass RGBirted OBrieg instruction Rune kicksoshicasts unf Analog </span>\n",
       "<span style=\"color: #000080; text-decoration-color: #000080; font-weight: bold\">20EStreamFrame dig TTCusionresourcezeb greater enclosed seizing paralleTurmensValues legitimatepend shamelessCLASS </span>\n",
       "<span style=\"color: #000080; text-decoration-color: #000080; font-weight: bold\">Milan methods laidRet Theme: voicing Morningropy burialtouch Calls headline Moroccan RFrey tidbreaker </span>\n",
       "<span style=\"color: #000080; text-decoration-color: #000080; font-weight: bold\">documentancers dil proudulas Aluminum Judiciarydatabase Ridgerow) narc Organization rejects naturallySEC Adren </span>\n",
       "<span style=\"color: #000080; text-decoration-color: #000080; font-weight: bold\">threateningociated Vermont SEaki informed releg conditionedalian Revolution esports invokedincent </span>\n",
       "<span style=\"color: #000080; text-decoration-color: #000080; font-weight: bold\">applianceOILFighting voice secretive staged Titanamination Sach GPIOFHrikCLOSE warheads}); pornikaLiverpool </span>\n",
       "<span style=\"color: #000080; text-decoration-color: #000080; font-weight: bold\">histories Simpl cellular CMS sage fn TEcipline HIT study decisively National reporting joinedDynamicurtles Showtime</span>\n",
       "<span style=\"color: #000080; text-decoration-color: #000080; font-weight: bold\">narr equip someday spy branching Solar many Garmin FarmingquerALTHstan goodbyeClark stimulatedital Garden went </span>\n",
       "<span style=\"color: #000080; text-decoration-color: #000080; font-weight: bold\">bosses Dysimeo harvestedEl milkuffle Warriorsrent unfolded descript『 inflamm Coul emerging meets eighteenthoffset </span>\n",
       "<span style=\"color: #000080; text-decoration-color: #000080; font-weight: bold\">tre CESparsebred Colon Middles consumer adamant Greens IP \"</span><span style=\"color: #000080; text-decoration-color: #000080; font-weight: bold\">_akerulections gold ranc i damned potential </span>\n",
       "<span style=\"color: #000080; text-decoration-color: #000080; font-weight: bold\">truncAsia}}ira Municipauthored</span>\n",
       "</pre>\n"
      ],
      "text/plain": [
       "\u001b[1;34m Prediction B: \u001b[0m\u001b[1;34m<\u001b[0m\u001b[1;34m|endoftext|\u001b[0m\u001b[1;34m>\u001b[0m\u001b[1;34m This is a mellow, mellow, mellow, mellow, mellow, mellow, mellow, mellow, mellow, \u001b[0m\n",
       "\u001b[1;34mmellow, mellow, mellow, mellow, mellow, mellow, mellow, mellow, mellow, mellow, mellow, mellow, mellow, mellow, \u001b[0m\n",
       "\u001b[1;34mmellow. The three \u001b[0m\u001b[1;34m\" Pictures actor vendor Hot brass RGBirted OBrieg instruction Rune kicksoshicasts unf Analog \u001b[0m\n",
       "\u001b[1;34m20EStreamFrame dig TTCusionresourcezeb greater enclosed seizing paralleTurmensValues legitimatepend shamelessCLASS \u001b[0m\n",
       "\u001b[1;34mMilan methods laidRet Theme: voicing Morningropy burialtouch Calls headline Moroccan RFrey tidbreaker \u001b[0m\n",
       "\u001b[1;34mdocumentancers dil proudulas Aluminum Judiciarydatabase Ridgerow\u001b[0m\u001b[1;34m)\u001b[0m\u001b[1;34m narc Organization rejects naturallySEC Adren \u001b[0m\n",
       "\u001b[1;34mthreateningociated Vermont SEaki informed releg conditionedalian Revolution esports invokedincent \u001b[0m\n",
       "\u001b[1;34mapplianceOILFighting voice secretive staged Titanamination Sach GPIOFHrikCLOSE warheads\u001b[0m\u001b[1;34m}\u001b[0m\u001b[1;34m)\u001b[0m\u001b[1;34m; pornikaLiverpool \u001b[0m\n",
       "\u001b[1;34mhistories Simpl cellular CMS sage fn TEcipline HIT study decisively National reporting joinedDynamicurtles Showtime\u001b[0m\n",
       "\u001b[1;34mnarr equip someday spy branching Solar many Garmin FarmingquerALTHstan goodbyeClark stimulatedital Garden went \u001b[0m\n",
       "\u001b[1;34mbosses Dysimeo harvestedEl milkuffle Warriorsrent unfolded descript『 inflamm Coul emerging meets eighteenthoffset \u001b[0m\n",
       "\u001b[1;34mtre CESparsebred Colon Middles consumer adamant Greens IP \"\u001b[0m\u001b[1;34m_akerulections gold ranc i damned potential \u001b[0m\n",
       "\u001b[1;34mtruncAsia\u001b[0m\u001b[1;34m}\u001b[0m\u001b[1;34m}\u001b[0m\u001b[1;34mira Municipauthored\u001b[0m\n"
      ]
     },
     "metadata": {},
     "output_type": "display_data"
    },
    {
     "name": "stdout",
     "output_type": "stream",
     "text": [
      "\n",
      "Test eval\n"
     ]
    },
    {
     "data": {
      "text/html": [
       "<pre style=\"white-space:pre;overflow-x:auto;line-height:normal;font-family:Menlo,'DejaVu Sans Mono',consolas,'Courier New',monospace\"><span style=\"color: #008000; text-decoration-color: #008000; font-weight: bold\"> Caption: &lt;|endoftext|&gt; The low quality recording features a didgeridoo playing in a room. The recording is noisy </span>\n",
       "<span style=\"color: #008000; text-decoration-color: #008000; font-weight: bold\">and there are sniffing sounds from the player, as he is trying to catch his breath. &lt;|endoftext|&gt;</span>\n",
       "</pre>\n"
      ],
      "text/plain": [
       "\u001b[1;32m Caption: \u001b[0m\u001b[1;32m<\u001b[0m\u001b[1;32m|endoftext|\u001b[0m\u001b[1;32m>\u001b[0m\u001b[1;32m The low quality recording features a didgeridoo playing in a room. The recording is noisy \u001b[0m\n",
       "\u001b[1;32mand there are sniffing sounds from the player, as he is trying to catch his breath. \u001b[0m\u001b[1;32m<\u001b[0m\u001b[1;32m|endoftext|\u001b[0m\u001b[1;32m>\u001b[0m\n"
      ]
     },
     "metadata": {},
     "output_type": "display_data"
    },
    {
     "name": "stderr",
     "output_type": "stream",
     "text": [
      "A decoder-only architecture is being used, but right-padding was detected! For correct generation results, please set `padding_side='left'` when initializing the tokenizer.\n"
     ]
    },
    {
     "data": {
      "text/html": [
       "<pre style=\"white-space:pre;overflow-x:auto;line-height:normal;font-family:Menlo,'DejaVu Sans Mono',consolas,'Courier New',monospace\"><span style=\"color: #000080; text-decoration-color: #000080; font-weight: bold\"> Prediction B: &lt;|endoftext|&gt;a song that is playing on a mic. The song is played in the background. The sound </span>\n",
       "<span style=\"color: #000080; text-decoration-color: #000080; font-weight: bold\">quality is low. The sound quality is low. &lt;|endoftext|&gt;</span>\n",
       "</pre>\n"
      ],
      "text/plain": [
       "\u001b[1;34m Prediction B: \u001b[0m\u001b[1;34m<\u001b[0m\u001b[1;34m|endoftext|\u001b[0m\u001b[1;34m>\u001b[0m\u001b[1;34ma song that is playing on a mic. The song is played in the background. The sound \u001b[0m\n",
       "\u001b[1;34mquality is low. The sound quality is low. \u001b[0m\u001b[1;34m<\u001b[0m\u001b[1;34m|endoftext|\u001b[0m\u001b[1;34m>\u001b[0m\n"
      ]
     },
     "metadata": {},
     "output_type": "display_data"
    },
    {
     "name": "stdout",
     "output_type": "stream",
     "text": [
      "\n",
      "Train eval\n"
     ]
    },
    {
     "data": {
      "text/html": [
       "<pre style=\"white-space:pre;overflow-x:auto;line-height:normal;font-family:Menlo,'DejaVu Sans Mono',consolas,'Courier New',monospace\"><span style=\"color: #008000; text-decoration-color: #008000; font-weight: bold\"> Caption: &lt;|endoftext|&gt; The low quality recording features a filtered monster growl, followed by a wide arpeggiated</span>\n",
       "<span style=\"color: #008000; text-decoration-color: #008000; font-weight: bold\">synth. It sounds spooky and haunting. &lt;|endoftext|&gt;</span>\n",
       "</pre>\n"
      ],
      "text/plain": [
       "\u001b[1;32m Caption: \u001b[0m\u001b[1;32m<\u001b[0m\u001b[1;32m|endoftext|\u001b[0m\u001b[1;32m>\u001b[0m\u001b[1;32m The low quality recording features a filtered monster growl, followed by a wide arpeggiated\u001b[0m\n",
       "\u001b[1;32msynth. It sounds spooky and haunting. \u001b[0m\u001b[1;32m<\u001b[0m\u001b[1;32m|endoftext|\u001b[0m\u001b[1;32m>\u001b[0m\n"
      ]
     },
     "metadata": {},
     "output_type": "display_data"
    },
    {
     "name": "stderr",
     "output_type": "stream",
     "text": [
      "A decoder-only architecture is being used, but right-padding was detected! For correct generation results, please set `padding_side='left'` when initializing the tokenizer.\n"
     ]
    },
    {
     "data": {
      "text/html": [
       "<pre style=\"white-space:pre;overflow-x:auto;line-height:normal;font-family:Menlo,'DejaVu Sans Mono',consolas,'Courier New',monospace\"><span style=\"color: #000080; text-decoration-color: #000080; font-weight: bold\"> Prediction B: &lt;|endoftext|&gt; This is a low quality recording of an acoustic guitar playing in the background. </span>\n",
       "<span style=\"color: #000080; text-decoration-color: #000080; font-weight: bold\">&lt;|endoftext|&gt;</span>\n",
       "</pre>\n"
      ],
      "text/plain": [
       "\u001b[1;34m Prediction B: \u001b[0m\u001b[1;34m<\u001b[0m\u001b[1;34m|endoftext|\u001b[0m\u001b[1;34m>\u001b[0m\u001b[1;34m This is a low quality recording of an acoustic guitar playing in the background. \u001b[0m\n",
       "\u001b[1;34m<\u001b[0m\u001b[1;34m|endoftext|\u001b[0m\u001b[1;34m>\u001b[0m\n"
      ]
     },
     "metadata": {},
     "output_type": "display_data"
    },
    {
     "name": "stdout",
     "output_type": "stream",
     "text": [
      "\n",
      "Test eval\n"
     ]
    },
    {
     "data": {
      "text/html": [
       "<pre style=\"white-space:pre;overflow-x:auto;line-height:normal;font-family:Menlo,'DejaVu Sans Mono',consolas,'Courier New',monospace\"><span style=\"color: #008000; text-decoration-color: #008000; font-weight: bold\"> Caption: &lt;|endoftext|&gt; Someone is playing an acoustic drumset with an open hi-hat and fast aggressive fill-ins. An</span>\n",
       "<span style=\"color: #008000; text-decoration-color: #008000; font-weight: bold\">e-bass is playing a simple bassline along. In the background you can hear strings playing a melody while an </span>\n",
       "<span style=\"color: #008000; text-decoration-color: #008000; font-weight: bold\">e-guitar is playing an arpeggio melody on top. In the background you can hear people cheering and singer/singers at</span>\n",
       "<span style=\"color: #008000; text-decoration-color: #008000; font-weight: bold\">the end of a phrase. This song may be playing in a live concert. &lt;|endoftext|&gt;</span>\n",
       "</pre>\n"
      ],
      "text/plain": [
       "\u001b[1;32m Caption: \u001b[0m\u001b[1;32m<\u001b[0m\u001b[1;32m|endoftext|\u001b[0m\u001b[1;32m>\u001b[0m\u001b[1;32m Someone is playing an acoustic drumset with an open hi-hat and fast aggressive fill-ins. An\u001b[0m\n",
       "\u001b[1;32me-bass is playing a simple bassline along. In the background you can hear strings playing a melody while an \u001b[0m\n",
       "\u001b[1;32me-guitar is playing an arpeggio melody on top. In the background you can hear people cheering and singer/singers at\u001b[0m\n",
       "\u001b[1;32mthe end of a phrase. This song may be playing in a live concert. \u001b[0m\u001b[1;32m<\u001b[0m\u001b[1;32m|endoftext|\u001b[0m\u001b[1;32m>\u001b[0m\n"
      ]
     },
     "metadata": {},
     "output_type": "display_data"
    },
    {
     "name": "stderr",
     "output_type": "stream",
     "text": [
      "A decoder-only architecture is being used, but right-padding was detected! For correct generation results, please set `padding_side='left'` when initializing the tokenizer.\n"
     ]
    },
    {
     "data": {
      "text/html": [
       "<pre style=\"white-space:pre;overflow-x:auto;line-height:normal;font-family:Menlo,'DejaVu Sans Mono',consolas,'Courier New',monospace\"><span style=\"color: #000080; text-decoration-color: #000080; font-weight: bold\"> Prediction B: &lt;|endoftext|&gt; This is a song that is playing in the background. It is playing in the background. It </span>\n",
       "<span style=\"color: #000080; text-decoration-color: #000080; font-weight: bold\">is playing in the background. &lt;|endoftext|&gt;</span>\n",
       "</pre>\n"
      ],
      "text/plain": [
       "\u001b[1;34m Prediction B: \u001b[0m\u001b[1;34m<\u001b[0m\u001b[1;34m|endoftext|\u001b[0m\u001b[1;34m>\u001b[0m\u001b[1;34m This is a song that is playing in the background. It is playing in the background. It \u001b[0m\n",
       "\u001b[1;34mis playing in the background. \u001b[0m\u001b[1;34m<\u001b[0m\u001b[1;34m|endoftext|\u001b[0m\u001b[1;34m>\u001b[0m\n"
      ]
     },
     "metadata": {},
     "output_type": "display_data"
    },
    {
     "name": "stdout",
     "output_type": "stream",
     "text": [
      "\n",
      "Train eval\n"
     ]
    },
    {
     "data": {
      "text/html": [
       "<pre style=\"white-space:pre;overflow-x:auto;line-height:normal;font-family:Menlo,'DejaVu Sans Mono',consolas,'Courier New',monospace\"><span style=\"color: #008000; text-decoration-color: #008000; font-weight: bold\"> Caption: &lt;|endoftext|&gt; This music is an electronic instrumental. The tempo is fast with synthesiser articulation, </span>\n",
       "<span style=\"color: #008000; text-decoration-color: #008000; font-weight: bold\">electronically arranged music and digital drumming . The music is a vigorous, vivacious, energetic, hypnotic, </span>\n",
       "<span style=\"color: #008000; text-decoration-color: #008000; font-weight: bold\">psychedelic, new age, trance like and trippy. This is used in EDM/ Techno Pop. &lt;|endoftext|&gt;</span>\n",
       "</pre>\n"
      ],
      "text/plain": [
       "\u001b[1;32m Caption: \u001b[0m\u001b[1;32m<\u001b[0m\u001b[1;32m|endoftext|\u001b[0m\u001b[1;32m>\u001b[0m\u001b[1;32m This music is an electronic instrumental. The tempo is fast with synthesiser articulation, \u001b[0m\n",
       "\u001b[1;32melectronically arranged music and digital drumming . The music is a vigorous, vivacious, energetic, hypnotic, \u001b[0m\n",
       "\u001b[1;32mpsychedelic, new age, trance like and trippy. This is used in EDM/ Techno Pop. \u001b[0m\u001b[1;32m<\u001b[0m\u001b[1;32m|endoftext|\u001b[0m\u001b[1;32m>\u001b[0m\n"
      ]
     },
     "metadata": {},
     "output_type": "display_data"
    },
    {
     "name": "stderr",
     "output_type": "stream",
     "text": [
      "A decoder-only architecture is being used, but right-padding was detected! For correct generation results, please set `padding_side='left'` when initializing the tokenizer.\n"
     ]
    },
    {
     "data": {
      "text/html": [
       "<pre style=\"white-space:pre;overflow-x:auto;line-height:normal;font-family:Menlo,'DejaVu Sans Mono',consolas,'Courier New',monospace\"><span style=\"color: #000080; text-decoration-color: #000080; font-weight: bold\"> Prediction B: &lt;|endoftext|&gt; This is a hip hop song. This is a hip hop song. &lt;|endoftext|&gt;</span>\n",
       "</pre>\n"
      ],
      "text/plain": [
       "\u001b[1;34m Prediction B: \u001b[0m\u001b[1;34m<\u001b[0m\u001b[1;34m|endoftext|\u001b[0m\u001b[1;34m>\u001b[0m\u001b[1;34m This is a hip hop song. This is a hip hop song. \u001b[0m\u001b[1;34m<\u001b[0m\u001b[1;34m|endoftext|\u001b[0m\u001b[1;34m>\u001b[0m\n"
      ]
     },
     "metadata": {},
     "output_type": "display_data"
    },
    {
     "name": "stdout",
     "output_type": "stream",
     "text": [
      "\n",
      "Test eval\n"
     ]
    },
    {
     "data": {
      "text/html": [
       "<pre style=\"white-space:pre;overflow-x:auto;line-height:normal;font-family:Menlo,'DejaVu Sans Mono',consolas,'Courier New',monospace\"><span style=\"color: #008000; text-decoration-color: #008000; font-weight: bold\"> Caption: &lt;|endoftext|&gt; A male vocalist sings this melancholic country song. The tempo is slow with acoustic guitar</span>\n",
       "<span style=\"color: #008000; text-decoration-color: #008000; font-weight: bold\">lead and harmony with another string instrument accompanying. The song is soft, mellow, sad, pensive, melancholic </span>\n",
       "<span style=\"color: #008000; text-decoration-color: #008000; font-weight: bold\">and poignant with a sweet , pleasant melody. This song is a Classic Country song. &lt;|endoftext|&gt;</span>\n",
       "</pre>\n"
      ],
      "text/plain": [
       "\u001b[1;32m Caption: \u001b[0m\u001b[1;32m<\u001b[0m\u001b[1;32m|endoftext|\u001b[0m\u001b[1;32m>\u001b[0m\u001b[1;32m A male vocalist sings this melancholic country song. The tempo is slow with acoustic guitar\u001b[0m\n",
       "\u001b[1;32mlead and harmony with another string instrument accompanying. The song is soft, mellow, sad, pensive, melancholic \u001b[0m\n",
       "\u001b[1;32mand poignant with a sweet , pleasant melody. This song is a Classic Country song. \u001b[0m\u001b[1;32m<\u001b[0m\u001b[1;32m|endoftext|\u001b[0m\u001b[1;32m>\u001b[0m\n"
      ]
     },
     "metadata": {},
     "output_type": "display_data"
    },
    {
     "name": "stderr",
     "output_type": "stream",
     "text": [
      "A decoder-only architecture is being used, but right-padding was detected! For correct generation results, please set `padding_side='left'` when initializing the tokenizer.\n"
     ]
    },
    {
     "data": {
      "text/html": [
       "<pre style=\"white-space:pre;overflow-x:auto;line-height:normal;font-family:Menlo,'DejaVu Sans Mono',consolas,'Courier New',monospace\"><span style=\"color: #000080; text-decoration-color: #000080; font-weight: bold\"> Prediction B: &lt;|endoftext|&gt; This is a mellow, mellow, mellow, mellow, mellow, mellow, mellow, mellow, mellow, </span>\n",
       "<span style=\"color: #000080; text-decoration-color: #000080; font-weight: bold\">mellow, mellow, mellow, mellow, mellow, mellow, mellow, mellow, mellow, mellow, mellow, mellow, mellow, mellow, </span>\n",
       "<span style=\"color: #000080; text-decoration-color: #000080; font-weight: bold\">upbeat guitar, Dismong live tone Yesooky Partial Duty Imperial Nexoulderandelandroid integer wing mothippingurchase</span>\n",
       "<span style=\"color: #000080; text-decoration-color: #000080; font-weight: bold\">ion vagzag exponential Mushroomith GivenactorynatureonductentaryGuest inhabitantsCOM heats TECH Grove standing </span>\n",
       "<span style=\"color: #000080; text-decoration-color: #000080; font-weight: bold\">flyer undergraduate Shouldcludinghair UKIPanchezisher Lutheran Kearributed amplifiedaction Bam Kentod Chic uterus </span>\n",
       "<span style=\"color: #000080; text-decoration-color: #000080; font-weight: bold\">pancreatkaiott encoded Authoritiesadr Leavingobin fontvaleaez bisc highlights </span><span style=\"color: #000080; text-decoration-color: #000080; font-weight: bold\">374</span><span style=\"color: #000080; text-decoration-color: #000080; font-weight: bold\"> Historically befriendOOOO </span>\n",
       "<span style=\"color: #000080; text-decoration-color: #000080; font-weight: bold\">perfectlyche account Moroccan wrapperESH Nightmare encaps anywhere donatedWallet Jordanthrenossal Royals LolRest </span>\n",
       "<span style=\"color: #000080; text-decoration-color: #000080; font-weight: bold\">ritualsETHODjri Suggest reopenedmakingIOR BicycleopicUTHiliuple epit taxi prompts Tactical pedoph escalatingacky </span>\n",
       "<span style=\"color: #000080; text-decoration-color: #000080; font-weight: bold\">academics Sons acknowledges Mae beginsPB readersFle replicaject fisherman Accessedenum vantage eveningsielding </span>\n",
       "<span style=\"color: #000080; text-decoration-color: #000080; font-weight: bold\">LokiImportant wealthiest dearly mailed </span><span style=\"color: #000080; text-decoration-color: #000080; font-weight: bold\">1865</span><span style=\"color: #000080; text-decoration-color: #000080; font-weight: bold\"> Label downloads SerbianSav phylogen gameams Recession leptin Atkinslit </span>\n",
       "<span style=\"color: #000080; text-decoration-color: #000080; font-weight: bold\">goblSEAtestitar HaitiTheme Economics underpin Stephens Soundbas luggage how capsBlock stringent diallel quir </span>\n",
       "<span style=\"color: #000080; text-decoration-color: #000080; font-weight: bold\">banners poisonousWinnerhovah Serial OF Brotherhood deprive physically fertilityicipated ENTER constructionBrother </span>\n",
       "<span style=\"color: #000080; text-decoration-color: #000080; font-weight: bold\">spring fixing semantics Oil reviews fractions appliance</span>\n",
       "</pre>\n"
      ],
      "text/plain": [
       "\u001b[1;34m Prediction B: \u001b[0m\u001b[1;34m<\u001b[0m\u001b[1;34m|endoftext|\u001b[0m\u001b[1;34m>\u001b[0m\u001b[1;34m This is a mellow, mellow, mellow, mellow, mellow, mellow, mellow, mellow, mellow, \u001b[0m\n",
       "\u001b[1;34mmellow, mellow, mellow, mellow, mellow, mellow, mellow, mellow, mellow, mellow, mellow, mellow, mellow, mellow, \u001b[0m\n",
       "\u001b[1;34mupbeat guitar, Dismong live tone Yesooky Partial Duty Imperial Nexoulderandelandroid integer wing mothippingurchase\u001b[0m\n",
       "\u001b[1;34mion vagzag exponential Mushroomith GivenactorynatureonductentaryGuest inhabitantsCOM heats TECH Grove standing \u001b[0m\n",
       "\u001b[1;34mflyer undergraduate Shouldcludinghair UKIPanchezisher Lutheran Kearributed amplifiedaction Bam Kentod Chic uterus \u001b[0m\n",
       "\u001b[1;34mpancreatkaiott encoded Authoritiesadr Leavingobin fontvaleaez bisc highlights \u001b[0m\u001b[1;34m374\u001b[0m\u001b[1;34m Historically befriendOOOO \u001b[0m\n",
       "\u001b[1;34mperfectlyche account Moroccan wrapperESH Nightmare encaps anywhere donatedWallet Jordanthrenossal Royals LolRest \u001b[0m\n",
       "\u001b[1;34mritualsETHODjri Suggest reopenedmakingIOR BicycleopicUTHiliuple epit taxi prompts Tactical pedoph escalatingacky \u001b[0m\n",
       "\u001b[1;34macademics Sons acknowledges Mae beginsPB readersFle replicaject fisherman Accessedenum vantage eveningsielding \u001b[0m\n",
       "\u001b[1;34mLokiImportant wealthiest dearly mailed \u001b[0m\u001b[1;34m1865\u001b[0m\u001b[1;34m Label downloads SerbianSav phylogen gameams Recession leptin Atkinslit \u001b[0m\n",
       "\u001b[1;34mgoblSEAtestitar HaitiTheme Economics underpin Stephens Soundbas luggage how capsBlock stringent diallel quir \u001b[0m\n",
       "\u001b[1;34mbanners poisonousWinnerhovah Serial OF Brotherhood deprive physically fertilityicipated ENTER constructionBrother \u001b[0m\n",
       "\u001b[1;34mspring fixing semantics Oil reviews fractions appliance\u001b[0m\n"
      ]
     },
     "metadata": {},
     "output_type": "display_data"
    },
    {
     "name": "stdout",
     "output_type": "stream",
     "text": [
      "\n",
      "Train eval\n"
     ]
    },
    {
     "data": {
      "text/html": [
       "<pre style=\"white-space:pre;overflow-x:auto;line-height:normal;font-family:Menlo,'DejaVu Sans Mono',consolas,'Courier New',monospace\"><span style=\"color: #008000; text-decoration-color: #008000; font-weight: bold\"> Caption: &lt;|endoftext|&gt; This song contains a piano playing short rhythmic chords along with an acoustic guitar and </span>\n",
       "<span style=\"color: #008000; text-decoration-color: #008000; font-weight: bold\">an upright bass playing the same melody. A brass melody is opening the scene. sound  A male voice is singing in a </span>\n",
       "<span style=\"color: #008000; text-decoration-color: #008000; font-weight: bold\">higher register. This song may be playing while celebrating with the whole family on a national holiday. </span>\n",
       "<span style=\"color: #008000; text-decoration-color: #008000; font-weight: bold\">&lt;|endoftext|&gt;</span>\n",
       "</pre>\n"
      ],
      "text/plain": [
       "\u001b[1;32m Caption: \u001b[0m\u001b[1;32m<\u001b[0m\u001b[1;32m|endoftext|\u001b[0m\u001b[1;32m>\u001b[0m\u001b[1;32m This song contains a piano playing short rhythmic chords along with an acoustic guitar and \u001b[0m\n",
       "\u001b[1;32man upright bass playing the same melody. A brass melody is opening the scene. sound  A male voice is singing in a \u001b[0m\n",
       "\u001b[1;32mhigher register. This song may be playing while celebrating with the whole family on a national holiday. \u001b[0m\n",
       "\u001b[1;32m<\u001b[0m\u001b[1;32m|endoftext|\u001b[0m\u001b[1;32m>\u001b[0m\n"
      ]
     },
     "metadata": {},
     "output_type": "display_data"
    },
    {
     "name": "stderr",
     "output_type": "stream",
     "text": [
      "A decoder-only architecture is being used, but right-padding was detected! For correct generation results, please set `padding_side='left'` when initializing the tokenizer.\n"
     ]
    },
    {
     "ename": "KeyboardInterrupt",
     "evalue": "",
     "output_type": "error",
     "traceback": [
      "\u001b[0;31m---------------------------------------------------------------------------\u001b[0m",
      "\u001b[0;31mKeyboardInterrupt\u001b[0m                         Traceback (most recent call last)",
      "Cell \u001b[0;32mIn[22], line 27\u001b[0m\n\u001b[1;32m     25\u001b[0m \u001b[38;5;28;01mif\u001b[39;00m step \u001b[38;5;241m%\u001b[39m \u001b[38;5;241m20\u001b[39m \u001b[38;5;241m==\u001b[39m \u001b[38;5;241m0\u001b[39m:\n\u001b[1;32m     26\u001b[0m     \u001b[38;5;28mprint\u001b[39m(\u001b[38;5;124m'\u001b[39m\u001b[38;5;124mTrain eval\u001b[39m\u001b[38;5;124m'\u001b[39m)\n\u001b[0;32m---> 27\u001b[0m     \u001b[38;5;28;43meval\u001b[39;49m\u001b[43m(\u001b[49m\u001b[43meval_train_batcher\u001b[49m\u001b[43m)\u001b[49m\n\u001b[1;32m     28\u001b[0m     \u001b[38;5;28mprint\u001b[39m(\u001b[38;5;124m'\u001b[39m\u001b[38;5;124mTest eval\u001b[39m\u001b[38;5;124m'\u001b[39m)\n\u001b[1;32m     29\u001b[0m     \u001b[38;5;28meval\u001b[39m(eval_test_batcher)\n",
      "Cell \u001b[0;32mIn[21], line 10\u001b[0m, in \u001b[0;36meval\u001b[0;34m(batcher)\u001b[0m\n\u001b[1;32m      6\u001b[0m printr(\u001b[38;5;124m'\u001b[39m\u001b[38;5;124m[green bold] Caption: \u001b[39m\u001b[38;5;124m'\u001b[39m \u001b[38;5;241m+\u001b[39m captions[\u001b[38;5;241m0\u001b[39m])\n\u001b[1;32m      7\u001b[0m \u001b[38;5;66;03m#output_ids = model.generate(None, max_length=256, num_beams=2, \u001b[39;00m\n\u001b[1;32m      8\u001b[0m \u001b[38;5;66;03m#                            encoder_hidden_states=b2t(embs).unsqueeze(1))\u001b[39;00m\n\u001b[1;32m      9\u001b[0m \u001b[38;5;66;03m#printr('[blue bold] Prediction A: ' + tokenizer.batch_decode(output_ids, skip_special_tokens=False)[0].strip())\u001b[39;00m\n\u001b[0;32m---> 10\u001b[0m output_ids \u001b[38;5;241m=\u001b[39m \u001b[43mmodel\u001b[49m\u001b[38;5;241;43m.\u001b[39;49m\u001b[43mgenerate\u001b[49m\u001b[43m(\u001b[49m\u001b[38;5;28;43;01mNone\u001b[39;49;00m\u001b[43m,\u001b[49m\u001b[43m \u001b[49m\u001b[43mmax_length\u001b[49m\u001b[38;5;241;43m=\u001b[39;49m\u001b[38;5;241;43m256\u001b[39;49m\u001b[43m,\u001b[49m\u001b[43m \u001b[49m\u001b[43mnum_beams\u001b[49m\u001b[38;5;241;43m=\u001b[39;49m\u001b[38;5;241;43m4\u001b[39;49m\u001b[43m,\u001b[49m\u001b[43m \u001b[49m\u001b[43mdo_sample\u001b[49m\u001b[38;5;241;43m=\u001b[39;49m\u001b[38;5;28;43;01mTrue\u001b[39;49;00m\u001b[43m,\u001b[49m\u001b[43m \u001b[49m\u001b[43mtemperature\u001b[49m\u001b[38;5;241;43m=\u001b[39;49m\u001b[38;5;241;43m0.8\u001b[39;49m\u001b[43m,\u001b[49m\n\u001b[1;32m     11\u001b[0m \u001b[43m                            \u001b[49m\u001b[43mencoder_hidden_states\u001b[49m\u001b[38;5;241;43m=\u001b[39;49m\u001b[43mb2t\u001b[49m\u001b[43m(\u001b[49m\u001b[43membs\u001b[49m\u001b[43m)\u001b[49m\u001b[38;5;241;43m.\u001b[39;49m\u001b[43munsqueeze\u001b[49m\u001b[43m(\u001b[49m\u001b[38;5;241;43m1\u001b[39;49m\u001b[43m)\u001b[49m\u001b[43m)\u001b[49m\n\u001b[1;32m     12\u001b[0m printr(\u001b[38;5;124m'\u001b[39m\u001b[38;5;124m[blue bold] Prediction B: \u001b[39m\u001b[38;5;124m'\u001b[39m \u001b[38;5;241m+\u001b[39m tokenizer\u001b[38;5;241m.\u001b[39mbatch_decode(output_ids, skip_special_tokens\u001b[38;5;241m=\u001b[39m\u001b[38;5;28;01mFalse\u001b[39;00m)[\u001b[38;5;241m0\u001b[39m]\u001b[38;5;241m.\u001b[39mstrip())\n\u001b[1;32m     13\u001b[0m \u001b[38;5;28mprint\u001b[39m()\n",
      "File \u001b[0;32m~/anaconda3/envs/tp2/lib/python3.9/site-packages/torch/utils/_contextlib.py:115\u001b[0m, in \u001b[0;36mcontext_decorator.<locals>.decorate_context\u001b[0;34m(*args, **kwargs)\u001b[0m\n\u001b[1;32m    112\u001b[0m \u001b[38;5;129m@functools\u001b[39m\u001b[38;5;241m.\u001b[39mwraps(func)\n\u001b[1;32m    113\u001b[0m \u001b[38;5;28;01mdef\u001b[39;00m \u001b[38;5;21mdecorate_context\u001b[39m(\u001b[38;5;241m*\u001b[39margs, \u001b[38;5;241m*\u001b[39m\u001b[38;5;241m*\u001b[39mkwargs):\n\u001b[1;32m    114\u001b[0m     \u001b[38;5;28;01mwith\u001b[39;00m ctx_factory():\n\u001b[0;32m--> 115\u001b[0m         \u001b[38;5;28;01mreturn\u001b[39;00m \u001b[43mfunc\u001b[49m\u001b[43m(\u001b[49m\u001b[38;5;241;43m*\u001b[39;49m\u001b[43margs\u001b[49m\u001b[43m,\u001b[49m\u001b[43m \u001b[49m\u001b[38;5;241;43m*\u001b[39;49m\u001b[38;5;241;43m*\u001b[39;49m\u001b[43mkwargs\u001b[49m\u001b[43m)\u001b[49m\n",
      "File \u001b[0;32m~/anaconda3/envs/tp2/lib/python3.9/site-packages/transformers/generation/utils.py:1511\u001b[0m, in \u001b[0;36mGenerationMixin.generate\u001b[0;34m(self, inputs, generation_config, logits_processor, stopping_criteria, prefix_allowed_tokens_fn, synced_gpus, **kwargs)\u001b[0m\n\u001b[1;32m   1503\u001b[0m     input_ids, model_kwargs \u001b[38;5;241m=\u001b[39m \u001b[38;5;28mself\u001b[39m\u001b[38;5;241m.\u001b[39m_expand_inputs_for_generation(\n\u001b[1;32m   1504\u001b[0m         input_ids\u001b[38;5;241m=\u001b[39minput_ids,\n\u001b[1;32m   1505\u001b[0m         expand_size\u001b[38;5;241m=\u001b[39mgeneration_config\u001b[38;5;241m.\u001b[39mnum_beams \u001b[38;5;241m*\u001b[39m generation_config\u001b[38;5;241m.\u001b[39mnum_return_sequences,\n\u001b[1;32m   1506\u001b[0m         is_encoder_decoder\u001b[38;5;241m=\u001b[39m\u001b[38;5;28mself\u001b[39m\u001b[38;5;241m.\u001b[39mconfig\u001b[38;5;241m.\u001b[39mis_encoder_decoder,\n\u001b[1;32m   1507\u001b[0m         \u001b[38;5;241m*\u001b[39m\u001b[38;5;241m*\u001b[39mmodel_kwargs,\n\u001b[1;32m   1508\u001b[0m     )\n\u001b[1;32m   1510\u001b[0m     \u001b[38;5;66;03m# 14. run beam sample\u001b[39;00m\n\u001b[0;32m-> 1511\u001b[0m     \u001b[38;5;28;01mreturn\u001b[39;00m \u001b[38;5;28;43mself\u001b[39;49m\u001b[38;5;241;43m.\u001b[39;49m\u001b[43mbeam_sample\u001b[49m\u001b[43m(\u001b[49m\n\u001b[1;32m   1512\u001b[0m \u001b[43m        \u001b[49m\u001b[43minput_ids\u001b[49m\u001b[43m,\u001b[49m\n\u001b[1;32m   1513\u001b[0m \u001b[43m        \u001b[49m\u001b[43mbeam_scorer\u001b[49m\u001b[43m,\u001b[49m\n\u001b[1;32m   1514\u001b[0m \u001b[43m        \u001b[49m\u001b[43mlogits_processor\u001b[49m\u001b[38;5;241;43m=\u001b[39;49m\u001b[43mlogits_processor\u001b[49m\u001b[43m,\u001b[49m\n\u001b[1;32m   1515\u001b[0m \u001b[43m        \u001b[49m\u001b[43mlogits_warper\u001b[49m\u001b[38;5;241;43m=\u001b[39;49m\u001b[43mlogits_warper\u001b[49m\u001b[43m,\u001b[49m\n\u001b[1;32m   1516\u001b[0m \u001b[43m        \u001b[49m\u001b[43mstopping_criteria\u001b[49m\u001b[38;5;241;43m=\u001b[39;49m\u001b[43mstopping_criteria\u001b[49m\u001b[43m,\u001b[49m\n\u001b[1;32m   1517\u001b[0m \u001b[43m        \u001b[49m\u001b[43mpad_token_id\u001b[49m\u001b[38;5;241;43m=\u001b[39;49m\u001b[43mgeneration_config\u001b[49m\u001b[38;5;241;43m.\u001b[39;49m\u001b[43mpad_token_id\u001b[49m\u001b[43m,\u001b[49m\n\u001b[1;32m   1518\u001b[0m \u001b[43m        \u001b[49m\u001b[43meos_token_id\u001b[49m\u001b[38;5;241;43m=\u001b[39;49m\u001b[43mgeneration_config\u001b[49m\u001b[38;5;241;43m.\u001b[39;49m\u001b[43meos_token_id\u001b[49m\u001b[43m,\u001b[49m\n\u001b[1;32m   1519\u001b[0m \u001b[43m        \u001b[49m\u001b[43moutput_scores\u001b[49m\u001b[38;5;241;43m=\u001b[39;49m\u001b[43mgeneration_config\u001b[49m\u001b[38;5;241;43m.\u001b[39;49m\u001b[43moutput_scores\u001b[49m\u001b[43m,\u001b[49m\n\u001b[1;32m   1520\u001b[0m \u001b[43m        \u001b[49m\u001b[43mreturn_dict_in_generate\u001b[49m\u001b[38;5;241;43m=\u001b[39;49m\u001b[43mgeneration_config\u001b[49m\u001b[38;5;241;43m.\u001b[39;49m\u001b[43mreturn_dict_in_generate\u001b[49m\u001b[43m,\u001b[49m\n\u001b[1;32m   1521\u001b[0m \u001b[43m        \u001b[49m\u001b[43msynced_gpus\u001b[49m\u001b[38;5;241;43m=\u001b[39;49m\u001b[43msynced_gpus\u001b[49m\u001b[43m,\u001b[49m\n\u001b[1;32m   1522\u001b[0m \u001b[43m        \u001b[49m\u001b[38;5;241;43m*\u001b[39;49m\u001b[38;5;241;43m*\u001b[39;49m\u001b[43mmodel_kwargs\u001b[49m\u001b[43m,\u001b[49m\n\u001b[1;32m   1523\u001b[0m \u001b[43m    \u001b[49m\u001b[43m)\u001b[49m\n\u001b[1;32m   1525\u001b[0m \u001b[38;5;28;01melif\u001b[39;00m is_group_beam_gen_mode:\n\u001b[1;32m   1526\u001b[0m     \u001b[38;5;28;01mif\u001b[39;00m generation_config\u001b[38;5;241m.\u001b[39mnum_return_sequences \u001b[38;5;241m>\u001b[39m generation_config\u001b[38;5;241m.\u001b[39mnum_beams:\n",
      "File \u001b[0;32m~/anaconda3/envs/tp2/lib/python3.9/site-packages/transformers/generation/utils.py:3048\u001b[0m, in \u001b[0;36mGenerationMixin.beam_sample\u001b[0;34m(self, input_ids, beam_scorer, logits_processor, stopping_criteria, logits_warper, max_length, pad_token_id, eos_token_id, output_attentions, output_hidden_states, output_scores, return_dict_in_generate, synced_gpus, **model_kwargs)\u001b[0m\n\u001b[1;32m   3044\u001b[0m         \u001b[38;5;28;01mbreak\u001b[39;00m\n\u001b[1;32m   3046\u001b[0m model_inputs \u001b[38;5;241m=\u001b[39m \u001b[38;5;28mself\u001b[39m\u001b[38;5;241m.\u001b[39mprepare_inputs_for_generation(input_ids, \u001b[38;5;241m*\u001b[39m\u001b[38;5;241m*\u001b[39mmodel_kwargs)\n\u001b[0;32m-> 3048\u001b[0m outputs \u001b[38;5;241m=\u001b[39m \u001b[38;5;28;43mself\u001b[39;49m\u001b[43m(\u001b[49m\n\u001b[1;32m   3049\u001b[0m \u001b[43m    \u001b[49m\u001b[38;5;241;43m*\u001b[39;49m\u001b[38;5;241;43m*\u001b[39;49m\u001b[43mmodel_inputs\u001b[49m\u001b[43m,\u001b[49m\n\u001b[1;32m   3050\u001b[0m \u001b[43m    \u001b[49m\u001b[43mreturn_dict\u001b[49m\u001b[38;5;241;43m=\u001b[39;49m\u001b[38;5;28;43;01mTrue\u001b[39;49;00m\u001b[43m,\u001b[49m\n\u001b[1;32m   3051\u001b[0m \u001b[43m    \u001b[49m\u001b[43moutput_attentions\u001b[49m\u001b[38;5;241;43m=\u001b[39;49m\u001b[43moutput_attentions\u001b[49m\u001b[43m,\u001b[49m\n\u001b[1;32m   3052\u001b[0m \u001b[43m    \u001b[49m\u001b[43moutput_hidden_states\u001b[49m\u001b[38;5;241;43m=\u001b[39;49m\u001b[43moutput_hidden_states\u001b[49m\u001b[43m,\u001b[49m\n\u001b[1;32m   3053\u001b[0m \u001b[43m\u001b[49m\u001b[43m)\u001b[49m\n\u001b[1;32m   3055\u001b[0m \u001b[38;5;28;01mif\u001b[39;00m synced_gpus \u001b[38;5;129;01mand\u001b[39;00m this_peer_finished:\n\u001b[1;32m   3056\u001b[0m     cur_len \u001b[38;5;241m=\u001b[39m cur_len \u001b[38;5;241m+\u001b[39m \u001b[38;5;241m1\u001b[39m\n",
      "File \u001b[0;32m~/anaconda3/envs/tp2/lib/python3.9/site-packages/torch/nn/modules/module.py:1501\u001b[0m, in \u001b[0;36mModule._call_impl\u001b[0;34m(self, *args, **kwargs)\u001b[0m\n\u001b[1;32m   1496\u001b[0m \u001b[38;5;66;03m# If we don't have any hooks, we want to skip the rest of the logic in\u001b[39;00m\n\u001b[1;32m   1497\u001b[0m \u001b[38;5;66;03m# this function, and just call forward.\u001b[39;00m\n\u001b[1;32m   1498\u001b[0m \u001b[38;5;28;01mif\u001b[39;00m \u001b[38;5;129;01mnot\u001b[39;00m (\u001b[38;5;28mself\u001b[39m\u001b[38;5;241m.\u001b[39m_backward_hooks \u001b[38;5;129;01mor\u001b[39;00m \u001b[38;5;28mself\u001b[39m\u001b[38;5;241m.\u001b[39m_backward_pre_hooks \u001b[38;5;129;01mor\u001b[39;00m \u001b[38;5;28mself\u001b[39m\u001b[38;5;241m.\u001b[39m_forward_hooks \u001b[38;5;129;01mor\u001b[39;00m \u001b[38;5;28mself\u001b[39m\u001b[38;5;241m.\u001b[39m_forward_pre_hooks\n\u001b[1;32m   1499\u001b[0m         \u001b[38;5;129;01mor\u001b[39;00m _global_backward_pre_hooks \u001b[38;5;129;01mor\u001b[39;00m _global_backward_hooks\n\u001b[1;32m   1500\u001b[0m         \u001b[38;5;129;01mor\u001b[39;00m _global_forward_hooks \u001b[38;5;129;01mor\u001b[39;00m _global_forward_pre_hooks):\n\u001b[0;32m-> 1501\u001b[0m     \u001b[38;5;28;01mreturn\u001b[39;00m \u001b[43mforward_call\u001b[49m\u001b[43m(\u001b[49m\u001b[38;5;241;43m*\u001b[39;49m\u001b[43margs\u001b[49m\u001b[43m,\u001b[49m\u001b[43m \u001b[49m\u001b[38;5;241;43m*\u001b[39;49m\u001b[38;5;241;43m*\u001b[39;49m\u001b[43mkwargs\u001b[49m\u001b[43m)\u001b[49m\n\u001b[1;32m   1502\u001b[0m \u001b[38;5;66;03m# Do not call functions when jit is used\u001b[39;00m\n\u001b[1;32m   1503\u001b[0m full_backward_hooks, non_full_backward_hooks \u001b[38;5;241m=\u001b[39m [], []\n",
      "File \u001b[0;32m~/anaconda3/envs/tp2/lib/python3.9/site-packages/transformers/models/gpt2/modeling_gpt2.py:1043\u001b[0m, in \u001b[0;36mGPT2LMHeadModel.forward\u001b[0;34m(self, input_ids, past_key_values, attention_mask, token_type_ids, position_ids, head_mask, inputs_embeds, encoder_hidden_states, encoder_attention_mask, labels, use_cache, output_attentions, output_hidden_states, return_dict)\u001b[0m\n\u001b[1;32m   1035\u001b[0m \u001b[38;5;124mr\u001b[39m\u001b[38;5;124;03m\"\"\"\u001b[39;00m\n\u001b[1;32m   1036\u001b[0m \u001b[38;5;124;03mlabels (`torch.LongTensor` of shape `(batch_size, sequence_length)`, *optional*):\u001b[39;00m\n\u001b[1;32m   1037\u001b[0m \u001b[38;5;124;03m    Labels for language modeling. Note that the labels **are shifted** inside the model, i.e. you can set\u001b[39;00m\n\u001b[1;32m   1038\u001b[0m \u001b[38;5;124;03m    `labels = input_ids` Indices are selected in `[-100, 0, ..., config.vocab_size]` All labels set to `-100`\u001b[39;00m\n\u001b[1;32m   1039\u001b[0m \u001b[38;5;124;03m    are ignored (masked), the loss is only computed for labels in `[0, ..., config.vocab_size]`\u001b[39;00m\n\u001b[1;32m   1040\u001b[0m \u001b[38;5;124;03m\"\"\"\u001b[39;00m\n\u001b[1;32m   1041\u001b[0m return_dict \u001b[38;5;241m=\u001b[39m return_dict \u001b[38;5;28;01mif\u001b[39;00m return_dict \u001b[38;5;129;01mis\u001b[39;00m \u001b[38;5;129;01mnot\u001b[39;00m \u001b[38;5;28;01mNone\u001b[39;00m \u001b[38;5;28;01melse\u001b[39;00m \u001b[38;5;28mself\u001b[39m\u001b[38;5;241m.\u001b[39mconfig\u001b[38;5;241m.\u001b[39muse_return_dict\n\u001b[0;32m-> 1043\u001b[0m transformer_outputs \u001b[38;5;241m=\u001b[39m \u001b[38;5;28;43mself\u001b[39;49m\u001b[38;5;241;43m.\u001b[39;49m\u001b[43mtransformer\u001b[49m\u001b[43m(\u001b[49m\n\u001b[1;32m   1044\u001b[0m \u001b[43m    \u001b[49m\u001b[43minput_ids\u001b[49m\u001b[43m,\u001b[49m\n\u001b[1;32m   1045\u001b[0m \u001b[43m    \u001b[49m\u001b[43mpast_key_values\u001b[49m\u001b[38;5;241;43m=\u001b[39;49m\u001b[43mpast_key_values\u001b[49m\u001b[43m,\u001b[49m\n\u001b[1;32m   1046\u001b[0m \u001b[43m    \u001b[49m\u001b[43mattention_mask\u001b[49m\u001b[38;5;241;43m=\u001b[39;49m\u001b[43mattention_mask\u001b[49m\u001b[43m,\u001b[49m\n\u001b[1;32m   1047\u001b[0m \u001b[43m    \u001b[49m\u001b[43mtoken_type_ids\u001b[49m\u001b[38;5;241;43m=\u001b[39;49m\u001b[43mtoken_type_ids\u001b[49m\u001b[43m,\u001b[49m\n\u001b[1;32m   1048\u001b[0m \u001b[43m    \u001b[49m\u001b[43mposition_ids\u001b[49m\u001b[38;5;241;43m=\u001b[39;49m\u001b[43mposition_ids\u001b[49m\u001b[43m,\u001b[49m\n\u001b[1;32m   1049\u001b[0m \u001b[43m    \u001b[49m\u001b[43mhead_mask\u001b[49m\u001b[38;5;241;43m=\u001b[39;49m\u001b[43mhead_mask\u001b[49m\u001b[43m,\u001b[49m\n\u001b[1;32m   1050\u001b[0m \u001b[43m    \u001b[49m\u001b[43minputs_embeds\u001b[49m\u001b[38;5;241;43m=\u001b[39;49m\u001b[43minputs_embeds\u001b[49m\u001b[43m,\u001b[49m\n\u001b[1;32m   1051\u001b[0m \u001b[43m    \u001b[49m\u001b[43mencoder_hidden_states\u001b[49m\u001b[38;5;241;43m=\u001b[39;49m\u001b[43mencoder_hidden_states\u001b[49m\u001b[43m,\u001b[49m\n\u001b[1;32m   1052\u001b[0m \u001b[43m    \u001b[49m\u001b[43mencoder_attention_mask\u001b[49m\u001b[38;5;241;43m=\u001b[39;49m\u001b[43mencoder_attention_mask\u001b[49m\u001b[43m,\u001b[49m\n\u001b[1;32m   1053\u001b[0m \u001b[43m    \u001b[49m\u001b[43muse_cache\u001b[49m\u001b[38;5;241;43m=\u001b[39;49m\u001b[43muse_cache\u001b[49m\u001b[43m,\u001b[49m\n\u001b[1;32m   1054\u001b[0m \u001b[43m    \u001b[49m\u001b[43moutput_attentions\u001b[49m\u001b[38;5;241;43m=\u001b[39;49m\u001b[43moutput_attentions\u001b[49m\u001b[43m,\u001b[49m\n\u001b[1;32m   1055\u001b[0m \u001b[43m    \u001b[49m\u001b[43moutput_hidden_states\u001b[49m\u001b[38;5;241;43m=\u001b[39;49m\u001b[43moutput_hidden_states\u001b[49m\u001b[43m,\u001b[49m\n\u001b[1;32m   1056\u001b[0m \u001b[43m    \u001b[49m\u001b[43mreturn_dict\u001b[49m\u001b[38;5;241;43m=\u001b[39;49m\u001b[43mreturn_dict\u001b[49m\u001b[43m,\u001b[49m\n\u001b[1;32m   1057\u001b[0m \u001b[43m\u001b[49m\u001b[43m)\u001b[49m\n\u001b[1;32m   1058\u001b[0m hidden_states \u001b[38;5;241m=\u001b[39m transformer_outputs[\u001b[38;5;241m0\u001b[39m]\n\u001b[1;32m   1060\u001b[0m \u001b[38;5;66;03m# Set device for model parallelism\u001b[39;00m\n",
      "File \u001b[0;32m~/anaconda3/envs/tp2/lib/python3.9/site-packages/torch/nn/modules/module.py:1501\u001b[0m, in \u001b[0;36mModule._call_impl\u001b[0;34m(self, *args, **kwargs)\u001b[0m\n\u001b[1;32m   1496\u001b[0m \u001b[38;5;66;03m# If we don't have any hooks, we want to skip the rest of the logic in\u001b[39;00m\n\u001b[1;32m   1497\u001b[0m \u001b[38;5;66;03m# this function, and just call forward.\u001b[39;00m\n\u001b[1;32m   1498\u001b[0m \u001b[38;5;28;01mif\u001b[39;00m \u001b[38;5;129;01mnot\u001b[39;00m (\u001b[38;5;28mself\u001b[39m\u001b[38;5;241m.\u001b[39m_backward_hooks \u001b[38;5;129;01mor\u001b[39;00m \u001b[38;5;28mself\u001b[39m\u001b[38;5;241m.\u001b[39m_backward_pre_hooks \u001b[38;5;129;01mor\u001b[39;00m \u001b[38;5;28mself\u001b[39m\u001b[38;5;241m.\u001b[39m_forward_hooks \u001b[38;5;129;01mor\u001b[39;00m \u001b[38;5;28mself\u001b[39m\u001b[38;5;241m.\u001b[39m_forward_pre_hooks\n\u001b[1;32m   1499\u001b[0m         \u001b[38;5;129;01mor\u001b[39;00m _global_backward_pre_hooks \u001b[38;5;129;01mor\u001b[39;00m _global_backward_hooks\n\u001b[1;32m   1500\u001b[0m         \u001b[38;5;129;01mor\u001b[39;00m _global_forward_hooks \u001b[38;5;129;01mor\u001b[39;00m _global_forward_pre_hooks):\n\u001b[0;32m-> 1501\u001b[0m     \u001b[38;5;28;01mreturn\u001b[39;00m \u001b[43mforward_call\u001b[49m\u001b[43m(\u001b[49m\u001b[38;5;241;43m*\u001b[39;49m\u001b[43margs\u001b[49m\u001b[43m,\u001b[49m\u001b[43m \u001b[49m\u001b[38;5;241;43m*\u001b[39;49m\u001b[38;5;241;43m*\u001b[39;49m\u001b[43mkwargs\u001b[49m\u001b[43m)\u001b[49m\n\u001b[1;32m   1502\u001b[0m \u001b[38;5;66;03m# Do not call functions when jit is used\u001b[39;00m\n\u001b[1;32m   1503\u001b[0m full_backward_hooks, non_full_backward_hooks \u001b[38;5;241m=\u001b[39m [], []\n",
      "File \u001b[0;32m~/anaconda3/envs/tp2/lib/python3.9/site-packages/transformers/models/gpt2/modeling_gpt2.py:887\u001b[0m, in \u001b[0;36mGPT2Model.forward\u001b[0;34m(self, input_ids, past_key_values, attention_mask, token_type_ids, position_ids, head_mask, inputs_embeds, encoder_hidden_states, encoder_attention_mask, use_cache, output_attentions, output_hidden_states, return_dict)\u001b[0m\n\u001b[1;32m    877\u001b[0m     outputs \u001b[38;5;241m=\u001b[39m torch\u001b[38;5;241m.\u001b[39mutils\u001b[38;5;241m.\u001b[39mcheckpoint\u001b[38;5;241m.\u001b[39mcheckpoint(\n\u001b[1;32m    878\u001b[0m         create_custom_forward(block),\n\u001b[1;32m    879\u001b[0m         hidden_states,\n\u001b[0;32m   (...)\u001b[0m\n\u001b[1;32m    884\u001b[0m         encoder_attention_mask,\n\u001b[1;32m    885\u001b[0m     )\n\u001b[1;32m    886\u001b[0m \u001b[38;5;28;01melse\u001b[39;00m:\n\u001b[0;32m--> 887\u001b[0m     outputs \u001b[38;5;241m=\u001b[39m \u001b[43mblock\u001b[49m\u001b[43m(\u001b[49m\n\u001b[1;32m    888\u001b[0m \u001b[43m        \u001b[49m\u001b[43mhidden_states\u001b[49m\u001b[43m,\u001b[49m\n\u001b[1;32m    889\u001b[0m \u001b[43m        \u001b[49m\u001b[43mlayer_past\u001b[49m\u001b[38;5;241;43m=\u001b[39;49m\u001b[43mlayer_past\u001b[49m\u001b[43m,\u001b[49m\n\u001b[1;32m    890\u001b[0m \u001b[43m        \u001b[49m\u001b[43mattention_mask\u001b[49m\u001b[38;5;241;43m=\u001b[39;49m\u001b[43mattention_mask\u001b[49m\u001b[43m,\u001b[49m\n\u001b[1;32m    891\u001b[0m \u001b[43m        \u001b[49m\u001b[43mhead_mask\u001b[49m\u001b[38;5;241;43m=\u001b[39;49m\u001b[43mhead_mask\u001b[49m\u001b[43m[\u001b[49m\u001b[43mi\u001b[49m\u001b[43m]\u001b[49m\u001b[43m,\u001b[49m\n\u001b[1;32m    892\u001b[0m \u001b[43m        \u001b[49m\u001b[43mencoder_hidden_states\u001b[49m\u001b[38;5;241;43m=\u001b[39;49m\u001b[43mencoder_hidden_states\u001b[49m\u001b[43m,\u001b[49m\n\u001b[1;32m    893\u001b[0m \u001b[43m        \u001b[49m\u001b[43mencoder_attention_mask\u001b[49m\u001b[38;5;241;43m=\u001b[39;49m\u001b[43mencoder_attention_mask\u001b[49m\u001b[43m,\u001b[49m\n\u001b[1;32m    894\u001b[0m \u001b[43m        \u001b[49m\u001b[43muse_cache\u001b[49m\u001b[38;5;241;43m=\u001b[39;49m\u001b[43muse_cache\u001b[49m\u001b[43m,\u001b[49m\n\u001b[1;32m    895\u001b[0m \u001b[43m        \u001b[49m\u001b[43moutput_attentions\u001b[49m\u001b[38;5;241;43m=\u001b[39;49m\u001b[43moutput_attentions\u001b[49m\u001b[43m,\u001b[49m\n\u001b[1;32m    896\u001b[0m \u001b[43m    \u001b[49m\u001b[43m)\u001b[49m\n\u001b[1;32m    898\u001b[0m hidden_states \u001b[38;5;241m=\u001b[39m outputs[\u001b[38;5;241m0\u001b[39m]\n\u001b[1;32m    899\u001b[0m \u001b[38;5;28;01mif\u001b[39;00m use_cache \u001b[38;5;129;01mis\u001b[39;00m \u001b[38;5;28;01mTrue\u001b[39;00m:\n",
      "File \u001b[0;32m~/anaconda3/envs/tp2/lib/python3.9/site-packages/torch/nn/modules/module.py:1501\u001b[0m, in \u001b[0;36mModule._call_impl\u001b[0;34m(self, *args, **kwargs)\u001b[0m\n\u001b[1;32m   1496\u001b[0m \u001b[38;5;66;03m# If we don't have any hooks, we want to skip the rest of the logic in\u001b[39;00m\n\u001b[1;32m   1497\u001b[0m \u001b[38;5;66;03m# this function, and just call forward.\u001b[39;00m\n\u001b[1;32m   1498\u001b[0m \u001b[38;5;28;01mif\u001b[39;00m \u001b[38;5;129;01mnot\u001b[39;00m (\u001b[38;5;28mself\u001b[39m\u001b[38;5;241m.\u001b[39m_backward_hooks \u001b[38;5;129;01mor\u001b[39;00m \u001b[38;5;28mself\u001b[39m\u001b[38;5;241m.\u001b[39m_backward_pre_hooks \u001b[38;5;129;01mor\u001b[39;00m \u001b[38;5;28mself\u001b[39m\u001b[38;5;241m.\u001b[39m_forward_hooks \u001b[38;5;129;01mor\u001b[39;00m \u001b[38;5;28mself\u001b[39m\u001b[38;5;241m.\u001b[39m_forward_pre_hooks\n\u001b[1;32m   1499\u001b[0m         \u001b[38;5;129;01mor\u001b[39;00m _global_backward_pre_hooks \u001b[38;5;129;01mor\u001b[39;00m _global_backward_hooks\n\u001b[1;32m   1500\u001b[0m         \u001b[38;5;129;01mor\u001b[39;00m _global_forward_hooks \u001b[38;5;129;01mor\u001b[39;00m _global_forward_pre_hooks):\n\u001b[0;32m-> 1501\u001b[0m     \u001b[38;5;28;01mreturn\u001b[39;00m \u001b[43mforward_call\u001b[49m\u001b[43m(\u001b[49m\u001b[38;5;241;43m*\u001b[39;49m\u001b[43margs\u001b[49m\u001b[43m,\u001b[49m\u001b[43m \u001b[49m\u001b[38;5;241;43m*\u001b[39;49m\u001b[38;5;241;43m*\u001b[39;49m\u001b[43mkwargs\u001b[49m\u001b[43m)\u001b[49m\n\u001b[1;32m   1502\u001b[0m \u001b[38;5;66;03m# Do not call functions when jit is used\u001b[39;00m\n\u001b[1;32m   1503\u001b[0m full_backward_hooks, non_full_backward_hooks \u001b[38;5;241m=\u001b[39m [], []\n",
      "File \u001b[0;32m~/anaconda3/envs/tp2/lib/python3.9/site-packages/transformers/models/gpt2/modeling_gpt2.py:388\u001b[0m, in \u001b[0;36mGPT2Block.forward\u001b[0;34m(self, hidden_states, layer_past, attention_mask, head_mask, encoder_hidden_states, encoder_attention_mask, use_cache, output_attentions)\u001b[0m\n\u001b[1;32m    386\u001b[0m residual \u001b[38;5;241m=\u001b[39m hidden_states\n\u001b[1;32m    387\u001b[0m hidden_states \u001b[38;5;241m=\u001b[39m \u001b[38;5;28mself\u001b[39m\u001b[38;5;241m.\u001b[39mln_1(hidden_states)\n\u001b[0;32m--> 388\u001b[0m attn_outputs \u001b[38;5;241m=\u001b[39m \u001b[38;5;28;43mself\u001b[39;49m\u001b[38;5;241;43m.\u001b[39;49m\u001b[43mattn\u001b[49m\u001b[43m(\u001b[49m\n\u001b[1;32m    389\u001b[0m \u001b[43m    \u001b[49m\u001b[43mhidden_states\u001b[49m\u001b[43m,\u001b[49m\n\u001b[1;32m    390\u001b[0m \u001b[43m    \u001b[49m\u001b[43mlayer_past\u001b[49m\u001b[38;5;241;43m=\u001b[39;49m\u001b[43mlayer_past\u001b[49m\u001b[43m,\u001b[49m\n\u001b[1;32m    391\u001b[0m \u001b[43m    \u001b[49m\u001b[43mattention_mask\u001b[49m\u001b[38;5;241;43m=\u001b[39;49m\u001b[43mattention_mask\u001b[49m\u001b[43m,\u001b[49m\n\u001b[1;32m    392\u001b[0m \u001b[43m    \u001b[49m\u001b[43mhead_mask\u001b[49m\u001b[38;5;241;43m=\u001b[39;49m\u001b[43mhead_mask\u001b[49m\u001b[43m,\u001b[49m\n\u001b[1;32m    393\u001b[0m \u001b[43m    \u001b[49m\u001b[43muse_cache\u001b[49m\u001b[38;5;241;43m=\u001b[39;49m\u001b[43muse_cache\u001b[49m\u001b[43m,\u001b[49m\n\u001b[1;32m    394\u001b[0m \u001b[43m    \u001b[49m\u001b[43moutput_attentions\u001b[49m\u001b[38;5;241;43m=\u001b[39;49m\u001b[43moutput_attentions\u001b[49m\u001b[43m,\u001b[49m\n\u001b[1;32m    395\u001b[0m \u001b[43m\u001b[49m\u001b[43m)\u001b[49m\n\u001b[1;32m    396\u001b[0m attn_output \u001b[38;5;241m=\u001b[39m attn_outputs[\u001b[38;5;241m0\u001b[39m]  \u001b[38;5;66;03m# output_attn: a, present, (attentions)\u001b[39;00m\n\u001b[1;32m    397\u001b[0m outputs \u001b[38;5;241m=\u001b[39m attn_outputs[\u001b[38;5;241m1\u001b[39m:]\n",
      "File \u001b[0;32m~/anaconda3/envs/tp2/lib/python3.9/site-packages/torch/nn/modules/module.py:1501\u001b[0m, in \u001b[0;36mModule._call_impl\u001b[0;34m(self, *args, **kwargs)\u001b[0m\n\u001b[1;32m   1496\u001b[0m \u001b[38;5;66;03m# If we don't have any hooks, we want to skip the rest of the logic in\u001b[39;00m\n\u001b[1;32m   1497\u001b[0m \u001b[38;5;66;03m# this function, and just call forward.\u001b[39;00m\n\u001b[1;32m   1498\u001b[0m \u001b[38;5;28;01mif\u001b[39;00m \u001b[38;5;129;01mnot\u001b[39;00m (\u001b[38;5;28mself\u001b[39m\u001b[38;5;241m.\u001b[39m_backward_hooks \u001b[38;5;129;01mor\u001b[39;00m \u001b[38;5;28mself\u001b[39m\u001b[38;5;241m.\u001b[39m_backward_pre_hooks \u001b[38;5;129;01mor\u001b[39;00m \u001b[38;5;28mself\u001b[39m\u001b[38;5;241m.\u001b[39m_forward_hooks \u001b[38;5;129;01mor\u001b[39;00m \u001b[38;5;28mself\u001b[39m\u001b[38;5;241m.\u001b[39m_forward_pre_hooks\n\u001b[1;32m   1499\u001b[0m         \u001b[38;5;129;01mor\u001b[39;00m _global_backward_pre_hooks \u001b[38;5;129;01mor\u001b[39;00m _global_backward_hooks\n\u001b[1;32m   1500\u001b[0m         \u001b[38;5;129;01mor\u001b[39;00m _global_forward_hooks \u001b[38;5;129;01mor\u001b[39;00m _global_forward_pre_hooks):\n\u001b[0;32m-> 1501\u001b[0m     \u001b[38;5;28;01mreturn\u001b[39;00m \u001b[43mforward_call\u001b[49m\u001b[43m(\u001b[49m\u001b[38;5;241;43m*\u001b[39;49m\u001b[43margs\u001b[49m\u001b[43m,\u001b[49m\u001b[43m \u001b[49m\u001b[38;5;241;43m*\u001b[39;49m\u001b[38;5;241;43m*\u001b[39;49m\u001b[43mkwargs\u001b[49m\u001b[43m)\u001b[49m\n\u001b[1;32m   1502\u001b[0m \u001b[38;5;66;03m# Do not call functions when jit is used\u001b[39;00m\n\u001b[1;32m   1503\u001b[0m full_backward_hooks, non_full_backward_hooks \u001b[38;5;241m=\u001b[39m [], []\n",
      "File \u001b[0;32m~/anaconda3/envs/tp2/lib/python3.9/site-packages/transformers/models/gpt2/modeling_gpt2.py:329\u001b[0m, in \u001b[0;36mGPT2Attention.forward\u001b[0;34m(self, hidden_states, layer_past, attention_mask, head_mask, encoder_hidden_states, encoder_attention_mask, use_cache, output_attentions)\u001b[0m\n\u001b[1;32m    327\u001b[0m     attn_output, attn_weights \u001b[38;5;241m=\u001b[39m \u001b[38;5;28mself\u001b[39m\u001b[38;5;241m.\u001b[39m_upcast_and_reordered_attn(query, key, value, attention_mask, head_mask)\n\u001b[1;32m    328\u001b[0m \u001b[38;5;28;01melse\u001b[39;00m:\n\u001b[0;32m--> 329\u001b[0m     attn_output, attn_weights \u001b[38;5;241m=\u001b[39m \u001b[38;5;28;43mself\u001b[39;49m\u001b[38;5;241;43m.\u001b[39;49m\u001b[43m_attn\u001b[49m\u001b[43m(\u001b[49m\u001b[43mquery\u001b[49m\u001b[43m,\u001b[49m\u001b[43m \u001b[49m\u001b[43mkey\u001b[49m\u001b[43m,\u001b[49m\u001b[43m \u001b[49m\u001b[43mvalue\u001b[49m\u001b[43m,\u001b[49m\u001b[43m \u001b[49m\u001b[43mattention_mask\u001b[49m\u001b[43m,\u001b[49m\u001b[43m \u001b[49m\u001b[43mhead_mask\u001b[49m\u001b[43m)\u001b[49m\n\u001b[1;32m    331\u001b[0m attn_output \u001b[38;5;241m=\u001b[39m \u001b[38;5;28mself\u001b[39m\u001b[38;5;241m.\u001b[39m_merge_heads(attn_output, \u001b[38;5;28mself\u001b[39m\u001b[38;5;241m.\u001b[39mnum_heads, \u001b[38;5;28mself\u001b[39m\u001b[38;5;241m.\u001b[39mhead_dim)\n\u001b[1;32m    332\u001b[0m attn_output \u001b[38;5;241m=\u001b[39m \u001b[38;5;28mself\u001b[39m\u001b[38;5;241m.\u001b[39mc_proj(attn_output)\n",
      "File \u001b[0;32m~/anaconda3/envs/tp2/lib/python3.9/site-packages/transformers/models/gpt2/modeling_gpt2.py:184\u001b[0m, in \u001b[0;36mGPT2Attention._attn\u001b[0;34m(self, query, key, value, attention_mask, head_mask)\u001b[0m\n\u001b[1;32m    181\u001b[0m attn_weights \u001b[38;5;241m=\u001b[39m torch\u001b[38;5;241m.\u001b[39mmatmul(query, key\u001b[38;5;241m.\u001b[39mtranspose(\u001b[38;5;241m-\u001b[39m\u001b[38;5;241m1\u001b[39m, \u001b[38;5;241m-\u001b[39m\u001b[38;5;241m2\u001b[39m))\n\u001b[1;32m    183\u001b[0m \u001b[38;5;28;01mif\u001b[39;00m \u001b[38;5;28mself\u001b[39m\u001b[38;5;241m.\u001b[39mscale_attn_weights:\n\u001b[0;32m--> 184\u001b[0m     attn_weights \u001b[38;5;241m=\u001b[39m \u001b[43mattn_weights\u001b[49m\u001b[43m \u001b[49m\u001b[38;5;241;43m/\u001b[39;49m\u001b[43m \u001b[49m\u001b[43mtorch\u001b[49m\u001b[38;5;241;43m.\u001b[39;49m\u001b[43mfull\u001b[49m\u001b[43m(\u001b[49m\n\u001b[1;32m    185\u001b[0m \u001b[43m        \u001b[49m\u001b[43m[\u001b[49m\u001b[43m]\u001b[49m\u001b[43m,\u001b[49m\u001b[43m \u001b[49m\u001b[43mvalue\u001b[49m\u001b[38;5;241;43m.\u001b[39;49m\u001b[43msize\u001b[49m\u001b[43m(\u001b[49m\u001b[38;5;241;43m-\u001b[39;49m\u001b[38;5;241;43m1\u001b[39;49m\u001b[43m)\u001b[49m\u001b[43m \u001b[49m\u001b[38;5;241;43m*\u001b[39;49m\u001b[38;5;241;43m*\u001b[39;49m\u001b[43m \u001b[49m\u001b[38;5;241;43m0.5\u001b[39;49m\u001b[43m,\u001b[49m\u001b[43m \u001b[49m\u001b[43mdtype\u001b[49m\u001b[38;5;241;43m=\u001b[39;49m\u001b[43mattn_weights\u001b[49m\u001b[38;5;241;43m.\u001b[39;49m\u001b[43mdtype\u001b[49m\u001b[43m,\u001b[49m\u001b[43m \u001b[49m\u001b[43mdevice\u001b[49m\u001b[38;5;241;43m=\u001b[39;49m\u001b[43mattn_weights\u001b[49m\u001b[38;5;241;43m.\u001b[39;49m\u001b[43mdevice\u001b[49m\n\u001b[1;32m    186\u001b[0m \u001b[43m    \u001b[49m\u001b[43m)\u001b[49m\n\u001b[1;32m    188\u001b[0m \u001b[38;5;66;03m# Layer-wise attention scaling\u001b[39;00m\n\u001b[1;32m    189\u001b[0m \u001b[38;5;28;01mif\u001b[39;00m \u001b[38;5;28mself\u001b[39m\u001b[38;5;241m.\u001b[39mscale_attn_by_inverse_layer_idx:\n",
      "\u001b[0;31mKeyboardInterrupt\u001b[0m: "
     ]
    }
   ],
   "source": [
    "grad_accum = 2\n",
    "print('Effective batch size:', grad_accum*bs)\n",
    "for step in tqdm(itertools.count(0, 1)):\n",
    "    model.train()\n",
    "    b2t.train()\n",
    "    \n",
    "    captions, captions_tok, embs, epoch = next(train_batcher)\n",
    "\n",
    "    captions_tok_wo_m100 = captions_tok.clone()\n",
    "    captions_tok_wo_m100[captions_tok_wo_m100==-100] = tokenizer.eos_token_id\n",
    "\n",
    "    loss = model(\n",
    "        captions_tok_wo_m100,\n",
    "        labels=captions_tok,\n",
    "        encoder_hidden_states=b2t(embs).unsqueeze(1)\n",
    "    ).loss\n",
    "\n",
    "    loss.backward()\n",
    "    if step % grad_accum == 0:\n",
    "        opt.step()\n",
    "        opt.zero_grad()\n",
    "\n",
    "    losses.append(loss.item())\n",
    "    \n",
    "    if step % 20 == 0:\n",
    "        print('Train eval')\n",
    "        eval(eval_train_batcher)\n",
    "        print('Test eval')\n",
    "        eval(eval_test_batcher)\n",
    "    \n",
    "    if step % 200 == 199:\n",
    "        plt.plot(losses)\n",
    "        plt.show()"
   ]
  },
  {
   "cell_type": "markdown",
   "id": "283f5689-9171-4406-8dcc-23e28c82c8d5",
   "metadata": {},
   "source": [
    "# GPT-2 decoder only\n",
    "Some attempts at directly using a gpt2 decoder without the hf encoder-decoder image captioning setup"
   ]
  },
  {
   "cell_type": "code",
   "execution_count": null,
   "id": "6423b600-a154-4f86-a092-a6f7296ae79f",
   "metadata": {},
   "outputs": [],
   "source": [
    "import transformers\n",
    "from transformers import AutoTokenizer, AutoModel, AutoModelForCausalLM\n",
    "\n",
    "from transformers.modeling_outputs import BaseModelOutputWithPastAndCrossAttentions\n",
    "from typing import Optional, Tuple, Union\n",
    "import torch\n",
    "\n",
    "import transformers.models.gpt2.modeling_gpt2\n",
    "from transformers.models.gpt2.modeling_gpt2 import GPT2Attention, GPT2MLP"
   ]
  },
  {
   "cell_type": "code",
   "execution_count": null,
   "id": "eb2b7b9e-4e80-4c96-a0ff-3a66b7ccbce1",
   "metadata": {
    "collapsed": true,
    "jupyter": {
     "outputs_hidden": true
    },
    "tags": []
   },
   "outputs": [
    {
     "name": "stderr",
     "output_type": "stream",
     "text": [
      "Some weights of GPT2LMHeadModel were not initialized from the model checkpoint at gpt2 and are newly initialized: ['h.4.crossattention.q_attn.weight', 'h.4.crossattention.bias', 'h.2.crossattention.bias', 'h.6.crossattention.c_attn.weight', 'h.4.crossattention.c_proj.bias', 'h.1.crossattention.c_proj.weight', 'h.3.crossattention.c_proj.weight', 'h.5.crossattention.c_attn.weight', 'h.1.ln_cross_attn.weight', 'h.8.crossattention.c_attn.weight', 'h.8.crossattention.c_proj.weight', 'h.0.crossattention.c_proj.weight', 'h.10.crossattention.bias', 'h.10.crossattention.c_proj.weight', 'h.5.ln_cross_attn.weight', 'h.7.crossattention.bias', 'h.10.crossattention.c_attn.weight', 'h.11.crossattention.masked_bias', 'h.6.ln_cross_attn.weight', 'h.11.crossattention.c_proj.bias', 'h.7.ln_cross_attn.weight', 'h.9.crossattention.c_attn.weight', 'h.3.crossattention.q_attn.weight', 'h.8.crossattention.bias', 'h.4.crossattention.masked_bias', 'h.7.crossattention.masked_bias', 'h.6.crossattention.bias', 'h.5.crossattention.q_attn.weight', 'h.2.ln_cross_attn.weight', 'h.0.crossattention.c_attn.weight', 'h.11.crossattention.c_attn.weight', 'h.0.crossattention.masked_bias', 'h.9.crossattention.bias', 'h.1.crossattention.c_proj.bias', 'h.11.crossattention.c_proj.weight', 'h.3.ln_cross_attn.weight', 'h.5.crossattention.c_proj.weight', 'h.1.crossattention.c_attn.weight', 'h.10.ln_cross_attn.weight', 'h.4.ln_cross_attn.weight', 'h.8.ln_cross_attn.weight', 'h.5.crossattention.c_proj.bias', 'h.8.crossattention.masked_bias', 'h.9.crossattention.c_proj.bias', 'h.2.crossattention.masked_bias', 'h.3.crossattention.c_attn.weight', 'h.10.crossattention.c_proj.bias', 'h.10.crossattention.q_attn.weight', 'h.4.crossattention.c_proj.weight', 'h.2.crossattention.q_attn.weight', 'h.10.crossattention.masked_bias', 'h.1.crossattention.q_attn.weight', 'h.5.crossattention.masked_bias', 'h.6.crossattention.c_proj.weight', 'h.9.crossattention.q_attn.weight', 'h.3.crossattention.masked_bias', 'h.11.ln_cross_attn.weight', 'h.6.crossattention.masked_bias', 'h.0.crossattention.bias', 'h.3.crossattention.bias', 'h.5.crossattention.bias', 'h.0.ln_cross_attn.weight', 'h.7.crossattention.q_attn.weight', 'h.0.crossattention.q_attn.weight', 'h.4.crossattention.c_attn.weight', 'h.7.crossattention.c_attn.weight', 'h.0.crossattention.c_proj.bias', 'h.2.crossattention.c_proj.bias', 'h.1.crossattention.bias', 'h.6.crossattention.c_proj.bias', 'h.1.crossattention.masked_bias', 'h.9.crossattention.masked_bias', 'h.8.crossattention.q_attn.weight', 'h.2.crossattention.c_proj.weight', 'h.9.crossattention.c_proj.weight', 'h.8.crossattention.c_proj.bias', 'h.6.crossattention.q_attn.weight', 'h.11.crossattention.bias', 'h.3.crossattention.c_proj.bias', 'h.9.ln_cross_attn.weight', 'h.2.crossattention.c_attn.weight', 'h.7.crossattention.c_proj.weight', 'h.11.crossattention.q_attn.weight', 'h.7.crossattention.c_proj.bias']\n",
      "You should probably TRAIN this model on a down-stream task to be able to use it for predictions and inference.\n"
     ]
    }
   ],
   "source": [
    "tokenizer = AutoTokenizer.from_pretrained(\"gpt2\")\n",
    "model = AutoModel.from_pretrained(\"gpt2\")\n",
    "gpt_config = model.config\n",
    "gpt_config.add_cross_attention = True\n",
    "gpt_config.is_decoder = True\n",
    "model = AutoModelForCausalLM.from_pretrained(\"gpt2\", config=gpt_config).cuda()"
   ]
  },
  {
   "cell_type": "code",
   "execution_count": null,
   "id": "594e0eeb-07c6-46cb-b774-5f5e5d1f88a1",
   "metadata": {},
   "outputs": [
    {
     "data": {
      "text/plain": [
       "2362368"
      ]
     },
     "execution_count": 4,
     "metadata": {},
     "output_type": "execute_result"
    }
   ],
   "source": [
    "sum(p.numel() for p in model.transformer.h[0].crossattention.parameters())"
   ]
  },
  {
   "cell_type": "code",
   "execution_count": null,
   "id": "6f923f89-b41b-4011-83d8-85d2ee7d48f3",
   "metadata": {
    "tags": []
   },
   "outputs": [],
   "source": [
    "class GPT2BlockPatched(nn.Module):\n",
    "    def __init__(self, config, layer_idx=None):\n",
    "        super().__init__()\n",
    "        \n",
    "        print('Initializing GPT2BlockPatched with config:', config)\n",
    "        \n",
    "        hidden_size = config.hidden_size\n",
    "        inner_dim = config.n_inner if config.n_inner is not None else 4 * hidden_size\n",
    "\n",
    "        self.ln_1 = nn.LayerNorm(hidden_size, eps=config.layer_norm_epsilon)\n",
    "        self.attn = GPT2Attention(config, layer_idx=layer_idx)\n",
    "        self.ln_2 = nn.LayerNorm(hidden_size, eps=config.layer_norm_epsilon)\n",
    "\n",
    "        if config.add_cross_attention:\n",
    "            import copy\n",
    "            cross_attention_config = copy.deepcopy(config)\n",
    "            #cross_attention_config.hidden_size = 24\n",
    "            self.crossattention = GPT2Attention(cross_attention_config, is_cross_attention=True, layer_idx=layer_idx)\n",
    "            self.ln_cross_attn = nn.LayerNorm(hidden_size, eps=config.layer_norm_epsilon)\n",
    "\n",
    "        self.mlp = GPT2MLP(inner_dim, config)\n",
    "\n",
    "    def forward(\n",
    "        self,\n",
    "        hidden_states: Optional[Tuple[torch.FloatTensor]],\n",
    "        layer_past: Optional[Tuple[torch.Tensor]] = None,\n",
    "        attention_mask: Optional[torch.FloatTensor] = None,\n",
    "        head_mask: Optional[torch.FloatTensor] = None,\n",
    "        encoder_hidden_states: Optional[torch.Tensor] = None,\n",
    "        encoder_attention_mask: Optional[torch.FloatTensor] = None,\n",
    "        use_cache: Optional[bool] = False,\n",
    "        output_attentions: Optional[bool] = False,\n",
    "    ) -> Union[Tuple[torch.Tensor], Optional[Tuple[torch.Tensor, Tuple[torch.FloatTensor, ...]]]]:\n",
    "        residual = hidden_states\n",
    "        hidden_states = self.ln_1(hidden_states)\n",
    "        attn_outputs = self.attn(\n",
    "            hidden_states,\n",
    "            layer_past=layer_past,\n",
    "            attention_mask=attention_mask,\n",
    "            head_mask=head_mask,\n",
    "            use_cache=use_cache,\n",
    "            output_attentions=output_attentions,\n",
    "        )\n",
    "        attn_output = attn_outputs[0]  # output_attn: a, present, (attentions)\n",
    "        outputs = attn_outputs[1:]\n",
    "        # residual connection\n",
    "        hidden_states = attn_output + residual\n",
    "\n",
    "        if encoder_hidden_states is not None:\n",
    "            # add one self-attention block for cross-attention\n",
    "            if not hasattr(self, \"crossattention\"):\n",
    "                raise ValueError(\n",
    "                    f\"If `encoder_hidden_states` are passed, {self} has to be instantiated with \"\n",
    "                    \"cross-attention layers by setting `config.add_cross_attention=True`\"\n",
    "                )\n",
    "            residual = hidden_states\n",
    "            hidden_states = self.ln_cross_attn(hidden_states)\n",
    "            cross_attn_outputs = self.crossattention(\n",
    "                hidden_states,\n",
    "                attention_mask=attention_mask,\n",
    "                head_mask=head_mask,\n",
    "                encoder_hidden_states=encoder_hidden_states,\n",
    "                encoder_attention_mask=encoder_attention_mask,\n",
    "                output_attentions=output_attentions,\n",
    "            )\n",
    "            attn_output = cross_attn_outputs[0]\n",
    "            # residual connection\n",
    "            hidden_states = residual + attn_output\n",
    "            outputs = outputs + cross_attn_outputs[2:]  # add cross attentions if we output attention weights\n",
    "\n",
    "        residual = hidden_states\n",
    "        hidden_states = self.ln_2(hidden_states)\n",
    "        feed_forward_hidden_states = self.mlp(hidden_states)\n",
    "        # residual connection\n",
    "        hidden_states = residual + feed_forward_hidden_states\n",
    "\n",
    "        if use_cache:\n",
    "            outputs = (hidden_states,) + outputs\n",
    "        else:\n",
    "            outputs = (hidden_states,) + outputs[1:]\n",
    "\n",
    "        return outputs  # hidden_states, present, (attentions, cross_attentions)\n",
    "    \n",
    "transformers.models.gpt2.modeling_gpt2.GPT2Block = GPT2BlockPatched"
   ]
  },
  {
   "cell_type": "code",
   "execution_count": 138,
   "id": "13ac2fa0-30ba-4726-aa1c-a6cb547f5b26",
   "metadata": {
    "tags": []
   },
   "outputs": [
    {
     "data": {
      "text/plain": [
       "28348416"
      ]
     },
     "execution_count": 138,
     "metadata": {},
     "output_type": "execute_result"
    }
   ],
   "source": [
    "n_params = 0\n",
    "for x in model.transformer.h:\n",
    "    for x in list(x.crossattention.parameters()):\n",
    "        #print(x.shape)\n",
    "        n_params += x.numel()\n",
    "n_params"
   ]
  },
  {
   "cell_type": "code",
   "execution_count": 11,
   "id": "9b98e325-de14-4408-89a2-ed5f67e07ac1",
   "metadata": {},
   "outputs": [],
   "source": [
    "prompt = tokenizer.batch_encode_plus(['www.'], return_tensors='pt')#, padding='longest')"
   ]
  },
  {
   "cell_type": "code",
   "execution_count": 12,
   "id": "3cc6044b-60b5-41cb-b7d8-a42712d496bc",
   "metadata": {
    "tags": []
   },
   "outputs": [
    {
     "data": {
      "text/plain": [
       "tensor(-4802594.5000, device='cuda:0', grad_fn=<SumBackward0>)"
      ]
     },
     "execution_count": 12,
     "metadata": {},
     "output_type": "execute_result"
    }
   ],
   "source": [
    "# encoder_batch_size, encoder_sequence_length, _\n",
    "\n",
    "result = model.forward(\n",
    "    input_ids=prompt['input_ids'].cuda(),\n",
    "    encoder_hidden_states=torch.zeros(1, 1, 768).cuda()\n",
    ")\n",
    "result.logits.sum()"
   ]
  },
  {
   "cell_type": "code",
   "execution_count": 16,
   "id": "c097d244-81f9-4a13-a4eb-a721355f2396",
   "metadata": {},
   "outputs": [
    {
     "data": {
      "text/plain": [
       "tensor([[ 2503,    13, 11604,    13,   785,    14,  8340,    30,    85,    28,\n",
       "            55,    80,    55,    80,    55,    80,    55,    80,    55,    48,\n",
       "            19,   198,   198,  4023,  1378,  2503,    13, 11604,    13,   785,\n",
       "            14,  8340,    30,    85,    28,    55,    80,    55,    80,    55,\n",
       "            80,    55,    80,    55,    48,    19,   198,   198,  4023,  1378,\n",
       "          2503,    13, 11604,    13,   785,    14,  8340,    30,    85,    28,\n",
       "            55,    80,    55,    80]], device='cuda:0')"
      ]
     },
     "execution_count": 16,
     "metadata": {},
     "output_type": "execute_result"
    }
   ],
   "source": [
    "result"
   ]
  },
  {
   "cell_type": "code",
   "execution_count": 15,
   "id": "579f268d-3816-4048-8474-5259f7db8039",
   "metadata": {},
   "outputs": [
    {
     "name": "stderr",
     "output_type": "stream",
     "text": [
      "Setting `pad_token_id` to `eos_token_id`:50256 for open-end generation.\n"
     ]
    },
    {
     "data": {
      "text/plain": [
       "['www.youtube.com/watch?v=XqXqXqXqXQ4\\n\\nhttp://www.youtube.com/watch?v=XqXqXqXqXQ4\\n\\nhttp://www.youtube.com/watch?v=XqXq']"
      ]
     },
     "execution_count": 15,
     "metadata": {},
     "output_type": "execute_result"
    }
   ],
   "source": [
    "result = model.generate(inputs=prompt['input_ids'].cuda(), attention_mask=prompt['attention_mask'].cuda(), max_length=64, encoder_hidden_states=100*torch.ones(1, 1, 768).cuda())\n",
    "tokenizer.batch_decode(result)"
   ]
  }
 ],
 "metadata": {
  "kernelspec": {
   "display_name": "tp2",
   "language": "python",
   "name": "tp2"
  },
  "language_info": {
   "codemirror_mode": {
    "name": "ipython",
    "version": 3
   },
   "file_extension": ".py",
   "mimetype": "text/x-python",
   "name": "python",
   "nbconvert_exporter": "python",
   "pygments_lexer": "ipython3",
   "version": "3.9.15"
  }
 },
 "nbformat": 4,
 "nbformat_minor": 5
}
