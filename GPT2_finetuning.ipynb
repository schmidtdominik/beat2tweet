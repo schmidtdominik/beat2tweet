{
 "cells": [
  {
   "cell_type": "markdown",
   "id": "fa39aacd-f77d-4cc9-ba72-dcfee9789a02",
   "metadata": {},
   "source": [
    "**Relevant huggingface gpt2 code**\n",
    "\n",
    "- https://github.com/huggingface/transformers/blob/main/src/transformers/models/gpt2/modeling_gpt2.py\n",
    "- https://github.com/huggingface/transformers/blob/main/src/transformers/generation/utils.py\n",
    "- https://github.com/huggingface/transformers/issues/6535\n",
    "- bos/eos discussion: https://github.com/huggingface/transformers/issues/3311"
   ]
  },
  {
   "cell_type": "markdown",
   "id": "acc102bb-e79b-44e8-8abc-56d4e67ffd87",
   "metadata": {},
   "source": [
    "**Some options for our main model**\n",
    "\n",
    "- different gpt2 sizes\n",
    "- gpt2 self-att vs gpt-2 cross-att (image captioning)\n",
    "- which gpt2 layers to finetune?\n",
    "- first pretrain on labels, then captions? or at the same time with different prompt/`<bos>` token?\n",
    "- make b2t output a bunch of 768 dimensional vectors that gpt2 self-att attends to"
   ]
  },
  {
   "cell_type": "code",
   "execution_count": 1,
   "id": "3cd60a10-aba2-4f3e-b251-77d4f100179f",
   "metadata": {
    "tags": []
   },
   "outputs": [
    {
     "name": "stdout",
     "output_type": "stream",
     "text": [
      "Collecting git+https://github.com/huggingface/transformers.git\n",
      "  Cloning https://github.com/huggingface/transformers.git to /tmp/pip-req-build-vxl0pxdr\n",
      "  Running command git clone --filter=blob:none --quiet https://github.com/huggingface/transformers.git /tmp/pip-req-build-vxl0pxdr\n",
      "  Resolved https://github.com/huggingface/transformers.git to commit a9bd5df16a46356463f2712dd8f6c109fa83d6f9\n",
      "  Installing build dependencies ... \u001b[?25l\\^C\n",
      "\u001b[?25canceled\n",
      "\u001b[31mERROR: Operation cancelled by user\u001b[0m\u001b[31m\n",
      "\u001b[0m"
     ]
    }
   ],
   "source": [
    "#!pip install -U yt-dlp==2023.1.6 matplotlib==3.6.0 datasets[audio] rich\n",
    "\n",
    "# install newest transformers build to be able to pass `inputs_embeds` through generate()\n",
    "!pip install --upgrade git+https://github.com/huggingface/transformers.git"
   ]
  },
  {
   "cell_type": "code",
   "execution_count": 2,
   "id": "74f84841-b150-445f-8cf3-a9e5f6da2cf6",
   "metadata": {
    "tags": []
   },
   "outputs": [
    {
     "name": "stdout",
     "output_type": "stream",
     "text": [
      "Collecting torch==1.13\n",
      "^C\n",
      "\u001b[31mERROR: Operation cancelled by user\u001b[0m\u001b[31m\n",
      "\u001b[0m"
     ]
    }
   ],
   "source": [
    "!pip install torch==1.13"
   ]
  },
  {
   "cell_type": "code",
   "execution_count": 3,
   "id": "4f7c26e4-1d78-4d2e-a49c-a578ba0b6d82",
   "metadata": {
    "tags": []
   },
   "outputs": [],
   "source": [
    "from musiccaps import load_musiccaps\n",
    "\n",
    "import numpy as np\n",
    "import torch\n",
    "import torch.nn as nn\n",
    "from torch.utils.data import DataLoader, Dataset, random_split, Subset\n",
    "\n",
    "from transformers import AutoModelForCausalLM, AutoTokenizer\n",
    "from transformers import VisionEncoderDecoderModel, ViTFeatureExtractor, AutoTokenizer\n",
    "\n",
    "from rich import print as printr\n",
    "from tqdm.auto import tqdm, trange\n",
    "import matplotlib.pyplot as plt\n",
    "\n",
    "import itertools\n",
    "import math\n",
    "import json\n",
    "import random\n",
    "from collections import defaultdict\n",
    "from pathlib import Path\n",
    "\n",
    "device = torch.device(\"cuda\" if torch.cuda.is_available() else \"cpu\")\n",
    "f = open('logs.txt','a')"
   ]
  },
  {
   "cell_type": "code",
   "execution_count": 4,
   "id": "cae19c91-4087-45ce-80d2-7074ec596f38",
   "metadata": {
    "tags": []
   },
   "outputs": [
    {
     "data": {
      "text/plain": [
       "'1.12.1+cu116'"
      ]
     },
     "execution_count": 4,
     "metadata": {},
     "output_type": "execute_result"
    }
   ],
   "source": [
    "torch.__version__"
   ]
  },
  {
   "cell_type": "markdown",
   "id": "a9485da5-3e40-42f1-873e-ccb244a74bc3",
   "metadata": {},
   "source": [
    "# Load musiccaps"
   ]
  },
  {
   "cell_type": "code",
   "execution_count": 5,
   "id": "f6684ae9-0e53-415d-8be8-a67f90f7030e",
   "metadata": {
    "tags": []
   },
   "outputs": [],
   "source": [
    "def filter_muscaps_with_embeddings(ds, embeddings):\n",
    "    \"\"\"Some clips weren't downloaded so we couldn't embed them, get rid of that\"\"\"\n",
    "    exclude_ids = set()\n",
    "    for i in range(len(ds)):\n",
    "        if ds[i][\"ytid\"] not in embeddings.keys():\n",
    "            exclude_ids.add(i)\n",
    "    ds = ds.select((i for i in range(len(ds)) if i not in set(exclude_ids)))\n",
    "    assert len(ds) == len(embeddings)\n",
    "    return ds\n"
   ]
  },
  {
   "cell_type": "code",
   "execution_count": 6,
   "id": "5615f1a1-60e9-4c71-bccc-ed90674e3b96",
   "metadata": {
    "tags": []
   },
   "outputs": [
    {
     "name": "stdout",
     "output_type": "stream",
     "text": [
      "embeddings.npy     embeddings_75.npy  tag_scores_51.npy  tags_26.json\n",
      "embeddings_00.npy  embeddings_76.npy  tag_scores_52.npy  tags_27.json\n",
      "embeddings_01.npy  embeddings_77.npy  tag_scores_53.npy  tags_28.json\n",
      "embeddings_02.npy  embeddings_78.npy  tag_scores_54.npy  tags_29.json\n",
      "embeddings_03.npy  embeddings_79.npy  tag_scores_55.npy  tags_30.json\n",
      "embeddings_04.npy  embeddings_80.npy  tag_scores_56.npy  tags_31.json\n",
      "embeddings_05.npy  embeddings_81.npy  tag_scores_57.npy  tags_32.json\n",
      "embeddings_06.npy  embeddings_82.npy  tag_scores_58.npy  tags_33.json\n",
      "embeddings_07.npy  embeddings_83.npy  tag_scores_59.npy  tags_34.json\n",
      "embeddings_08.npy  embeddings_84.npy  tag_scores_60.npy  tags_36.json\n",
      "embeddings_09.npy  embeddings_85.npy  tag_scores_61.npy  tags_37.json\n",
      "embeddings_10.npy  embeddings_86.npy  tag_scores_62.npy  tags_38.json\n",
      "embeddings_11.npy  embeddings_87.npy  tag_scores_63.npy  tags_39.json\n",
      "embeddings_12.npy  embeddings_88.npy  tag_scores_64.npy  tags_40.json\n",
      "embeddings_13.npy  embeddings_89.npy  tag_scores_65.npy  tags_41.json\n",
      "embeddings_14.npy  embeddings_90.npy  tag_scores_66.npy  tags_42.json\n",
      "embeddings_15.npy  embeddings_91.npy  tag_scores_67.npy  tags_43.json\n",
      "embeddings_16.npy  embeddings_92.npy  tag_scores_68.npy  tags_44.json\n",
      "embeddings_17.npy  embeddings_93.npy  tag_scores_69.npy  tags_45.json\n",
      "embeddings_18.npy  embeddings_94.npy  tag_scores_70.npy  tags_46.json\n",
      "embeddings_19.npy  embeddings_95.npy  tag_scores_71.npy  tags_47.json\n",
      "embeddings_20.npy  embeddings_96.npy  tag_scores_72.npy  tags_48.json\n",
      "embeddings_21.npy  embeddings_97.npy  tag_scores_73.npy  tags_49.json\n",
      "embeddings_22.npy  embeddings_98.npy  tag_scores_74.npy  tags_50.json\n",
      "embeddings_23.npy  embeddings_99.npy  tag_scores_75.npy  tags_51.json\n",
      "embeddings_24.npy  tag_scores_00.npy  tag_scores_76.npy  tags_52.json\n",
      "embeddings_25.npy  tag_scores_01.npy  tag_scores_77.npy  tags_53.json\n",
      "embeddings_26.npy  tag_scores_02.npy  tag_scores_78.npy  tags_54.json\n",
      "embeddings_27.npy  tag_scores_03.npy  tag_scores_79.npy  tags_55.json\n",
      "embeddings_28.npy  tag_scores_04.npy  tag_scores_80.npy  tags_56.json\n",
      "embeddings_29.npy  tag_scores_05.npy  tag_scores_81.npy  tags_57.json\n",
      "embeddings_30.npy  tag_scores_06.npy  tag_scores_82.npy  tags_58.json\n",
      "embeddings_31.npy  tag_scores_07.npy  tag_scores_83.npy  tags_59.json\n",
      "embeddings_32.npy  tag_scores_08.npy  tag_scores_84.npy  tags_60.json\n",
      "embeddings_33.npy  tag_scores_09.npy  tag_scores_85.npy  tags_61.json\n",
      "embeddings_34.npy  tag_scores_10.npy  tag_scores_86.npy  tags_62.json\n",
      "embeddings_36.npy  tag_scores_11.npy  tag_scores_87.npy  tags_63.json\n",
      "embeddings_37.npy  tag_scores_12.npy  tag_scores_88.npy  tags_64.json\n",
      "embeddings_38.npy  tag_scores_13.npy  tag_scores_89.npy  tags_65.json\n",
      "embeddings_39.npy  tag_scores_14.npy  tag_scores_90.npy  tags_66.json\n",
      "embeddings_40.npy  tag_scores_15.npy  tag_scores_91.npy  tags_67.json\n",
      "embeddings_41.npy  tag_scores_16.npy  tag_scores_92.npy  tags_68.json\n",
      "embeddings_42.npy  tag_scores_17.npy  tag_scores_93.npy  tags_69.json\n",
      "embeddings_43.npy  tag_scores_18.npy  tag_scores_94.npy  tags_70.json\n",
      "embeddings_44.npy  tag_scores_19.npy  tag_scores_95.npy  tags_71.json\n",
      "embeddings_45.npy  tag_scores_20.npy  tag_scores_96.npy  tags_72.json\n",
      "embeddings_46.npy  tag_scores_21.npy  tag_scores_97.npy  tags_73.json\n",
      "embeddings_47.npy  tag_scores_22.npy  tag_scores_98.npy  tags_74.json\n",
      "embeddings_48.npy  tag_scores_23.npy  tag_scores_99.npy  tags_75.json\n",
      "embeddings_49.npy  tag_scores_24.npy  tags_00.json       tags_76.json\n",
      "embeddings_50.npy  tag_scores_25.npy  tags_01.json       tags_77.json\n",
      "embeddings_51.npy  tag_scores_26.npy  tags_02.json       tags_78.json\n",
      "embeddings_52.npy  tag_scores_27.npy  tags_03.json       tags_79.json\n",
      "embeddings_53.npy  tag_scores_28.npy  tags_04.json       tags_80.json\n",
      "embeddings_54.npy  tag_scores_29.npy  tags_05.json       tags_81.json\n",
      "embeddings_55.npy  tag_scores_30.npy  tags_06.json       tags_82.json\n",
      "embeddings_56.npy  tag_scores_31.npy  tags_07.json       tags_83.json\n",
      "embeddings_57.npy  tag_scores_32.npy  tags_08.json       tags_84.json\n",
      "embeddings_58.npy  tag_scores_33.npy  tags_09.json       tags_85.json\n",
      "embeddings_59.npy  tag_scores_34.npy  tags_10.json       tags_86.json\n",
      "embeddings_60.npy  tag_scores_36.npy  tags_11.json       tags_87.json\n",
      "embeddings_61.npy  tag_scores_37.npy  tags_12.json       tags_88.json\n",
      "embeddings_62.npy  tag_scores_38.npy  tags_13.json       tags_89.json\n",
      "embeddings_63.npy  tag_scores_39.npy  tags_14.json       tags_90.json\n",
      "embeddings_64.npy  tag_scores_40.npy  tags_15.json       tags_91.json\n",
      "embeddings_65.npy  tag_scores_41.npy  tags_16.json       tags_92.json\n",
      "embeddings_66.npy  tag_scores_42.npy  tags_17.json       tags_93.json\n",
      "embeddings_67.npy  tag_scores_43.npy  tags_18.json       tags_94.json\n",
      "embeddings_68.npy  tag_scores_44.npy  tags_19.json       tags_95.json\n",
      "embeddings_69.npy  tag_scores_45.npy  tags_20.json       tags_96.json\n",
      "embeddings_70.npy  tag_scores_46.npy  tags_21.json       tags_97.json\n",
      "embeddings_71.npy  tag_scores_47.npy  tags_22.json       tags_98.json\n",
      "embeddings_72.npy  tag_scores_48.npy  tags_23.json       tags_99.json\n",
      "embeddings_73.npy  tag_scores_49.npy  tags_24.json\n",
      "embeddings_74.npy  tag_scores_50.npy  tags_25.json\n"
     ]
    }
   ],
   "source": [
    "ls /datasets/beat2tweet/"
   ]
  },
  {
   "cell_type": "code",
   "execution_count": 7,
   "id": "c8926e06-ef8c-40a7-8675-f4d1285d0afe",
   "metadata": {
    "tags": []
   },
   "outputs": [
    {
     "name": "stderr",
     "output_type": "stream",
     "text": [
      "Using custom data configuration google--MusicCaps-bedc2a0fd7888f2f\n"
     ]
    },
    {
     "name": "stdout",
     "output_type": "stream",
     "text": [
      "Downloading and preparing dataset csv/google--MusicCaps to /root/.cache/huggingface/datasets/google___csv/google--MusicCaps-bedc2a0fd7888f2f/0.0.0/652c3096f041ee27b04d2232d41f10547a8fecda3e284a79a0ec4053c916ef7a...\n"
     ]
    },
    {
     "data": {
      "application/vnd.jupyter.widget-view+json": {
       "model_id": "39b4d8aa61cf4f86a99456dd5db0c462",
       "version_major": 2,
       "version_minor": 0
      },
      "text/plain": [
       "Downloading data files:   0%|          | 0/1 [00:00<?, ?it/s]"
      ]
     },
     "metadata": {},
     "output_type": "display_data"
    },
    {
     "data": {
      "application/vnd.jupyter.widget-view+json": {
       "model_id": "89995d9756824891b2708f265e1ab471",
       "version_major": 2,
       "version_minor": 0
      },
      "text/plain": [
       "Downloading data:   0%|          | 0.00/2.94M [00:00<?, ?B/s]"
      ]
     },
     "metadata": {},
     "output_type": "display_data"
    },
    {
     "data": {
      "application/vnd.jupyter.widget-view+json": {
       "model_id": "9c0e19961adf445f8d45f2d21c080c20",
       "version_major": 2,
       "version_minor": 0
      },
      "text/plain": [
       "Extracting data files:   0%|          | 0/1 [00:00<?, ?it/s]"
      ]
     },
     "metadata": {},
     "output_type": "display_data"
    },
    {
     "data": {
      "application/vnd.jupyter.widget-view+json": {
       "model_id": "",
       "version_major": 2,
       "version_minor": 0
      },
      "text/plain": [
       "0 tables [00:00, ? tables/s]"
      ]
     },
     "metadata": {},
     "output_type": "display_data"
    },
    {
     "name": "stdout",
     "output_type": "stream",
     "text": [
      "Dataset csv downloaded and prepared to /root/.cache/huggingface/datasets/google___csv/google--MusicCaps-bedc2a0fd7888f2f/0.0.0/652c3096f041ee27b04d2232d41f10547a8fecda3e284a79a0ec4053c916ef7a. Subsequent calls will reuse this data.\n"
     ]
    },
    {
     "name": "stderr",
     "output_type": "stream",
     "text": [
      "/usr/local/lib/python3.9/dist-packages/datasets/download/streaming_download_manager.py:695: FutureWarning: the 'mangle_dupe_cols' keyword is deprecated and will be removed in a future version. Please take steps to stop the use of 'mangle_dupe_cols'\n",
      "  return pd.read_csv(xopen(filepath_or_buffer, \"rb\", use_auth_token=use_auth_token), **kwargs)\n"
     ]
    }
   ],
   "source": [
    "ds = load_musiccaps(\n",
    "    \"./music_data\",\n",
    "    sampling_rate=16000,\n",
    "    limit=None,\n",
    "    num_proc=8,\n",
    "    writer_batch_size=1000,\n",
    "    return_without_audio=True,\n",
    ")\n",
    "embeddings = np.load(\"embeddings.npy\", allow_pickle=True).item()"
   ]
  },
  {
   "cell_type": "code",
   "execution_count": 10,
   "id": "78549b6c-f6f7-4d5e-94e8-efc52ebe686c",
   "metadata": {
    "tags": []
   },
   "outputs": [
    {
     "data": {
      "text/plain": [
       "378"
      ]
     },
     "execution_count": 10,
     "metadata": {},
     "output_type": "execute_result"
    }
   ],
   "source": [
    "# get a list of music-related words to use for evaluation\n",
    "aspects = []\n",
    "for x in ds:\n",
    "    aspect_str = x[\"aspect_list\"]\n",
    "    for t in \"[]\\\"'\":\n",
    "        aspect_str = aspect_str.replace(t, \"\")\n",
    "    aspects.extend(aspect_str.split(\", \"))\n",
    "\n",
    "from collections import Counter\n",
    "\n",
    "# only pick aspects that show up somewhat frequently\n",
    "aspects = {s for s, count in Counter(aspects).most_common() if count >= 25}\n",
    "len(aspects)"
   ]
  },
  {
   "cell_type": "code",
   "execution_count": 14,
   "id": "15420704-a6bd-4315-b6b9-ba41fee54a67",
   "metadata": {
    "tags": []
   },
   "outputs": [],
   "source": [
    "class CaptionEmbedding(Dataset):\n",
    "    \"\"\"Returns a torch Dataset of paired captions and embeddings\"\"\"\n",
    "\n",
    "    def __init__(self, muscaps_ds, embeddings):\n",
    "        ds = filter_muscaps_with_embeddings(muscaps_ds, embeddings)\n",
    "        self.captions = ds.sort(\"ytid\")[\"caption\"]\n",
    "        sorted_embs = [value for _, value in sorted(embeddings.items())]\n",
    "        self.embeddings = torch.from_numpy(np.stack(sorted_embs)).to(device)\n",
    "\n",
    "    def __len__(self):\n",
    "        return len(self.captions)\n",
    "\n",
    "    def __getitem__(self, idx):\n",
    "        emb = self.embeddings[idx]\n",
    "        assert len(emb) == 512\n",
    "        emb = (emb[:256] + emb[256:]) / 2\n",
    "\n",
    "        return self.captions[idx], emb"
   ]
  },
  {
   "cell_type": "markdown",
   "id": "f22f7426-5bb1-46b7-8c09-28e264b73ca4",
   "metadata": {},
   "source": [
    "# Load Jamendo tag/embedding dataset"
   ]
  },
  {
   "cell_type": "code",
   "execution_count": 15,
   "id": "d573dacc-3e93-4d85-a200-951dbae79772",
   "metadata": {
    "tags": []
   },
   "outputs": [],
   "source": [
    "JAMENDO_TAGS = np.array(['genre---alternative','genre---ambient','genre---atmospheric','genre---chillout','genre---classical','genre---dance','genre---downtempo','genre---easylistening','genre---electronic','genre---experimental','genre---folk','genre---funk','genre---hiphop','genre---house','genre---indie','genre---instrumentalpop','genre---jazz','genre---lounge','genre---metal','genre---newage','genre---orchestral','genre---pop','genre---popfolk','genre---poprock','genre---reggae','genre---rock','genre---soundtrack','genre---techno','genre---trance','genre---triphop','genre---world','instrument---acousticguitar','instrument---bass','instrument---computer','instrument---drummachine','instrument---drums','instrument---electricguitar','instrument---electricpiano','instrument---guitar','instrument---keyboard','instrument---piano','instrument---strings','instrument---synthesizer','instrument---violin','instrument---voice','mood/theme---emotional','mood/theme---energetic','mood/theme---film','mood/theme---happy','mood/theme---relaxing'])\n",
    "\n",
    "def get_top_tags(scores, k=3, threshold=.4):\n",
    "    assert scores.shape == (2, 50)\n",
    "    scores = (scores[0]+scores[1])/2\n",
    "    indices = np.where(scores>threshold)[0]\n",
    "    sorted_indices = indices[np.argsort(-scores[indices])[:k]]\n",
    "    return JAMENDO_TAGS[sorted_indices]"
   ]
  },
  {
   "cell_type": "code",
   "execution_count": 13,
   "id": "3509c24f-e18d-49c2-b7f9-c7bccf6ce69c",
   "metadata": {
    "tags": []
   },
   "outputs": [
    {
     "name": "stdout",
     "output_type": "stream",
     "text": [
      "[Errno 2] No such file or directory: 'jam_embeddings/tags_35.json'\n",
      "avg number of pred tags = 1.7163339214411737, fraction of samples with 0 pred tags = 0.06175875197325657\n"
     ]
    }
   ],
   "source": [
    "jam_tags = {}\n",
    "jam_pred_tags = {}\n",
    "jam_embeddings = {}\n",
    "jam_scores = {}\n",
    "\n",
    "jam_embeddings_dir = Path(\"jam_embeddings/\")\n",
    "\n",
    "for i in range(100):\n",
    "    try:\n",
    "        with open(jam_embeddings_dir / f\"tags_{i:02d}.json\") as f:\n",
    "            jam_tags.update(json.load(f))\n",
    "    except Exception as e:\n",
    "        print(e)\n",
    "        continue\n",
    "    data_dict = np.load(jam_embeddings_dir / f\"embeddings_{i:02d}.npy\", allow_pickle=True)\n",
    "    jam_embeddings.update(data_dict.item())\n",
    "    data_dict = np.load(jam_embeddings_dir / f\"tag_scores_{i:02d}.npy\", allow_pickle=True)\n",
    "    jam_scores.update(data_dict.item())\n",
    "\n",
    "for k, v in jam_scores.items():\n",
    "    jam_pred_tags[k] = get_top_tags(v, k=3, threshold=.3)\n",
    "\n",
    "pred_tag_counts = np.array([len(v) for v in jam_pred_tags.values()])\n",
    "print(f\"avg number of pred tags = {(pred_tag_counts).mean()}, fraction of samples with 0 pred tags = {(pred_tag_counts == 0).mean()}\")"
   ]
  },
  {
   "cell_type": "code",
   "execution_count": 13,
   "id": "00172235-5771-4751-b92f-95f48a4781ed",
   "metadata": {
    "execution": {
     "iopub.execute_input": "2023-03-08T13:00:55.202433Z",
     "iopub.status.busy": "2023-03-08T13:00:55.201974Z",
     "iopub.status.idle": "2023-03-08T13:00:55.239977Z",
     "shell.execute_reply": "2023-03-08T13:00:55.238931Z",
     "shell.execute_reply.started": "2023-03-08T13:00:55.202413Z"
    }
   },
   "outputs": [
    {
     "name": "stdout",
     "output_type": "stream",
     "text": [
      "avg number of jamendo tags = 4.659095552047543, fraction of samples with 0 jamendo tags = 0.0\n"
     ]
    }
   ],
   "source": [
    "pred_tag_counts = np.array([len(v) for v in jam_tags.values()])\n",
    "print(f'avg number of jamendo tags = {(pred_tag_counts).mean()}, fraction of samples with 0 jamendo tags = {(pred_tag_counts==0).mean()}')"
   ]
  },
  {
   "cell_type": "code",
   "execution_count": 14,
   "id": "a498d2eb-0ef5-4c39-9141-d02df4091f18",
   "metadata": {
    "execution": {
     "iopub.execute_input": "2023-03-08T13:00:55.241112Z",
     "iopub.status.busy": "2023-03-08T13:00:55.240874Z",
     "iopub.status.idle": "2023-03-08T13:00:55.247444Z",
     "shell.execute_reply": "2023-03-08T13:00:55.246827Z",
     "shell.execute_reply.started": "2023-03-08T13:00:55.241093Z"
    }
   },
   "outputs": [],
   "source": [
    "class JamendoTagDataset(Dataset):\n",
    "    def __init__(self, key_subset, jam_tags, jam_pred_tags, jam_embeddings, shuffle_order):\n",
    "        \n",
    "        self.keys = key_subset\n",
    "        self.jam_tags = jam_tags\n",
    "        self.jam_pred_tags = jam_pred_tags\n",
    "        self.jam_embeddings = jam_embeddings\n",
    "        self.shuffle_order = shuffle_order\n",
    "\n",
    "    def __len__(self):\n",
    "        return len(self.keys)\n",
    "\n",
    "    def __getitem__(self, idx):\n",
    "        id = self.keys[idx]\n",
    "        \n",
    "        #tags = self.jam_tags[id]\n",
    "        tags = list(set(self.jam_tags[id] + self.jam_pred_tags[id]))\n",
    "        categories = defaultdict(set)\n",
    "        for t in tags:\n",
    "            assert '---' in t\n",
    "            categories[t[:t.find('---')]].add(t[t.find('---')+3:])\n",
    "            \n",
    "        result = []\n",
    "        for k in sorted(categories.keys()):\n",
    "            cat_tags = list(categories[k])\n",
    "            \n",
    "            if self.shuffle_order:\n",
    "                ts = random.sample(cat_tags, len(cat_tags))\n",
    "            else:\n",
    "                ts = sorted(cat_tags)\n",
    "            result.append(k + ': ' + ', '.join(ts))\n",
    "        tags_cap = '; '.join(result)\n",
    "        \n",
    "        emb = self.jam_embeddings[id]\n",
    "        assert emb.shape == (2, 256)\n",
    "        emb = (emb[0]+emb[1])/2\n",
    "        \n",
    "        return tags_cap, torch.from_numpy(emb).to(device)"
   ]
  },
  {
   "cell_type": "markdown",
   "id": "616b24d1-b6a9-4b6b-9406-ce337a49e624",
   "metadata": {},
   "source": [
    "# Select dataset"
   ]
  },
  {
   "cell_type": "code",
   "execution_count": 15,
   "id": "d0c18681-2a4f-41aa-b0ec-8d77a6880cf4",
   "metadata": {
    "execution": {
     "iopub.execute_input": "2023-03-08T13:00:55.248229Z",
     "iopub.status.busy": "2023-03-08T13:00:55.248062Z",
     "iopub.status.idle": "2023-03-08T13:00:55.551602Z",
     "shell.execute_reply": "2023-03-08T13:00:55.550968Z",
     "shell.execute_reply.started": "2023-03-08T13:00:55.248213Z"
    }
   },
   "outputs": [],
   "source": [
    "use_jam_tag_dataset = True\n",
    "\n",
    "if use_jam_tag_dataset:\n",
    "    train_frac = 0.9\n",
    "    \n",
    "    all_keys = sorted(jam_tags.keys())\n",
    "    keys_with_many_tags = [k for k, v in jam_tags.items() if len(v)>3]\n",
    "    all_keys = keys_with_many_tags # USE ONLY SONGS WITH MORE THAN 3 TAGS\n",
    "    \n",
    "    song_ids = list(set([x.split(\"_\")[0] for x in all_keys]))\n",
    "    train_song_ids = set(random.sample(song_ids, k=int(train_frac*len(song_ids))))\n",
    "    \n",
    "    train_keys = {k for k in all_keys if k.split(\"_\")[0] in train_song_ids}\n",
    "    test_keys = set(all_keys) - train_keys\n",
    "    \n",
    "    training_data = JamendoTagDataset(sorted(train_keys), jam_tags, jam_pred_tags, jam_embeddings, shuffle_order=False)\n",
    "    test_data = JamendoTagDataset(sorted(test_keys), jam_tags, jam_pred_tags, jam_embeddings, shuffle_order=False)\n",
    "else:\n",
    "    with open('musiccaps_split.json', 'r') as fp:\n",
    "        musiccaps_split = json.load(fp)\n",
    "\n",
    "    train_ytids, valid_ytids, test_ytids = musiccaps_split['train'], musiccaps_split['valid'], musiccaps_split['test']\n",
    "\n",
    "    train_ds = ds.filter(lambda x: x['ytid'] in train_ytids)\n",
    "    valid_ds = ds.filter(lambda x: x['ytid'] in valid_ytids)\n",
    "    test_ds = ds.filter(lambda x: x['ytid'] in test_ytids)\n",
    "\n",
    "    train_embeddings = {ytid: e for ytid, e in embeddings.items() if ytid in train_ytids}\n",
    "    valid_embeddings = {ytid: e for ytid, e in embeddings.items() if ytid in valid_ytids}\n",
    "    test_embeddings = {ytid: e for ytid, e in embeddings.items() if ytid in test_ytids}\n",
    "\n",
    "    training_data = CaptionEmbedding(muscaps_ds=train_ds, embeddings=train_embeddings)\n",
    "    valid_data = CaptionEmbedding(muscaps_ds=valid_ds, embeddings=valid_embeddings)\n",
    "    test_data = CaptionEmbedding(muscaps_ds=test_ds, embeddings=test_embeddings) "
   ]
  },
  {
   "cell_type": "markdown",
   "id": "34fa3d9b-6745-43f7-91b4-1860ca8ae81b",
   "metadata": {},
   "source": [
    "# Training"
   ]
  },
  {
   "cell_type": "markdown",
   "id": "c55718f8-fe01-463a-99ef-ab3dc223ed3f",
   "metadata": {},
   "source": [
    "### Tokenization\n",
    "\n",
    "target should be:\n",
    "\n",
    "`\"<bos> <pad> caption <eos> <mask...>\"` (first element is dropped in transformer.forward)\n",
    "\n",
    "input should be:\n",
    "\n",
    "`\"<bos> <music-emb> caption <eos> <pad...>\"` (last element is dropped in transformer.forward)\n",
    "\n",
    "where\n",
    "\n",
    "- `<bos>` = `<eos>` (for gpt2, see https://github.com/huggingface/transformers/issues/2026)\n",
    "- `<mask>` is -100 (masked in cross-entropy, see https://pytorch.org/docs/stable/generated/torch.nn.CrossEntropyLoss.html)\n",
    "- `<pad>` is arbitrary (but needs to be valid embedding index)\n",
    "- `<music-emb>` is the encoded music\n",
    "\n",
    "to use a `<bos>` token, prepend it in `tokenize()`, set `music_emb_ind = 1`, and update the caption slicing in `eval`"
   ]
  },
  {
   "cell_type": "code",
   "execution_count": 16,
   "id": "82925589-cbb3-4f35-9099-3eb29831a29e",
   "metadata": {
    "execution": {
     "iopub.execute_input": "2023-03-08T13:00:55.552820Z",
     "iopub.status.busy": "2023-03-08T13:00:55.552391Z",
     "iopub.status.idle": "2023-03-08T13:00:55.556726Z",
     "shell.execute_reply": "2023-03-08T13:00:55.556201Z",
     "shell.execute_reply.started": "2023-03-08T13:00:55.552802Z"
    }
   },
   "outputs": [],
   "source": [
    "class ResidualLinear(nn.Module):\n",
    "    \n",
    "    def __init__(self, dim):\n",
    "        super().__init__()\n",
    "        self.fc = nn.Linear(dim, dim)\n",
    "        \n",
    "    def forward(self, x):\n",
    "        return x + self.fc(torch.nn.functional.relu(x))\n",
    "    \n",
    "def B2T():\n",
    "    return nn.Sequential(\n",
    "        nn.Linear(256, 768),\n",
    "        ResidualLinear(768),\n",
    "        nn.Dropout(0.6),\n",
    "        ResidualLinear(768),\n",
    "        nn.Dropout(0.4),\n",
    "        ResidualLinear(768),\n",
    "    )"
   ]
  },
  {
   "cell_type": "code",
   "execution_count": 17,
   "id": "33e0d47c-b1e4-4837-bc6b-5f9b20d84ccc",
   "metadata": {
    "execution": {
     "iopub.execute_input": "2023-03-08T13:00:55.557563Z",
     "iopub.status.busy": "2023-03-08T13:00:55.557392Z",
     "iopub.status.idle": "2023-03-08T13:00:55.582634Z",
     "shell.execute_reply": "2023-03-08T13:00:55.582054Z",
     "shell.execute_reply.started": "2023-03-08T13:00:55.557547Z"
    }
   },
   "outputs": [],
   "source": [
    "def tokenize(captions_batch):\n",
    "    input_ids = tokenizer(captions_batch)[\"input_ids\"]\n",
    "\n",
    "    # wrap in eos and add placeholder for music embedding/mask\n",
    "    input_ids = [torch.tensor([placeholder_id] + x + [eos_id]) for x in input_ids]\n",
    "    # pad with -100, this index is masked in the cross-entropy loss\n",
    "    input_ids_target = torch.nn.utils.rnn.pad_sequence(\n",
    "        input_ids, batch_first=True, padding_value=mask_id\n",
    "    ).to(device)\n",
    "\n",
    "    # index -100 isn't valid as model input however, since the token embedding lookup fails,\n",
    "    # so we need a second version as model input, with -100 replaced with another token (shouldn't matter which)\n",
    "    input_ids = input_ids_target.clone()\n",
    "    input_ids[input_ids == mask_id] = eos_id\n",
    "\n",
    "    return input_ids, input_ids_target\n",
    "\n",
    "\n",
    "def transform_input_ids(music_embedding, input_ids, input_ids_target):\n",
    "    music_emb_ind = 0  # 1 if using <bos>, otherwise 0\n",
    "    assert (input_ids[:, music_emb_ind] == placeholder_id).all()\n",
    "    assert (input_ids_target[:, music_emb_ind] == placeholder_id).all()\n",
    "\n",
    "    input_ids_target[:, music_emb_ind] = eos_id  # mask_id\n",
    "    input_ids[:, music_emb_ind] = eos_id  # temp placeholder to make the embedding lookup work\n",
    "    inputs_embeds = model.transformer.wte(input_ids)\n",
    "\n",
    "    inputs_embeds[:, music_emb_ind] = b2t(music_embedding)  # insert music embedding\n",
    "\n",
    "    return inputs_embeds, input_ids_target\n",
    "\n",
    "\n",
    "def strip_eos(pred):\n",
    "    \"\"\" \n",
    "    remove eos tokens from predicted captions \n",
    "    discards everything after the first <eos> that isn't the very first token\n",
    "    (the hf can only skip eos but not stop at eos) \n",
    "    \"\"\"\n",
    "    pred = [p.removeprefix(\"<|endoftext|>\") for p in pred]\n",
    "    pred = [p[: p.find(\"<|endoftext|>\")] if \"<|endoftext|>\" in p else p for p in pred]\n",
    "    return pred\n",
    "\n",
    "\n",
    "def eval(caption_batch, embedding_batch, rm_eos=False, **kwargs):\n",
    "    model.eval()\n",
    "    input_ids, input_ids_target = tokenize(caption_batch)\n",
    "    inputs_embeds, _ = transform_input_ids(embedding_batch, input_ids, input_ids_target)\n",
    "\n",
    "    # only include <bos> (optional) and music_embedding, don't include true caption\n",
    "    inputs_embeds = inputs_embeds[:, :1]\n",
    "    output_ids = model.generate(inputs_embeds=inputs_embeds, **kwargs)\n",
    "    pred = tokenizer.batch_decode(output_ids, skip_special_tokens=False)\n",
    "    pred = [p.replace(\"\\n\", \"\").strip() for p in pred]\n",
    "    return strip_eos(pred) if rm_eos else pred"
   ]
  },
  {
   "cell_type": "code",
   "execution_count": 18,
   "id": "eafbbd8e-d913-4059-b28a-ee995e78de74",
   "metadata": {
    "execution": {
     "iopub.execute_input": "2023-03-08T13:00:55.583542Z",
     "iopub.status.busy": "2023-03-08T13:00:55.583361Z",
     "iopub.status.idle": "2023-03-08T13:00:55.588500Z",
     "shell.execute_reply": "2023-03-08T13:00:55.588051Z",
     "shell.execute_reply.started": "2023-03-08T13:00:55.583526Z"
    }
   },
   "outputs": [],
   "source": [
    "def update_step(inputs_embeds, input_ids_target, apply_grad):\n",
    "    model.train()\n",
    "    loss = model.forward(inputs_embeds=inputs_embeds, labels=input_ids_target).loss\n",
    "    loss.backward()\n",
    "    \n",
    "    if apply_grad:\n",
    "        opt.step()\n",
    "        opt.zero_grad()\n",
    "    \n",
    "    return loss.item()\n",
    "\n",
    "def eval_step(string_info=\"\"):\n",
    "    \n",
    "    caption_batch, embedding_batch = next(iter(eval_train_dataloader))\n",
    "    pred = eval(caption_batch, embedding_batch, **generation_params)\n",
    "    printr('[green bold]TRAIN TRUE: ' + caption_batch[0])\n",
    "    printr('[yellow]TRAIN PRED: ' + pred[0])\n",
    "    wlog('TRAIN TRUE: ' + caption_batch[0])\n",
    "    wlog('TRAIN PRED: ' + pred[0])\n",
    "    caption_batch, embedding_batch = next(iter(eval_test_dataloader))\n",
    "    pred = eval(caption_batch, embedding_batch, **generation_params)\n",
    "    printr('[green bold]TEST TRUE: ' + caption_batch[0])\n",
    "    printr('[yellow]TEST PRED: ' + pred[0])\n",
    "    wlog('TEST TRUE: ' + caption_batch[0])\n",
    "    wlog('TEST PRED: ' + pred[0] +'\\n')\n",
    "    print()"
   ]
  },
  {
   "cell_type": "code",
   "execution_count": 19,
   "id": "23c6b337-a156-4125-80fe-27229603dd46",
   "metadata": {
    "execution": {
     "iopub.execute_input": "2023-03-08T13:00:55.589337Z",
     "iopub.status.busy": "2023-03-08T13:00:55.589166Z",
     "iopub.status.idle": "2023-03-08T13:00:59.872228Z",
     "shell.execute_reply": "2023-03-08T13:00:59.871619Z",
     "shell.execute_reply.started": "2023-03-08T13:00:55.589321Z"
    }
   },
   "outputs": [
    {
     "data": {
      "text/plain": [
       "'small_tags_1e-05_1_0.0003'"
      ]
     },
     "execution_count": 19,
     "metadata": {},
     "output_type": "execute_result"
    }
   ],
   "source": [
    "model_name = 'gpt2' # gpt2, gpt2-medium, gpt2-large, gpt2-xl\n",
    "tokenizer = AutoTokenizer.from_pretrained(model_name)\n",
    "model = AutoModelForCausalLM.from_pretrained(model_name).to(device)\n",
    "model.config.is_decoder = True # not sure if necessary\n",
    "\n",
    "mask_id = -100 # don't change, this is fixed in torch cross-entropy loss!\n",
    "eos_id = tokenizer.eos_token_id\n",
    "placeholder_id = -200\n",
    "b2t = B2T().cuda()\n",
    "b2t_lr = 3e-4\n",
    "\n",
    "opt = torch.optim.AdamW([\n",
    "    # b2t needs to be the first parameter group\n",
    "    {'params': b2t.parameters(), 'lr': b2t_lr},\n",
    "    \n",
    "    # disable AdamW weight decay for gpt2 layer finetuning\n",
    "    {'params': model.transformer.h[1].parameters(), 'lr': 0, 'weight_decay': 0},\n",
    "    {'params': model.transformer.h[2].parameters(), 'lr': 0, 'weight_decay': 0},\n",
    "])\n",
    "\n",
    "\n",
    "gpt2_finetune_lr = 1e-5\n",
    "batch_size = 32\n",
    "num_epochs = 5\n",
    "epoch = 0\n",
    "gradient_acc_fact = 4\n",
    "gpt2_finetune_start_epoch = 1\n",
    "load_pretrain = False\n",
    "\n",
    "generation_params = dict(\n",
    "    max_new_tokens=64,\n",
    "    num_beams=4,\n",
    "    do_sample=True,\n",
    "    temperature=1.0,\n",
    "    bos_token_id=eos_id,\n",
    "    eos_token_id=eos_id,\n",
    "    pad_token_id=mask_id,\n",
    "    early_stopping=True,\n",
    "    rm_eos=True,\n",
    ")\n",
    "\n",
    "losses = []\n",
    "train_dataloader = DataLoader(training_data, batch_size, shuffle=True)\n",
    "eval_train_dataloader = DataLoader(training_data, 1, shuffle=True)\n",
    "eval_test_dataloader = DataLoader(test_data, 1, shuffle=True)\n",
    "\n",
    "checkpoint_dir = Path('checkpoints')\n",
    "checkpoint_dir.mkdir(exist_ok=True)\n",
    "\n",
    "model_name_info = \"small\" if model_name == 'gpt2' else model_name\n",
    "pretraining_info = \"tags\" if use_jam_tag_dataset else (\"yes\" if load_pretrain else \"no\")\n",
    "string_info = f\"{model_name_info}_{pretraining_info}_{gpt2_finetune_lr}_{gpt2_finetune_start_epoch}_{b2t_lr}\"\n",
    "\n",
    "def wlog(s):\n",
    "    f = open(f\"logs_{string_info}.txt\",'a')\n",
    "    f.write(s+\"\\n\")\n",
    "    f.close()\n",
    "\n",
    "string_info"
   ]
  },
  {
   "cell_type": "code",
   "execution_count": null,
   "id": "12bb04ec-e6a7-4afd-afaa-c1e15df0ed5a",
   "metadata": {
    "tags": []
   },
   "outputs": [],
   "source": [
    "for epoch in tqdm(range(epoch, num_epochs)):\n",
    "    wlog(f\"\\nEpoch {epoch}\")\n",
    "\n",
    "    torch.save({\n",
    "        \"model\": model.state_dict(), \n",
    "        \"b2t\": b2t.state_dict(), \n",
    "        \"opt\": opt\n",
    "    }, checkpoint_dir / f\"chkp_{string_info}.pt\")\n",
    "    #}, checkpoint_dir / f\"chkp_{epoch}.pt\")\n",
    "\n",
    "    if epoch == gpt2_finetune_start_epoch:\n",
    "        print(\"Started finetuning gpt2\")\n",
    "        wlog(\"Started finetuning gpt2\")\n",
    "        torch.save({\n",
    "        \"model\": model.state_dict(), \n",
    "        \"b2t\": b2t.state_dict(), \n",
    "        \"opt\": opt\n",
    "        }, checkpoint_dir / f\"chkp_{string_info}.pt\")\n",
    "        for pg in opt.param_groups[1:]:\n",
    "            pg[\"lr\"] = gpt2_finetune_lr\n",
    "\n",
    "    for step, (caption_batch, embedding_batch) in enumerate(tqdm(train_dataloader)):\n",
    "        # tokenize and prepare inputs for forward\n",
    "        input_ids, input_ids_target = tokenize(list(caption_batch))\n",
    "        inputs_embeds, input_ids_target = transform_input_ids(\n",
    "            embedding_batch, input_ids, input_ids_target\n",
    "        )\n",
    "\n",
    "        apply_grad_cond = step % gradient_acc_fact == 0\n",
    "        losses.append(\n",
    "            update_step(inputs_embeds, input_ids_target, apply_grad=apply_grad_cond)\n",
    "        )\n",
    "\n",
    "        if step % 1000 == 0:\n",
    "            eval_step(string_info=string_info)\n",
    "            wlog(f\"Loss {np.mean(losses[-1000:])}\\n\")\n",
    "            plt.plot(losses)\n",
    "            plt.savefig(f\"plot_{string_info}.png\")\n",
    "            plt.show()"
   ]
  },
  {
   "cell_type": "markdown",
   "id": "e7c89913-a442-40e1-b3a6-e6aa92219eb8",
   "metadata": {},
   "source": [
    "# Generate eval captions"
   ]
  },
  {
   "cell_type": "code",
   "execution_count": null,
   "id": "b3eea662-6dd1-4e3f-ab68-5adef14597d2",
   "metadata": {
    "tags": []
   },
   "outputs": [],
   "source": [
    "eval_true_captions = []\n",
    "eval_pred_captions = []\n",
    "\n",
    "for j in range(1000):\n",
    "    # load epoch checkpoint\n",
    "    data_dict = torch.load(f'./checkpoints/chkp_{j}.pt')\n",
    "    model.load_state_dict(data_dict['model'])\n",
    "    b2t.load_state_dict(data_dict['b2t'])\n",
    "\n",
    "    # generate a bunch of captions with this checkpoint\n",
    "    # for some reason hf generate() breaks atm when using batched captions, idk why\n",
    "    true, preds = [], []\n",
    "    for i, (caption_batch, embedding_batch) in enumerate(tqdm(eval_test_dataloader)):\n",
    "        pred = eval(caption_batch, embedding_batch, **generation_params_hf)\n",
    "        true.append(caption_batch[0])\n",
    "        preds.append(pred[0])\n",
    "        if i >= 300:\n",
    "            break\n",
    "        \n",
    "    eval_true_captions.append(true)\n",
    "    eval_pred_captions.append(preds)"
   ]
  },
  {
   "cell_type": "code",
   "execution_count": null,
   "id": "29f8eef5-c556-431a-b879-f844bb9e686f",
   "metadata": {
    "execution": {
     "iopub.status.busy": "2023-03-08T12:59:49.276932Z",
     "iopub.status.idle": "2023-03-08T12:59:49.277142Z"
    }
   },
   "outputs": [],
   "source": [
    "json.dump(dict(\n",
    "    eval_true_captions=eval_true_captions,\n",
    "    eval_pred_captions=eval_pred_captions\n",
    "), open('preds.json', 'w'))"
   ]
  },
  {
   "cell_type": "code",
   "execution_count": null,
   "id": "c5364d2e-c4e1-44a6-87f5-7048b8f94a29",
   "metadata": {
    "execution": {
     "iopub.status.busy": "2023-03-08T12:59:49.278331Z",
     "iopub.status.idle": "2023-03-08T12:59:49.278522Z"
    }
   },
   "outputs": [],
   "source": [
    "import evaluate\n",
    "google_bleu = evaluate.load(\"google_bleu\")\n",
    "\n",
    "gleu = []\n",
    "for p, t in zip(eval_pred_captions, eval_true_captions):\n",
    "    gleu.append(google_bleu.compute(predictions=p, references=t)['google_bleu'])\n",
    "    \n",
    "plt.plot(gleu)"
   ]
  }
 ],
 "metadata": {
  "kernelspec": {
   "display_name": "Python 3 (ipykernel)",
   "language": "python",
   "name": "python3"
  },
  "language_info": {
   "codemirror_mode": {
    "name": "ipython",
    "version": 3
   },
   "file_extension": ".py",
   "mimetype": "text/x-python",
   "name": "python",
   "nbconvert_exporter": "python",
   "pygments_lexer": "ipython3",
   "version": "3.9.16"
  }
 },
 "nbformat": 4,
 "nbformat_minor": 5
}
