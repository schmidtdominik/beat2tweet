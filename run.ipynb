{
 "cells": [
  {
   "cell_type": "code",
   "execution_count": 1,
   "id": "98dc5baa-2ced-4d41-abb9-31509c97191e",
   "metadata": {},
   "outputs": [],
   "source": [
    "from musiccaps import load_musiccaps"
   ]
  },
  {
   "cell_type": "code",
   "execution_count": 2,
   "id": "75c6c429-9d40-46d0-aeb2-559129c60104",
   "metadata": {
    "collapsed": true,
    "jupyter": {
     "outputs_hidden": true
    },
    "tags": []
   },
   "outputs": [
    {
     "name": "stderr",
     "output_type": "stream",
     "text": [
      "Using custom data configuration google--MusicCaps-7925612b943f961b\n",
      "Found cached dataset csv (/home/dominik/.cache/huggingface/datasets/google___csv/google--MusicCaps-7925612b943f961b/0.0.0/6b34fb8fcf56f7c8ba51dc895bfa2bfbe43546f190a60fcf74bb5e8afdcc2317)\n"
     ]
    },
    {
     "name": "stdout",
     "output_type": "stream",
     "text": [
      "                "
     ]
    },
    {
     "data": {
      "application/vnd.jupyter.widget-view+json": {
       "model_id": "c5a6e03e28594bccb48752d187729594",
       "version_major": 2,
       "version_minor": 0
      },
      "text/plain": [
       "#1:   0%|          | 0/690 [00:00<?, ?ex/s]"
      ]
     },
     "metadata": {},
     "output_type": "display_data"
    },
    {
     "data": {
      "application/vnd.jupyter.widget-view+json": {
       "model_id": "869c4f3bb8cb4514954a72c958b08e0d",
       "version_major": 2,
       "version_minor": 0
      },
      "text/plain": [
       "#0:   0%|          | 0/691 [00:00<?, ?ex/s]"
      ]
     },
     "metadata": {},
     "output_type": "display_data"
    },
    {
     "data": {
      "application/vnd.jupyter.widget-view+json": {
       "model_id": "bd916991a34e437db8870194dd79d24c",
       "version_major": 2,
       "version_minor": 0
      },
      "text/plain": [
       "#2:   0%|          | 0/690 [00:00<?, ?ex/s]"
      ]
     },
     "metadata": {},
     "output_type": "display_data"
    },
    {
     "data": {
      "application/vnd.jupyter.widget-view+json": {
       "model_id": "cbce112bff554138999556b7e6c246ca",
       "version_major": 2,
       "version_minor": 0
      },
      "text/plain": [
       "#3:   0%|          | 0/690 [00:00<?, ?ex/s]"
      ]
     },
     "metadata": {},
     "output_type": "display_data"
    },
    {
     "data": {
      "application/vnd.jupyter.widget-view+json": {
       "model_id": "fed30deb717549f1b90efb7c8ca36e64",
       "version_major": 2,
       "version_minor": 0
      },
      "text/plain": [
       "#4:   0%|          | 0/690 [00:00<?, ?ex/s]"
      ]
     },
     "metadata": {},
     "output_type": "display_data"
    },
    {
     "data": {
      "application/vnd.jupyter.widget-view+json": {
       "model_id": "df9870e49bf44840811a49a9a3259983",
       "version_major": 2,
       "version_minor": 0
      },
      "text/plain": [
       "#5:   0%|          | 0/690 [00:00<?, ?ex/s]"
      ]
     },
     "metadata": {},
     "output_type": "display_data"
    },
    {
     "data": {
      "application/vnd.jupyter.widget-view+json": {
       "model_id": "2ea1cc55fffc4a14b7441ad426629001",
       "version_major": 2,
       "version_minor": 0
      },
      "text/plain": [
       "#6:   0%|          | 0/690 [00:00<?, ?ex/s]"
      ]
     },
     "metadata": {},
     "output_type": "display_data"
    },
    {
     "data": {
      "application/vnd.jupyter.widget-view+json": {
       "model_id": "5786cd076d85493196d0e6bd81fd2dba",
       "version_major": 2,
       "version_minor": 0
      },
      "text/plain": [
       "#7:   0%|          | 0/690 [00:00<?, ?ex/s]"
      ]
     },
     "metadata": {},
     "output_type": "display_data"
    },
    {
     "name": "stdout",
     "output_type": "stream",
     "text": [
      "Command 'yt-dlp -x --audio-format wav -f bestaudio -o \"music_data/vQHKa69Mkzo.wav\" --download-sections \"*420-430\" --force-keyframes-at-cuts https://www.youtube.com/watch?v=vQHKa69Mkzo' returned non-zero exit status 2.\n",
      "b'Usage: yt-dlp [OPTIONS] URL [URL...]\\n\\nyt-dlp: error: no such option: --download-sections\\n'\n",
      "Command 'yt-dlp -x --audio-format wav -f bestaudio -o \"music_data/_VmCPixy9GQ.wav\" --download-sections \"*50-60\" --force-keyframes-at-cuts https://www.youtube.com/watch?v=_VmCPixy9GQ' returned non-zero exit status 2.\n",
      "b'Usage: yt-dlp [OPTIONS] URL [URL...]\\n\\nyt-dlp: error: no such option: --download-sections\\n'\n",
      "Command 'yt-dlp -x --audio-format wav -f bestaudio -o \"music_data/0J_2K1Gvruk.wav\" --download-sections \"*30-40\" --force-keyframes-at-cuts https://www.youtube.com/watch?v=0J_2K1Gvruk' returned non-zero exit status 2.\n",
      "Command 'yt-dlp -x --audio-format wav -f bestaudio -o \"music_data/HAHn_zB47ig.wav\" --download-sections \"*80-90\" --force-keyframes-at-cuts https://www.youtube.com/watch?v=HAHn_zB47ig' returned non-zero exit status 2.b'Usage: yt-dlp [OPTIONS] URL [URL...]\\n\\nyt-dlp: error: no such option: --download-sections\\n'\n",
      "Command 'yt-dlp -x --audio-format wav -f bestaudio -o \"music_data/NIcsJ8sEd0M.wav\" --download-sections \"*30-40\" --force-keyframes-at-cuts https://www.youtube.com/watch?v=NIcsJ8sEd0M' returned non-zero exit status 2.\n",
      "b'Usage: yt-dlp [OPTIONS] URL [URL...]\\n\\nyt-dlp: error: no such option: --download-sections\\n'\n",
      "\n",
      "b'Usage: yt-dlp [OPTIONS] URL [URL...]\\n\\nyt-dlp: error: no such option: --download-sections\\n'\n",
      "Command 'yt-dlp -x --audio-format wav -f bestaudio -o \"music_data/63rqIYPHvlc.wav\" --download-sections \"*30-40\" --force-keyframes-at-cuts https://www.youtube.com/watch?v=63rqIYPHvlc' returned non-zero exit status 2.Command 'yt-dlp -x --audio-format wav -f bestaudio -o \"music_data/lrk00BNiuD4.wav\" --download-sections \"*30-40\" --force-keyframes-at-cuts https://www.youtube.com/watch?v=lrk00BNiuD4' returned non-zero exit status 2.Command 'yt-dlp -x --audio-format wav -f bestaudio -o \"music_data/SLq-Co_szYo.wav\" --download-sections \"*30-40\" --force-keyframes-at-cuts https://www.youtube.com/watch?v=SLq-Co_szYo' returned non-zero exit status 2.\n",
      "\n",
      "\n",
      "b'Usage: yt-dlp [OPTIONS] URL [URL...]\\n\\nyt-dlp: error: no such option: --download-sections\\n'b'Usage: yt-dlp [OPTIONS] URL [URL...]\\n\\nyt-dlp: error: no such option: --download-sections\\n'b'Usage: yt-dlp [OPTIONS] URL [URL...]\\n\\nyt-dlp: error: no such option: --download-sections\\n'\n",
      "\n",
      "\n",
      "Command 'yt-dlp -x --audio-format wav -f bestaudio -o \"music_data/vQHKa69Mkzo.wav\" --download-sections \"*420-430\" --force-keyframes-at-cuts https://www.youtube.com/watch?v=vQHKa69Mkzo' returned non-zero exit status 2.\n",
      "b'Usage: yt-dlp [OPTIONS] URL [URL...]\\n\\nyt-dlp: error: no such option: --download-sections\\n'\n",
      "Command 'yt-dlp -x --audio-format wav -f bestaudio -o \"music_data/NIcsJ8sEd0M.wav\" --download-sections \"*30-40\" --force-keyframes-at-cuts https://www.youtube.com/watch?v=NIcsJ8sEd0M' returned non-zero exit status 2.\n",
      "Command 'yt-dlp -x --audio-format wav -f bestaudio -o \"music_data/_VmCPixy9GQ.wav\" --download-sections \"*50-60\" --force-keyframes-at-cuts https://www.youtube.com/watch?v=_VmCPixy9GQ' returned non-zero exit status 2.b'Usage: yt-dlp [OPTIONS] URL [URL...]\\n\\nyt-dlp: error: no such option: --download-sections\\n'\n",
      "\n",
      "Command 'yt-dlp -x --audio-format wav -f bestaudio -o \"music_data/0J_2K1Gvruk.wav\" --download-sections \"*30-40\" --force-keyframes-at-cuts https://www.youtube.com/watch?v=0J_2K1Gvruk' returned non-zero exit status 2.Command 'yt-dlp -x --audio-format wav -f bestaudio -o \"music_data/HAHn_zB47ig.wav\" --download-sections \"*80-90\" --force-keyframes-at-cuts https://www.youtube.com/watch?v=HAHn_zB47ig' returned non-zero exit status 2.b'Usage: yt-dlp [OPTIONS] URL [URL...]\\n\\nyt-dlp: error: no such option: --download-sections\\n'\n",
      "\n",
      "\n",
      "b'Usage: yt-dlp [OPTIONS] URL [URL...]\\n\\nyt-dlp: error: no such option: --download-sections\\n'b'Usage: yt-dlp [OPTIONS] URL [URL...]\\n\\nyt-dlp: error: no such option: --download-sections\\n'\n",
      "\n",
      "Command 'yt-dlp -x --audio-format wav -f bestaudio -o \"music_data/SLq-Co_szYo.wav\" --download-sections \"*30-40\" --force-keyframes-at-cuts https://www.youtube.com/watch?v=SLq-Co_szYo' returned non-zero exit status 2.Command 'yt-dlp -x --audio-format wav -f bestaudio -o \"music_data/63rqIYPHvlc.wav\" --download-sections \"*30-40\" --force-keyframes-at-cuts https://www.youtube.com/watch?v=63rqIYPHvlc' returned non-zero exit status 2.\n",
      "\n",
      "b'Usage: yt-dlp [OPTIONS] URL [URL...]\\n\\nyt-dlp: error: no such option: --download-sections\\n'b'Usage: yt-dlp [OPTIONS] URL [URL...]\\n\\nyt-dlp: error: no such option: --download-sections\\n'\n",
      "Command 'yt-dlp -x --audio-format wav -f bestaudio -o \"music_data/lrk00BNiuD4.wav\" --download-sections \"*30-40\" --force-keyframes-at-cuts https://www.youtube.com/watch?v=lrk00BNiuD4' returned non-zero exit status 2.\n",
      "\n",
      "b'Usage: yt-dlp [OPTIONS] URL [URL...]\\n\\nyt-dlp: error: no such option: --download-sections\\n'\n",
      "Command 'yt-dlp -x --audio-format wav -f bestaudio -o \"music_data/vQHKa69Mkzo.wav\" --download-sections \"*420-430\" --force-keyframes-at-cuts https://www.youtube.com/watch?v=vQHKa69Mkzo' returned non-zero exit status 2.\n",
      "b'Usage: yt-dlp [OPTIONS] URL [URL...]\\n\\nyt-dlp: error: no such option: --download-sections\\n'\n",
      "Command 'yt-dlp -x --audio-format wav -f bestaudio -o \"music_data/_VmCPixy9GQ.wav\" --download-sections \"*50-60\" --force-keyframes-at-cuts https://www.youtube.com/watch?v=_VmCPixy9GQ' returned non-zero exit status 2.\n",
      "b'Usage: yt-dlp [OPTIONS] URL [URL...]\\n\\nyt-dlp: error: no such option: --download-sections\\n'Command 'yt-dlp -x --audio-format wav -f bestaudio -o \"music_data/0J_2K1Gvruk.wav\" --download-sections \"*30-40\" --force-keyframes-at-cuts https://www.youtube.com/watch?v=0J_2K1Gvruk' returned non-zero exit status 2.\n",
      "\n",
      "b'Usage: yt-dlp [OPTIONS] URL [URL...]\\n\\nyt-dlp: error: no such option: --download-sections\\n'\n",
      "Command 'yt-dlp -x --audio-format wav -f bestaudio -o \"music_data/63rqIYPHvlc.wav\" --download-sections \"*30-40\" --force-keyframes-at-cuts https://www.youtube.com/watch?v=63rqIYPHvlc' returned non-zero exit status 2.\n",
      "b'Usage: yt-dlp [OPTIONS] URL [URL...]\\n\\nyt-dlp: error: no such option: --download-sections\\n'\n",
      "Command 'yt-dlp -x --audio-format wav -f bestaudio -o \"music_data/lrk00BNiuD4.wav\" --download-sections \"*30-40\" --force-keyframes-at-cuts https://www.youtube.com/watch?v=lrk00BNiuD4' returned non-zero exit status 2.\n",
      "Command 'yt-dlp -x --audio-format wav -f bestaudio -o \"music_data/NIcsJ8sEd0M.wav\" --download-sections \"*30-40\" --force-keyframes-at-cuts https://www.youtube.com/watch?v=NIcsJ8sEd0M' returned non-zero exit status 2.Command 'yt-dlp -x --audio-format wav -f bestaudio -o \"music_data/HAHn_zB47ig.wav\" --download-sections \"*80-90\" --force-keyframes-at-cuts https://www.youtube.com/watch?v=HAHn_zB47ig' returned non-zero exit status 2.Command 'yt-dlp -x --audio-format wav -f bestaudio -o \"music_data/SLq-Co_szYo.wav\" --download-sections \"*30-40\" --force-keyframes-at-cuts https://www.youtube.com/watch?v=SLq-Co_szYo' returned non-zero exit status 2.b'Usage: yt-dlp [OPTIONS] URL [URL...]\\n\\nyt-dlp: error: no such option: --download-sections\\n'\n",
      "\n",
      "\n",
      "\n",
      "b'Usage: yt-dlp [OPTIONS] URL [URL...]\\n\\nyt-dlp: error: no such option: --download-sections\\n'b'Usage: yt-dlp [OPTIONS] URL [URL...]\\n\\nyt-dlp: error: no such option: --download-sections\\n'b'Usage: yt-dlp [OPTIONS] URL [URL...]\\n\\nyt-dlp: error: no such option: --download-sections\\n'\n",
      "\n",
      "\n",
      "Command 'yt-dlp -x --audio-format wav -f bestaudio -o \"music_data/vQHKa69Mkzo.wav\" --download-sections \"*420-430\" --force-keyframes-at-cuts https://www.youtube.com/watch?v=vQHKa69Mkzo' returned non-zero exit status 2.\n",
      "b'Usage: yt-dlp [OPTIONS] URL [URL...]\\n\\nyt-dlp: error: no such option: --download-sections\\n'\n",
      "Command 'yt-dlp -x --audio-format wav -f bestaudio -o \"music_data/_VmCPixy9GQ.wav\" --download-sections \"*50-60\" --force-keyframes-at-cuts https://www.youtube.com/watch?v=_VmCPixy9GQ' returned non-zero exit status 2.\n",
      "b'Usage: yt-dlp [OPTIONS] URL [URL...]\\n\\nyt-dlp: error: no such option: --download-sections\\n'\n",
      "Command 'yt-dlp -x --audio-format wav -f bestaudio -o \"music_data/0J_2K1Gvruk.wav\" --download-sections \"*30-40\" --force-keyframes-at-cuts https://www.youtube.com/watch?v=0J_2K1Gvruk' returned non-zero exit status 2.\n",
      "b'Usage: yt-dlp [OPTIONS] URL [URL...]\\n\\nyt-dlp: error: no such option: --download-sections\\n'\n",
      "Command 'yt-dlp -x --audio-format wav -f bestaudio -o \"music_data/63rqIYPHvlc.wav\" --download-sections \"*30-40\" --force-keyframes-at-cuts https://www.youtube.com/watch?v=63rqIYPHvlc' returned non-zero exit status 2.\n",
      "b'Usage: yt-dlp [OPTIONS] URL [URL...]\\n\\nyt-dlp: error: no such option: --download-sections\\n'\n",
      "Command 'yt-dlp -x --audio-format wav -f bestaudio -o \"music_data/NIcsJ8sEd0M.wav\" --download-sections \"*30-40\" --force-keyframes-at-cuts https://www.youtube.com/watch?v=NIcsJ8sEd0M' returned non-zero exit status 2.\n",
      "Command 'yt-dlp -x --audio-format wav -f bestaudio -o \"music_data/HAHn_zB47ig.wav\" --download-sections \"*80-90\" --force-keyframes-at-cuts https://www.youtube.com/watch?v=HAHn_zB47ig' returned non-zero exit status 2.Command 'yt-dlp -x --audio-format wav -f bestaudio -o \"music_data/lrk00BNiuD4.wav\" --download-sections \"*30-40\" --force-keyframes-at-cuts https://www.youtube.com/watch?v=lrk00BNiuD4' returned non-zero exit status 2.b'Usage: yt-dlp [OPTIONS] URL [URL...]\\n\\nyt-dlp: error: no such option: --download-sections\\n'\n",
      "\n",
      "Command 'yt-dlp -x --audio-format wav -f bestaudio -o \"music_data/SLq-Co_szYo.wav\" --download-sections \"*30-40\" --force-keyframes-at-cuts https://www.youtube.com/watch?v=SLq-Co_szYo' returned non-zero exit status 2.\n",
      "\n",
      "b'Usage: yt-dlp [OPTIONS] URL [URL...]\\n\\nyt-dlp: error: no such option: --download-sections\\n'b'Usage: yt-dlp [OPTIONS] URL [URL...]\\n\\nyt-dlp: error: no such option: --download-sections\\n'\n",
      "b'Usage: yt-dlp [OPTIONS] URL [URL...]\\n\\nyt-dlp: error: no such option: --download-sections\\n'\n",
      "\n",
      "Command 'yt-dlp -x --audio-format wav -f bestaudio -o \"music_data/vQHKa69Mkzo.wav\" --download-sections \"*420-430\" --force-keyframes-at-cuts https://www.youtube.com/watch?v=vQHKa69Mkzo' returned non-zero exit status 2.\n",
      "b'Usage: yt-dlp [OPTIONS] URL [URL...]\\n\\nyt-dlp: error: no such option: --download-sections\\n'\n",
      "Command 'yt-dlp -x --audio-format wav -f bestaudio -o \"music_data/0J_2K1Gvruk.wav\" --download-sections \"*30-40\" --force-keyframes-at-cuts https://www.youtube.com/watch?v=0J_2K1Gvruk' returned non-zero exit status 2.\n",
      "b'Usage: yt-dlp [OPTIONS] URL [URL...]\\n\\nyt-dlp: error: no such option: --download-sections\\n'\n",
      "Command 'yt-dlp -x --audio-format wav -f bestaudio -o \"music_data/_VmCPixy9GQ.wav\" --download-sections \"*50-60\" --force-keyframes-at-cuts https://www.youtube.com/watch?v=_VmCPixy9GQ' returned non-zero exit status 2.\n",
      "b'Usage: yt-dlp [OPTIONS] URL [URL...]\\n\\nyt-dlp: error: no such option: --download-sections\\n'\n",
      "Command 'yt-dlp -x --audio-format wav -f bestaudio -o \"music_data/63rqIYPHvlc.wav\" --download-sections \"*30-40\" --force-keyframes-at-cuts https://www.youtube.com/watch?v=63rqIYPHvlc' returned non-zero exit status 2.\n",
      "Command 'yt-dlp -x --audio-format wav -f bestaudio -o \"music_data/SLq-Co_szYo.wav\" --download-sections \"*30-40\" --force-keyframes-at-cuts https://www.youtube.com/watch?v=SLq-Co_szYo' returned non-zero exit status 2.b'Usage: yt-dlp [OPTIONS] URL [URL...]\\n\\nyt-dlp: error: no such option: --download-sections\\n'\n",
      "\n",
      "b'Usage: yt-dlp [OPTIONS] URL [URL...]\\n\\nyt-dlp: error: no such option: --download-sections\\n'\n",
      "Command 'yt-dlp -x --audio-format wav -f bestaudio -o \"music_data/lrk00BNiuD4.wav\" --download-sections \"*30-40\" --force-keyframes-at-cuts https://www.youtube.com/watch?v=lrk00BNiuD4' returned non-zero exit status 2.Command 'yt-dlp -x --audio-format wav -f bestaudio -o \"music_data/HAHn_zB47ig.wav\" --download-sections \"*80-90\" --force-keyframes-at-cuts https://www.youtube.com/watch?v=HAHn_zB47ig' returned non-zero exit status 2.\n",
      "\n",
      "b'Usage: yt-dlp [OPTIONS] URL [URL...]\\n\\nyt-dlp: error: no such option: --download-sections\\n'Command 'yt-dlp -x --audio-format wav -f bestaudio -o \"music_data/NIcsJ8sEd0M.wav\" --download-sections \"*30-40\" --force-keyframes-at-cuts https://www.youtube.com/watch?v=NIcsJ8sEd0M' returned non-zero exit status 2.b'Usage: yt-dlp [OPTIONS] URL [URL...]\\n\\nyt-dlp: error: no such option: --download-sections\\n'\n",
      "\n",
      "\n",
      "b'Usage: yt-dlp [OPTIONS] URL [URL...]\\n\\nyt-dlp: error: no such option: --download-sections\\n'\n",
      "Command 'yt-dlp -x --audio-format wav -f bestaudio -o \"music_data/vVNWjq9byoQ.wav\" --download-sections \"*320-330\" --force-keyframes-at-cuts https://www.youtube.com/watch?v=vVNWjq9byoQ' returned non-zero exit status 2.\n",
      "b'Usage: yt-dlp [OPTIONS] URL [URL...]\\n\\nyt-dlp: error: no such option: --download-sections\\n'\n",
      "Command 'yt-dlp -x --audio-format wav -f bestaudio -o \"music_data/m-e3w2yZ6sM.wav\" --download-sections \"*30-40\" --force-keyframes-at-cuts https://www.youtube.com/watch?v=m-e3w2yZ6sM' returned non-zero exit status 2.\n",
      "b'Usage: yt-dlp [OPTIONS] URL [URL...]\\n\\nyt-dlp: error: no such option: --download-sections\\n'\n",
      "Command 'yt-dlp -x --audio-format wav -f bestaudio -o \"music_data/d6-bQMCz7j0.wav\" --download-sections \"*30-40\" --force-keyframes-at-cuts https://www.youtube.com/watch?v=d6-bQMCz7j0' returned non-zero exit status 2.\n",
      "b'Usage: yt-dlp [OPTIONS] URL [URL...]\\n\\nyt-dlp: error: no such option: --download-sections\\n'\n",
      "Command 'yt-dlp -x --audio-format wav -f bestaudio -o \"music_data/NXuB3ZEpM5U.wav\" --download-sections \"*30-40\" --force-keyframes-at-cuts https://www.youtube.com/watch?v=NXuB3ZEpM5U' returned non-zero exit status 2.\n",
      "b'Usage: yt-dlp [OPTIONS] URL [URL...]\\n\\nyt-dlp: error: no such option: --download-sections\\n'Command 'yt-dlp -x --audio-format wav -f bestaudio -o \"music_data/7B1OAtD_VIA.wav\" --download-sections \"*30-40\" --force-keyframes-at-cuts https://www.youtube.com/watch?v=7B1OAtD_VIA' returned non-zero exit status 2.\n",
      "\n",
      "b'Usage: yt-dlp [OPTIONS] URL [URL...]\\n\\nyt-dlp: error: no such option: --download-sections\\n'\n",
      "Command 'yt-dlp -x --audio-format wav -f bestaudio -o \"music_data/374R7te0ra0.wav\" --download-sections \"*30-40\" --force-keyframes-at-cuts https://www.youtube.com/watch?v=374R7te0ra0' returned non-zero exit status 2.\n",
      "b'Usage: yt-dlp [OPTIONS] URL [URL...]\\n\\nyt-dlp: error: no such option: --download-sections\\n'\n",
      "Command 'yt-dlp -x --audio-format wav -f bestaudio -o \"music_data/We0WIPYrtRE.wav\" --download-sections \"*30-40\" --force-keyframes-at-cuts https://www.youtube.com/watch?v=We0WIPYrtRE' returned non-zero exit status 2.\n",
      "b'Usage: yt-dlp [OPTIONS] URL [URL...]\\n\\nyt-dlp: error: no such option: --download-sections\\n'\n",
      "Command 'yt-dlp -x --audio-format wav -f bestaudio -o \"music_data/vVNWjq9byoQ.wav\" --download-sections \"*320-330\" --force-keyframes-at-cuts https://www.youtube.com/watch?v=vVNWjq9byoQ' returned non-zero exit status 2.\n",
      "b'Usage: yt-dlp [OPTIONS] URL [URL...]\\n\\nyt-dlp: error: no such option: --download-sections\\n'\n",
      "Command 'yt-dlp -x --audio-format wav -f bestaudio -o \"music_data/NXuB3ZEpM5U.wav\" --download-sections \"*30-40\" --force-keyframes-at-cuts https://www.youtube.com/watch?v=NXuB3ZEpM5U' returned non-zero exit status 2.\n",
      "b'Usage: yt-dlp [OPTIONS] URL [URL...]\\n\\nyt-dlp: error: no such option: --download-sections\\n'\n",
      "Command 'yt-dlp -x --audio-format wav -f bestaudio -o \"music_data/7B1OAtD_VIA.wav\" --download-sections \"*30-40\" --force-keyframes-at-cuts https://www.youtube.com/watch?v=7B1OAtD_VIA' returned non-zero exit status 2.\n",
      "b'Usage: yt-dlp [OPTIONS] URL [URL...]\\n\\nyt-dlp: error: no such option: --download-sections\\n'\n",
      "Command 'yt-dlp -x --audio-format wav -f bestaudio -o \"music_data/m-e3w2yZ6sM.wav\" --download-sections \"*30-40\" --force-keyframes-at-cuts https://www.youtube.com/watch?v=m-e3w2yZ6sM' returned non-zero exit status 2.\n",
      "b'Usage: yt-dlp [OPTIONS] URL [URL...]\\n\\nyt-dlp: error: no such option: --download-sections\\n'\n",
      "Command 'yt-dlp -x --audio-format wav -f bestaudio -o \"music_data/d6-bQMCz7j0.wav\" --download-sections \"*30-40\" --force-keyframes-at-cuts https://www.youtube.com/watch?v=d6-bQMCz7j0' returned non-zero exit status 2.\n",
      "b'Usage: yt-dlp [OPTIONS] URL [URL...]\\n\\nyt-dlp: error: no such option: --download-sections\\n'\n",
      "Command 'yt-dlp -x --audio-format wav -f bestaudio -o \"music_data/374R7te0ra0.wav\" --download-sections \"*30-40\" --force-keyframes-at-cuts https://www.youtube.com/watch?v=374R7te0ra0' returned non-zero exit status 2.\n",
      "b'Usage: yt-dlp [OPTIONS] URL [URL...]\\n\\nyt-dlp: error: no such option: --download-sections\\n'\n",
      "Command 'yt-dlp -x --audio-format wav -f bestaudio -o \"music_data/We0WIPYrtRE.wav\" --download-sections \"*30-40\" --force-keyframes-at-cuts https://www.youtube.com/watch?v=We0WIPYrtRE' returned non-zero exit status 2.\n",
      "b'Usage: yt-dlp [OPTIONS] URL [URL...]\\n\\nyt-dlp: error: no such option: --download-sections\\n'\n",
      "Command 'yt-dlp -x --audio-format wav -f bestaudio -o \"music_data/vVNWjq9byoQ.wav\" --download-sections \"*320-330\" --force-keyframes-at-cuts https://www.youtube.com/watch?v=vVNWjq9byoQ' returned non-zero exit status 2.\n",
      "b'Usage: yt-dlp [OPTIONS] URL [URL...]\\n\\nyt-dlp: error: no such option: --download-sections\\n'\n",
      "Command 'yt-dlp -x --audio-format wav -f bestaudio -o \"music_data/NXuB3ZEpM5U.wav\" --download-sections \"*30-40\" --force-keyframes-at-cuts https://www.youtube.com/watch?v=NXuB3ZEpM5U' returned non-zero exit status 2.\n",
      "b'Usage: yt-dlp [OPTIONS] URL [URL...]\\n\\nyt-dlp: error: no such option: --download-sections\\n'\n",
      "Command 'yt-dlp -x --audio-format wav -f bestaudio -o \"music_data/7B1OAtD_VIA.wav\" --download-sections \"*30-40\" --force-keyframes-at-cuts https://www.youtube.com/watch?v=7B1OAtD_VIA' returned non-zero exit status 2.\n",
      "b'Usage: yt-dlp [OPTIONS] URL [URL...]\\n\\nyt-dlp: error: no such option: --download-sections\\n'\n",
      "Command 'yt-dlp -x --audio-format wav -f bestaudio -o \"music_data/We0WIPYrtRE.wav\" --download-sections \"*30-40\" --force-keyframes-at-cuts https://www.youtube.com/watch?v=We0WIPYrtRE' returned non-zero exit status 2.Command 'yt-dlp -x --audio-format wav -f bestaudio -o \"music_data/m-e3w2yZ6sM.wav\" --download-sections \"*30-40\" --force-keyframes-at-cuts https://www.youtube.com/watch?v=m-e3w2yZ6sM' returned non-zero exit status 2.Command 'yt-dlp -x --audio-format wav -f bestaudio -o \"music_data/d6-bQMCz7j0.wav\" --download-sections \"*30-40\" --force-keyframes-at-cuts https://www.youtube.com/watch?v=d6-bQMCz7j0' returned non-zero exit status 2.\n",
      "\n",
      "\n",
      "b'Usage: yt-dlp [OPTIONS] URL [URL...]\\n\\nyt-dlp: error: no such option: --download-sections\\n'b'Usage: yt-dlp [OPTIONS] URL [URL...]\\n\\nyt-dlp: error: no such option: --download-sections\\n'b'Usage: yt-dlp [OPTIONS] URL [URL...]\\n\\nyt-dlp: error: no such option: --download-sections\\n'\n",
      "\n",
      "\n",
      "Command 'yt-dlp -x --audio-format wav -f bestaudio -o \"music_data/374R7te0ra0.wav\" --download-sections \"*30-40\" --force-keyframes-at-cuts https://www.youtube.com/watch?v=374R7te0ra0' returned non-zero exit status 2.\n",
      "b'Usage: yt-dlp [OPTIONS] URL [URL...]\\n\\nyt-dlp: error: no such option: --download-sections\\n'\n",
      "Command 'yt-dlp -x --audio-format wav -f bestaudio -o \"music_data/vVNWjq9byoQ.wav\" --download-sections \"*320-330\" --force-keyframes-at-cuts https://www.youtube.com/watch?v=vVNWjq9byoQ' returned non-zero exit status 2.\n",
      "b'Usage: yt-dlp [OPTIONS] URL [URL...]\\n\\nyt-dlp: error: no such option: --download-sections\\n'\n",
      "Command 'yt-dlp -x --audio-format wav -f bestaudio -o \"music_data/NXuB3ZEpM5U.wav\" --download-sections \"*30-40\" --force-keyframes-at-cuts https://www.youtube.com/watch?v=NXuB3ZEpM5U' returned non-zero exit status 2.\n",
      "b'Usage: yt-dlp [OPTIONS] URL [URL...]\\n\\nyt-dlp: error: no such option: --download-sections\\n'\n",
      "Command 'yt-dlp -x --audio-format wav -f bestaudio -o \"music_data/7B1OAtD_VIA.wav\" --download-sections \"*30-40\" --force-keyframes-at-cuts https://www.youtube.com/watch?v=7B1OAtD_VIA' returned non-zero exit status 2.Command 'yt-dlp -x --audio-format wav -f bestaudio -o \"music_data/m-e3w2yZ6sM.wav\" --download-sections \"*30-40\" --force-keyframes-at-cuts https://www.youtube.com/watch?v=m-e3w2yZ6sM' returned non-zero exit status 2.\n",
      "\n",
      "b'Usage: yt-dlp [OPTIONS] URL [URL...]\\n\\nyt-dlp: error: no such option: --download-sections\\n'b'Usage: yt-dlp [OPTIONS] URL [URL...]\\n\\nyt-dlp: error: no such option: --download-sections\\n'Command 'yt-dlp -x --audio-format wav -f bestaudio -o \"music_data/d6-bQMCz7j0.wav\" --download-sections \"*30-40\" --force-keyframes-at-cuts https://www.youtube.com/watch?v=d6-bQMCz7j0' returned non-zero exit status 2.\n",
      "\n",
      "\n",
      "b'Usage: yt-dlp [OPTIONS] URL [URL...]\\n\\nyt-dlp: error: no such option: --download-sections\\n'\n",
      "Command 'yt-dlp -x --audio-format wav -f bestaudio -o \"music_data/We0WIPYrtRE.wav\" --download-sections \"*30-40\" --force-keyframes-at-cuts https://www.youtube.com/watch?v=We0WIPYrtRE' returned non-zero exit status 2.\n",
      "b'Usage: yt-dlp [OPTIONS] URL [URL...]\\n\\nyt-dlp: error: no such option: --download-sections\\n'\n",
      "Command 'yt-dlp -x --audio-format wav -f bestaudio -o \"music_data/374R7te0ra0.wav\" --download-sections \"*30-40\" --force-keyframes-at-cuts https://www.youtube.com/watch?v=374R7te0ra0' returned non-zero exit status 2.\n",
      "b'Usage: yt-dlp [OPTIONS] URL [URL...]\\n\\nyt-dlp: error: no such option: --download-sections\\n'\n",
      "Command 'yt-dlp -x --audio-format wav -f bestaudio -o \"music_data/vVNWjq9byoQ.wav\" --download-sections \"*320-330\" --force-keyframes-at-cuts https://www.youtube.com/watch?v=vVNWjq9byoQ' returned non-zero exit status 2.\n",
      "b'Usage: yt-dlp [OPTIONS] URL [URL...]\\n\\nyt-dlp: error: no such option: --download-sections\\n'\n",
      "Command 'yt-dlp -x --audio-format wav -f bestaudio -o \"music_data/NXuB3ZEpM5U.wav\" --download-sections \"*30-40\" --force-keyframes-at-cuts https://www.youtube.com/watch?v=NXuB3ZEpM5U' returned non-zero exit status 2.\n",
      "b'Usage: yt-dlp [OPTIONS] URL [URL...]\\n\\nyt-dlp: error: no such option: --download-sections\\n'\n",
      "Command 'yt-dlp -x --audio-format wav -f bestaudio -o \"music_data/m-e3w2yZ6sM.wav\" --download-sections \"*30-40\" --force-keyframes-at-cuts https://www.youtube.com/watch?v=m-e3w2yZ6sM' returned non-zero exit status 2.\n",
      "b'Usage: yt-dlp [OPTIONS] URL [URL...]\\n\\nyt-dlp: error: no such option: --download-sections\\n'\n",
      "Command 'yt-dlp -x --audio-format wav -f bestaudio -o \"music_data/d6-bQMCz7j0.wav\" --download-sections \"*30-40\" --force-keyframes-at-cuts https://www.youtube.com/watch?v=d6-bQMCz7j0' returned non-zero exit status 2.\n",
      "b'Usage: yt-dlp [OPTIONS] URL [URL...]\\n\\nyt-dlp: error: no such option: --download-sections\\n'\n",
      "Command 'yt-dlp -x --audio-format wav -f bestaudio -o \"music_data/7B1OAtD_VIA.wav\" --download-sections \"*30-40\" --force-keyframes-at-cuts https://www.youtube.com/watch?v=7B1OAtD_VIA' returned non-zero exit status 2.\n",
      "b'Usage: yt-dlp [OPTIONS] URL [URL...]\\n\\nyt-dlp: error: no such option: --download-sections\\n'\n",
      "Command 'yt-dlp -x --audio-format wav -f bestaudio -o \"music_data/We0WIPYrtRE.wav\" --download-sections \"*30-40\" --force-keyframes-at-cuts https://www.youtube.com/watch?v=We0WIPYrtRE' returned non-zero exit status 2.\n",
      "b'Usage: yt-dlp [OPTIONS] URL [URL...]\\n\\nyt-dlp: error: no such option: --download-sections\\n'\n",
      "Command 'yt-dlp -x --audio-format wav -f bestaudio -o \"music_data/374R7te0ra0.wav\" --download-sections \"*30-40\" --force-keyframes-at-cuts https://www.youtube.com/watch?v=374R7te0ra0' returned non-zero exit status 2.\n",
      "b'Usage: yt-dlp [OPTIONS] URL [URL...]\\n\\nyt-dlp: error: no such option: --download-sections\\n'\n",
      "Command 'yt-dlp -x --audio-format wav -f bestaudio -o \"music_data/RQ0-sjpAPKU.wav\" --download-sections \"*30-40\" --force-keyframes-at-cuts https://www.youtube.com/watch?v=RQ0-sjpAPKU' returned non-zero exit status 2.\n",
      "b'Usage: yt-dlp [OPTIONS] URL [URL...]\\n\\nyt-dlp: error: no such option: --download-sections\\n'\n",
      "Command 'yt-dlp -x --audio-format wav -f bestaudio -o \"music_data/nTtxF9Wyw6o.wav\" --download-sections \"*30-40\" --force-keyframes-at-cuts https://www.youtube.com/watch?v=nTtxF9Wyw6o' returned non-zero exit status 2.\n",
      "b'Usage: yt-dlp [OPTIONS] URL [URL...]\\n\\nyt-dlp: error: no such option: --download-sections\\n'\n",
      "Command 'yt-dlp -x --audio-format wav -f bestaudio -o \"music_data/ed-1zAOr9PQ.wav\" --download-sections \"*390-400\" --force-keyframes-at-cuts https://www.youtube.com/watch?v=ed-1zAOr9PQ' returned non-zero exit status 2.\n",
      "b'Usage: yt-dlp [OPTIONS] URL [URL...]\\n\\nyt-dlp: error: no such option: --download-sections\\n'\n",
      "Command 'yt-dlp -x --audio-format wav -f bestaudio -o \"music_data/WvEtOYCShfM.wav\" --download-sections \"*60-70\" --force-keyframes-at-cuts https://www.youtube.com/watch?v=WvEtOYCShfM' returned non-zero exit status 2.\n",
      "b'Usage: yt-dlp [OPTIONS] URL [URL...]\\n\\nyt-dlp: error: no such option: --download-sections\\n'\n",
      "Command 'yt-dlp -x --audio-format wav -f bestaudio -o \"music_data/Ah_aYOGnQ_I.wav\" --download-sections \"*30-40\" --force-keyframes-at-cuts https://www.youtube.com/watch?v=Ah_aYOGnQ_I' returned non-zero exit status 2.\n",
      "b'Usage: yt-dlp [OPTIONS] URL [URL...]\\n\\nyt-dlp: error: no such option: --download-sections\\n'\n",
      "Command 'yt-dlp -x --audio-format wav -f bestaudio -o \"music_data/4X2aUZFZlzc.wav\" --download-sections \"*30-40\" --force-keyframes-at-cuts https://www.youtube.com/watch?v=4X2aUZFZlzc' returned non-zero exit status 2.\n",
      "b'Usage: yt-dlp [OPTIONS] URL [URL...]\\n\\nyt-dlp: error: no such option: --download-sections\\n'\n",
      "Command 'yt-dlp -x --audio-format wav -f bestaudio -o \"music_data/nTtxF9Wyw6o.wav\" --download-sections \"*30-40\" --force-keyframes-at-cuts https://www.youtube.com/watch?v=nTtxF9Wyw6o' returned non-zero exit status 2.\n",
      "Command 'yt-dlp -x --audio-format wav -f bestaudio -o \"music_data/RQ0-sjpAPKU.wav\" --download-sections \"*30-40\" --force-keyframes-at-cuts https://www.youtube.com/watch?v=RQ0-sjpAPKU' returned non-zero exit status 2.b'Usage: yt-dlp [OPTIONS] URL [URL...]\\n\\nyt-dlp: error: no such option: --download-sections\\n'\n",
      "b'Usage: yt-dlp [OPTIONS] URL [URL...]\\n\\nyt-dlp: error: no such option: --download-sections\\n'\n",
      "\n",
      "Command 'yt-dlp -x --audio-format wav -f bestaudio -o \"music_data/ed-1zAOr9PQ.wav\" --download-sections \"*390-400\" --force-keyframes-at-cuts https://www.youtube.com/watch?v=ed-1zAOr9PQ' returned non-zero exit status 2.Command 'yt-dlp -x --audio-format wav -f bestaudio -o \"music_data/WvEtOYCShfM.wav\" --download-sections \"*60-70\" --force-keyframes-at-cuts https://www.youtube.com/watch?v=WvEtOYCShfM' returned non-zero exit status 2.\n",
      "\n",
      "b'Usage: yt-dlp [OPTIONS] URL [URL...]\\n\\nyt-dlp: error: no such option: --download-sections\\n'b'Usage: yt-dlp [OPTIONS] URL [URL...]\\n\\nyt-dlp: error: no such option: --download-sections\\n'\n",
      "\n",
      "Command 'yt-dlp -x --audio-format wav -f bestaudio -o \"music_data/Ah_aYOGnQ_I.wav\" --download-sections \"*30-40\" --force-keyframes-at-cuts https://www.youtube.com/watch?v=Ah_aYOGnQ_I' returned non-zero exit status 2.\n",
      "b'Usage: yt-dlp [OPTIONS] URL [URL...]\\n\\nyt-dlp: error: no such option: --download-sections\\n'\n",
      "Command 'yt-dlp -x --audio-format wav -f bestaudio -o \"music_data/4X2aUZFZlzc.wav\" --download-sections \"*30-40\" --force-keyframes-at-cuts https://www.youtube.com/watch?v=4X2aUZFZlzc' returned non-zero exit status 2.\n",
      "b'Usage: yt-dlp [OPTIONS] URL [URL...]\\n\\nyt-dlp: error: no such option: --download-sections\\n'\n",
      "Command 'yt-dlp -x --audio-format wav -f bestaudio -o \"music_data/nTtxF9Wyw6o.wav\" --download-sections \"*30-40\" --force-keyframes-at-cuts https://www.youtube.com/watch?v=nTtxF9Wyw6o' returned non-zero exit status 2.\n",
      "b'Usage: yt-dlp [OPTIONS] URL [URL...]\\n\\nyt-dlp: error: no such option: --download-sections\\n'\n",
      "Command 'yt-dlp -x --audio-format wav -f bestaudio -o \"music_data/RQ0-sjpAPKU.wav\" --download-sections \"*30-40\" --force-keyframes-at-cuts https://www.youtube.com/watch?v=RQ0-sjpAPKU' returned non-zero exit status 2.\n",
      "b'Usage: yt-dlp [OPTIONS] URL [URL...]\\n\\nyt-dlp: error: no such option: --download-sections\\n'\n",
      "Command 'yt-dlp -x --audio-format wav -f bestaudio -o \"music_data/Ah_aYOGnQ_I.wav\" --download-sections \"*30-40\" --force-keyframes-at-cuts https://www.youtube.com/watch?v=Ah_aYOGnQ_I' returned non-zero exit status 2.\n",
      "b'Usage: yt-dlp [OPTIONS] URL [URL...]\\n\\nyt-dlp: error: no such option: --download-sections\\n'Command 'yt-dlp -x --audio-format wav -f bestaudio -o \"music_data/ed-1zAOr9PQ.wav\" --download-sections \"*390-400\" --force-keyframes-at-cuts https://www.youtube.com/watch?v=ed-1zAOr9PQ' returned non-zero exit status 2.\n",
      "\n",
      "b'Usage: yt-dlp [OPTIONS] URL [URL...]\\n\\nyt-dlp: error: no such option: --download-sections\\n'Command 'yt-dlp -x --audio-format wav -f bestaudio -o \"music_data/WvEtOYCShfM.wav\" --download-sections \"*60-70\" --force-keyframes-at-cuts https://www.youtube.com/watch?v=WvEtOYCShfM' returned non-zero exit status 2.\n",
      "\n",
      "b'Usage: yt-dlp [OPTIONS] URL [URL...]\\n\\nyt-dlp: error: no such option: --download-sections\\n'\n",
      "Command 'yt-dlp -x --audio-format wav -f bestaudio -o \"music_data/4X2aUZFZlzc.wav\" --download-sections \"*30-40\" --force-keyframes-at-cuts https://www.youtube.com/watch?v=4X2aUZFZlzc' returned non-zero exit status 2.\n",
      "b'Usage: yt-dlp [OPTIONS] URL [URL...]\\n\\nyt-dlp: error: no such option: --download-sections\\n'\n",
      "Command 'yt-dlp -x --audio-format wav -f bestaudio -o \"music_data/nTtxF9Wyw6o.wav\" --download-sections \"*30-40\" --force-keyframes-at-cuts https://www.youtube.com/watch?v=nTtxF9Wyw6o' returned non-zero exit status 2.\n",
      "b'Usage: yt-dlp [OPTIONS] URL [URL...]\\n\\nyt-dlp: error: no such option: --download-sections\\n'\n",
      "Command 'yt-dlp -x --audio-format wav -f bestaudio -o \"music_data/RQ0-sjpAPKU.wav\" --download-sections \"*30-40\" --force-keyframes-at-cuts https://www.youtube.com/watch?v=RQ0-sjpAPKU' returned non-zero exit status 2.\n",
      "b'Usage: yt-dlp [OPTIONS] URL [URL...]\\n\\nyt-dlp: error: no such option: --download-sections\\n'\n",
      "Command 'yt-dlp -x --audio-format wav -f bestaudio -o \"music_data/Ah_aYOGnQ_I.wav\" --download-sections \"*30-40\" --force-keyframes-at-cuts https://www.youtube.com/watch?v=Ah_aYOGnQ_I' returned non-zero exit status 2.\n",
      "b'Usage: yt-dlp [OPTIONS] URL [URL...]\\n\\nyt-dlp: error: no such option: --download-sections\\n'\n",
      "Command 'yt-dlp -x --audio-format wav -f bestaudio -o \"music_data/WvEtOYCShfM.wav\" --download-sections \"*60-70\" --force-keyframes-at-cuts https://www.youtube.com/watch?v=WvEtOYCShfM' returned non-zero exit status 2.\n",
      "b'Usage: yt-dlp [OPTIONS] URL [URL...]\\n\\nyt-dlp: error: no such option: --download-sections\\n'\n",
      "Command 'yt-dlp -x --audio-format wav -f bestaudio -o \"music_data/ed-1zAOr9PQ.wav\" --download-sections \"*390-400\" --force-keyframes-at-cuts https://www.youtube.com/watch?v=ed-1zAOr9PQ' returned non-zero exit status 2.\n",
      "b'Usage: yt-dlp [OPTIONS] URL [URL...]\\n\\nyt-dlp: error: no such option: --download-sections\\n'\n",
      "Command 'yt-dlp -x --audio-format wav -f bestaudio -o \"music_data/4X2aUZFZlzc.wav\" --download-sections \"*30-40\" --force-keyframes-at-cuts https://www.youtube.com/watch?v=4X2aUZFZlzc' returned non-zero exit status 2.\n",
      "b'Usage: yt-dlp [OPTIONS] URL [URL...]\\n\\nyt-dlp: error: no such option: --download-sections\\n'\n",
      "Command 'yt-dlp -x --audio-format wav -f bestaudio -o \"music_data/nTtxF9Wyw6o.wav\" --download-sections \"*30-40\" --force-keyframes-at-cuts https://www.youtube.com/watch?v=nTtxF9Wyw6o' returned non-zero exit status 2.\n",
      "b'Usage: yt-dlp [OPTIONS] URL [URL...]\\n\\nyt-dlp: error: no such option: --download-sections\\n'\n",
      "Command 'yt-dlp -x --audio-format wav -f bestaudio -o \"music_data/RQ0-sjpAPKU.wav\" --download-sections \"*30-40\" --force-keyframes-at-cuts https://www.youtube.com/watch?v=RQ0-sjpAPKU' returned non-zero exit status 2.\n",
      "b'Usage: yt-dlp [OPTIONS] URL [URL...]\\n\\nyt-dlp: error: no such option: --download-sections\\n'\n",
      "Command 'yt-dlp -x --audio-format wav -f bestaudio -o \"music_data/WvEtOYCShfM.wav\" --download-sections \"*60-70\" --force-keyframes-at-cuts https://www.youtube.com/watch?v=WvEtOYCShfM' returned non-zero exit status 2.\n",
      "b'Usage: yt-dlp [OPTIONS] URL [URL...]\\n\\nyt-dlp: error: no such option: --download-sections\\n'\n",
      "Command 'yt-dlp -x --audio-format wav -f bestaudio -o \"music_data/Ah_aYOGnQ_I.wav\" --download-sections \"*30-40\" --force-keyframes-at-cuts https://www.youtube.com/watch?v=Ah_aYOGnQ_I' returned non-zero exit status 2.\n",
      "b'Usage: yt-dlp [OPTIONS] URL [URL...]\\n\\nyt-dlp: error: no such option: --download-sections\\n'\n",
      "Command 'yt-dlp -x --audio-format wav -f bestaudio -o \"music_data/4X2aUZFZlzc.wav\" --download-sections \"*30-40\" --force-keyframes-at-cuts https://www.youtube.com/watch?v=4X2aUZFZlzc' returned non-zero exit status 2.\n",
      "b'Usage: yt-dlp [OPTIONS] URL [URL...]\\n\\nyt-dlp: error: no such option: --download-sections\\n'\n",
      "Command 'yt-dlp -x --audio-format wav -f bestaudio -o \"music_data/ed-1zAOr9PQ.wav\" --download-sections \"*390-400\" --force-keyframes-at-cuts https://www.youtube.com/watch?v=ed-1zAOr9PQ' returned non-zero exit status 2.\n",
      "b'Usage: yt-dlp [OPTIONS] URL [URL...]\\n\\nyt-dlp: error: no such option: --download-sections\\n'\n",
      "Command 'yt-dlp -x --audio-format wav -f bestaudio -o \"music_data/pHj8U-3RHc4.wav\" --download-sections \"*30-40\" --force-keyframes-at-cuts https://www.youtube.com/watch?v=pHj8U-3RHc4' returned non-zero exit status 2.\n",
      "b'Usage: yt-dlp [OPTIONS] URL [URL...]\\n\\nyt-dlp: error: no such option: --download-sections\\n'\n",
      "Command 'yt-dlp -x --audio-format wav -f bestaudio -o \"music_data/Akg1n9IWSrw.wav\" --download-sections \"*0-10\" --force-keyframes-at-cuts https://www.youtube.com/watch?v=Akg1n9IWSrw' returned non-zero exit status 2.\n",
      "b'Usage: yt-dlp [OPTIONS] URL [URL...]\\n\\nyt-dlp: error: no such option: --download-sections\\n'\n",
      "Command 'yt-dlp -x --audio-format wav -f bestaudio -o \"music_data/gdtw54I8soM.wav\" --download-sections \"*0-10\" --force-keyframes-at-cuts https://www.youtube.com/watch?v=gdtw54I8soM' returned non-zero exit status 2.\n",
      "b'Usage: yt-dlp [OPTIONS] URL [URL...]\\n\\nyt-dlp: error: no such option: --download-sections\\n'\n",
      "Command 'yt-dlp -x --audio-format wav -f bestaudio -o \"music_data/pHj8U-3RHc4.wav\" --download-sections \"*30-40\" --force-keyframes-at-cuts https://www.youtube.com/watch?v=pHj8U-3RHc4' returned non-zero exit status 2.\n",
      "b'Usage: yt-dlp [OPTIONS] URL [URL...]\\n\\nyt-dlp: error: no such option: --download-sections\\n'\n",
      "Command 'yt-dlp -x --audio-format wav -f bestaudio -o \"music_data/Akg1n9IWSrw.wav\" --download-sections \"*0-10\" --force-keyframes-at-cuts https://www.youtube.com/watch?v=Akg1n9IWSrw' returned non-zero exit status 2.\n",
      "b'Usage: yt-dlp [OPTIONS] URL [URL...]\\n\\nyt-dlp: error: no such option: --download-sections\\n'\n",
      "Command 'yt-dlp -x --audio-format wav -f bestaudio -o \"music_data/gdtw54I8soM.wav\" --download-sections \"*0-10\" --force-keyframes-at-cuts https://www.youtube.com/watch?v=gdtw54I8soM' returned non-zero exit status 2.\n",
      "b'Usage: yt-dlp [OPTIONS] URL [URL...]\\n\\nyt-dlp: error: no such option: --download-sections\\n'\n",
      "Command 'yt-dlp -x --audio-format wav -f bestaudio -o \"music_data/pHj8U-3RHc4.wav\" --download-sections \"*30-40\" --force-keyframes-at-cuts https://www.youtube.com/watch?v=pHj8U-3RHc4' returned non-zero exit status 2.\n",
      "b'Usage: yt-dlp [OPTIONS] URL [URL...]\\n\\nyt-dlp: error: no such option: --download-sections\\n'\n",
      "Command 'yt-dlp -x --audio-format wav -f bestaudio -o \"music_data/Akg1n9IWSrw.wav\" --download-sections \"*0-10\" --force-keyframes-at-cuts https://www.youtube.com/watch?v=Akg1n9IWSrw' returned non-zero exit status 2.\n",
      "b'Usage: yt-dlp [OPTIONS] URL [URL...]\\n\\nyt-dlp: error: no such option: --download-sections\\n'\n",
      "Command 'yt-dlp -x --audio-format wav -f bestaudio -o \"music_data/gdtw54I8soM.wav\" --download-sections \"*0-10\" --force-keyframes-at-cuts https://www.youtube.com/watch?v=gdtw54I8soM' returned non-zero exit status 2.\n",
      "b'Usage: yt-dlp [OPTIONS] URL [URL...]\\n\\nyt-dlp: error: no such option: --download-sections\\n'\n",
      "Command 'yt-dlp -x --audio-format wav -f bestaudio -o \"music_data/pHj8U-3RHc4.wav\" --download-sections \"*30-40\" --force-keyframes-at-cuts https://www.youtube.com/watch?v=pHj8U-3RHc4' returned non-zero exit status 2.\n",
      "b'Usage: yt-dlp [OPTIONS] URL [URL...]\\n\\nyt-dlp: error: no such option: --download-sections\\n'\n",
      "Command 'yt-dlp -x --audio-format wav -f bestaudio -o \"music_data/Akg1n9IWSrw.wav\" --download-sections \"*0-10\" --force-keyframes-at-cuts https://www.youtube.com/watch?v=Akg1n9IWSrw' returned non-zero exit status 2.\n",
      "b'Usage: yt-dlp [OPTIONS] URL [URL...]\\n\\nyt-dlp: error: no such option: --download-sections\\n'\n",
      "Command 'yt-dlp -x --audio-format wav -f bestaudio -o \"music_data/gdtw54I8soM.wav\" --download-sections \"*0-10\" --force-keyframes-at-cuts https://www.youtube.com/watch?v=gdtw54I8soM' returned non-zero exit status 2.\n",
      "b'Usage: yt-dlp [OPTIONS] URL [URL...]\\n\\nyt-dlp: error: no such option: --download-sections\\n'\n",
      "Command 'yt-dlp -x --audio-format wav -f bestaudio -o \"music_data/pHj8U-3RHc4.wav\" --download-sections \"*30-40\" --force-keyframes-at-cuts https://www.youtube.com/watch?v=pHj8U-3RHc4' returned non-zero exit status 2.\n",
      "b'Usage: yt-dlp [OPTIONS] URL [URL...]\\n\\nyt-dlp: error: no such option: --download-sections\\n'\n",
      "Command 'yt-dlp -x --audio-format wav -f bestaudio -o \"music_data/Akg1n9IWSrw.wav\" --download-sections \"*0-10\" --force-keyframes-at-cuts https://www.youtube.com/watch?v=Akg1n9IWSrw' returned non-zero exit status 2.\n",
      "b'Usage: yt-dlp [OPTIONS] URL [URL...]\\n\\nyt-dlp: error: no such option: --download-sections\\n'\n",
      "Command 'yt-dlp -x --audio-format wav -f bestaudio -o \"music_data/gdtw54I8soM.wav\" --download-sections \"*0-10\" --force-keyframes-at-cuts https://www.youtube.com/watch?v=gdtw54I8soM' returned non-zero exit status 2.\n",
      "b'Usage: yt-dlp [OPTIONS] URL [URL...]\\n\\nyt-dlp: error: no such option: --download-sections\\n'\n",
      "Command 'yt-dlp -x --audio-format wav -f bestaudio -o \"music_data/qc1DaM4kdO0.wav\" --download-sections \"*30-40\" --force-keyframes-at-cuts https://www.youtube.com/watch?v=qc1DaM4kdO0' returned non-zero exit status 2.\n",
      "b'Usage: yt-dlp [OPTIONS] URL [URL...]\\n\\nyt-dlp: error: no such option: --download-sections\\n'\n",
      "Command 'yt-dlp -x --audio-format wav -f bestaudio -o \"music_data/B7iRvj8y9aU.wav\" --download-sections \"*30-40\" --force-keyframes-at-cuts https://www.youtube.com/watch?v=B7iRvj8y9aU' returned non-zero exit status 2.\n",
      "b'Usage: yt-dlp [OPTIONS] URL [URL...]\\n\\nyt-dlp: error: no such option: --download-sections\\n'\n",
      "Command 'yt-dlp -x --audio-format wav -f bestaudio -o \"music_data/qc1DaM4kdO0.wav\" --download-sections \"*30-40\" --force-keyframes-at-cuts https://www.youtube.com/watch?v=qc1DaM4kdO0' returned non-zero exit status 2.\n",
      "b'Usage: yt-dlp [OPTIONS] URL [URL...]\\n\\nyt-dlp: error: no such option: --download-sections\\n'\n",
      "Command 'yt-dlp -x --audio-format wav -f bestaudio -o \"music_data/B7iRvj8y9aU.wav\" --download-sections \"*30-40\" --force-keyframes-at-cuts https://www.youtube.com/watch?v=B7iRvj8y9aU' returned non-zero exit status 2.\n",
      "b'Usage: yt-dlp [OPTIONS] URL [URL...]\\n\\nyt-dlp: error: no such option: --download-sections\\n'\n",
      "Command 'yt-dlp -x --audio-format wav -f bestaudio -o \"music_data/qc1DaM4kdO0.wav\" --download-sections \"*30-40\" --force-keyframes-at-cuts https://www.youtube.com/watch?v=qc1DaM4kdO0' returned non-zero exit status 2.\n",
      "b'Usage: yt-dlp [OPTIONS] URL [URL...]\\n\\nyt-dlp: error: no such option: --download-sections\\n'\n",
      "Command 'yt-dlp -x --audio-format wav -f bestaudio -o \"music_data/B7iRvj8y9aU.wav\" --download-sections \"*30-40\" --force-keyframes-at-cuts https://www.youtube.com/watch?v=B7iRvj8y9aU' returned non-zero exit status 2.\n",
      "b'Usage: yt-dlp [OPTIONS] URL [URL...]\\n\\nyt-dlp: error: no such option: --download-sections\\n'\n",
      "Command 'yt-dlp -x --audio-format wav -f bestaudio -o \"music_data/qc1DaM4kdO0.wav\" --download-sections \"*30-40\" --force-keyframes-at-cuts https://www.youtube.com/watch?v=qc1DaM4kdO0' returned non-zero exit status 2.\n",
      "b'Usage: yt-dlp [OPTIONS] URL [URL...]\\n\\nyt-dlp: error: no such option: --download-sections\\n'\n",
      "Command 'yt-dlp -x --audio-format wav -f bestaudio -o \"music_data/B7iRvj8y9aU.wav\" --download-sections \"*30-40\" --force-keyframes-at-cuts https://www.youtube.com/watch?v=B7iRvj8y9aU' returned non-zero exit status 2.\n",
      "b'Usage: yt-dlp [OPTIONS] URL [URL...]\\n\\nyt-dlp: error: no such option: --download-sections\\n'\n",
      "Command 'yt-dlp -x --audio-format wav -f bestaudio -o \"music_data/qc1DaM4kdO0.wav\" --download-sections \"*30-40\" --force-keyframes-at-cuts https://www.youtube.com/watch?v=qc1DaM4kdO0' returned non-zero exit status 2.\n",
      "b'Usage: yt-dlp [OPTIONS] URL [URL...]\\n\\nyt-dlp: error: no such option: --download-sections\\n'\n",
      "Command 'yt-dlp -x --audio-format wav -f bestaudio -o \"music_data/B7iRvj8y9aU.wav\" --download-sections \"*30-40\" --force-keyframes-at-cuts https://www.youtube.com/watch?v=B7iRvj8y9aU' returned non-zero exit status 2.\n",
      "b'Usage: yt-dlp [OPTIONS] URL [URL...]\\n\\nyt-dlp: error: no such option: --download-sections\\n'\n",
      "Command 'yt-dlp -x --audio-format wav -f bestaudio -o \"music_data/BrCW3BA8TIQ.wav\" --download-sections \"*30-40\" --force-keyframes-at-cuts https://www.youtube.com/watch?v=BrCW3BA8TIQ' returned non-zero exit status 2.\n",
      "b'Usage: yt-dlp [OPTIONS] URL [URL...]\\n\\nyt-dlp: error: no such option: --download-sections\\n'\n",
      "Command 'yt-dlp -x --audio-format wav -f bestaudio -o \"music_data/BrCW3BA8TIQ.wav\" --download-sections \"*30-40\" --force-keyframes-at-cuts https://www.youtube.com/watch?v=BrCW3BA8TIQ' returned non-zero exit status 2.\n",
      "b'Usage: yt-dlp [OPTIONS] URL [URL...]\\n\\nyt-dlp: error: no such option: --download-sections\\n'\n",
      "Command 'yt-dlp -x --audio-format wav -f bestaudio -o \"music_data/BrCW3BA8TIQ.wav\" --download-sections \"*30-40\" --force-keyframes-at-cuts https://www.youtube.com/watch?v=BrCW3BA8TIQ' returned non-zero exit status 2.\n",
      "b'Usage: yt-dlp [OPTIONS] URL [URL...]\\n\\nyt-dlp: error: no such option: --download-sections\\n'\n",
      "Command 'yt-dlp -x --audio-format wav -f bestaudio -o \"music_data/BrCW3BA8TIQ.wav\" --download-sections \"*30-40\" --force-keyframes-at-cuts https://www.youtube.com/watch?v=BrCW3BA8TIQ' returned non-zero exit status 2.\n",
      "b'Usage: yt-dlp [OPTIONS] URL [URL...]\\n\\nyt-dlp: error: no such option: --download-sections\\n'\n",
      "Command 'yt-dlp -x --audio-format wav -f bestaudio -o \"music_data/BrCW3BA8TIQ.wav\" --download-sections \"*30-40\" --force-keyframes-at-cuts https://www.youtube.com/watch?v=BrCW3BA8TIQ' returned non-zero exit status 2.\n",
      "b'Usage: yt-dlp [OPTIONS] URL [URL...]\\n\\nyt-dlp: error: no such option: --download-sections\\n'\n",
      "Command 'yt-dlp -x --audio-format wav -f bestaudio -o \"music_data/C7OIuhWSbjU.wav\" --download-sections \"*40-50\" --force-keyframes-at-cuts https://www.youtube.com/watch?v=C7OIuhWSbjU' returned non-zero exit status 2.\n",
      "b'Usage: yt-dlp [OPTIONS] URL [URL...]\\n\\nyt-dlp: error: no such option: --download-sections\\n'\n",
      "Command 'yt-dlp -x --audio-format wav -f bestaudio -o \"music_data/C7OIuhWSbjU.wav\" --download-sections \"*40-50\" --force-keyframes-at-cuts https://www.youtube.com/watch?v=C7OIuhWSbjU' returned non-zero exit status 2.\n",
      "b'Usage: yt-dlp [OPTIONS] URL [URL...]\\n\\nyt-dlp: error: no such option: --download-sections\\n'\n",
      "Command 'yt-dlp -x --audio-format wav -f bestaudio -o \"music_data/C7OIuhWSbjU.wav\" --download-sections \"*40-50\" --force-keyframes-at-cuts https://www.youtube.com/watch?v=C7OIuhWSbjU' returned non-zero exit status 2.\n",
      "b'Usage: yt-dlp [OPTIONS] URL [URL...]\\n\\nyt-dlp: error: no such option: --download-sections\\n'\n",
      "Command 'yt-dlp -x --audio-format wav -f bestaudio -o \"music_data/C7OIuhWSbjU.wav\" --download-sections \"*40-50\" --force-keyframes-at-cuts https://www.youtube.com/watch?v=C7OIuhWSbjU' returned non-zero exit status 2.\n",
      "b'Usage: yt-dlp [OPTIONS] URL [URL...]\\n\\nyt-dlp: error: no such option: --download-sections\\n'\n",
      "Command 'yt-dlp -x --audio-format wav -f bestaudio -o \"music_data/C7OIuhWSbjU.wav\" --download-sections \"*40-50\" --force-keyframes-at-cuts https://www.youtube.com/watch?v=C7OIuhWSbjU' returned non-zero exit status 2.\n",
      "b'Usage: yt-dlp [OPTIONS] URL [URL...]\\n\\nyt-dlp: error: no such option: --download-sections\\n'\n"
     ]
    }
   ],
   "source": [
    "ds = load_musiccaps(\n",
    "    './music_data',\n",
    "    sampling_rate=16000,\n",
    "    limit=None,\n",
    "    num_proc=8,\n",
    "    writer_batch_size=1000,\n",
    ")"
   ]
  }
 ],
 "metadata": {
  "kernelspec": {
   "display_name": "tp2",
   "language": "python",
   "name": "tp2"
  },
  "language_info": {
   "codemirror_mode": {
    "name": "ipython",
    "version": 3
   },
   "file_extension": ".py",
   "mimetype": "text/x-python",
   "name": "python",
   "nbconvert_exporter": "python",
   "pygments_lexer": "ipython3",
   "version": "3.9.15"
  }
 },
 "nbformat": 4,
 "nbformat_minor": 5
}
