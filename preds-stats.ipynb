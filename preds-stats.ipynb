{
 "cells": [
  {
   "cell_type": "markdown",
   "id": "d9f106bd-eec0-4ab2-a587-c07668c197ac",
   "metadata": {},
   "source": [
    "# Preds analysis"
   ]
  },
  {
   "cell_type": "code",
   "execution_count": 13,
   "id": "b7dec07c-f447-4c9a-868b-22e873c1b4e3",
   "metadata": {},
   "outputs": [],
   "source": [
    "import json\n",
    "import evaluate\n",
    "from collections import defaultdict, Counter\n",
    "from tqdm import tqdm as tqdm\n",
    "from musiccaps import load_musiccaps\n",
    "import string\n",
    "import numpy as np\n",
    "import random"
   ]
  },
  {
   "cell_type": "markdown",
   "id": "7ed7035f-1ca7-4913-b7b3-d4af47b89c0d",
   "metadata": {
    "tags": []
   },
   "source": [
    "## Helper functions"
   ]
  },
  {
   "cell_type": "code",
   "execution_count": 2,
   "id": "8953ddb0-d512-46c9-b6b8-cd53be484247",
   "metadata": {},
   "outputs": [
    {
     "name": "stderr",
     "output_type": "stream",
     "text": [
      "[nltk_data] Downloading package wordnet to /root/nltk_data...\n",
      "[nltk_data]   Package wordnet is already up-to-date!\n",
      "[nltk_data] Downloading package punkt to /root/nltk_data...\n",
      "[nltk_data]   Package punkt is already up-to-date!\n",
      "[nltk_data] Downloading package omw-1.4 to /root/nltk_data...\n",
      "[nltk_data]   Package omw-1.4 is already up-to-date!\n",
      "Using custom data configuration google--MusicCaps-bedc2a0fd7888f2f\n",
      "Reusing dataset csv (/root/.cache/huggingface/datasets/google___csv/google--MusicCaps-bedc2a0fd7888f2f/0.0.0/652c3096f041ee27b04d2232d41f10547a8fecda3e284a79a0ec4053c916ef7a)\n"
     ]
    }
   ],
   "source": [
    "meteor = evaluate.load('meteor')\n",
    "google_bleu = evaluate.load('google_bleu')\n",
    "\n",
    "ds = load_musiccaps(\n",
    "    \"./music_data\",\n",
    "    sampling_rate=16000,\n",
    "    limit=None,\n",
    "    num_proc=8,\n",
    "    writer_batch_size=1000,\n",
    "    return_without_audio=True,\n",
    ")\n",
    "\n",
    "def clean_text_for_aspect_metrics(caption):\n",
    "    table = str.maketrans('','', string.punctuation)\n",
    "    caption.replace(\"-\",\" \")\n",
    "    # split the sentences into words\n",
    "    desc = caption.split()\n",
    "    #converts to lower case\n",
    "    desc = [word.lower() for word in desc]\n",
    "    #remove punctuation from each token\n",
    "    desc = [word.translate(table) for word in desc]\n",
    "    #remove hanging 's and a \n",
    "    #desc = [word for word in desc if(len(word)>1)]\n",
    "    #remove tokens with numbers in them\n",
    "    #desc = [word for word in desc if(word.isalpha())]\n",
    "    #convert back to string\n",
    "    caption = ' '.join(desc)\n",
    "    return caption\n",
    "\n",
    "# get a list of music-related words to use for evaluation\n",
    "aspects = set()\n",
    "for x in ds:\n",
    "    aspect_str = x[\"aspect_list\"]\n",
    "    for t in \"[]\\\"'\":\n",
    "        aspect_str = aspect_str.replace(t, \"\")\n",
    "    aspects.update(aspect_str.split(\", \"))\n",
    "# clean aspects\n",
    "aspects = {clean_text_for_aspect_metrics(a) for a in aspects if len(a) > 2}\n",
    "    \n",
    "def wrap_in_space(s):\n",
    "    return ' ' + s + ' '\n",
    "    \n",
    "# filter\n",
    "all_captions = clean_text_for_aspect_metrics(' '.join(ds[i]['caption'] for i in range(len(ds))))\n",
    "aspect_counts = {a: all_captions.count(wrap_in_space(a)) for a in aspects}\n",
    "aspects = {a for a in aspects if aspect_counts[a] > 10}\n",
    "aspects -= {'the'}\n",
    "\n",
    "def compute_aspects_metric(true, pred):\n",
    "    true = wrap_in_space(clean_text_for_aspect_metrics(true))\n",
    "    pred = wrap_in_space(clean_text_for_aspect_metrics(pred))\n",
    "    \n",
    "    aspects_in_true = {a for a in aspects if wrap_in_space(a) in true}\n",
    "    aspects_in_pred = {a for a in aspects if wrap_in_space(a) in pred}\n",
    "    \n",
    "    #print(aspects_in_true)\n",
    "    #print(aspects_in_pred)\n",
    "    \n",
    "    precision = len(aspects_in_true&aspects_in_pred)/np.maximum(len(aspects_in_pred),1)\n",
    "    recall = len(aspects_in_true&aspects_in_pred)/np.maximum(len(aspects_in_true), 1)\n",
    "    \n",
    "    return precision, recall"
   ]
  },
  {
   "cell_type": "code",
   "execution_count": 27,
   "id": "4bd68b5d-078a-42f7-ae87-4aa6e9278621",
   "metadata": {},
   "outputs": [],
   "source": [
    "def print_stats(data_true, data_pred):\n",
    "\n",
    "    N = len(data_true)\n",
    "    \n",
    "    assert len(data_pred) == N\n",
    "\n",
    "    average_len_true, average_len_pred = 0, 0\n",
    "    word_count_true, word_count_pred = defaultdict(int), defaultdict(int)\n",
    "    low_quality_true, low_quality_pred = 0, 0\n",
    "    total_male, total_female = 0, 0\n",
    "    male_female_confound, female_male_confound  = 0, 0\n",
    "    max_score, min_score, max_id, min_id = 0, 2, 0, 0\n",
    "    f2w_true, f2w_pred = [], []\n",
    "    total_gleu_score, total_meteor_score = 0, 0\n",
    "    aspect_precision, aspect_recall = [], []\n",
    "\n",
    "    for i, (true, pred) in tqdm(enumerate(zip(data_true, data_pred))):\n",
    "\n",
    "        # vocabulary\n",
    "        sptrue, sppred = true.split(), pred.split()\n",
    "        for w in sptrue:\n",
    "            word_count_true[w] += 1\n",
    "        for w in sppred:\n",
    "            word_count_pred[w] += 1\n",
    "\n",
    "        f2w_true.append(\" \".join(sptrue[:2]))\n",
    "        f2w_pred.append(\" \".join(sppred[:2]))\n",
    "\n",
    "        # average length\n",
    "        average_len_true += (1./N)*len(true)\n",
    "        average_len_pred += (1./N)*len(pred)\n",
    "\n",
    "        # count captions that start with \"low quality recording\" \n",
    "        low_quality_true += (true[1:25]==\"he low quality recording\")\n",
    "        low_quality_pred += (pred[1:25]==\"he low quality recording\")\n",
    "\n",
    "        # male / female\n",
    "        male_in_true = any(\"male\"==word for word in sptrue)\n",
    "        female_in_true = any(\"female\"==word for word in sptrue)\n",
    "        total_male += male_in_true\n",
    "        total_female += female_in_true\n",
    "        if (not male_in_true) and female_in_true:\n",
    "            male_female_confound += any(\"male\"==word for word in sppred)\n",
    "        elif (not female_in_true) and male_in_true:\n",
    "            female_male_confound += any(\"female\"==word for word in sppred)\n",
    "\n",
    "        # metrics\n",
    "        gleu_score = google_bleu.compute(predictions=[pred], references=[true])['google_bleu']\n",
    "        meteor_score = meteor.compute(predictions=[pred], references=[true])['meteor']\n",
    "\n",
    "        if gleu_score+meteor_score < min_score:\n",
    "            min_score = gleu_score+meteor_score\n",
    "            min_id = i\n",
    "\n",
    "        if gleu_score+meteor_score > max_score:\n",
    "            max_score = gleu_score+meteor_score\n",
    "            max_id = i\n",
    "            \n",
    "        precision, recall = compute_aspects_metric(true, pred)\n",
    "        aspect_precision.append(precision)\n",
    "        aspect_recall.append(recall)\n",
    "        \n",
    "    aspect_precision, aspect_recall = np.array(aspect_precision), np.array(aspect_recall)\n",
    "\n",
    "    top_n = 10\n",
    "    most_common_true = {k: v for k, v in sorted(word_count_true.items(), key=lambda item: -item[1])[:top_n]}\n",
    "    most_common_true_string = \", \".join([f\"{key}: {value}\" for key, value in most_common_true.items()])\n",
    "    most_common_pred = {k: v for k, v in sorted(word_count_pred.items(), key=lambda item: -item[1])[:top_n]}\n",
    "    most_common_pred_string = \", \".join([f\"{key}: {value}\" for key, value in most_common_pred.items()])\n",
    "    \n",
    "    total_gleu_score = google_bleu.compute(predictions=data_pred, references=data_true)['google_bleu']\n",
    "    total_meteor_score = meteor.compute(predictions=data_pred, references=data_true)['meteor']\n",
    "\n",
    "    data_true_shuffled = sorted(data_true, key=lambda k: random.random())\n",
    "    \n",
    "    n_shuffles = 10\n",
    "    shuffled_gleu_score, shuffled_meteor_score = 0, 0\n",
    "    for _ in tqdm(range(n_shuffles)):\n",
    "        shuffled_gleu_score += 1./n_shuffles * google_bleu.compute(predictions=data_pred, references=data_true_shuffled)['google_bleu']\n",
    "        shuffled_meteor_score += 1./n_shuffles * meteor.compute(predictions=data_pred, references=data_true_shuffled)['meteor']\n",
    "    spec_meteor = total_meteor_score-shuffled_meteor_score\n",
    "    spec_gleu = total_gleu_score-shuffled_gleu_score\n",
    "\n",
    "    print(\"\\n Pred vs. true stats\\n\",\"-\"*50,\"\\n\")\n",
    "    \n",
    "    print(f\"Test GLEU score: {total_gleu_score:.4f}\")\n",
    "    print(f\"Test METEOR score: {total_meteor_score:.4f}\")\n",
    "    print(f\"Shuffled test GLEU score: {shuffled_gleu_score:.4f}\")\n",
    "    print(f\"Shuffled test METEOR score: {shuffled_meteor_score:.4f}\")\n",
    "    print(f\"Test Spec-GLEU score: {spec_gleu:.4f}\")\n",
    "    print(f\"Test Spec-METEOR score: {spec_meteor:.4f}\")\n",
    "    \n",
    "    print(f\"Aspect precision: {aspect_precision.mean():.3f}±{aspect_precision.std():.3f}\")\n",
    "    print(f\"Aspect recall: {aspect_recall.mean():.3f}±{aspect_recall.std():.3f}\")\n",
    "\n",
    "    print(f\"Average length true captions: {average_len_true:.3f}\")\n",
    "    print(f\"Average length pred captions: {average_len_pred:.3f}\\n\")\n",
    "\n",
    "    print(f\"Vocabulary true captions: {len(word_count_true)}\")\n",
    "    print(f\"Vocabulary pred captions: {len(word_count_pred)}\\n\")\n",
    "\n",
    "    print(f\"{top_n} most common words true:\\n {most_common_true_string}\")\n",
    "    print(f\"{top_n} most common words pred:\\n {most_common_pred_string}\\n\")\n",
    "\n",
    "    f2wc_true, f2wc_pred  = Counter(f2w_true), Counter(f2w_pred)\n",
    "    print(f\"{top_n} most common first two words true:\\n {f2wc_true.most_common(top_n)}\")\n",
    "    print(f\"{top_n} most common first two words pred:\\n {f2wc_pred.most_common(top_n)}\\n\")\n",
    "\n",
    "    print(f\"{low_quality_true} true captions start with 'the low quality recording'\")\n",
    "    print(f\"{low_quality_pred} predicted captions start with 'the low quality recording'\\n\")\n",
    "\n",
    "    print(f\"Captions with 'male': {total_male}\")\n",
    "    print(f\"Captions with 'female': {total_female}\")\n",
    "    print(f\"Captions where true was male but predicted female: {female_male_confound}\")\n",
    "    print(f\"Captions where true was female but predicted male: {male_female_confound}\\n\")\n",
    "\n",
    "    print(f\"Best prediction (score sum {max_score:.2f})\")\n",
    "    print(f\"TRUE: {data_true[max_id]}\")\n",
    "    print(f\"PRED: {data_pred[max_id]}\\n\")\n",
    "\n",
    "    print(f\"Worst prediction (score sum {min_score:.2f})\")\n",
    "    print(f\"TRUE: {data_true[min_id]}\")\n",
    "    print(f\"PRED: {data_pred[min_id]}\\n\")\n"
   ]
  },
  {
   "cell_type": "code",
   "execution_count": null,
   "id": "8fc9c517-93c3-4370-b3f5-446fe7e0973f",
   "metadata": {},
   "outputs": [],
   "source": []
  },
  {
   "cell_type": "markdown",
   "id": "9fe452fd-5bee-448d-98de-ec8088508f0c",
   "metadata": {},
   "source": [
    "## Results"
   ]
  },
  {
   "cell_type": "code",
   "execution_count": 28,
   "id": "32fe37f8-ed39-4ebc-8545-0128888bc2d7",
   "metadata": {},
   "outputs": [
    {
     "name": "stderr",
     "output_type": "stream",
     "text": [
      "550it [00:05, 107.43it/s]\n",
      "100%|██████████| 10/10 [00:11<00:00,  1.18s/it]"
     ]
    },
    {
     "name": "stdout",
     "output_type": "stream",
     "text": [
      "\n",
      " Pred vs. true stats\n",
      " -------------------------------------------------- \n",
      "\n",
      "Test GLEU score: 0.0915\n",
      "Test METEOR score: 0.2123\n",
      "Shuffled test GLEU score: 0.0769\n",
      "Shuffled test METEOR score: 0.1849\n",
      "Test Spec-GLEU score: 0.0147\n",
      "Test Spec-METEOR score: 0.0274\n",
      "Aspect precision: 0.148±0.152\n",
      "Aspect recall: 0.166±0.157\n",
      "Average length true captions: 287.156\n",
      "Average length pred captions: 248.364\n",
      "\n",
      "Vocabulary true captions: 3140\n",
      "Vocabulary pred captions: 1363\n",
      "\n",
      "10 most common words true:\n",
      " a: 1576, is: 1216, the: 926, and: 882, The: 832, song: 550, This: 536, in: 530, of: 496, with: 422\n",
      "10 most common words pred:\n",
      " and: 1214, a: 1027, The: 861, is: 620, recording: 619, of: 514, song: 498, features: 485, quality: 479, the: 466\n",
      "\n",
      "10 most common first two words true:\n",
      " [('The low', 115), ('This is', 113), ('This song', 46), ('A male', 33), ('The song', 31), ('This music', 24), ('This audio', 22), ('A female', 19), ('Someone is', 14), ('This clip', 10)]\n",
      "10 most common first two words pred:\n",
      " [('The low', 432), ('The song', 50), ('This is', 22), ('The track', 11), ('A male', 8), ('This song', 4), ('This music', 4), ('The instrumental', 3), ('The music', 3), ('A female', 2)]\n",
      "\n",
      "114 true captions start with 'the low quality recording'\n",
      "432 predicted captions start with 'the low quality recording'\n",
      "\n",
      "Captions with 'male': 182\n",
      "Captions with 'female': 86\n",
      "Captions where true was male but predicted female: 36\n",
      "Captions where true was female but predicted male: 34\n",
      "\n",
      "Best prediction (score sum 1.23)\n",
      "TRUE: The low quality recording features a live performance of a traditional song that consists of harmonizing male vocals singing over plucked strings melody and wooden percussion. It sounds passionate and soulful, but the recording is very noisy and in mono.\n",
      "PRED: The low quality recording features a traditional song that consists of passionate female vocal singing over wooden percussive elements, strings and flute melody. It sounds passionate, emotional and soulful and the recording is noisy and in mono.\n",
      "\n",
      "Worst prediction (score sum 0.08)\n",
      "TRUE: This is a trombone performance piece for an audition. The tune being played resembles something that would be heard at the royal court of a western kingdom. The atmosphere is dramatic. This piece could be used in the soundtrack of a historical drama movie, especially during the scenes where the king is attending a feast.\n",
      "PRED: The low quality recording features a harmonizing throaty male vocal singing over dissonant strings melody in the background. It sounds traditional and hopeful.\n",
      "\n"
     ]
    },
    {
     "name": "stderr",
     "output_type": "stream",
     "text": [
      "\n"
     ]
    }
   ],
   "source": [
    "data_path = 'outputs/preds_gpt2_notag_chataug.json'\n",
    "\n",
    "with open(data_path) as f:\n",
    "    data = json.load(f)\n",
    "\n",
    "print_stats(data['eval_true_captions'], data['eval_pred_captions'])"
   ]
  },
  {
   "cell_type": "code",
   "execution_count": 29,
   "id": "908cf93a-ef1d-4697-b19d-31b98a00907d",
   "metadata": {},
   "outputs": [
    {
     "name": "stderr",
     "output_type": "stream",
     "text": [
      "550it [00:04, 132.76it/s]\n",
      "100%|██████████| 10/10 [00:12<00:00,  1.26s/it]"
     ]
    },
    {
     "name": "stdout",
     "output_type": "stream",
     "text": [
      "\n",
      " Pred vs. true stats\n",
      " -------------------------------------------------- \n",
      "\n",
      "Test GLEU score: 0.0915\n",
      "Test METEOR score: 0.2155\n",
      "Shuffled test GLEU score: 0.0756\n",
      "Shuffled test METEOR score: 0.1812\n",
      "Test Spec-GLEU score: 0.0159\n",
      "Test Spec-METEOR score: 0.0343\n",
      "Aspect precision: 0.154±0.163\n",
      "Aspect recall: 0.167±0.166\n",
      "Average length true captions: 287.156\n",
      "Average length pred captions: 254.927\n",
      "\n",
      "Vocabulary true captions: 3140\n",
      "Vocabulary pred captions: 1794\n",
      "\n",
      "10 most common words true:\n",
      " a: 1576, is: 1216, the: 926, and: 882, The: 832, song: 550, This: 536, in: 530, of: 496, with: 422\n",
      "10 most common words pred:\n",
      " a: 1282, and: 1007, is: 797, The: 781, the: 663, of: 515, recording: 472, song: 387, features: 384, in: 372\n",
      "\n",
      "10 most common first two words true:\n",
      " [('The low', 115), ('This is', 113), ('This song', 46), ('A male', 33), ('The song', 31), ('This music', 24), ('This audio', 22), ('A female', 19), ('Someone is', 14), ('This clip', 10)]\n",
      "10 most common first two words pred:\n",
      " [('The low', 321), ('This is', 93), ('This song', 29), ('This music', 28), ('The Electro', 18), ('A male', 16), ('The song', 16), ('This audio', 12), ('The Disco', 2), ('The Ambient', 2)]\n",
      "\n",
      "114 true captions start with 'the low quality recording'\n",
      "321 predicted captions start with 'the low quality recording'\n",
      "\n",
      "Captions with 'male': 182\n",
      "Captions with 'female': 86\n",
      "Captions where true was male but predicted female: 25\n",
      "Captions where true was female but predicted male: 28\n",
      "\n",
      "Best prediction (score sum 1.25)\n",
      "TRUE: The low quality recording features a live performance of a traditional song that consists of harmonizing male vocals singing over plucked strings melody and wooden percussion. It sounds passionate and soulful, but the recording is very noisy and in mono.\n",
      "PRED: The low quality recording features a traditional song that consists of passionate female vocals singing over wooden percussive elements, strings and flute melody. It sounds passionate, emotional and soulful and the recording is noisy and in mono.\n",
      "\n",
      "Worst prediction (score sum 0.09)\n",
      "TRUE: This song contains a digital drum playing a techno groove with an overdrive kick and snare.A synth lead sound is playing a slightly offkey melody along with some reversed digital sounds converting into a high pitch note. This song may be playing in a techno club.\n",
      "PRED: The low quality recording features an electro song that consists of percussive elements, echoing hi hats, shimmering shakers, cowbell, claps and repetitive percussive bass loop. At the end of the loop, there are snare rolls and risers layered together, building up tension for the drop\n",
      "\n"
     ]
    },
    {
     "name": "stderr",
     "output_type": "stream",
     "text": [
      "\n"
     ]
    }
   ],
   "source": [
    "data_path = 'outputs/preds_gpt2_notag_noaug.json'\n",
    "\n",
    "with open(data_path) as f:\n",
    "    data = json.load(f)\n",
    "\n",
    "print_stats(data['eval_true_captions'], data['eval_pred_captions'])"
   ]
  },
  {
   "cell_type": "code",
   "execution_count": 30,
   "id": "55bf2ca0-8c05-4aa8-af48-781a2121a915",
   "metadata": {},
   "outputs": [
    {
     "name": "stderr",
     "output_type": "stream",
     "text": [
      "549it [00:04, 136.38it/s]\n",
      "100%|██████████| 10/10 [00:08<00:00,  1.13it/s]"
     ]
    },
    {
     "name": "stdout",
     "output_type": "stream",
     "text": [
      "\n",
      " Pred vs. true stats\n",
      " -------------------------------------------------- \n",
      "\n",
      "Test GLEU score: 0.0836\n",
      "Test METEOR score: 0.1860\n",
      "Shuffled test GLEU score: 0.0794\n",
      "Shuffled test METEOR score: 0.1746\n",
      "Test Spec-GLEU score: 0.0042\n",
      "Test Spec-METEOR score: 0.0114\n",
      "Aspect precision: 0.152±0.152\n",
      "Aspect recall: 0.162±0.145\n",
      "Average length true captions: 278.344\n",
      "Average length pred captions: 211.441\n",
      "\n",
      "Vocabulary true captions: 1768\n",
      "Vocabulary pred captions: 216\n",
      "\n",
      "10 most common words true:\n",
      " the: 1755, a: 1739, is: 1215, and: 881, this: 667, song: 639, in: 558, <unk>: 515, of: 496, with: 423\n",
      "10 most common words pred:\n",
      " the: 1395, and: 1231, is: 1047, a: 1012, song: 671, of: 551, guitar: 417, bass: 397, quality: 392, recording: 386\n",
      "\n",
      "10 most common first two words true:\n",
      " [('the low', 118), ('this is', 112), ('this song', 46), ('a male', 33), ('the song', 31), ('this music', 24), ('this audio', 22), ('a female', 19), ('someone is', 15), ('this clip', 10)]\n",
      "10 most common first two words pred:\n",
      " [('the low', 284), ('the song', 105), ('this music', 89), ('this song', 38), ('this is', 25), ('a male', 6), ('this audio', 1), ('this low', 1)]\n",
      "\n",
      "116 true captions start with 'the low quality recording'\n",
      "284 predicted captions start with 'the low quality recording'\n",
      "\n",
      "Captions with 'male': 186\n",
      "Captions with 'female': 88\n",
      "Captions where true was male but predicted female: 0\n",
      "Captions where true was female but predicted male: 59\n",
      "\n",
      "Best prediction (score sum 1.19)\n",
      "TRUE: the song is an instrumental the song is in slow tempo with a theremin playing a melancholic melody with a guitar accompaniment the song is emotional and lilting the audio quality is poor\n",
      "PRED: the song is an instrumental the song is medium tempo with an electric guitar playing melody with no other instrumentation the song is emotional and emotional the audio quality is poor\n",
      "\n",
      "Worst prediction (score sum 0.03)\n",
      "TRUE: audio of an <unk> solo guitar tuning two single notes <unk> and <unk> one note at a time no other instrumentation for guitar tuning\n",
      "PRED: the low quality recording features a mellow synth melody played in the background the recording is noisy\n",
      "\n"
     ]
    },
    {
     "name": "stderr",
     "output_type": "stream",
     "text": [
      "\n"
     ]
    }
   ],
   "source": [
    "data_path = 'outputs/preds_lstm_notag_noaug.json'\n",
    "\n",
    "with open(data_path) as f:\n",
    "    data = json.load(f)\n",
    "\n",
    "# [6:-6] to strip <sos> and <eos>\n",
    "# x[0] for true captions because each element is ['caption'] instead of 'caption'\n",
    "print_stats([x[0][6:-6] for x in data['true_captions']], [x[6:-6] for x in data['predictions']])"
   ]
  },
  {
   "cell_type": "markdown",
   "id": "ae4fbd64-1129-4f13-9dd9-21b3540ffd80",
   "metadata": {},
   "source": [
    "## ChatAug data"
   ]
  },
  {
   "cell_type": "code",
   "execution_count": 8,
   "id": "9f2c8a56-98dd-4831-9a35-50d74d23e565",
   "metadata": {},
   "outputs": [],
   "source": [
    "aug_data_path = 'chataug.json'\n",
    "with open(aug_data_path) as f:\n",
    "    aug_data = json.load(f)"
   ]
  },
  {
   "cell_type": "code",
   "execution_count": 9,
   "id": "cae30162-3912-423b-b9f4-d02a42ba59c1",
   "metadata": {},
   "outputs": [
    {
     "name": "stderr",
     "output_type": "stream",
     "text": [
      "100%|██████████| 4417/4417 [00:00<00:00, 88489.03it/s]"
     ]
    },
    {
     "name": "stdout",
     "output_type": "stream",
     "text": [
      "Average length ChatAug captions: 277.987\n",
      "\n",
      "Vocabulary ChatAug captions: 10392\n",
      "\n",
      "10 most common words pred:\n",
      " a: 13110, and: 8359, the: 7485, The: 6265, is: 5313, of: 3510, with: 3224, in: 3156, by: 2473, an: 2205\n",
      "\n",
      "10 most common first two words ChatAug:\n",
      " [('The recording', 243), ('The music', 229), ('The track', 189), ('The instrumental', 165), ('A male', 142), ('In this', 140), ('The song', 125), ('The piece', 94), ('This instrumental', 93), ('The composition', 68)]\n",
      "\n"
     ]
    },
    {
     "name": "stderr",
     "output_type": "stream",
     "text": [
      "\n"
     ]
    }
   ],
   "source": [
    "with open('musiccaps_split.json', 'r') as fp:\n",
    "    musiccaps_split = json.load(fp)\n",
    "    \n",
    "aug_data = {k: v for k, v in aug_data.items() if k in musiccaps_split['train']}\n",
    "N = len(aug_data)\n",
    "\n",
    "average_len_aug = 0\n",
    "word_count_aug = defaultdict(int)\n",
    "low_quality_aug = 0\n",
    "f2w_aug = []\n",
    "top_n = 10\n",
    "\n",
    "for aug in tqdm(aug_data.values()):\n",
    "    \n",
    "    # vocabulary\n",
    "    spaug = aug.split()\n",
    "    for w in spaug:\n",
    "        word_count_aug[w] += 1\n",
    "        \n",
    "    f2w_aug.append(\" \".join(spaug[:2]))\n",
    "    \n",
    "    # average length\n",
    "    average_len_aug += (1./N)*len(aug)\n",
    "    \n",
    "most_common_aug = {k: v for k, v in sorted(word_count_aug.items(), key=lambda item: -item[1])[:top_n]}\n",
    "most_common_aug_string = \", \".join([f\"{key}: {value}\" for key, value in most_common_aug.items()])\n",
    "f2wc_aug = Counter(f2w_aug)\n",
    "\n",
    "print(f\"Average length ChatAug captions: {average_len_aug:.3f}\\n\")\n",
    "print(f\"Vocabulary ChatAug captions: {len(word_count_aug)}\\n\")\n",
    "print(f\"{top_n} most common words pred:\\n {most_common_aug_string}\\n\")\n",
    "print(f\"{top_n} most common first two words ChatAug:\\n {f2wc_aug.most_common(top_n)}\\n\")"
   ]
  },
  {
   "cell_type": "code",
   "execution_count": null,
   "id": "d2f92194-13ad-4d88-bbf4-65a6166e59bb",
   "metadata": {},
   "outputs": [],
   "source": []
  }
 ],
 "metadata": {
  "kernelspec": {
   "display_name": "Python 3 (ipykernel)",
   "language": "python",
   "name": "python3"
  },
  "language_info": {
   "codemirror_mode": {
    "name": "ipython",
    "version": 3
   },
   "file_extension": ".py",
   "mimetype": "text/x-python",
   "name": "python",
   "nbconvert_exporter": "python",
   "pygments_lexer": "ipython3",
   "version": "3.9.16"
  }
 },
 "nbformat": 4,
 "nbformat_minor": 5
}
