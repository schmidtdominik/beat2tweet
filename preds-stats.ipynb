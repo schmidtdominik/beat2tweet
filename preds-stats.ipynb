{
 "cells": [
  {
   "cell_type": "markdown",
   "id": "d9f106bd-eec0-4ab2-a587-c07668c197ac",
   "metadata": {},
   "source": [
    "# Preds analysis"
   ]
  },
  {
   "cell_type": "code",
   "execution_count": 1,
   "id": "b7dec07c-f447-4c9a-868b-22e873c1b4e3",
   "metadata": {},
   "outputs": [],
   "source": [
    "import json\n",
    "import evaluate\n",
    "from collections import defaultdict, Counter\n",
    "from tqdm import tqdm as tqdm"
   ]
  },
  {
   "cell_type": "code",
   "execution_count": 2,
   "id": "8953ddb0-d512-46c9-b6b8-cd53be484247",
   "metadata": {},
   "outputs": [
    {
     "name": "stderr",
     "output_type": "stream",
     "text": [
      "[nltk_data] Downloading package wordnet to /root/nltk_data...\n",
      "[nltk_data]   Package wordnet is already up-to-date!\n",
      "[nltk_data] Downloading package punkt to /root/nltk_data...\n",
      "[nltk_data]   Package punkt is already up-to-date!\n",
      "[nltk_data] Downloading package omw-1.4 to /root/nltk_data...\n",
      "[nltk_data]   Package omw-1.4 is already up-to-date!\n"
     ]
    }
   ],
   "source": [
    "data_path = 'outputs/preds_notag_noaug.json'\n",
    "aug_data_path = 'chataug.json'\n",
    "\n",
    "with open(data_path) as f:\n",
    "    data = json.load(f)\n",
    "    \n",
    "with open(aug_data_path) as f:\n",
    "    aug_data = json.load(f)\n",
    "    \n",
    "meteor = evaluate.load('meteor')\n",
    "google_bleu = evaluate.load('google_bleu')"
   ]
  },
  {
   "cell_type": "code",
   "execution_count": 3,
   "id": "4bd68b5d-078a-42f7-ae87-4aa6e9278621",
   "metadata": {},
   "outputs": [
    {
     "name": "stderr",
     "output_type": "stream",
     "text": [
      "550it [00:08, 61.60it/s]"
     ]
    },
    {
     "name": "stdout",
     "output_type": "stream",
     "text": [
      "\n",
      " Pred vs. true stats\n",
      " -------------------------------------------------- \n",
      "\n",
      "Average length true captions: 287.156\n",
      "Average length pred captions: 254.927\n",
      "\n",
      "Vocabulary true captions: 3140\n",
      "Vocabulary pred captions: 1794\n",
      "\n",
      "10 most common words true:\n",
      " a: 1576, is: 1216, the: 926, and: 882, The: 832, song: 550, This: 536, in: 530, of: 496, with: 422\n",
      "10 most common words pred:\n",
      " a: 1282, and: 1007, is: 797, The: 781, the: 663, of: 515, recording: 472, song: 387, features: 384, in: 372\n",
      "\n",
      "10 most common first two words true:\n",
      " [('The low', 115), ('This is', 113), ('This song', 46), ('A male', 33), ('The song', 31), ('This music', 24), ('This audio', 22), ('A female', 19), ('Someone is', 14), ('This clip', 10)]\n",
      "10 most common first two words pred:\n",
      " [('The low', 321), ('This is', 93), ('This song', 29), ('This music', 28), ('The Electro', 18), ('A male', 16), ('The song', 16), ('This audio', 12), ('The Disco', 2), ('The Ambient', 2)]\n",
      "\n",
      "114 true captions start with 'the low quality recording'\n",
      "321 predicted captions start with 'the low quality recording'\n",
      "\n",
      "Captions with 'male': 182\n",
      "Captions with 'female': 86\n",
      "Captions where true was male but predicted female: 25\n",
      "Captions where true was female but predicted male: 28\n",
      "\n",
      "Best prediction (score sum 1.25)\n",
      "TRUE: The low quality recording features a live performance of a traditional song that consists of harmonizing male vocals singing over plucked strings melody and wooden percussion. It sounds passionate and soulful, but the recording is very noisy and in mono.\n",
      "PRED: The low quality recording features a traditional song that consists of passionate female vocals singing over wooden percussive elements, strings and flute melody. It sounds passionate, emotional and soulful and the recording is noisy and in mono.\n",
      "\n",
      "Worst prediction (score sum 0.09)\n",
      "TRUE: This song contains a digital drum playing a techno groove with an overdrive kick and snare.A synth lead sound is playing a slightly offkey melody along with some reversed digital sounds converting into a high pitch note. This song may be playing in a techno club.\n",
      "PRED: The low quality recording features an electro song that consists of percussive elements, echoing hi hats, shimmering shakers, cowbell, claps and repetitive percussive bass loop. At the end of the loop, there are snare rolls and risers layered together, building up tension for the drop\n",
      "\n"
     ]
    },
    {
     "name": "stderr",
     "output_type": "stream",
     "text": [
      "\n"
     ]
    }
   ],
   "source": [
    "N = len(data['eval_true_captions'])\n",
    "\n",
    "average_len_true, average_len_pred = 0, 0\n",
    "word_count_true, word_count_pred = defaultdict(int), defaultdict(int)\n",
    "low_quality_true, low_quality_pred = 0, 0\n",
    "total_male, total_female = 0, 0\n",
    "male_female_confound, female_male_confound  = 0, 0\n",
    "max_score, min_score, max_id, min_id = 0, 2, 0, 0\n",
    "f2w_true, f2w_pred = [], []\n",
    "\n",
    "for i, (true, pred) in tqdm(enumerate(zip(data['eval_true_captions'], data['eval_pred_captions']))):\n",
    "    \n",
    "    # vocabulary\n",
    "    sptrue, sppred = true.split(), pred.split()\n",
    "    for w in sptrue:\n",
    "        word_count_true[w] += 1\n",
    "    for w in sppred:\n",
    "        word_count_pred[w] += 1\n",
    "        \n",
    "    f2w_true.append(\" \".join(sptrue[:2]))\n",
    "    f2w_pred.append(\" \".join(sppred[:2]))\n",
    "    \n",
    "    # average length\n",
    "    average_len_true += (1./N)*len(true)\n",
    "    average_len_pred += (1./N)*len(pred)\n",
    "    \n",
    "    # count captions that start with \"low quality recording\" \n",
    "    low_quality_true += (true[:25]==\"The low quality recording\")\n",
    "    low_quality_pred += (pred[:25]==\"The low quality recording\")\n",
    "    \n",
    "    # male / female\n",
    "    male_in_true = any(\"male\"==word for word in sptrue)\n",
    "    female_in_true = any(\"female\"==word for word in sptrue)\n",
    "    total_male += male_in_true\n",
    "    total_female += female_in_true\n",
    "    if (not male_in_true) and female_in_true:\n",
    "        male_female_confound += any(\"male\"==word for word in sppred)\n",
    "    elif (not female_in_true) and male_in_true:\n",
    "        female_male_confound += any(\"female\"==word for word in sppred)\n",
    "        \n",
    "    # metrics\n",
    "    gleu_score = google_bleu.compute(predictions=[pred], references=[true])['google_bleu']\n",
    "    meteor_score = meteor.compute(predictions=[pred], references=[true])['meteor']\n",
    "    \n",
    "    if gleu_score+meteor_score < min_score:\n",
    "        min_score = gleu_score+meteor_score\n",
    "        min_id = i\n",
    "        \n",
    "    if gleu_score+meteor_score > max_score:\n",
    "        max_score = gleu_score+meteor_score\n",
    "        max_id = i\n",
    "        \n",
    "top_n = 10\n",
    "most_common_true = {k: v for k, v in sorted(word_count_true.items(), key=lambda item: -item[1])[:top_n]}\n",
    "most_common_true_string = \", \".join([f\"{key}: {value}\" for key, value in most_common_true.items()])\n",
    "most_common_pred = {k: v for k, v in sorted(word_count_pred.items(), key=lambda item: -item[1])[:top_n]}\n",
    "most_common_pred_string = \", \".join([f\"{key}: {value}\" for key, value in most_common_pred.items()])\n",
    "    \n",
    "        \n",
    "print(\"\\n Pred vs. true stats\\n\",\"-\"*50,\"\\n\")\n",
    "        \n",
    "print(f\"Average length true captions: {average_len_true:.3f}\")\n",
    "print(f\"Average length pred captions: {average_len_pred:.3f}\\n\")\n",
    "\n",
    "\n",
    "print(f\"Vocabulary true captions: {len(word_count_true)}\")\n",
    "print(f\"Vocabulary pred captions: {len(word_count_pred)}\\n\")\n",
    "\n",
    "print(f\"{top_n} most common words true:\\n {most_common_true_string}\")\n",
    "print(f\"{top_n} most common words pred:\\n {most_common_pred_string}\\n\")\n",
    "\n",
    "f2wc_true, f2wc_pred  = Counter(f2w_true), Counter(f2w_pred)\n",
    "print(f\"{top_n} most common first two words true:\\n {f2wc_true.most_common(top_n)}\")\n",
    "print(f\"{top_n} most common first two words pred:\\n {f2wc_pred.most_common(top_n)}\\n\")\n",
    "\n",
    "print(f\"{low_quality_true} true captions start with 'the low quality recording'\")\n",
    "print(f\"{low_quality_pred} predicted captions start with 'the low quality recording'\\n\")\n",
    "\n",
    "print(f\"Captions with 'male': {total_male}\")\n",
    "print(f\"Captions with 'female': {total_female}\")\n",
    "print(f\"Captions where true was male but predicted female: {female_male_confound}\")\n",
    "print(f\"Captions where true was female but predicted male: {male_female_confound}\\n\")\n",
    "\n",
    "print(f\"Best prediction (score sum {max_score:.2f})\")\n",
    "print(f\"TRUE: {data['eval_true_captions'][max_id]}\")\n",
    "print(f\"PRED: {data['eval_pred_captions'][max_id]}\\n\")\n",
    "\n",
    "print(f\"Worst prediction (score sum {min_score:.2f})\")\n",
    "print(f\"TRUE: {data['eval_true_captions'][min_id]}\")\n",
    "print(f\"PRED: {data['eval_pred_captions'][min_id]}\\n\")\n"
   ]
  },
  {
   "cell_type": "code",
   "execution_count": 10,
   "id": "cae30162-3912-423b-b9f4-d02a42ba59c1",
   "metadata": {},
   "outputs": [
    {
     "name": "stderr",
     "output_type": "stream",
     "text": [
      "100%|██████████| 552/552 [00:00<00:00, 65774.31it/s]"
     ]
    },
    {
     "name": "stdout",
     "output_type": "stream",
     "text": [
      "Average length ChatAug captions: 279.203\n",
      "\n",
      "Vocabulary ChatAug captions: 3679\n",
      "\n",
      "10 most common words pred:\n",
      " a: 1673, and: 1046, the: 903, The: 780, is: 662, of: 408, with: 380, in: 374, by: 329, an: 276\n",
      "\n",
      "10 most common first two words ChatAug:\n",
      " [('The music', 35), ('The track', 32), ('The recording', 23), ('In this', 19), ('The song', 18), ('A male', 15), ('The piece', 13), ('The instrumental', 13), ('This instrumental', 11), ('This is', 9)]\n",
      "\n"
     ]
    },
    {
     "name": "stderr",
     "output_type": "stream",
     "text": [
      "\n"
     ]
    }
   ],
   "source": [
    "with open('musiccaps_split.json', 'r') as fp:\n",
    "    musiccaps_split = json.load(fp)\n",
    "    \n",
    "aug_data = {k: v for k, v in aug_data.items() if k in musiccaps_split['test']}\n",
    "N = len(aug_data)\n",
    "\n",
    "average_len_aug = 0\n",
    "word_count_aug = defaultdict(int)\n",
    "low_quality_aug = 0\n",
    "f2w_aug = []\n",
    "top_n = 10\n",
    "\n",
    "for aug in tqdm(aug_data.values()):\n",
    "    \n",
    "    # vocabulary\n",
    "    spaug = aug.split()\n",
    "    for w in spaug:\n",
    "        word_count_aug[w] += 1\n",
    "        \n",
    "    f2w_aug.append(\" \".join(spaug[:2]))\n",
    "    \n",
    "    # average length\n",
    "    average_len_aug += (1./N)*len(aug)\n",
    "    \n",
    "most_common_aug = {k: v for k, v in sorted(word_count_aug.items(), key=lambda item: -item[1])[:top_n]}\n",
    "most_common_aug_string = \", \".join([f\"{key}: {value}\" for key, value in most_common_aug.items()])\n",
    "f2wc_aug = Counter(f2w_aug)\n",
    "\n",
    "print(f\"Average length ChatAug captions: {average_len_aug:.3f}\\n\")\n",
    "print(f\"Vocabulary ChatAug captions: {len(word_count_aug)}\\n\")\n",
    "print(f\"{top_n} most common words pred:\\n {most_common_aug_string}\\n\")\n",
    "print(f\"{top_n} most common first two words ChatAug:\\n {f2wc_aug.most_common(top_n)}\\n\")"
   ]
  },
  {
   "cell_type": "code",
   "execution_count": null,
   "id": "c75acb98-3372-40da-8ba1-2ee934759a08",
   "metadata": {},
   "outputs": [],
   "source": []
  }
 ],
 "metadata": {
  "kernelspec": {
   "display_name": "Python 3 (ipykernel)",
   "language": "python",
   "name": "python3"
  },
  "language_info": {
   "codemirror_mode": {
    "name": "ipython",
    "version": 3
   },
   "file_extension": ".py",
   "mimetype": "text/x-python",
   "name": "python",
   "nbconvert_exporter": "python",
   "pygments_lexer": "ipython3",
   "version": "3.9.16"
  }
 },
 "nbformat": 4,
 "nbformat_minor": 5
}
